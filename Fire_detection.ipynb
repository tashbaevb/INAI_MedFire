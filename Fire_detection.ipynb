{
 "cells": [
  {
   "cell_type": "code",
   "execution_count": 2,
   "id": "initial_id",
   "metadata": {
    "collapsed": true,
    "ExecuteTime": {
     "end_time": "2024-12-07T19:48:31.611435Z",
     "start_time": "2024-12-07T19:48:22.150214Z"
    }
   },
   "outputs": [],
   "source": [
    "import cv2\n",
    "import pandas as pd\n",
    "import os\n",
    "from ultralytics import YOLO"
   ]
  },
  {
   "cell_type": "code",
   "execution_count": 3,
   "outputs": [],
   "source": [
    "data = pd.read_csv(\"datasets/Wildfire-Smoke/train/_annotations.csv\")"
   ],
   "metadata": {
    "collapsed": false,
    "ExecuteTime": {
     "end_time": "2024-12-07T19:48:31.968949Z",
     "start_time": "2024-12-07T19:48:31.919519Z"
    }
   },
   "id": "f93e5a6abb2eca62"
  },
  {
   "cell_type": "code",
   "execution_count": 4,
   "outputs": [
    {
     "name": "stdout",
     "output_type": "stream",
     "text": [
      "Обработано: ck0qd8gs6ko7j0721x25cv4o3_jpeg.rf.005f5707706e4d68702bbf8e0ce96a63.jpg\n",
      "Обработано: ck0t40rhdz68s0a46ekx049a6_jpeg.rf.00403179fe5f0eb665e4af5845be125e.jpg\n",
      "Обработано: ck0m0ch9ugnna07940o8x989j_jpeg.rf.0101cdb46a16b3fde020710836b4af0b.jpg\n",
      "Обработано: ck0rr6bfa9b3w0721aw5unwdy_jpeg.rf.00982c053d66c090d55b3d775a722aff.jpg\n",
      "Обработано: ck0uk75x5ysls0721e5a9j891_jpeg.rf.00d7fd8503e1e0e6a66294f3db79b346.jpg\n",
      "Обработано: ck0m0f8x4hwsq0838adn9hkti_jpeg.rf.02c20dbd46efee307ec38486fc3f5da2.jpg\n",
      "Обработано: ck0na7jmkg9gj0a46p7jofg58_jpeg.rf.023825dac5dc5fbd89bbd5d83f89a5a8.jpg\n",
      "Обработано: ck0nf3wev47fm0794xfr1xuhs_jpeg.rf.025a886c2323bc0eb8b24cabfc681aab.jpg\n",
      "Обработано: ck0knam319ybv0701clozevt3_jpeg.rf.01d252cb506d60495e9f965a4cf48418.jpg\n",
      "Обработано: ck0oumds8r2ws0794yqsnls8v_jpeg.rf.012d2c43910a089d6fec492c2b914840.jpg\n",
      "Обработано: ck0rr05k797je0721hrz4bw9e_jpeg.rf.031b5346c52c69e28fc9345ca7b28010.jpg\n",
      "Обработано: ck0u07w91ulq009446ol1bta4_jpeg.rf.05a02ac3bf9a27f86cc6c315a72ff6c7.jpg\n",
      "Обработано: ck0kd86qe8gf507018qw8usfe_jpeg.rf.04a3091cdb2674d667aa79b142f77db6.jpg\n",
      "Обработано: ck0kmh9hhkg5e0a46we9ywaxl_jpeg.rf.05a2d3d0278ae39a0a626bfd173d6b94.jpg\n",
      "Обработано: ck0k99r7bir3f0a460bctrlmy_jpeg.rf.0520c5989e9d6326d3beb346e7edc7c2.jpg\n",
      "Обработано: ck0u0iymarljc079432rld6ur_jpeg.rf.049e444971d411f2bc15d14189f8ebc9.jpg\n",
      "Обработано: ck0t5243y02ss0848d4w8z1bl_jpeg.rf.073eb5726a7f3fca2caa57b085c7b655.jpg\n",
      "Обработано: ck0qbolrmhccn0944s970z7xn_jpeg.rf.0852866b4cc61c2dc67072fddf5b017b.jpg\n",
      "Обработано: ck0qc5zvxk5mi0721s96pwrwt_jpeg.rf.02fdb76282d22d4a6ab7a5b09b8cf6b9.jpg\n",
      "Обработано: ck0u15ceurp8s079478ps17by_jpeg.rf.01cba46fbff586f903728080476df7d9.jpg\n",
      "Обработано: ck0keo0re4xll086378211i65_jpeg.rf.08a1bd4e2e0d1690e1a2d6f8b6986e45.jpg\n",
      "Обработано: ck0qb93azjo480721ojf86ytj_jpeg.rf.0658191ccf3ef3dc7533eca8568b60d1.jpg\n",
      "Обработано: ck0uk5cl3877p0a468qm2bfay_jpeg.rf.05f4f2a5f4efa69243aac572e05e5216.jpg\n",
      "Обработано: ck0k99e6p79go0944lmxivkmv_jpeg.rf.035851b1218826a8d8e1f6cff055da7a.jpg\n",
      "Обработано: ck0keq7xa4xxd0863otmigtsy_jpeg.rf.0a9ebb276957d1f41e4e01067287be3f.jpg\n",
      "Обработано: ck0tywg9ruew50944r0qom5i0_jpeg.rf.045581ac714cf654e0725d1f8e192ccb.jpg\n",
      "Обработано: ck0kkzh767dc70838hdq9sv4u_jpeg.rf.0b0271134a25ee82a6b453646c87f96b.jpg\n",
      "Обработано: ck0t4kdl1nlyb07011sj8qjd8_jpeg.rf.0a712e797adaffd2ba69b30c0005fe83.jpg\n",
      "Обработано: ck0qbaubof1z40863w0scvpra_jpeg.rf.0cf7f4324a6fecd547297a7e34fa21e9.jpg\n",
      "Обработано: ck0u0dtzbt9mu08385juqmknt_jpeg.rf.07952a8adcc6bcd57f02407bb25c93cd.jpg\n",
      "Обработано: ck0u155em6hy90a46mm9izvjz_jpeg.rf.0307a95d00420a74d0682b038bcb13f5.jpg\n",
      "Обработано: ck0rp7n2684q30721hrzu5r15_jpeg.rf.0b0176d3f60909e544ab691e5ce7470d.jpg\n",
      "Обработано: ck0nfnbw45srt083889319uj8_jpeg.rf.091dbaf5088a42db9bfecf39178eeebc.jpg\n",
      "Обработано: ck0qd4sisfz1x0863riapvr9k_jpeg.rf.0d074512f215ea0855dc51c3be17779f.jpg\n",
      "Обработано: ck0qd7cyiib8f0701npyn63rc_jpeg.rf.0d08de7a03fcfca3e485ed18091f4b19.jpg\n",
      "Обработано: ck0tz4vu9wr2707210cs2d85i_jpeg.rf.0d07d523ff8a7385975c0546e3ed3013.jpg\n",
      "Обработано: ck0khttiojrab0a46z2tgb5rd_jpeg.rf.10ff9460ea9b030c8efa9bcb310b90d7.jpg\n",
      "Обработано: ck0ndy9p207ai0738n7khflbr_jpeg.rf.0e8ffba013c7dbdbca425451eaa90fd1.jpg\n",
      "Обработано: ck0tyjzuxsewd0863g6vu5zec_jpeg.rf.1267d7caad633514f05f20a5279f9582.jpg\n",
      "Обработано: ck0t1zwemkseu08636i7fpksi_jpeg.rf.15e6c66d7c667787bfb8151a7751affb.jpg\n",
      "Обработано: ck0tya1tfr9sz0794w5roonwp_jpeg.rf.0db0a4a0a57c433e550c669676380d58.jpg\n",
      "Обработано: ck0txdhj9wk390721me7hmajn_jpeg.rf.0b9072848081252656285ddaab966c7a.jpg\n",
      "Обработано: ck0ujxg4qyroe0721yt57ymqa_jpeg.rf.0c16dbb547f7c6d169dbb0234e411afd.jpg\n",
      "Обработано: ck0kl11aa7dlt0838zoqikube_jpeg.rf.140ba9c5ddb91da4fede2608634f754d.jpg\n",
      "Обработано: ck0kdsrnk4tm80863omawzddc_jpeg.rf.139bfa85f859e3e320650de1fec49e69.jpg\n",
      "Обработано: ck0kcaec57i7s0944jkpjyecx_jpeg.rf.0dbf4b042f0b6abc7a9f1a42a82a20dd.jpg\n",
      "Обработано: ck0qbrxq0fc870863u9dy1xsl_jpeg.rf.109b574c27fa09fdc65125fc9214e872.jpg\n",
      "Обработано: ck0ukkz8tytsn0721y70sud46_jpeg.rf.18cbd5352f166266b09e38e04afa7394.jpg\n",
      "Обработано: ck0kmgevm69ac0794mihosd3p_jpeg.rf.1594072fa91a653f18e22fff1cee6267.jpg\n",
      "Обработано: ck0lx68q2szgt0a460zlk49kf_jpeg.rf.0f6a8471f17e56b15221fb885dd51f40.jpg\n",
      "Обработано: ck0l9xvyaot920848tv62nd7o_jpeg.rf.17c2d9afcd4a802758d2898de36e43dc.jpg\n",
      "Обработано: ck0t52natq0it07218mpku7q5_jpeg.rf.18fa7308a214c8870ca0ce19768957ba.jpg\n",
      "Обработано: ck0ng3jtr5k7j08637da4685p_jpeg.rf.171ec9dcca7f2f15a6ea120b618d945f.jpg\n",
      "Обработано: ck0l97837c0ta0944wnryuimb_jpeg.rf.11d4e888f0875aa8b07ea67d4b3b4210.jpg\n",
      "Обработано: ck0ug2zaqt3zf0794joucwcgf_jpeg.rf.19cb77fe0f8cf5b9648d2056f4a5fbba.jpg\n",
      "Обработано: ck0kcnh1p4uns0794bs53wqam_jpeg.rf.1a912c1d8dea7ad3ad9bc870fe7a62d1.jpg\n",
      "Обработано: ck0tyzb4kwq9407210i0lbk6v_jpeg.rf.10b0732365f4a35069e26031ae48603d.jpg\n",
      "Обработано: ck0kcz0wr67xc0838pqo5w48a_jpeg.rf.1a24e68b83db5f7902f2119b1a2fe002.jpg\n",
      "Обработано: ck0tyt8nmui9l0701fr3lsu7s_jpeg.rf.1ad8f25014d4b35f799598a10661b7cb.jpg\n",
      "Обработано: ck0lwlv9fjpfg07217xwy7qne_jpeg.rf.1a89d41ad9addf3f1652773b1068412e.jpg\n",
      "Обработано: ck0kd70pu4w7b07946742zfpg_jpeg.rf.1d003cc575564d535e0d78de10cf2179.jpg\n",
      "Обработано: ck0tt0dkysbs70838q7t3vnr9_jpeg.rf.164a535f7e60defc9ad1b4f58836ab31.jpg\n",
      "Обработано: ck0nfz8fe60yr0838az9x331y_jpeg.rf.152d851a0f20d6f573a9f6f250204a9c.jpg\n",
      "Обработано: ck0ndcirh69sn0944tmwamh75_jpeg.rf.189c54c4fb6ee1d72226e876b613b29a.jpg\n",
      "Обработано: ck0qb9rg6tgo40848b6pmbrod_jpeg.rf.1afb0937b46939a096fa2fffa2639d37.jpg\n",
      "Обработано: ck0kcju199xgd0721ljl6cd2n_jpeg.rf.1b068071c8dfc4cf3573f0a0e217f523.jpg\n",
      "Обработано: ck0na3ee97aa6072160kaqfv8_jpeg.rf.1bf6d86665234ceeb5fafb1ba804cb50.jpg\n",
      "Обработано: ck0ukjupkwhfa0944r6gu3mh8_jpeg.rf.1d0b41b95001867438a9867fda448ddb.jpg\n",
      "Обработано: ck0twzs19s8ld08632qx4gg12_jpeg.rf.17d7f2e556ae6c66c4f533fef4fe10ac.jpg\n",
      "Обработано: ck0qc6lwsetj70794bennfrza_jpeg.rf.1dfce6db30573c065d5669ed2545479c.jpg\n",
      "Обработано: ck0t2fzvhlj200838b26ckwda_jpeg.rf.1c8882654e4d82f7f030d590568a3382.jpg\n",
      "Обработано: ck0t7iosiorq50701wgtb048m_jpeg.rf.1302b4c1947454fa5c96ee6b5377c641.jpg\n",
      "Обработано: ck0tsw61gqm680794v186apwr_jpeg.rf.1dd2f58789da8b976d4822ffdab29b03.jpg\n",
      "Обработано: ck0t7czov10bf08489elv37go_jpeg.rf.17785297d266595162723c94f9bcf835.jpg\n",
      "Обработано: ck0u9dw5dsmcv07947ss72195_jpeg.rf.1e895018c6b1b258086e70c22f9d37b4.jpg\n",
      "Обработано: ck0keop2ya51r072149ntr73o_jpeg.rf.1d5ea2dd88e831d44b09eca11f96969c.jpg\n",
      "Обработано: ck0u0hkwqurd207012dbpgjhf_jpeg.rf.147659f5c8eb1bc7d72e6038a08886ac.jpg\n",
      "Обработано: ck0km4pkh640f086302no99ma_jpeg.rf.1ea949e058e123aaedcc9f42d190f1a6.jpg\n",
      "Обработано: ck0tzxdcpslr10863f9172aju_jpeg.rf.1f702dd0c1a3d5ec2838bc92374f3222.jpg\n",
      "Обработано: ck0twef0nu7ej0701ku08izg4_jpeg.rf.1fe4b32547d4ed034980da37cfa48a07.jpg\n",
      "Обработано: ck0ukhfkfv4f10838ulu89xc8_jpeg.rf.1f875dfb8db3493d5d910236a5343bd0.jpg\n",
      "Обработано: ck0t6o7hrlbs407944kyd1i2r_jpeg.rf.1fcdad3f89301e29a312afd29b8be5fd.jpg\n",
      "Обработано: ck0rqgv1m8wok07216g2getrt_jpeg.rf.22c0ebfb67cc9ad7415929c8053d1f80.jpg\n",
      "Обработано: ck0rr132a3x9r0794yhwyho26_jpeg.rf.23012d1f295110126949db4f75f9a8ea.jpg\n",
      "Обработано: ck0na2cdf1uf40794qwk129rm_jpeg.rf.25bda548e55a3fd3f5158b780d168895.jpg\n",
      "Обработано: ck0t6nixgmcop0863zbzsc32e_jpeg.rf.250078e3e4e42da9963f5edec7f25e88.jpg\n",
      "Обработано: ck0ukkr2f8vml0848uyh1iw50_jpeg.rf.22c704f3f83a1947293534fb1cda1482.jpg\n",
      "Обработано: ck0kdobka8hev07019b3gbgq6_jpeg.rf.251260d5aab5ecf4bb65f65b3190ca1b.jpg\n",
      "Обработано: ck0ty7yegwn140721h5wixp2h_jpeg.rf.24f23d741874697a2aebd86b8968c470.jpg\n",
      "Обработано: ck0ovlupvx57v0721dn80vmur_jpeg.rf.20701caaa1c3c263bfba0b52914bc810.jpg\n",
      "Обработано: ck0lx50eojwbq0721qtix2xqg_jpeg.rf.22fb33351d1489a8f6ae310f8044feb3.jpg\n",
      "Обработано: ck0t2kogeyqy50a46u6e56yb9_jpeg.rf.20a8132299113e73e6263029256d5049.jpg\n",
      "Обработано: ck0rp7ve43ul20863ldcq568m_jpeg.rf.2242e2aef5279e55b32ce34e7a154ea0.jpg\n",
      "Обработано: ck0knw1mc96cu09446iq0ugae_jpeg.rf.28c2e0ae1ad16136f73352045962d516.jpg\n",
      "Обработано: ck0ujy91ete1p0794u8tbqbox_jpeg.rf.26e3ae02741d31dc087d31af9286950f.jpg\n",
      "Обработано: ck0tyfppk6qqc0848u6xtpzgx_jpeg.rf.288099a51913c76a030ce91555ac3929.jpg\n",
      "Обработано: ck0ndxi6w6j5f0944tbx465xr_jpeg.rf.28d056588212efc17d54250b7f77b577.jpg\n",
      "Обработано: ck0rp8d7p858s0721qrjixerv_jpeg.rf.29ba67ef2f3092df9ebe3adf2a77e2e9.jpg\n",
      "Обработано: ck0khsg8rangi07215h1hso72_jpeg.rf.217c82b0228f11b9b3ab269631fa5376.jpg\n",
      "Обработано: ck0kcv9km4vc70794bkufs7xw_jpeg.rf.296a193767cce26f7120ac749a472a17.jpg\n",
      "Обработано: ck0km5x3u9r910701d3yfjhtv_jpeg.rf.269fd83e84d226fb0d3a931ce723f2be.jpg\n",
      "Обработано: ck0tyexsuugj1070158ffdyyt_jpeg.rf.2e9d7c24d0366304aae6f03fdbbf349a.jpg\n",
      "Обработано: ck0lwg0retsfg0848hqi60tlt_jpeg.rf.3025c97e8deb2f2899cbe49461437ae6.jpg\n",
      "Обработано: ck0na9q14gaaa0a46ghbnn940_jpeg.rf.2498c8c55a2484af381b64824743cf97.jpg\n",
      "Обработано: ck0ug3zlfw61d09445i888ftl_jpeg.rf.24816998199d65c37ac73ca9a297dc81.jpg\n",
      "Обработано: ck0kn8eh393ib0944lkiizn3w_jpeg.rf.2a2ff93d00da25b7f769f204b8d67dfc.jpg\n",
      "Обработано: ck0kosmizkqdq0a46xgz65fgt_jpeg.rf.0f153f3fc51f5bfcc7092ec75b52d92b.jpg\n",
      "Обработано: ck0kkthj17c9g0838c3vjfndl_jpeg.rf.28218aa602fae59569067f2808f1f324.jpg\n",
      "Обработано: ck0ukig53tfv30794pt4u6ude_jpeg.rf.2ecc68215cab4d68d0a22b78b0327018.jpg\n",
      "Обработано: ck0qbp5dkg5920838gygl8n4f_jpeg.rf.2b8f08f85050f64aa005b2f40b5b3684.jpg\n",
      "Обработано: ck0t3zt3lnd7u0944gqvvuxtw_jpeg.rf.316a77febbcc8240fe5c521cdedbe5f0.jpg\n",
      "Обработано: ck0nfoxrpj0xh0a46qv68gp45_jpeg.rf.2aea62f0d0ba459a9eb532369e5e529e.jpg\n",
      "Обработано: ck0lwgsmatsrm0848br00vfki_jpeg.rf.324fd4d4db28e2d3e27e1ee048653fdb.jpg\n",
      "Обработано: ck0kdox8w69td0838i6leuzy9_jpeg.rf.333d536f32a8de44a092dd547d2f1632.jpg\n",
      "Обработано: ck0kn9jfn6eb50794lzp777i0_jpeg.rf.2eace5fef4dbf7ba77de72c68b4aaaff.jpg\n",
      "Обработано: ck0lyh3mpi04c094450wwwb9g_jpeg.rf.3a4f3cf6a9e2415a0bb50093f40212cb.jpg\n",
      "Обработано: ck0l8b13joiy30848vj3d2ndb_jpeg.rf.378c69f82ef9c274a1e8eb6d835b6660.jpg\n",
      "Обработано: ck0ukjmceuk3t0863k4o3i8g4_jpeg.rf.37d48b6e7770d656a7fdfbf311aa50c4.jpg\n",
      "Обработано: ck0kl0ifc5xd60863hxynsup8_jpeg.rf.33d4dc037a04cd39656b00a3e78bf3d8.jpg\n",
      "Обработано: ck0t52agrlp0p0863vg9f8svy_jpeg.rf.3b90acd0b60f2a45cb879c106a4d11da.jpg\n",
      "Обработано: ck0txsj116ojr0848emet52dc_jpeg.rf.3b78709ffaa76d0042f6560a02eb3373.jpg\n",
      "Обработано: ck0knvsi36h390794sjhcf0ri_jpeg.rf.38e187dbd800f3f50d6dd3290d370ab1.jpg\n",
      "Обработано: ck0nf4rw3093h0a886by1nwca_jpeg.rf.3c169639b6d7abb01c879573821f91e6.jpg\n",
      "Обработано: ck0txvj9m6otr0848fayj9tte_jpeg.rf.3c297c7d21cbe8563aba079db5bffc65.jpg\n",
      "Обработано: ck0l939lbnftj0a46atyx4hh4_jpeg.rf.33eeef4de47224ea2043febf7b6fc3dc.jpg\n",
      "Обработано: ck0l8e146nb1h0a46oop6lane_jpeg.rf.3bef8e59f2111cbea0cc48015e63e698.jpg\n",
      "Обработано: ck0kcsfho4r010863q5sjbub6_jpeg.rf.3a31a5fb805e6a96549f786bafb8906f.jpg\n",
      "Обработано: ck0t1umd5jowc0794my89kbsj_jpeg.rf.3bec00ba14295b43ff0ca24e3582396d.jpg\n",
      "Обработано: ck0tssirhrq1u0863eoicr5bp_jpeg.rf.3e1b0f61a6d074bec7c5b973a96f57e6.jpg\n",
      "Обработано: ck0rpjxds42tv0863ke8nrsmn_jpeg.rf.3d619fc088a888f7c7cc57c98a4f6498.jpg\n",
      "Обработано: ck0lxdhtohhdr0944vck0s787_jpeg.rf.3e2449768aa23a32f11eaad5e009f8b4.jpg\n",
      "Обработано: ck0kfk23ukj1m0848e93um98b_jpeg.rf.457fd102e55b69a1ec55dd1d50b90b6b.jpg\n",
      "Обработано: ck0txo8iyue140701jnymorwf_jpeg.rf.3d9a2e443551de47ba1b2a88280d408a.jpg\n",
      "Обработано: ck0t2d3kbyou40a46a56kl6x8_jpeg.rf.3da673071f90e10d5f5161f42a8b7f85.jpg\n",
      "Обработано: ck0lx5e5rhf4f0944ldgqzhf1_jpeg.rf.3d1684b7da6d298a3ddd6e9c51a4cbc2.jpg\n",
      "Обработано: ck0nefzg24hv30863efhq3fp1_jpeg.rf.41edcde58daab549a1e3d2ac14b30449.jpg\n",
      "Обработано: ck0kkjnqo5xx10794xzpyur0y_jpeg.rf.361ec46e7f260dfa9c55a465a3bb8150.jpg\n",
      "Обработано: ck0kl1k8d9ks80701twyaq08t_jpeg.rf.41c4a2bd886e7b4beb388fc8e04fb6f0.jpg\n",
      "Обработано: ck0lx3s62sysz0a46pq7rsuuw_jpeg.rf.41cc7ec49c9f3200873818a54c62ecb4.jpg\n",
      "Обработано: ck0rp9zh85rbh0944g0fanl6o_jpeg.rf.3e6d03d3e66153e3461f5a6ed25960b5.jpg\n",
      "Обработано: ck0twhqawsr970838xj2topr5_jpeg.rf.3f1612dab0ef612792c9866e780b52c4.jpg\n",
      "Обработано: ck0rpimt3ifig0848hijlm44t_jpeg.rf.46ad991e0932f88c7b6acf6628566240.jpg\n",
      "Обработано: ck0nfrec983h90701yvzbsczw_jpeg.rf.42e7c50048de34469ef1fa90563790de.jpg\n",
      "Обработано: ck0kcurm6j1k50a464wsovbw2_jpeg.rf.489c2d0fab9adffcd45e4e8ca8f26346.jpg\n",
      "Обработано: ck0twkzggsrnb0838b6na9joz_jpeg.rf.4144934d16650df3e5a346a1943793a0.jpg\n",
      "Обработано: ck0oukbtwsjxp083897f03qo4_jpeg.rf.41ad39e5f5023959a03b1e61d93e7424.jpg\n",
      "Обработано: ck0nctujv31lz0794ow6lj285_jpeg.rf.3f2f78a73479abe1321bc4ca31dfc497.jpg\n",
      "Обработано: ck0ty5rb66pry08483lgrlmhz_jpeg.rf.421725f5dafec43a5de105843c9def78.jpg\n",
      "Обработано: ck0t50qh5zfpc0a46o2ppy49w_jpeg.rf.4260774858fd1aac08234c8601f3e984.jpg\n",
      "Обработано: ck0kmem9m68vr07947lx0jam1_jpeg.rf.4971c28003ae470aca04fa915a129574.jpg\n",
      "Обработано: ck0nabd8whgv30848prwciv2b_jpeg.rf.460cd444851e64d108d16eeb3238199b.jpg\n",
      "Обработано: ck0km415y8wk90944mab9i4lr_jpeg.rf.4752cae94d6e0c422fc6a3246bcce661.jpg\n",
      "Обработано: ck0t592vckr6p07949h19oxce_jpeg.rf.4957f384420110763cc2a3d067da7ef2.jpg\n",
      "Обработано: ck0m0gpkagpzy0794ulwtreu6_jpeg.rf.4bc502850e879dd40bd056961bec7f31.jpg\n",
      "Обработано: ck0lx9h4ejxlm07213g6pz1n5_jpeg.rf.4a30c435f5acc7f53903c9126e69da73.jpg\n",
      "Обработано: ck0tzncx5rg970794klhrot7p_jpeg.rf.507c2a4d85d04020575e470af370337e.jpg\n",
      "Обработано: ck0kmi7k47m0i08380dwkjuc1_jpeg.rf.4eb64423f00a96430a04ad636eb18895.jpg\n",
      "Обработано: ck0lx9tk9g22n0838e6v5csum_jpeg.rf.4d09c9c7f3bd465a477a968d5e35616c.jpg\n",
      "Обработано: ck0qd7zf9fax10794ucj3kmt5_jpeg.rf.4bdd8939122eb2279dbdf809cf9a9b39.jpg\n",
      "Обработано: ck0u02mwv6bah0a467209caub_jpeg.rf.4946e8ee4a4af8ff2dddd94c59d3d2ef.jpg\n",
      "Обработано: ck0ug2o6ku8b708632bp2y2zn_jpeg.rf.42ce49a52b1b8f3c1cec74019dede23a.jpg\n",
      "Обработано: ck0ncwmnt6hyp07016zypssxs_jpeg.rf.5038ca1f5cdf93056bf4a55a345a13ca.jpg\n",
      "Обработано: ck0ty9cx4r9qk0794foscpnun_jpeg.rf.465ff93707dc7996d3cd3b7576117150.jpg\n",
      "Обработано: ck0t3htqxn88w09443dhqtzrh_jpeg.rf.51b48656089fe4ab9d7f0b0dc63d530e.jpg\n",
      "Обработано: ck0uj9sgjyq2b0721813otzrx_jpeg.rf.46cdc9351db024ad70108beebd5bc4f9.jpg\n",
      "Обработано: ck0t235u3msgt0944a7jzn8hp_jpeg.rf.46fbbbd711da478f5db7e61287216aa5.jpg\n",
      "Обработано: ck0kkywt08q2d0944abjjfi8q_jpeg.rf.4fa41d3d5059b6dede94326121edc4b3.jpg\n",
      "Обработано: ck0m15edijrbs0944olo8aqra_jpeg.rf.52e8a4303ab036982c78805ec336835e.jpg\n",
      "Обработано: ck0t2wfsipdoc07218586ezt0_jpeg.rf.4ec027210133d1a092f7cefe7f86c23a.jpg\n",
      "Обработано: ck0u0y7byrnvd0794vpqdexro_jpeg.rf.513b6ca1d70a6023bc57e0040b811bb3.jpg\n",
      "Обработано: ck0kk7o8o5vu70794mj0deixq_jpeg.rf.536fcd8063fead4cc8308ef8d59f9fc9.jpg\n",
      "Обработано: ck0t2z9knn3060944ppcr9fkn_jpeg.rf.55fb31c0cd4fdfe0551c1da30f27713a.jpg\n",
      "Обработано: ck0t4pic2zxuv0848rp6npxiw_jpeg.rf.51acc548074c7c4f16893509aaf50fa5.jpg\n",
      "Обработано: ck0lygt2vkh030721ufglqzq9_jpeg.rf.4b24424e16b0ad52d905945ef322ce40.jpg\n",
      "Обработано: ck0rpje8d32fg07940gwkympb_jpeg.rf.4f70a0ac72f6655d356cc9f414fe8eeb.jpg\n",
      "Обработано: ck0tzvykb6xxf0848pysx89eg_jpeg.rf.542cb9bc1eee62aa5eb4b4ac3e13a648.jpg\n",
      "Обработано: ck0lxhbtdewio0794g9qrp7o9_jpeg.rf.570551b254670717f037da0e98d28863.jpg\n",
      "Обработано: ck0t782sh0yo80848y50f5ugf_jpeg.rf.5429663116454a8c5ce5ebbfa41dbe3f.jpg\n",
      "Обработано: ck0km5c8vke4q0a46trc774lh_jpeg.rf.54df74147f9f229967ebc00333348e30.jpg\n",
      "Обработано: ck0t7s2o0ne4408387zvqn6pr_jpeg.rf.5524a3a3693d51037c48223b690362e2.jpg\n",
      "Обработано: ck0qbu8qqenrd0794vafe93ht_jpeg.rf.56922521101c85ef92f3a867c3081e9a.jpg\n",
      "Обработано: ck0ujzue9uicd08638rcyl1ro_jpeg.rf.5a0992ce884d2cfd32964002e7599489.jpg\n",
      "Обработано: ck0t6zwah09e20a4695tura09_jpeg.rf.4f785256363fd90cb8a95a7d23e0f5a2.jpg\n",
      "Обработано: ck0khrzkh940s0701k1i2tfe3_jpeg.rf.5859ae844258dafa1e533e73248cac64.jpg\n",
      "Обработано: ck0rqfvfjizmt0848qs0rsd4l_jpeg.rf.5a5fcbfc5606e1668f8c201c7005090f.jpg\n",
      "Обработано: ck0l8di4xoje408487bsrbpj9_jpeg.rf.5b4d11d296d120acdd63e1e54ccc2ace.jpg\n",
      "Обработано: ck0nfms4c59l108632rf19agc_jpeg.rf.57b8d097c1ffb42ed602b8018753e42d.jpg\n",
      "Обработано: ck0l9zam2nl6c0a46g4g3m6c4_jpeg.rf.5e458c3dce687543aadd8a0f4ced2004.jpg\n",
      "Обработано: ck0k9ghqt7a8l0944mcvy0jsx_jpeg.rf.5b55501a403c70b4dba61727046660b5.jpg\n",
      "Обработано: ck0txwcn1scmo0863p2fmcq09_jpeg.rf.5b5bf0ad74e7e8e33bce805420176d39.jpg\n",
      "Обработано: ck0kcljocj0qo0a46rzj3y211_jpeg.rf.5745457a99cce20a1ed09c59819d1d6b.jpg\n",
      "Обработано: ck0t4s7ibnk170944ffcd9q57_jpeg.rf.54d950346af8537f20351059c79b91cf.jpg\n",
      "Обработано: ck0khubxx5khq0794ja58vgv5_jpeg.rf.5d2db56a537ce7f2d661b00d403d3cc0.jpg\n",
      "Обработано: ck0nem99k9e9v0721yu2dtiqq_jpeg.rf.5a06cc52462c4dcadb3a74d3f3874cf3.jpg\n",
      "Обработано: ck0rqrdr86mhp09441c8d69w7_jpeg.rf.5d625e0924bab6f9f7d86084bff7af98.jpg\n",
      "Обработано: ck0lx7plvg1e50838ps3cuu9h_jpeg.rf.5df3f1a05e60204647ea601876ec7ac1.jpg\n",
      "Обработано: ck0u0znmjuuay0701hyc6trun_jpeg.rf.57c4424df242fccdb67494c4d2bc22b7.jpg\n",
      "Обработано: ck0kcouioj11m0a46yjyp0zlc_jpeg.rf.5d515391615546df6369aa216c2fac53.jpg\n",
      "Обработано: ck0t74gx40b5u0a46s72no2dg_jpeg.rf.57da3c38696a55082327c502be780c59.jpg\n",
      "Обработано: ck0m1mrauhbpe0863qyvhhrcx_jpeg.rf.5dadeb671f3492e18f6ebcdd65285a54.jpg\n",
      "Обработано: ck0uk5rawysf20721e35n6nk5_jpeg.rf.60dd824179a3b989558f39a245d746d6.jpg\n",
      "Обработано: ck0kengxx4xiw0863hvii9d2r_jpeg.rf.5df40233b458e08108b47ae229a5e4c6.jpg\n",
      "Обработано: ck0u0ihp7sq1z086335c6h592_jpeg.rf.60d64a3d41a4fa422f94a17d8294b296.jpg\n",
      "Обработано: ck0qb7vltsvwp0a46e656bv6u_jpeg.rf.642b271f9f48a73deb97d24d2b471485.jpg\n",
      "Обработано: ck0tx3bpm5y140a46ul6hlru8_jpeg.rf.5e4ca9c6161cc1cc916b43759c5651e3.jpg\n",
      "Обработано: ck0t1r1esms8s0701jmlvghkw_jpeg.rf.5acffb2bbf6c7f579d73f8ff3c85209a.jpg\n",
      "Обработано: ck0nct2ia48au0838bivpmmn6_jpeg.rf.58f3be0857dad3341d9c78f815627923.jpg\n",
      "Обработано: ck0ncrvqe47qd08384wqzjlk9_jpeg.rf.65162b81b23566a46791ca9ef3018fcd.jpg\n",
      "Обработано: ck0u98uysslwa0794bmd4n7fd_jpeg.rf.664b134d0c3a1562477a9687c044c745.jpg\n",
      "Обработано: ck0kl34jm7e2s08384qcp85ih_jpeg.rf.64420adc07446599124be8b0c86d11d7.jpg\n",
      "Обработано: ck0qd6v51ib0j0701sf2wolfq_jpeg.rf.6358b8f49047b12d1f6c20668bff8a39.jpg\n",
      "Обработано: ck0rqq0y3j4tu0848p884qvn1_jpeg.rf.654a70a2e86f0270af759b46d38ea769.jpg\n",
      "Обработано: ck0lwextoec1a0863lou65q4l_jpeg.rf.617475107e06edf72f385c44eec2232f.jpg\n",
      "Обработано: ck0kdh8yok8rw08486abmn3z3_jpeg.rf.685972e3f6aeb5a3ffdb843becb9e56e.jpg\n",
      "Обработано: ck0kck2czj0l10a46f6xkvofl_jpeg.rf.678c741e4261415dc135ecaf38d4581d.jpg\n",
      "Обработано: ck0k9etuqjxhh0848k6i1mw2f_jpeg.rf.65e16bd6d3135e530e8e7677b83b6481.jpg\n",
      "Обработано: ck0kky5oy7d3s08381yd0i465_jpeg.rf.6874685b468e778c76cc2d41a289e65d.jpg\n",
      "Обработано: ck0t24ndxkug60863id6f8pfc_jpeg.rf.5e489fbf3eadafbe13567c4cac0baad3.jpg\n",
      "Обработано: ck0ndxwjf3icx0794m3hlih4u_jpeg.rf.5f397085cad8af247c8a0674b9a67806.jpg\n",
      "Обработано: ck0t252udmxqz070188sd9z1u_jpeg.rf.662ccf2f0209e1cdf677221ac65da60e.jpg\n",
      "Обработано: ck0tx2twm5xya0a46rieclafo_jpeg.rf.6cb4bd5df71d1c5c2e0aedf48114f10c.jpg\n",
      "Обработано: ck0qd5it1i1wl0944fqp8vf9c_jpeg.rf.5f7b7bf98795a5a88fe2240e3a838059.jpg\n",
      "Обработано: ck0lx8c34u38a08480v1hz7dz_jpeg.rf.62b4addf5b2865b979346e676db1f907.jpg\n",
      "Обработано: ck0rr40pt71p40701fl50vzfa_jpeg.rf.6b2b4ec7e343403a173a2d8c9ec0d2c5.jpg\n",
      "Обработано: ck0t7o8ovlpsl0794ci1p3k3a_jpeg.rf.7255338cf66d7fd15d9a75b7e87f0550.jpg\n",
      "Обработано: ck0t7yaokmuhl0863v1rlsm5p_jpeg.rf.62c77619d32f766079b9e3320f8510a3.jpg\n",
      "Обработано: ck0tsx6f1rqmc08631bs71ker_jpeg.rf.70f288faaf29ee8c354bc3f20320febe.jpg\n",
      "Обработано: ck0kdhizwj37t0a461n7bsvun_jpeg.rf.6d618207aa9bed9805920f9625f0c67b.jpg\n",
      "Обработано: ck0t3zlhdz6180a46kq06kflk_jpeg.rf.695d8a1806cebba8ed79a9465c077b48.jpg\n",
      "Обработано: ck0oukw23toun0944nstsyx8g_jpeg.rf.725c1e40188ada6da183777c91520dbd.jpg\n",
      "Обработано: ck0rp95tf2vg70794wbjk2kk3_jpeg.rf.64942fab8cdbf6edab115881cc2180c3.jpg\n",
      "Обработано: ck0u0muhduoik0944fwbze43u_jpeg.rf.74bd00e3d0c2bb38628bd3d60bc56572.jpg\n",
      "Обработано: ck0kkgwvk9hhg0701edmbvr7r_jpeg.rf.72b0cbcbdd84a2f967e4d56a8a994552.jpg\n",
      "Обработано: ck0kl3bjt5xyz0863ru5wbw27_jpeg.rf.74c0c9a18873df6308953374f38fc72e.jpg\n",
      "Обработано: ck0t5n2jlkxuc07940mygjo8f_jpeg.rf.743e0e7964a1983568c0323735ea9d91.jpg\n",
      "Обработано: ck0rpe8ja3z6m0863q1narygs_jpeg.rf.751b9497645f516d0e98cd415c7fad51.jpg\n",
      "Обработано: ck0kl5uir7ej708386nnh95ra_jpeg.rf.786c13aa05537a5beafde2dcaafa6c9f.jpg\n",
      "Обработано: ck0tzh0mmsjb70863m9jdqypg_jpeg.rf.6b4347c866f9e0768115f0ce603f0b3b.jpg\n",
      "Обработано: ck0kdklhl8h7h07015yka75gg_jpeg.rf.75afbde9ce791d335ed4015d2a6f679b.jpg\n",
      "Обработано: ck0tszu61qmo10794stj6lmkj_jpeg.rf.74610774501419ad96bf232c9f58838e.jpg\n",
      "Обработано: ck0nf53eo78rg0944btmudhsc_jpeg.rf.7761bf0c5f266292eb35a0b1c51783eb.jpg\n",
      "Обработано: ck0klds7p9myv07018b68zcsu_jpeg.rf.70111b543b1fd156a55df6337171de99.jpg\n",
      "Обработано: ck0nfpjig5u9z0838mgcq82oz_jpeg.rf.78af90cc8dcf3cde57438b0e2b576240.jpg\n",
      "Обработано: ck0ukgesfwh7f0944smkfpncd_jpeg.rf.796bc7793dcf63a411bbb692fc734dc5.jpg\n",
      "Обработано: ck0na2ozl2ejz08633ausfi26_jpeg.rf.726e4ba9c48a347e68cc56479f131bf3.jpg\n",
      "Обработано: ck0rqflbw4lvd0863gyi0mzp1_jpeg.rf.69d64ebbcff31c6be13e7228d41d83d1.jpg\n",
      "Обработано: ck0nabl6wgb5q0a46x056c88j_jpeg.rf.7975be881984de1f7e172284326d5c4c.jpg\n",
      "Обработано: ck0keqofqkeab0848eq712ch1_jpeg.rf.70559e98cbae0bde190e097105a74ce3.jpg\n",
      "Обработано: ck0uk4wf8875i0a46hztpqvip_jpeg.rf.7a25fd32be8f8e700adb8bfadb0061d1.jpg\n",
      "Обработано: ck0tzqdzqwucd07218blh12ir_jpeg.rf.7b142d2dda7d0e123d58679c4b321445.jpg\n",
      "Обработано: ck0ujle3ouhd20863udrln8yl_jpeg.rf.7fc4afb2782e4051e67f7107b0005f26.jpg\n",
      "Обработано: ck0na2zrshcs50848i2690yin_jpeg.rf.7a39d65d76617f693f52f6144332ea93.jpg\n",
      "Обработано: ck0kfnjva6jp60838d6vqyxq2_jpeg.rf.7c607da0dfd4b5f5ca371c0906a45fe6.jpg\n",
      "Обработано: ck0u0zahz74ln0848lonhk1xg_jpeg.rf.7cb0fa04dc9b397b8ff07e625eb2aefa.jpg\n",
      "Обработано: ck0nfuci585lm0701jw9i5zhj_jpeg.rf.780ea7d50c01236a2a9d4d03eda1d8ce.jpg\n",
      "Обработано: ck0lx4d8sg0df083816ox14r4_jpeg.rf.7a8604dc083afa6cdd0515b29af1d8de.jpg\n",
      "Обработано: ck0kmewv08ygm0944br9j606r_jpeg.rf.7f1cf8002fff325e67bc83dd880f5b70.jpg\n",
      "Обработано: ck0t2pyk3l0ym08636r4hqnty_jpeg.rf.7ca69164d2ca64a00e9c2d1219e7d966.jpg\n",
      "Обработано: ck0kmtk7c90w60944bjhqhm4j_jpeg.rf.7d0d231f2974389d1a30caa1e483200b.jpg\n",
      "Обработано: ck0rpixgt5x8l0944oojfpa2o_jpeg.rf.6c2183ba04dd7ec031b4d6c922aaf16c.jpg\n",
      "Обработано: ck0t3kjngndaa0701i76i8q2c_jpeg.rf.7b33ab9af657e3432533388b4519bb60.jpg\n",
      "Обработано: ck0kkg0u65u3q0863z6w2psqp_jpeg.rf.80b296c2869e29872d0e01490464314e.jpg\n",
      "Обработано: ck0txgnxxud4y0701d5z7lpx7_jpeg.rf.7c53c82d64933f2062ad37195fb14522.jpg\n",
      "Обработано: ck0ujvtjvyrjx0721f1bk9yvy_jpeg.rf.7ced4af432a3d02214f5c6ed5159ba7f.jpg\n",
      "Обработано: ck0tx7k0tr5rz0794r2twuz1o_jpeg.rf.67068839164b779c940323e5dc947e50.jpg\n",
      "Обработано: ck0qbo5snhkcv0701pwtwt35x_jpeg.rf.7dd6750b851e1f342192b20a93614c0a.jpg\n",
      "Обработано: ck0qb9do2fwc708385reizk6h_jpeg.rf.8353ce140548c4b5d4ab719c8245c229.jpg\n",
      "Обработано: ck0ken8886dvt0838isatschp_jpeg.rf.56d26b51cd92328bb4a46f85383e8724.jpg\n",
      "Обработано: ck0klcevilg5n0848axl4ww0k_jpeg.rf.8336b312bb4f97701a551845eb1d6223.jpg\n",
      "Обработано: ck0l7xwvu94160794ed6vldx0_jpeg.rf.830f7a6710900b02f4c7a09e7a949c6e.jpg\n",
      "Обработано: ck0rr4nj43za20794o7o3btuw_jpeg.rf.8657366d6deb4dc4f58216778b1159d6.jpg\n",
      "Обработано: ck0qd5yquiaiq07016q73qoz3_jpeg.rf.858d8803108224ec00b7d914b47b6aae.jpg\n",
      "Обработано: ck0u97a47vo2h0944rwxehqpl_jpeg.rf.89ceb69362b56d99b46492fbb5397c2d.jpg\n",
      "Обработано: ck0kkwqeq5zxe07942ouxkr5q_jpeg.rf.89770a57522ae5b594273df49cfd2981.jpg\n",
      "Обработано: ck0lyghgkfe8a0794h5pz92p7_jpeg.rf.8615b3d2078b8c0c37bfb2aab25e15d9.jpg\n",
      "Обработано: ck0kl3hgk8qyh0944gjtwyh6h_jpeg.rf.85b34d8cb8d16bc37f64dded2353d2d7.jpg\n",
      "Обработано: ck0tzpp8dskmt0863jjiyujwl_jpeg.rf.8774dae60a89c1a7230a85abb2acb4a6.jpg\n",
      "Обработано: ck0tsz3b0624008481fmfbt28_jpeg.rf.84cf8a28b2a98547fccdad89cc3cb3f2.jpg\n",
      "Обработано: ck0t5xpty0hyp08488g6a7n6l_jpeg.rf.8884944ed861a984fd4fa4955e71cd48.jpg\n",
      "Обработано: ck0nett9672gj0944feegfre7_jpeg.rf.867d54429e883f2896c934fd8ae99668.jpg\n",
      "Обработано: ck0kcubsi4r530863gt6or3em_jpeg.rf.85b35b9cbcbe849c2b67784936eed59f.jpg\n",
      "Обработано: ck0kmpmy67n4j08386u8554cs_jpeg.rf.89faad475147ff77905709359f200fb2.jpg\n",
      "Обработано: ck0lyfhltum8h0848fs747twi_jpeg.rf.819ae8db656586c4feeb6b0da9a4eec8.jpg\n",
      "Обработано: ck0tylooksf3f0863s6tbwxhx_jpeg.rf.8f4a749954974bc5e10dc29869c4cbdf.jpg\n",
      "Обработано: ck0qb7h0asvnf0a46l0myka01_jpeg.rf.8ca32cb473bc329df2bbb29575c3e2d0.jpg\n",
      "Обработано: ck0u13g18uv1x070166k2ew3t_jpeg.rf.9105a3ace2fbeb2dfa3d74117355464c.jpg\n",
      "Обработано: ck0m0dejchvnj08381f1xtpqs_jpeg.rf.90bdfa908276f45cb20d30ebb225c40a.jpg\n",
      "Обработано: ck0lzxfw9iyx50944qfn9yxxl_jpeg.rf.8e472728888dc25f5b0fd118abdfe15d.jpg\n",
      "Обработано: ck0qbakbhjoyy0721qw4fut6n_jpeg.rf.86688323b760bc89ab6a94169de5910e.jpg\n",
      "Обработано: ck0tz2vh7wqqw0721qe4odmlu_jpeg.rf.8e9a88e1a568ff4f100cf57a219250d5.jpg\n",
      "Обработано: ck0neh5qnjfoh0848s35xyyj8_jpeg.rf.8ee77066e3ea2e00b914a2ca79353505.jpg\n",
      "Обработано: ck0nd98ujhlfg0a46hhco18rf_jpeg.rf.8e239f5ba8045c6acbf54234796128fd.jpg\n",
      "Обработано: ck0tyq31o6ryb08488lus3geb_jpeg.rf.952ddb3f74c7e559d41ce47c20e0e9db.jpg\n",
      "Обработано: ck0txfme8sat90863ybrk8lzv_jpeg.rf.929ceb5b917912aa2761d897e28cf56c.jpg\n",
      "Обработано: ck0kd21cfj2810a46eicmjtng_jpeg.rf.92bda2dbaf58e1e37a1fd333b2e0b7f4.jpg\n",
      "Обработано: ck0kovirm99fg0944fdv57hd8_jpeg.rf.99290255a4d7b1b8397af118f9fa1f1b.jpg\n",
      "Обработано: ck0kd8g4e9zka0721qprbwtsa_jpeg.rf.978e6c96079ad1f0cc58731412de2cc2.jpg\n",
      "Обработано: ck0uk2i9z86xl0a46gizlif59_jpeg.rf.8729e25833976180a9f3b2a7511789e8.jpg\n",
      "Обработано: ck0nexpddii7b0a463cb74ti7_jpeg.rf.80335414ee9689f5ceb4a8a5feabd966.jpg\n",
      "Обработано: ck0kmhpz99t9w0701ftiu8jlx_jpeg.rf.99a4808a82d63b38b57fc93991730528.jpg\n",
      "Обработано: ck0kosbce7vpn0838c5telfw3_jpeg.rf.9a37414f8df1d8ac3e50c0547ee9805e.jpg\n",
      "Обработано: ck0ndfo8l6ov10701vn095htn_jpeg.rf.9b84723a9e3806a07f4ba65c1ac89861.jpg\n",
      "Обработано: ck0t5nqi3zqqj0a46iyhhhw7b_jpeg.rf.998b4f14452e077f192f88e3842b9501.jpg\n",
      "Обработано: ck0u10zeh74ym0848ow29lc1l_jpeg.rf.8de8ba24b1b198759056a236d93a7cbe.jpg\n",
      "Обработано: ck0kkxafs5wwc08631zxdpdyd_jpeg.rf.9e1b653ce1ab7f179d9d895cc60afadc.jpg\n",
      "Обработано: ck0u0gs1d71m70848obwsy04a_jpeg.rf.9d2a66f2846a0e53d523face7aa0ac1c.jpg\n",
      "Обработано: ck0kcbvwl4tja0794csyimfqu_jpeg.rf.9b8fccc32c80221a31a78bc6b8c54b39.jpg\n",
      "Обработано: ck0tyaitfuchg0944iz87630d_jpeg.rf.998c6176beeff89d6257ca171307b473.jpg\n",
      "Обработано: ck0ncji892we50794albpt7x4_jpeg.rf.9ff5e8dc64a0b04ce0a802bbd8e86f17.jpg\n",
      "Обработано: ck0tzpygswuae0721bhuvjofj_jpeg.rf.9be0b873779f91d86f8a0b713a67f134.jpg\n",
      "Обработано: ck0ndbtmr8oa50721hzgxpue8_jpeg.rf.98eed4485749aa292c11bfba07625367.jpg\n",
      "Обработано: ck0m15mtdwdk30848aglnguy1_jpeg.rf.9fd271f87669440c9448fec8f0248336.jpg\n",
      "Обработано: ck0lwfg8yjmbz07219irceyfl_jpeg.rf.9b5a201db64bd64de373b3b6e5cd12a4.jpg\n",
      "Обработано: ck0ujwlr98tkt0848fudx9cb3_jpeg.rf.a06824e458bc658304e03c577aa85c16.jpg\n",
      "Обработано: ck0lxekamu4wa0848z3xssbek_jpeg.rf.9dc2b9d0b5f9d423270c5cec27d575d3.jpg\n",
      "Обработано: ck0t81ysfnhui0838yucfeszk_jpeg.rf.a0adf8c4222766877b5a807c7ac8b1cd.jpg\n",
      "Обработано: ck0kdra5c7mjh0944w97n0exh_jpeg.rf.9c74c6aa1eddac85e5e0b25cd6659bae.jpg\n",
      "Обработано: ck0t45urenix00701imio8cdw_jpeg.rf.a2ce10899a67ad830a33928f80299233.jpg\n",
      "Обработано: ck0twi6d05v8f0a469q54h3iq_jpeg.rf.9e19708c84c6b0e1e696621aba134117.jpg\n",
      "Обработано: ck0t3r8twkazh0794uxyta3xz_jpeg.rf.9ec29e65e34503b73401e911707d4fc1.jpg\n",
      "Обработано: ck0kmi067lmu70848mrnfi0rc_jpeg.rf.a31f55cd786e5155b79470fb2a7faea0.jpg\n",
      "Обработано: ck0kl079lk71f0a46m6yo4q9m_jpeg.rf.a327c1da1f0fa7a679d36644d715874d.jpg\n",
      "Обработано: ck0twbzbz6hga0848z3sx5lsi_jpeg.rf.9efd0db058b58c0e86f627c2ed3d328a.jpg\n",
      "Обработано: ck0u9e8u77f9y0a46i2qc7hje_jpeg.rf.a3d2e2112949e6b909551dd3f33dddfd.jpg\n",
      "Обработано: ck0tzw6en6xyw0848myghrsxc_jpeg.rf.a757a5641f161d4d3072d0f41e4afd3a.jpg\n",
      "Обработано: ck0negpok9ao50721aw0ozvpl_jpeg.rf.a38e1ae1ffb81f88c8e7b13052a3e043.jpg\n",
      "Обработано: ck0rpfqrnhnon0a46jv1r8s8w_jpeg.rf.a567ba27398a0c227fa75451bb27aa3d.jpg\n",
      "Обработано: ck0t5oyi1mlpd08385ihi4js3_jpeg.rf.a2dd8f265c56cd1b9ae4d1a0a2a3d30a.jpg\n",
      "Обработано: ck0txus39scfk0863py0w15qb_jpeg.rf.9576388a3db2bcfad7af2402710fae96.jpg\n",
      "Обработано: ck0tyxvkx6t1d0848kk4vfkrb_jpeg.rf.a38ddfd3863bcaad9a265c57a56f02ef.jpg\n",
      "Обработано: ck0u0obru6f6u0a46axncdx9n_jpeg.rf.a1d7c0c1b0cd06e7f8ba492cdfee2cf2.jpg\n",
      "Обработано: ck0qc7xskeu3r07948qg5ycne_jpeg.rf.a37fcfa48611702445cc9601afdba946.jpg\n",
      "Обработано: ck0kcn7u1j0vk0a46lr8si8zl_jpeg.rf.ab05dcea54504926189eaf13d19802ec.jpg\n",
      "Обработано: ck0l9dfokcv7o07013t4kgamc_jpeg.rf.a96fed0753b14130e42f31fd8d68438d.jpg\n",
      "Обработано: ck0twl6pqwg6c0721ja81m52m_jpeg.rf.a8b03e4b1a1200e7ebbbec17e9a4e818.jpg\n",
      "Обработано: ck0txrkyx611l0a46u3b4n8bb_jpeg.rf.aa1ad8376fd26661f3771abccbd1d143.jpg\n",
      "Обработано: ck0kepk22a57e07215s22fyiv_jpeg.rf.ac37062f6f5732e0544d31eee82cadda.jpg\n",
      "Обработано: ck0lxgqhheq2b08638gu6tna1_jpeg.rf.a478e7551b36a9021292245c2c812166.jpg\n",
      "Обработано: ck0lwh1i7ed810863a8ql1pat_jpeg.rf.a985f44b16d2c79e1092dd1788f1a996.jpg\n",
      "Обработано: ck0ndgh043xns0863o9d4l0kk_jpeg.rf.ad4917ae707a577f9fef768e65029914.jpg\n",
      "Обработано: ck0ngm4b3jk5e0a46nplsw4xb_jpeg.rf.a8bb6e7e544239d9fa85ac701cae37d1.jpg\n",
      "Обработано: ck0ounuswsms108388flcbazi_jpeg.rf.a9f4e239c0f708a7ce7c767d7e968f61.jpg\n",
      "Обработано: ck0rpaam92wcd0794b9wy12ks_jpeg.rf.ac541642eb5d4b002e19dbb0049e8273.jpg\n",
      "Обработано: ck0oulkapr2bj0794zz57fbjp_jpeg.rf.ace3c245aa0f7dc06f29099284a1b1be.jpg\n",
      "Обработано: ck0k9dg0vjxcg0848rmqzl38w_jpeg.rf.aa2243c64fd18ad4e8c179d09c12cbfc.jpg\n",
      "Обработано: ck0ujo3wrv2130838pn66pvj4_jpeg.rf.ace164faea7387c83c08a68c7b37d736.jpg\n",
      "Обработано: ck0tyucu3uekj0944f3usafki_jpeg.rf.ad394d6c48fd8c0906ce0ac8f4568298.jpg\n",
      "Обработано: ck0ndugzs6hv90944q18viki9_jpeg.rf.ad8568fed3dc8b7b644c67efecbb9757.jpg\n",
      "Обработано: ck0tx9epawjk50721w6282v2c_jpeg.rf.adc7853dfe39ef993eeba0ed3292186a.jpg\n",
      "Обработано: ck0ujirqowixt07012814w3ox_jpeg.rf.af7d2c5ce6bcfedb6ffd891231b412c8.jpg\n",
      "Обработано: ck0txw47261iz0a46k76oyfzj_jpeg.rf.af3dfd2ec9adef7cd9c7e57e79ff8598.jpg\n",
      "Обработано: ck0t734s0mizv0863sujq0i7p_jpeg.rf.b37b89bf3712f1791e2f97c5a16aa48c.jpg\n",
      "Обработано: ck0rqlgco58j50838724x6rym_jpeg.rf.b5b8263fb657e6a09f94583c21fc28ea.jpg\n",
      "Обработано: ck0tz7lcnugfi0944xj04x69y_jpeg.rf.ae59697a3961edc473319ea1edf1566f.jpg\n",
      "Обработано: ck0qb8cz6tfnt0848glf38bpe_jpeg.rf.b27022571ef7b9a910830eeffde9bd30.jpg\n",
      "Обработано: ck0tz4dsmshgh08637pfl2z1c_jpeg.rf.b03bf3d9ee3f53a5e8ee298181290d1c.jpg\n",
      "Обработано: ck0qdf4hwkrzf0721pwn991sv_jpeg.rf.b361b52c1172c6504c67b4f19f9fc544.jpg\n",
      "Обработано: ck0tzmo81wtq50721yer41mgt_jpeg.rf.afb4e1c9346de07f87219b9f5acf477a.jpg\n",
      "Обработано: ck0ndoj9r8u8w07216trgrwuz_jpeg.rf.b43b5ab2970d7b610b7ec6ad50ae1e51.jpg\n",
      "Обработано: ck0tzu01r69vw0a464th4yn43_jpeg.rf.b3629ef5809d61bee0fa0208337eff76.jpg\n",
      "Обработано: ck0txs402uehd070195c9mfko_jpeg.rf.b47277846338d037c30f92e0213833d5.jpg\n",
      "Обработано: ck0ukk30lwlt9070113ad7m2j_jpeg.rf.b11eceafee595fed74046181725c1d95.jpg\n",
      "Обработано: ck0km3uktkdxc0a46uf6e417v_jpeg.rf.b37895e0f3e5352335d9ecb08f96c27e.jpg\n",
      "Обработано: ck0na20uvg69k0a46b7cgr9rd_jpeg.rf.b5c07e27352b2ab5b63f05e8d1aadbca.jpg\n",
      "Обработано: ck0lxfa6uepfr0863exlzozuc_jpeg.rf.b31cd3b0caca370b4d2a7dfb3e9fee94.jpg\n",
      "Обработано: ck0rpg5vz5vk20944kk0yhjy5_jpeg.rf.b492365ac3b96ced581dec7e1520b8b8.jpg\n",
      "Обработано: ck0tzuao2wuuv0721d9vb3uvm_jpeg.rf.b22278e5e19f63a0a95634c876aeb3b1.jpg\n",
      "Обработано: ck0rp9iochje10a46pq920puz_jpeg.rf.b57dbfcab2e3f4b15b88f1895a440510.jpg\n",
      "Обработано: ck0l8bhz891hy086381o84nhd_jpeg.rf.b34dd7fedd0a245a89843faf85150ff9.jpg\n",
      "Обработано: ck0u14y7arp5c0794llhscme5_jpeg.rf.b9a8d990ee70e43ff692e1ad75c6df7d.jpg\n",
      "Обработано: ck0txgdlcsvs8083883yrxqar_jpeg.rf.b9cfd13cbd0644961135ac43731fe225.jpg\n",
      "Обработано: ck0ngmfoyjka50a46cagrxpig_jpeg.rf.b56c9e63661229064c68f3360e6c3e0c.jpg\n",
      "Обработано: ck0kcso214r0r0863m2otgmja_jpeg.rf.b48fb357a1a6847855385883a548e024.jpg\n",
      "Обработано: ck0qbwggghon207016zt7rz5a_jpeg.rf.b4942deb8997e12422a3fd6ab01ca2cd.jpg\n",
      "Обработано: ck0txmpuosbkk0863coq4p42u_jpeg.rf.a752cde3b9f280f5aead544deb94aed0.jpg\n",
      "Обработано: ck0t5tq5hmo8508389vjkpile_jpeg.rf.b7db6d196e09c4695d4da7fd0854a18a.jpg\n",
      "Обработано: ck0kcy2pmj1v70a464cl53bkw_jpeg.rf.b77a5b90fda05cd6f76d1dfa1383a790.jpg\n",
      "Обработано: ck0tzp3rvummy07010t4dolzz_jpeg.rf.c714652d0c504a149b83071ca4b8bd13.jpg\n",
      "Обработано: ck0kdgpnj8gvt0701oaod540q_jpeg.rf.bc941fefccb53c1c7067d832f2489e28.jpg\n",
      "Обработано: ck0lwirdeh6zk0944n5uj6q6i_jpeg.rf.beb382bc3df8be917ce1555d278bdc2a.jpg\n",
      "Обработано: ck0t6c6eg0n3m08483m1afytd_jpeg.rf.bd34ea97915de5348293b62b301df38f.jpg\n",
      "Обработано: ck0u095lit8ti08381w4noa0x_jpeg.rf.bd10a2fd9541e77cad818da589290152.jpg\n",
      "Обработано: ck0tyt1orui7t0701sxkqcrnt_jpeg.rf.c36812de3c09ed71c03a3f269c2223b2.jpg\n",
      "Обработано: ck0koqsqta39h0701f6xas96g_jpeg.rf.c02e070823cd4e7e32fc80985c39d789.jpg\n",
      "Обработано: ck0m14kd9vbfd0a46f2gcpvjf_jpeg.rf.c49003cb0729e8f494413b31f42c151f.jpg\n",
      "Обработано: ck0tt357asc4k0838zbkl0wrd_jpeg.rf.bbd799b63b5ccabf50da4f83c6f2434a.jpg\n",
      "Обработано: ck0kot81t6k5g079474qsyev2_jpeg.rf.c8ae702ba7632a54a7203ec46fef65ad.jpg\n",
      "Обработано: ck0t1ywwdmqkf0944mhiw5huk_jpeg.rf.bb77413dc1cb70d1f2e52b6f003b2bd9.jpg\n",
      "Обработано: ck0ncye0iiouc0848ostst7bq_jpeg.rf.be5d0f452dbe6f8a417b9dffc48b71ed.jpg\n",
      "Обработано: ck0kkg80v5x900794hcgsb4e1_jpeg.rf.c14e4f9813670fcb8bc4bc762fb0afa8.jpg\n",
      "Обработано: ck0rrpwlvj04d0a46r4th0cjf_jpeg.rf.ae43d5efbbcc58b183c5ed045605b4c6.jpg\n",
      "Обработано: ck0tx3rohwiml0721wn578q0e_jpeg.rf.c23153704db212f6fb1d673ef173b0f1.jpg\n",
      "Обработано: ck0u0l462sqjj0863jgtyd84b_jpeg.rf.c4ce1970c78664d09fd0e89d04c6b869.jpg\n",
      "Обработано: ck0qc7df7fjr30863hqmtj5i3_jpeg.rf.bb9c7f696d4c4186a11148ad463aa2f5.jpg\n",
      "Обработано: ck0t1qg3kyft90a46nddriu6k_jpeg.rf.c4b243f8509a87ad5bdb0ed3c1a4e953.jpg\n",
      "Обработано: ck0t2gf1wypnz0a4651vbm3b5_jpeg.rf.b93c64f987f4faa915f9df79de73fb86.jpg\n",
      "Обработано: ck0u101es74sl08484y0z9pb6_jpeg.rf.caf350c36e933cf2c1a1059225801aaa.jpg\n",
      "Обработано: ck0uklx72wly70701px5wl6fw_jpeg.rf.cb1683418c777e1d072763d02d84465b.jpg\n",
      "Обработано: ck0t6v4mw07810a46gj9vqfvu_jpeg.rf.bb2af326ad7e053d0f41d82152936273.jpg\n",
      "Обработано: ck0u0nf3ftb7n083861jt62o2_jpeg.rf.cd876ad735a6b63314285acf94d9b387.jpg\n",
      "Обработано: ck0kd8vmh68nl083835g4ngoc_jpeg.rf.c902cfa6716233a9c92df404d67030be.jpg\n",
      "Обработано: ck0kfmg3p6jh90838qxnikor1_jpeg.rf.c940db5cb0499c51a3e30d63ebb6f584.jpg\n",
      "Обработано: ck0kdeqv8a00m0721x8avt6qe_jpeg.rf.ccb567cc23cf7f9a2ceeb4634041509a.jpg\n",
      "Обработано: ck0ukglh8v4be0838snyl10yu_jpeg.rf.d1be73932e5973c718b1635e2181b31f.jpg\n",
      "Обработано: ck0km4hlk63zp0863ur0owhkg_jpeg.rf.c21e125782c726a343832cbf44531e8b.jpg\n",
      "Обработано: ck0ug3gjz7wk00a46ikj346zv_jpeg.rf.c965066b7e947133c6e047b4b977aa9e.jpg\n",
      "Обработано: ck0l8askp96bh0794bppil14t_jpeg.rf.d00754fce81830149f3584d6ade4e481.jpg\n",
      "Обработано: ck0t5wu9ao70b0701rdv7c7af_jpeg.rf.cc0f00f739a08c1d6337f7f6e32ce03d.jpg\n",
      "Обработано: ck0l9xgch9grx0794i0878xu3_jpeg.rf.cf1e618e34680202cdbffa88c5dde147.jpg\n",
      "Обработано: ck0l9d0tt981g0863dmttkl8h_jpeg.rf.cdc1449d65b480488a9804f446c402e7.jpg\n",
      "Обработано: ck0kmrvn590jl0944asem2ofh_jpeg.rf.d2d17e7e7b937478c360cb889bc2dcda.jpg\n",
      "Обработано: ck0u0i88bunv00944unevdbqg_jpeg.rf.d20e47a3a4c4cec68381d5f113f985d8.jpg\n",
      "Обработано: ck0ndwu8pj3180848zonjasmz_jpeg.rf.cf341dfba711fbaa425f7b0e8c5e456a.jpg\n",
      "Обработано: ck0korwq7kq730a465vnctqhc_jpeg.rf.d31a5db033fffacd8293d649856293b9.jpg\n",
      "Обработано: ck0nene10jjcw08481qmhh4wj_jpeg.rf.c9871f3286e6f97e1d4d25d96df1d762.jpg\n",
      "Обработано: ck0nf4ks0js7z0848cku0h6t5_jpeg.rf.d406f9db90a5286932149187bb9ae070.jpg\n",
      "Обработано: ck0kl4d8y7e9x0838i33y0nta_jpeg.rf.d57cde80b3d701666c78b64f7bae4ddf.jpg\n",
      "Обработано: ck0t75ti6on9t07015p6wbjle_jpeg.rf.d4ca4e1f7adb43de81445ccbe0f71098.jpg\n",
      "Обработано: ck0qba5yvh45x0944qw0oaamw_jpeg.rf.d548f788d81a572f39907164ea6c1bba.jpg\n",
      "Обработано: ck0tsvw19vzj90721zgwt6zcu_jpeg.rf.cf6612354723744280bb097e50446b3e.jpg\n",
      "Обработано: ck0lyf2lnhyy10944t8eb842u_jpeg.rf.ce489168cc3c9f5e7df796c885a30097.jpg\n",
      "Обработано: ck0owo8knvext07012gernxb0_jpeg.rf.d59fd6116629a05a3c8e6b11e5465f55.jpg\n",
      "Обработано: ck0txwk8k6owz0848gejqchq8_jpeg.rf.d431e6a3cf29ca3c97bda4035c2e26fa.jpg\n",
      "Обработано: ck0tsyvp361ow084867dinue0_jpeg.rf.d47c7f4008f3cd76c7e1428677a676ce.jpg\n",
      "Обработано: ck0ng4fa263vn083809qkbt4y_jpeg.rf.d577c7aecd3d674eac02e89ae4f5ce2f.jpg\n",
      "Обработано: ck0kkgh0ik3y20a46kzrit8v2_jpeg.rf.d67b266cfd13ae5f09666bfda12df841.jpg\n",
      "Обработано: ck0kl3wpd616z079452ea8lq2_jpeg.rf.c9ef393eca807516bb64ed1f77d1c329.jpg\n",
      "Обработано: ck0kht0vs5k2r079428olg3jt_jpeg.rf.d5030fcc4a23818e5098008df0a1afb2.jpg\n",
      "Обработано: ck0tt3hm6tsh90701m4t0sq7e_jpeg.rf.bf573bb3cc96443e940c0e1b2a554dd1.jpg\n",
      "Обработано: ck0rqph585aki0838q1hxpf6k_jpeg.rf.cf14cc4db9c987427a392c960f1c779a.jpg\n",
      "Обработано: ck0txx0ddscoq0863bm1ntw9g_jpeg.rf.d4a3a846ce3b75ac6df3f0290adc7ef8.jpg\n",
      "Обработано: ck0txp6s8ue5b0701zx9qjwwe_jpeg.rf.d99829abfdfcd1ac783cbf63afb2e141.jpg\n",
      "Обработано: ck0t6z888oklq0701ri4jser9_jpeg.rf.d8566287c945e4bfc9a47f699bfc0fed.jpg\n",
      "Обработано: ck0tz3qdjt20v0838pjjz36dn_jpeg.rf.d78b31fccbc803886b4037c800f2c5e7.jpg\n",
      "Обработано: ck0t58uo4nvw40701ubn1fua7_jpeg.rf.da5481cdd88087908cd2c42ad46b2658.jpg\n",
      "Обработано: ck0tsymgpsbmm0838ci72jvcf_jpeg.rf.d4d1f4ce36dfe12001ec0d35ea58dc2f.jpg\n",
      "Обработано: ck0t3iu3flv0k0838lql92x5b_jpeg.rf.d9fe218889dedb1a545b98b76d43d41f.jpg\n",
      "Обработано: ck0tzza3ut6ra0838aef1ubfa_jpeg.rf.d8738fff54d7ecf5e5d281969b2c4795.jpg\n",
      "Обработано: ck0rqkoz2587n08387o17rv73_jpeg.rf.dac0a1efdb35bccefe81abe469913116.jpg\n",
      "Обработано: ck0kkep0vb0nz0721g3sq0a4g_jpeg.rf.dd0d3963e97103fd24b0302cba1d3b2c.jpg\n",
      "Обработано: ck0qd50hwi1k10944i25e7al9_jpeg.rf.dc4e8422676e7baad2e36433c32553dd.jpg\n",
      "Обработано: ck0l8bqss96gu0794pchtppli_jpeg.rf.e17bf9e0a389c74071cbe09081eb69ff.jpg\n",
      "Обработано: ck0kfljfp7vuk09441308dug1_jpeg.rf.dc55db65a3baa4ff7ed9768c00cc81f7.jpg\n",
      "Обработано: ck0t765i5mk8j0863od0a5ghy_jpeg.rf.e1c441f3237ce54181cc06b916ccf313.jpg\n",
      "Обработано: ck0kdc75e4wgn0794wltgjwdw_jpeg.rf.d6e58c1f6882247f6f923fd4918c8b97.jpg\n",
      "Обработано: ck0ncwdaxhgtf0a46wezybiq2_jpeg.rf.e1fafb3aba0497f4c834a16883672701.jpg\n",
      "Обработано: ck0t4sh7pnk3v09447wbxifkk_jpeg.rf.d723fb8fb9b160e3b61d523345284d2a.jpg\n",
      "Обработано: ck0koqfpl6g0x0863mmghhzwg_jpeg.rf.e4096a41d191d035f061c7e7be01d05c.jpg\n",
      "Обработано: ck0tx10f0r4n40794pbbiu6iw_jpeg.rf.e2375405bbe7a5a307420051f164add7.jpg\n",
      "Обработано: ck0t5k7tonwo20944nfnbqogm_jpeg.rf.da7dd21c39b298b5d1354d7b0448c81e.jpg\n",
      "Обработано: ck0tyx4x7t16i0838grtlspkh_jpeg.rf.e1d9c642a95a536ae63fdbf498815c0d.jpg\n",
      "Обработано: ck0u01dbyuoe30701p6pfzb0q_jpeg.rf.dc34aba657747af88bf1eec63f19ea6b.jpg\n",
      "Обработано: ck0twwuxz6k9i0848br68e8wm_jpeg.rf.e030f5f045919b341af6350a986d278b.jpg\n",
      "Обработано: ck0kdxyxd8iat0701jbwd0oq6_jpeg.rf.e362ca6c6b22ae89c23f0400eba85291.jpg\n",
      "Обработано: ck0m1m206hgy907944qxlvo5i_jpeg.rf.e496ad2cbe926d62bf0963945c209928.jpg\n",
      "Обработано: ck0keprw9ke1d08483vmle7ed_jpeg.rf.d74bb474ba405e41ce3e4c6528dc297c.jpg\n",
      "Обработано: ck0twb97n5uc20a46en2e2spb_jpeg.rf.e507096fae49dae5649e7f4e895d6f8f.jpg\n",
      "Обработано: ck0nfxm5e5gq50863tqwxrgft_jpeg.rf.d58b0a6b0eb2a0d518d8454db06199a0.jpg\n",
      "Обработано: ck0lx4sqkjw920721qbehquxz_jpeg.rf.e7d42763ee20d742ec143f95cbf373cf.jpg\n",
      "Обработано: ck0ncrfj130c40794scji9fm2_jpeg.rf.e496f4b2df3e743bcb12f63182a3dbf6.jpg\n",
      "Обработано: ck0lxhudct3ac0a46446v80ie_jpeg.rf.e82cf40e85c95c941bb2f1e6b79fd863.jpg\n",
      "Обработано: ck0ovtzvntedo08385kjpyx6a_jpeg.rf.e7f852447532daeefb963845a94e1f5b.jpg\n",
      "Обработано: ck0kdgfrn7loi0944bc5njxd7_jpeg.rf.e77b9a3d458cca0a65c750a0e39b2036.jpg\n",
      "Обработано: ck0m1nvd7hi5g0794ixq4uhub_jpeg.rf.e775cb83a1957693c6e0d9d7d3f95317.jpg\n",
      "Обработано: ck0lxcldkid0h0701q2hvnu98_jpeg.rf.e9d122974e39e352e0a7501ef768718f.jpg\n",
      "Обработано: ck0ng3zz98boz07013zyds00f_jpeg.rf.e40e57c921769f8371a0310f39e796d5.jpg\n",
      "Обработано: ck0qc8ib3k6v40721gt60o67m_jpeg.rf.e9516a96becadb93de954363e16ec5e1.jpg\n",
      "Обработано: ck0t3s74cnfks070126deykt2_jpeg.rf.e83ffc98b2dd129c1a6df088d5191aca.jpg\n",
      "Обработано: ck0kn591g92v60944tmg09bpa_jpeg.rf.e5899097b18526fc481119ec8f5b656c.jpg\n",
      "Обработано: ck0qbnvn6hk6w0701x0mcjvq8_jpeg.rf.dae439c3ddfdef76b1c1e360c545aac1.jpg\n",
      "Обработано: ck0t2tlmmzfds0848mvj42ujg_jpeg.rf.e9652791f14278f94e777c81d78f9857.jpg\n",
      "Обработано: ck0u98ba1xzpe0721rgjjjun5_jpeg.rf.c8cc83fd4689caf4aff86fee001b8a16.jpg\n",
      "Обработано: ck0qbedgvf3qu08637yvo02cq_jpeg.rf.ebc6cb1fe15faeeb074bbef5df3a5ec8.jpg\n",
      "Обработано: ck0khrpvr6w7p08381txzz4na_jpeg.rf.e8b802a44e4fe52b71fbab310155d3c4.jpg\n",
      "Обработано: ck0m1maf2vnl30a46vnjvga3r_jpeg.rf.eecd77e33b3da8be70b8d3390ace85df.jpg\n",
      "Обработано: ck0kcpbi29y0x0721g7dlzzcs_jpeg.rf.ece36ca553147b2de60b98934d7ac108.jpg\n",
      "Обработано: ck0u13mbhte0v0838nxz2zdkf_jpeg.rf.ea7ac3c4de6eb11b8eb611eb4607088c.jpg\n",
      "Обработано: ck0kow7lga3y30701f2yvt2b2_jpeg.rf.ecf01b0da90868c719b611d91b39ffaa.jpg\n",
      "Обработано: ck0kn6a6093460944dnwl19so_jpeg.rf.eaa9e57f5453024b7f67474c23ce8fbd.jpg\n",
      "Обработано: ck0kmr5ewkhpq0a46nuv73id4_jpeg.rf.eefd3b3e4bc495f0be37f429b5221ead.jpg\n",
      "Обработано: ck0qd7oxtgwug08385hhoh6c6_jpeg.rf.ed34a7e543981c7060fe65e63c03952f.jpg\n",
      "Обработано: ck0kkizhblbln0848zygsqz0h_jpeg.rf.ea0e69b1a5fcc169eb7722c2ffb949d6.jpg\n",
      "Обработано: ck0tzox41umlv0701crxo159j_jpeg.rf.e8dbba80529101120c53cdbf682d6b3b.jpg\n",
      "Обработано: ck0tzphn3t5by0838ge18vkq7_jpeg.rf.f15891396160c6c83e3b052fd5d235f2.jpg\n",
      "Обработано: ck0na66fi7cky0721kx2rj68t_jpeg.rf.f0e6702bd324dc61cf4f31478c6b2603.jpg\n",
      "Обработано: ck0qbn4c2to820848neklprj5_jpeg.rf.edbf13d246dafcace687af99558821c9.jpg\n",
      "Обработано: ck0kkzzufk6zy0a464la26n1c_jpeg.rf.efaf28715b3f2f29a3f0da43da02a280.jpg\n",
      "Обработано: ck0t20os6mrcb0944xrc0wamx_jpeg.rf.ee4ee7ff297cbc0aadd8bc31c4067d1d.jpg\n",
      "Обработано: ck0rpemia2zhr0794cdnvuzck_jpeg.rf.ed929ea4f567b42d1bc217371c742329.jpg\n",
      "Обработано: ck0oulyr8sldl0838tkv3hqk8_jpeg.rf.f3ac94ace79c957d33904e37a086349a.jpg\n",
      "Обработано: ck0l9vmuparhg0838oe20j0bd_jpeg.rf.ef939ad40b43a4c66054c5da14275db8.jpg\n",
      "Обработано: ck0kdvg6tj4hn0a46k06job5k_jpeg.rf.fa065ac54cfb77706875d2b1aef49e0e.jpg\n",
      "Обработано: ck0rp7ech84jq0721s8wfw8tz_jpeg.rf.f49f246eef35370ed9da3d797409fa3c.jpg\n",
      "Обработано: ck0qc8qkohujb0701aq2988oa_jpeg.rf.f2a84ac565b7b243b36ae40493668d9e.jpg\n",
      "Обработано: ck0u0dcgdwy9r072177202gnd_jpeg.rf.ed8b6721555e8d9aba61dce9a162f6df.jpg\n",
      "Обработано: ck0ovvrza6e0e0a46doaio091_jpeg.rf.f1700a3be120b1b80631405b50a8975d.jpg\n",
      "Обработано: ck0t7hsj2on2s094444drdqs0_jpeg.rf.f52b5068fa822561ff8f0e200dc451a0.jpg\n",
      "Обработано: ck0kd7h8nj2m70a469e4k6x92_jpeg.rf.f645d6becaa1da2654c27198f8a2651f.jpg\n",
      "Обработано: ck0txn3y1uaec0944bo6m4q6c_jpeg.rf.f46ac4d6b598065a331421706191b669.jpg\n",
      "Обработано: ck0tswxwqqmau0794imifdgnh_jpeg.rf.ec35749524df8e91f4398a24e9e87e55.jpg\n",
      "Обработано: ck0ujb0z98s2k08487aup4zlv_jpeg.rf.f7782299c142e682f20fa934e9f8d5ce.jpg\n",
      "Обработано: ck0t3r291z3xb0a46a6hx1rak_jpeg.rf.f9feb1317bbf81fb69035cc286af96fe.jpg\n",
      "Обработано: ck0ukhrm7wh9z0944dld49omk_jpeg.rf.e34dffbbe4bdc445193672cf547bb600.jpg\n",
      "Обработано: ck0rr7nhf6w970944cb2nnlih_jpeg.rf.fad95509baaee973c9d5a6db10c3f314.jpg\n",
      "Обработано: ck0na5s461w2n0794ifd5c5cs_jpeg.rf.fa60c06a0da1f8d35af461f44eb7b995.jpg\n",
      "Обработано: ck0m1643sidi5083850vpmnkb_jpeg.rf.fbbe02a32c796d693e4d3c6f3e81a70e.jpg\n",
      "Обработано: ck0k9jss09oxq0721c8pd7eds_jpeg.rf.fa5ce52e0ebc5762bee66acd5bc1aa1d.jpg\n",
      "Обработано: ck0u00h8m6yow0848u1pohlak_jpeg.rf.faa14c3337ceadc7f78c40379226f78f.jpg\n",
      "Обработано: ck0lzyygqj00t0944qnwlwjf2_jpeg.rf.fbbbc2b4e6b9dd5b8242be555a897ed4.jpg\n",
      "Обработано: ck0kkv2jf8pil09448qnz1ndu_jpeg.rf.fa40e68bec965ba376f16ed65cb1347d.jpg\n",
      "Обработано: ck0ounp7qrrb80863c0xidr4j_jpeg.rf.fdcd05e62f85264689f32990913feadb.jpg\n",
      "Обработано: ck0tz35vrt1xh08382lzzsg2v_jpeg.rf.fbfc29bec37e3eae4805a0cc7f74ff80.jpg\n",
      "Обработано: ck0ujoiltwezp0944u48gk6wn_jpeg.rf.ff498f4094583e78e66034d107ad0285.jpg\n",
      "Обработано: ck0ng5zyb5lrz086320xihwm8_jpeg.rf.feb1d8a9088cbddc422d12bb51629620.jpg\n",
      "Обработано: ck0kdpfyk4t8v08633b9u5zhe_jpeg.rf.ff2afd2c799d7ce3dbf8e4588e60fda5.jpg\n",
      "Обработано: ck0u0jzlqsqbn0863uii3azjh_jpeg.rf.fbdb4c44be18f3c2fa695b1b6b670b16.jpg\n",
      "Обработка завершена!\n"
     ]
    }
   ],
   "source": [
    "output_dir = \"result\"\n",
    "os.makedirs(output_dir, exist_ok=True)\n",
    "images_dir = \"datasets/Wildfire-Smoke/train/\"\n",
    "\n",
    "for index, row in data.iterrows():\n",
    "    filename = row[\"filename\"]\n",
    "    image_path = os.path.join(images_dir, filename)\n",
    "    \n",
    "    image = cv2.imread(image_path)\n",
    "    if image is None:\n",
    "        print(f\"Не удалось загрузить изображение: {filename}\")\n",
    "        continue\n",
    "    \n",
    "    xmin, ymin, xmax, ymax = int(row[\"xmin\"]), int(row[\"ymin\"]), int(row[\"xmax\"]), int(row[\"ymax\"])\n",
    "    \n",
    "    cv2.rectangle(image, (xmin, ymin), (xmax, ymax), (255, 0, 0), 2)\n",
    "    \n",
    "    output_path = os.path.join(output_dir, filename)\n",
    "    cv2.imwrite(output_path, image)\n",
    "\n",
    "    print(f\"Обработано: {filename}\")\n",
    "\n",
    "print(\"Обработка завершена!\")\n"
   ],
   "metadata": {
    "collapsed": false,
    "ExecuteTime": {
     "end_time": "2024-11-28T10:41:59.277677Z",
     "start_time": "2024-11-28T10:41:57.193637Z"
    }
   },
   "id": "881dc4ef31e0b7e9"
  },
  {
   "cell_type": "code",
   "execution_count": 4,
   "outputs": [
    {
     "name": "stdout",
     "output_type": "stream",
     "text": [
      "PRO TIP 💡 Replace 'model=yolov5s.pt' with new 'model=yolov5su.pt'.\n",
      "YOLOv5 'u' models are trained with https://github.com/ultralytics/ultralytics and feature improved performance vs standard YOLOv5 models trained with https://github.com/ultralytics/yolov5.\n",
      "New https://pypi.org/project/ultralytics/8.3.47 available 😃 Update with 'pip install -U ultralytics'\n",
      "Ultralytics 8.3.39 🚀 Python-3.11.2 torch-2.2.2 CPU (Intel Core(TM) i5-8257U 1.40GHz)\n",
      "\u001B[34m\u001B[1mengine/trainer: \u001B[0mtask=detect, mode=train, model=yolov5s.pt, data=datasets/Wildfire-Smoke/data.yaml, epochs=15, time=None, patience=100, batch=16, imgsz=640, save=True, save_period=-1, cache=False, device=None, workers=8, project=None, name=train, exist_ok=False, pretrained=True, optimizer=auto, verbose=True, seed=0, deterministic=True, single_cls=False, rect=False, cos_lr=False, close_mosaic=10, resume=False, amp=True, fraction=1.0, profile=False, freeze=None, multi_scale=False, overlap_mask=True, mask_ratio=4, dropout=0.0, val=True, split=val, save_json=False, save_hybrid=False, conf=None, iou=0.7, max_det=300, half=False, dnn=False, plots=True, source=None, vid_stride=1, stream_buffer=False, visualize=False, augment=False, agnostic_nms=False, classes=None, retina_masks=False, embed=None, show=False, save_frames=False, save_txt=False, save_conf=False, save_crop=False, show_labels=True, show_conf=True, show_boxes=True, line_width=None, format=torchscript, keras=False, optimize=False, int8=False, dynamic=False, simplify=True, opset=None, workspace=None, nms=False, lr0=0.01, lrf=0.01, momentum=0.937, weight_decay=0.0005, warmup_epochs=3.0, warmup_momentum=0.8, warmup_bias_lr=0.1, box=7.5, cls=0.5, dfl=1.5, pose=12.0, kobj=1.0, nbs=64, hsv_h=0.015, hsv_s=0.7, hsv_v=0.4, degrees=0.0, translate=0.1, scale=0.5, shear=0.0, perspective=0.0, flipud=0.0, fliplr=0.5, bgr=0.0, mosaic=1.0, mixup=0.0, copy_paste=0.0, copy_paste_mode=flip, auto_augment=randaugment, erasing=0.4, crop_fraction=1.0, cfg=None, tracker=botsort.yaml, save_dir=/Users/baiturtashbaev/Documents/Байтур/Projects/Course Arbeit/INAI_MedFire/runs/detect/train\n",
      "Overriding model.yaml nc=80 with nc=1\n",
      "\n",
      "                   from  n    params  module                                       arguments                     \n",
      "  0                  -1  1      3520  ultralytics.nn.modules.conv.Conv             [3, 32, 6, 2, 2]              \n",
      "  1                  -1  1     18560  ultralytics.nn.modules.conv.Conv             [32, 64, 3, 2]                \n",
      "  2                  -1  1     18816  ultralytics.nn.modules.block.C3              [64, 64, 1]                   \n",
      "  3                  -1  1     73984  ultralytics.nn.modules.conv.Conv             [64, 128, 3, 2]               \n",
      "  4                  -1  2    115712  ultralytics.nn.modules.block.C3              [128, 128, 2]                 \n",
      "  5                  -1  1    295424  ultralytics.nn.modules.conv.Conv             [128, 256, 3, 2]              \n",
      "  6                  -1  3    625152  ultralytics.nn.modules.block.C3              [256, 256, 3]                 \n",
      "  7                  -1  1   1180672  ultralytics.nn.modules.conv.Conv             [256, 512, 3, 2]              \n",
      "  8                  -1  1   1182720  ultralytics.nn.modules.block.C3              [512, 512, 1]                 \n",
      "  9                  -1  1    656896  ultralytics.nn.modules.block.SPPF            [512, 512, 5]                 \n",
      " 10                  -1  1    131584  ultralytics.nn.modules.conv.Conv             [512, 256, 1, 1]              \n",
      " 11                  -1  1         0  torch.nn.modules.upsampling.Upsample         [None, 2, 'nearest']          \n",
      " 12             [-1, 6]  1         0  ultralytics.nn.modules.conv.Concat           [1]                           \n",
      " 13                  -1  1    361984  ultralytics.nn.modules.block.C3              [512, 256, 1, False]          \n",
      " 14                  -1  1     33024  ultralytics.nn.modules.conv.Conv             [256, 128, 1, 1]              \n",
      " 15                  -1  1         0  torch.nn.modules.upsampling.Upsample         [None, 2, 'nearest']          \n",
      " 16             [-1, 4]  1         0  ultralytics.nn.modules.conv.Concat           [1]                           \n",
      " 17                  -1  1     90880  ultralytics.nn.modules.block.C3              [256, 128, 1, False]          \n",
      " 18                  -1  1    147712  ultralytics.nn.modules.conv.Conv             [128, 128, 3, 2]              \n",
      " 19            [-1, 14]  1         0  ultralytics.nn.modules.conv.Concat           [1]                           \n",
      " 20                  -1  1    296448  ultralytics.nn.modules.block.C3              [256, 256, 1, False]          \n",
      " 21                  -1  1    590336  ultralytics.nn.modules.conv.Conv             [256, 256, 3, 2]              \n",
      " 22            [-1, 10]  1         0  ultralytics.nn.modules.conv.Concat           [1]                           \n",
      " 23                  -1  1   1182720  ultralytics.nn.modules.block.C3              [512, 512, 1, False]          \n",
      " 24        [17, 20, 23]  1   2116435  ultralytics.nn.modules.head.Detect           [1, [128, 256, 512]]          \n",
      "YOLOv5s summary: 262 layers, 9,122,579 parameters, 9,122,563 gradients, 24.0 GFLOPs\n",
      "Transferred 421/427 items from pretrained weights\n",
      "Freezing layer 'model.24.dfl.conv.weight'\n"
     ]
    },
    {
     "name": "stderr",
     "output_type": "stream",
     "text": [
      "\u001B[34m\u001B[1mtrain: \u001B[0mScanning /Users/baiturtashbaev/Documents/Байтур/Projects/Course Arbeit/INAI_MedFire/datasets/Wildfire-Smoke/train.cache... 233 images, 0 backgrounds, 0 corrupt: 100%|██████████| 233/233 [00:00<?, ?it/s]\n",
      "\u001B[34m\u001B[1mval: \u001B[0mScanning /Users/baiturtashbaev/Documents/Байтур/Projects/Course Arbeit/INAI_MedFire/datasets/Wildfire-Smoke/valid.cache... 56 images, 0 backgrounds, 0 corrupt: 100%|██████████| 56/56 [00:00<?, ?it/s]\n"
     ]
    },
    {
     "name": "stdout",
     "output_type": "stream",
     "text": [
      "Plotting labels to /Users/baiturtashbaev/Documents/Байтур/Projects/Course Arbeit/INAI_MedFire/runs/detect/train/labels.jpg... \n",
      "\u001B[34m\u001B[1moptimizer:\u001B[0m 'optimizer=auto' found, ignoring 'lr0=0.01' and 'momentum=0.937' and determining best 'optimizer', 'lr0' and 'momentum' automatically... \n",
      "\u001B[34m\u001B[1moptimizer:\u001B[0m AdamW(lr=0.002, momentum=0.9) with parameter groups 69 weight(decay=0.0), 76 weight(decay=0.0005), 75 bias(decay=0.0)\n",
      "Image sizes 640 train, 640 val\n",
      "Using 0 dataloader workers\n",
      "Logging results to \u001B[1m/Users/baiturtashbaev/Documents/Байтур/Projects/Course Arbeit/INAI_MedFire/runs/detect/train\u001B[0m\n",
      "Starting training for 15 epochs...\n",
      "\n",
      "      Epoch    GPU_mem   box_loss   cls_loss   dfl_loss  Instances       Size\n"
     ]
    },
    {
     "name": "stderr",
     "output_type": "stream",
     "text": [
      "       1/15         0G      1.675      3.007      1.661         22        640: 100%|██████████| 15/15 [04:46<00:00, 19.07s/it]\n",
      "                 Class     Images  Instances      Box(P          R      mAP50  mAP50-95): 100%|██████████| 2/2 [00:11<00:00,  5.89s/it]"
     ]
    },
    {
     "name": "stdout",
     "output_type": "stream",
     "text": [
      "                   all         56         56      0.406        0.5      0.405      0.172\n"
     ]
    },
    {
     "name": "stderr",
     "output_type": "stream",
     "text": [
      "\n"
     ]
    },
    {
     "name": "stdout",
     "output_type": "stream",
     "text": [
      "\n",
      "      Epoch    GPU_mem   box_loss   cls_loss   dfl_loss  Instances       Size\n"
     ]
    },
    {
     "name": "stderr",
     "output_type": "stream",
     "text": [
      "       2/15         0G      1.547      1.864      1.479         16        640: 100%|██████████| 15/15 [04:30<00:00, 18.06s/it]\n",
      "                 Class     Images  Instances      Box(P          R      mAP50  mAP50-95): 100%|██████████| 2/2 [00:10<00:00,  5.06s/it]"
     ]
    },
    {
     "name": "stdout",
     "output_type": "stream",
     "text": [
      "                   all         56         56      0.501      0.464      0.422      0.183\n"
     ]
    },
    {
     "name": "stderr",
     "output_type": "stream",
     "text": [
      "\n"
     ]
    },
    {
     "name": "stdout",
     "output_type": "stream",
     "text": [
      "\n",
      "      Epoch    GPU_mem   box_loss   cls_loss   dfl_loss  Instances       Size\n"
     ]
    },
    {
     "name": "stderr",
     "output_type": "stream",
     "text": [
      "       3/15         0G       1.52      1.586      1.464         22        640: 100%|██████████| 15/15 [04:30<00:00, 18.01s/it]\n",
      "                 Class     Images  Instances      Box(P          R      mAP50  mAP50-95): 100%|██████████| 2/2 [00:10<00:00,  5.12s/it]"
     ]
    },
    {
     "name": "stdout",
     "output_type": "stream",
     "text": [
      "                   all         56         56      0.273      0.571      0.257      0.096\n"
     ]
    },
    {
     "name": "stderr",
     "output_type": "stream",
     "text": [
      "\n"
     ]
    },
    {
     "name": "stdout",
     "output_type": "stream",
     "text": [
      "\n",
      "      Epoch    GPU_mem   box_loss   cls_loss   dfl_loss  Instances       Size\n"
     ]
    },
    {
     "name": "stderr",
     "output_type": "stream",
     "text": [
      "       4/15         0G      1.575      1.357      1.522         19        640: 100%|██████████| 15/15 [04:25<00:00, 17.68s/it]\n",
      "                 Class     Images  Instances      Box(P          R      mAP50  mAP50-95): 100%|██████████| 2/2 [00:10<00:00,  5.13s/it]"
     ]
    },
    {
     "name": "stdout",
     "output_type": "stream",
     "text": [
      "                   all         56         56      0.316      0.321      0.246     0.0878\n"
     ]
    },
    {
     "name": "stderr",
     "output_type": "stream",
     "text": [
      "\n"
     ]
    },
    {
     "name": "stdout",
     "output_type": "stream",
     "text": [
      "\n",
      "      Epoch    GPU_mem   box_loss   cls_loss   dfl_loss  Instances       Size\n"
     ]
    },
    {
     "name": "stderr",
     "output_type": "stream",
     "text": [
      "       5/15         0G      1.613      1.368      1.535         14        640: 100%|██████████| 15/15 [04:53<00:00, 19.54s/it]\n",
      "                 Class     Images  Instances      Box(P          R      mAP50  mAP50-95): 100%|██████████| 2/2 [00:09<00:00,  4.76s/it]"
     ]
    },
    {
     "name": "stdout",
     "output_type": "stream",
     "text": [
      "                   all         56         56      0.313      0.482      0.376      0.193\n"
     ]
    },
    {
     "name": "stderr",
     "output_type": "stream",
     "text": [
      "\n"
     ]
    },
    {
     "name": "stdout",
     "output_type": "stream",
     "text": [
      "Closing dataloader mosaic\n",
      "\n",
      "      Epoch    GPU_mem   box_loss   cls_loss   dfl_loss  Instances       Size\n"
     ]
    },
    {
     "name": "stderr",
     "output_type": "stream",
     "text": [
      "       6/15         0G      1.819      1.616      1.667          9        640: 100%|██████████| 15/15 [04:20<00:00, 17.38s/it]\n",
      "                 Class     Images  Instances      Box(P          R      mAP50  mAP50-95): 100%|██████████| 2/2 [00:09<00:00,  4.82s/it]"
     ]
    },
    {
     "name": "stdout",
     "output_type": "stream",
     "text": [
      "                   all         56         56      0.111      0.571      0.177     0.0484\n"
     ]
    },
    {
     "name": "stderr",
     "output_type": "stream",
     "text": [
      "\n"
     ]
    },
    {
     "name": "stdout",
     "output_type": "stream",
     "text": [
      "\n",
      "      Epoch    GPU_mem   box_loss   cls_loss   dfl_loss  Instances       Size\n"
     ]
    },
    {
     "name": "stderr",
     "output_type": "stream",
     "text": [
      "       7/15         0G      1.697      1.505      1.586          9        640: 100%|██████████| 15/15 [04:21<00:00, 17.45s/it]\n",
      "                 Class     Images  Instances      Box(P          R      mAP50  mAP50-95): 100%|██████████| 2/2 [00:09<00:00,  4.78s/it]"
     ]
    },
    {
     "name": "stdout",
     "output_type": "stream",
     "text": [
      "                   all         56         56      0.264      0.554       0.28      0.136\n"
     ]
    },
    {
     "name": "stderr",
     "output_type": "stream",
     "text": [
      "\n"
     ]
    },
    {
     "name": "stdout",
     "output_type": "stream",
     "text": [
      "\n",
      "      Epoch    GPU_mem   box_loss   cls_loss   dfl_loss  Instances       Size\n"
     ]
    },
    {
     "name": "stderr",
     "output_type": "stream",
     "text": [
      "       8/15         0G      1.705      1.557      1.636          9        640: 100%|██████████| 15/15 [04:23<00:00, 17.54s/it]\n",
      "                 Class     Images  Instances      Box(P          R      mAP50  mAP50-95): 100%|██████████| 2/2 [00:09<00:00,  4.84s/it]"
     ]
    },
    {
     "name": "stdout",
     "output_type": "stream",
     "text": [
      "                   all         56         56      0.244      0.393      0.269      0.103\n"
     ]
    },
    {
     "name": "stderr",
     "output_type": "stream",
     "text": [
      "\n"
     ]
    },
    {
     "name": "stdout",
     "output_type": "stream",
     "text": [
      "\n",
      "      Epoch    GPU_mem   box_loss   cls_loss   dfl_loss  Instances       Size\n"
     ]
    },
    {
     "name": "stderr",
     "output_type": "stream",
     "text": [
      "       9/15         0G      1.575      1.357      1.549          9        640: 100%|██████████| 15/15 [6:38:41<00:00, 1594.80s/it]  \n",
      "                 Class     Images  Instances      Box(P          R      mAP50  mAP50-95): 100%|██████████| 2/2 [00:09<00:00,  4.80s/it]"
     ]
    },
    {
     "name": "stdout",
     "output_type": "stream",
     "text": [
      "                   all         56         56      0.602       0.46      0.505       0.23\n"
     ]
    },
    {
     "name": "stderr",
     "output_type": "stream",
     "text": [
      "\n"
     ]
    },
    {
     "name": "stdout",
     "output_type": "stream",
     "text": [
      "\n",
      "      Epoch    GPU_mem   box_loss   cls_loss   dfl_loss  Instances       Size\n"
     ]
    },
    {
     "name": "stderr",
     "output_type": "stream",
     "text": [
      "      10/15         0G      1.523      1.156      1.534          9        640: 100%|██████████| 15/15 [04:07<00:00, 16.50s/it]\n",
      "                 Class     Images  Instances      Box(P          R      mAP50  mAP50-95): 100%|██████████| 2/2 [00:09<00:00,  4.78s/it]"
     ]
    },
    {
     "name": "stdout",
     "output_type": "stream",
     "text": [
      "                   all         56         56      0.454      0.321      0.364      0.137\n"
     ]
    },
    {
     "name": "stderr",
     "output_type": "stream",
     "text": [
      "\n"
     ]
    },
    {
     "name": "stdout",
     "output_type": "stream",
     "text": [
      "\n",
      "      Epoch    GPU_mem   box_loss   cls_loss   dfl_loss  Instances       Size\n"
     ]
    },
    {
     "name": "stderr",
     "output_type": "stream",
     "text": [
      "      11/15         0G      1.497      1.088      1.503          9        640: 100%|██████████| 15/15 [04:06<00:00, 16.41s/it]\n",
      "                 Class     Images  Instances      Box(P          R      mAP50  mAP50-95): 100%|██████████| 2/2 [00:09<00:00,  4.76s/it]"
     ]
    },
    {
     "name": "stdout",
     "output_type": "stream",
     "text": [
      "                   all         56         56      0.495      0.577      0.492      0.227\n"
     ]
    },
    {
     "name": "stderr",
     "output_type": "stream",
     "text": [
      "\n"
     ]
    },
    {
     "name": "stdout",
     "output_type": "stream",
     "text": [
      "\n",
      "      Epoch    GPU_mem   box_loss   cls_loss   dfl_loss  Instances       Size\n"
     ]
    },
    {
     "name": "stderr",
     "output_type": "stream",
     "text": [
      "      12/15         0G      1.503      1.124      1.485          9        640: 100%|██████████| 15/15 [04:09<00:00, 16.66s/it]\n",
      "                 Class     Images  Instances      Box(P          R      mAP50  mAP50-95): 100%|██████████| 2/2 [00:09<00:00,  4.75s/it]"
     ]
    },
    {
     "name": "stdout",
     "output_type": "stream",
     "text": [
      "                   all         56         56      0.657      0.718      0.681      0.373\n"
     ]
    },
    {
     "name": "stderr",
     "output_type": "stream",
     "text": [
      "\n"
     ]
    },
    {
     "name": "stdout",
     "output_type": "stream",
     "text": [
      "\n",
      "      Epoch    GPU_mem   box_loss   cls_loss   dfl_loss  Instances       Size\n"
     ]
    },
    {
     "name": "stderr",
     "output_type": "stream",
     "text": [
      "      13/15         0G      1.334          1      1.419          9        640: 100%|██████████| 15/15 [18:14<00:00, 72.94s/it]  \n",
      "                 Class     Images  Instances      Box(P          R      mAP50  mAP50-95): 100%|██████████| 2/2 [00:10<00:00,  5.06s/it]"
     ]
    },
    {
     "name": "stdout",
     "output_type": "stream",
     "text": [
      "                   all         56         56      0.886      0.836      0.915      0.533\n"
     ]
    },
    {
     "name": "stderr",
     "output_type": "stream",
     "text": [
      "\n"
     ]
    },
    {
     "name": "stdout",
     "output_type": "stream",
     "text": [
      "\n",
      "      Epoch    GPU_mem   box_loss   cls_loss   dfl_loss  Instances       Size\n"
     ]
    },
    {
     "name": "stderr",
     "output_type": "stream",
     "text": [
      "      14/15         0G      1.336      0.948      1.363          9        640: 100%|██████████| 15/15 [04:09<00:00, 16.66s/it]\n",
      "                 Class     Images  Instances      Box(P          R      mAP50  mAP50-95): 100%|██████████| 2/2 [00:09<00:00,  4.77s/it]"
     ]
    },
    {
     "name": "stdout",
     "output_type": "stream",
     "text": [
      "                   all         56         56      0.938      0.821      0.928      0.511\n"
     ]
    },
    {
     "name": "stderr",
     "output_type": "stream",
     "text": [
      "\n"
     ]
    },
    {
     "name": "stdout",
     "output_type": "stream",
     "text": [
      "\n",
      "      Epoch    GPU_mem   box_loss   cls_loss   dfl_loss  Instances       Size\n"
     ]
    },
    {
     "name": "stderr",
     "output_type": "stream",
     "text": [
      "      15/15         0G      1.273     0.8845      1.329          9        640: 100%|██████████| 15/15 [48:19<00:00, 193.28s/it]\n",
      "                 Class     Images  Instances      Box(P          R      mAP50  mAP50-95): 100%|██████████| 2/2 [00:09<00:00,  4.81s/it]"
     ]
    },
    {
     "name": "stdout",
     "output_type": "stream",
     "text": [
      "                   all         56         56       0.85      0.912      0.942      0.581\n"
     ]
    },
    {
     "name": "stderr",
     "output_type": "stream",
     "text": [
      "\n"
     ]
    },
    {
     "name": "stdout",
     "output_type": "stream",
     "text": [
      "\n",
      "15 epochs completed in 8.681 hours.\n",
      "Optimizer stripped from /Users/baiturtashbaev/Documents/Байтур/Projects/Course Arbeit/INAI_MedFire/runs/detect/train/weights/last.pt, 18.5MB\n",
      "Optimizer stripped from /Users/baiturtashbaev/Documents/Байтур/Projects/Course Arbeit/INAI_MedFire/runs/detect/train/weights/best.pt, 18.5MB\n",
      "\n",
      "Validating /Users/baiturtashbaev/Documents/Байтур/Projects/Course Arbeit/INAI_MedFire/runs/detect/train/weights/best.pt...\n",
      "Ultralytics 8.3.39 🚀 Python-3.11.2 torch-2.2.2 CPU (Intel Core(TM) i5-8257U 1.40GHz)\n",
      "YOLOv5s summary (fused): 193 layers, 9,111,923 parameters, 0 gradients, 23.8 GFLOPs\n"
     ]
    },
    {
     "name": "stderr",
     "output_type": "stream",
     "text": [
      "                 Class     Images  Instances      Box(P          R      mAP50  mAP50-95): 100%|██████████| 2/2 [00:09<00:00,  4.69s/it]\n"
     ]
    },
    {
     "name": "stdout",
     "output_type": "stream",
     "text": [
      "                   all         56         56       0.85      0.913      0.942      0.578\n",
      "Speed: 2.7ms preprocess, 158.2ms inference, 0.0ms loss, 0.8ms postprocess per image\n",
      "Results saved to \u001B[1m/Users/baiturtashbaev/Documents/Байтур/Projects/Course Arbeit/INAI_MedFire/runs/detect/train\u001B[0m\n"
     ]
    },
    {
     "data": {
      "text/plain": "ultralytics.utils.metrics.DetMetrics object with attributes:\n\nap_class_index: array([0])\nbox: ultralytics.utils.metrics.Metric object\nconfusion_matrix: <ultralytics.utils.metrics.ConfusionMatrix object at 0x137d80d50>\ncurves: ['Precision-Recall(B)', 'F1-Confidence(B)', 'Precision-Confidence(B)', 'Recall-Confidence(B)']\ncurves_results: [[array([          0,    0.001001,    0.002002,    0.003003,    0.004004,    0.005005,    0.006006,    0.007007,    0.008008,    0.009009,     0.01001,    0.011011,    0.012012,    0.013013,    0.014014,    0.015015,    0.016016,    0.017017,    0.018018,    0.019019,     0.02002,    0.021021,    0.022022,    0.023023,\n          0.024024,    0.025025,    0.026026,    0.027027,    0.028028,    0.029029,     0.03003,    0.031031,    0.032032,    0.033033,    0.034034,    0.035035,    0.036036,    0.037037,    0.038038,    0.039039,     0.04004,    0.041041,    0.042042,    0.043043,    0.044044,    0.045045,    0.046046,    0.047047,\n          0.048048,    0.049049,     0.05005,    0.051051,    0.052052,    0.053053,    0.054054,    0.055055,    0.056056,    0.057057,    0.058058,    0.059059,     0.06006,    0.061061,    0.062062,    0.063063,    0.064064,    0.065065,    0.066066,    0.067067,    0.068068,    0.069069,     0.07007,    0.071071,\n          0.072072,    0.073073,    0.074074,    0.075075,    0.076076,    0.077077,    0.078078,    0.079079,     0.08008,    0.081081,    0.082082,    0.083083,    0.084084,    0.085085,    0.086086,    0.087087,    0.088088,    0.089089,     0.09009,    0.091091,    0.092092,    0.093093,    0.094094,    0.095095,\n          0.096096,    0.097097,    0.098098,    0.099099,      0.1001,      0.1011,      0.1021,      0.1031,      0.1041,     0.10511,     0.10611,     0.10711,     0.10811,     0.10911,     0.11011,     0.11111,     0.11211,     0.11311,     0.11411,     0.11512,     0.11612,     0.11712,     0.11812,     0.11912,\n           0.12012,     0.12112,     0.12212,     0.12312,     0.12412,     0.12513,     0.12613,     0.12713,     0.12813,     0.12913,     0.13013,     0.13113,     0.13213,     0.13313,     0.13413,     0.13514,     0.13614,     0.13714,     0.13814,     0.13914,     0.14014,     0.14114,     0.14214,     0.14314,\n           0.14414,     0.14515,     0.14615,     0.14715,     0.14815,     0.14915,     0.15015,     0.15115,     0.15215,     0.15315,     0.15415,     0.15516,     0.15616,     0.15716,     0.15816,     0.15916,     0.16016,     0.16116,     0.16216,     0.16316,     0.16416,     0.16517,     0.16617,     0.16717,\n           0.16817,     0.16917,     0.17017,     0.17117,     0.17217,     0.17317,     0.17417,     0.17518,     0.17618,     0.17718,     0.17818,     0.17918,     0.18018,     0.18118,     0.18218,     0.18318,     0.18418,     0.18519,     0.18619,     0.18719,     0.18819,     0.18919,     0.19019,     0.19119,\n           0.19219,     0.19319,     0.19419,      0.1952,      0.1962,      0.1972,      0.1982,      0.1992,      0.2002,      0.2012,      0.2022,      0.2032,      0.2042,     0.20521,     0.20621,     0.20721,     0.20821,     0.20921,     0.21021,     0.21121,     0.21221,     0.21321,     0.21421,     0.21522,\n           0.21622,     0.21722,     0.21822,     0.21922,     0.22022,     0.22122,     0.22222,     0.22322,     0.22422,     0.22523,     0.22623,     0.22723,     0.22823,     0.22923,     0.23023,     0.23123,     0.23223,     0.23323,     0.23423,     0.23524,     0.23624,     0.23724,     0.23824,     0.23924,\n           0.24024,     0.24124,     0.24224,     0.24324,     0.24424,     0.24525,     0.24625,     0.24725,     0.24825,     0.24925,     0.25025,     0.25125,     0.25225,     0.25325,     0.25425,     0.25526,     0.25626,     0.25726,     0.25826,     0.25926,     0.26026,     0.26126,     0.26226,     0.26326,\n           0.26426,     0.26527,     0.26627,     0.26727,     0.26827,     0.26927,     0.27027,     0.27127,     0.27227,     0.27327,     0.27427,     0.27528,     0.27628,     0.27728,     0.27828,     0.27928,     0.28028,     0.28128,     0.28228,     0.28328,     0.28428,     0.28529,     0.28629,     0.28729,\n           0.28829,     0.28929,     0.29029,     0.29129,     0.29229,     0.29329,     0.29429,      0.2953,      0.2963,      0.2973,      0.2983,      0.2993,      0.3003,      0.3013,      0.3023,      0.3033,      0.3043,     0.30531,     0.30631,     0.30731,     0.30831,     0.30931,     0.31031,     0.31131,\n           0.31231,     0.31331,     0.31431,     0.31532,     0.31632,     0.31732,     0.31832,     0.31932,     0.32032,     0.32132,     0.32232,     0.32332,     0.32432,     0.32533,     0.32633,     0.32733,     0.32833,     0.32933,     0.33033,     0.33133,     0.33233,     0.33333,     0.33433,     0.33534,\n           0.33634,     0.33734,     0.33834,     0.33934,     0.34034,     0.34134,     0.34234,     0.34334,     0.34434,     0.34535,     0.34635,     0.34735,     0.34835,     0.34935,     0.35035,     0.35135,     0.35235,     0.35335,     0.35435,     0.35536,     0.35636,     0.35736,     0.35836,     0.35936,\n           0.36036,     0.36136,     0.36236,     0.36336,     0.36436,     0.36537,     0.36637,     0.36737,     0.36837,     0.36937,     0.37037,     0.37137,     0.37237,     0.37337,     0.37437,     0.37538,     0.37638,     0.37738,     0.37838,     0.37938,     0.38038,     0.38138,     0.38238,     0.38338,\n           0.38438,     0.38539,     0.38639,     0.38739,     0.38839,     0.38939,     0.39039,     0.39139,     0.39239,     0.39339,     0.39439,      0.3954,      0.3964,      0.3974,      0.3984,      0.3994,      0.4004,      0.4014,      0.4024,      0.4034,      0.4044,     0.40541,     0.40641,     0.40741,\n           0.40841,     0.40941,     0.41041,     0.41141,     0.41241,     0.41341,     0.41441,     0.41542,     0.41642,     0.41742,     0.41842,     0.41942,     0.42042,     0.42142,     0.42242,     0.42342,     0.42442,     0.42543,     0.42643,     0.42743,     0.42843,     0.42943,     0.43043,     0.43143,\n           0.43243,     0.43343,     0.43443,     0.43544,     0.43644,     0.43744,     0.43844,     0.43944,     0.44044,     0.44144,     0.44244,     0.44344,     0.44444,     0.44545,     0.44645,     0.44745,     0.44845,     0.44945,     0.45045,     0.45145,     0.45245,     0.45345,     0.45445,     0.45546,\n           0.45646,     0.45746,     0.45846,     0.45946,     0.46046,     0.46146,     0.46246,     0.46346,     0.46446,     0.46547,     0.46647,     0.46747,     0.46847,     0.46947,     0.47047,     0.47147,     0.47247,     0.47347,     0.47447,     0.47548,     0.47648,     0.47748,     0.47848,     0.47948,\n           0.48048,     0.48148,     0.48248,     0.48348,     0.48448,     0.48549,     0.48649,     0.48749,     0.48849,     0.48949,     0.49049,     0.49149,     0.49249,     0.49349,     0.49449,      0.4955,      0.4965,      0.4975,      0.4985,      0.4995,      0.5005,      0.5015,      0.5025,      0.5035,\n            0.5045,     0.50551,     0.50651,     0.50751,     0.50851,     0.50951,     0.51051,     0.51151,     0.51251,     0.51351,     0.51451,     0.51552,     0.51652,     0.51752,     0.51852,     0.51952,     0.52052,     0.52152,     0.52252,     0.52352,     0.52452,     0.52553,     0.52653,     0.52753,\n           0.52853,     0.52953,     0.53053,     0.53153,     0.53253,     0.53353,     0.53453,     0.53554,     0.53654,     0.53754,     0.53854,     0.53954,     0.54054,     0.54154,     0.54254,     0.54354,     0.54454,     0.54555,     0.54655,     0.54755,     0.54855,     0.54955,     0.55055,     0.55155,\n           0.55255,     0.55355,     0.55455,     0.55556,     0.55656,     0.55756,     0.55856,     0.55956,     0.56056,     0.56156,     0.56256,     0.56356,     0.56456,     0.56557,     0.56657,     0.56757,     0.56857,     0.56957,     0.57057,     0.57157,     0.57257,     0.57357,     0.57457,     0.57558,\n           0.57658,     0.57758,     0.57858,     0.57958,     0.58058,     0.58158,     0.58258,     0.58358,     0.58458,     0.58559,     0.58659,     0.58759,     0.58859,     0.58959,     0.59059,     0.59159,     0.59259,     0.59359,     0.59459,      0.5956,      0.5966,      0.5976,      0.5986,      0.5996,\n            0.6006,      0.6016,      0.6026,      0.6036,      0.6046,     0.60561,     0.60661,     0.60761,     0.60861,     0.60961,     0.61061,     0.61161,     0.61261,     0.61361,     0.61461,     0.61562,     0.61662,     0.61762,     0.61862,     0.61962,     0.62062,     0.62162,     0.62262,     0.62362,\n           0.62462,     0.62563,     0.62663,     0.62763,     0.62863,     0.62963,     0.63063,     0.63163,     0.63263,     0.63363,     0.63463,     0.63564,     0.63664,     0.63764,     0.63864,     0.63964,     0.64064,     0.64164,     0.64264,     0.64364,     0.64464,     0.64565,     0.64665,     0.64765,\n           0.64865,     0.64965,     0.65065,     0.65165,     0.65265,     0.65365,     0.65465,     0.65566,     0.65666,     0.65766,     0.65866,     0.65966,     0.66066,     0.66166,     0.66266,     0.66366,     0.66466,     0.66567,     0.66667,     0.66767,     0.66867,     0.66967,     0.67067,     0.67167,\n           0.67267,     0.67367,     0.67467,     0.67568,     0.67668,     0.67768,     0.67868,     0.67968,     0.68068,     0.68168,     0.68268,     0.68368,     0.68468,     0.68569,     0.68669,     0.68769,     0.68869,     0.68969,     0.69069,     0.69169,     0.69269,     0.69369,     0.69469,      0.6957,\n            0.6967,      0.6977,      0.6987,      0.6997,      0.7007,      0.7017,      0.7027,      0.7037,      0.7047,     0.70571,     0.70671,     0.70771,     0.70871,     0.70971,     0.71071,     0.71171,     0.71271,     0.71371,     0.71471,     0.71572,     0.71672,     0.71772,     0.71872,     0.71972,\n           0.72072,     0.72172,     0.72272,     0.72372,     0.72472,     0.72573,     0.72673,     0.72773,     0.72873,     0.72973,     0.73073,     0.73173,     0.73273,     0.73373,     0.73473,     0.73574,     0.73674,     0.73774,     0.73874,     0.73974,     0.74074,     0.74174,     0.74274,     0.74374,\n           0.74474,     0.74575,     0.74675,     0.74775,     0.74875,     0.74975,     0.75075,     0.75175,     0.75275,     0.75375,     0.75475,     0.75576,     0.75676,     0.75776,     0.75876,     0.75976,     0.76076,     0.76176,     0.76276,     0.76376,     0.76476,     0.76577,     0.76677,     0.76777,\n           0.76877,     0.76977,     0.77077,     0.77177,     0.77277,     0.77377,     0.77477,     0.77578,     0.77678,     0.77778,     0.77878,     0.77978,     0.78078,     0.78178,     0.78278,     0.78378,     0.78478,     0.78579,     0.78679,     0.78779,     0.78879,     0.78979,     0.79079,     0.79179,\n           0.79279,     0.79379,     0.79479,      0.7958,      0.7968,      0.7978,      0.7988,      0.7998,      0.8008,      0.8018,      0.8028,      0.8038,      0.8048,     0.80581,     0.80681,     0.80781,     0.80881,     0.80981,     0.81081,     0.81181,     0.81281,     0.81381,     0.81481,     0.81582,\n           0.81682,     0.81782,     0.81882,     0.81982,     0.82082,     0.82182,     0.82282,     0.82382,     0.82482,     0.82583,     0.82683,     0.82783,     0.82883,     0.82983,     0.83083,     0.83183,     0.83283,     0.83383,     0.83483,     0.83584,     0.83684,     0.83784,     0.83884,     0.83984,\n           0.84084,     0.84184,     0.84284,     0.84384,     0.84484,     0.84585,     0.84685,     0.84785,     0.84885,     0.84985,     0.85085,     0.85185,     0.85285,     0.85385,     0.85485,     0.85586,     0.85686,     0.85786,     0.85886,     0.85986,     0.86086,     0.86186,     0.86286,     0.86386,\n           0.86486,     0.86587,     0.86687,     0.86787,     0.86887,     0.86987,     0.87087,     0.87187,     0.87287,     0.87387,     0.87487,     0.87588,     0.87688,     0.87788,     0.87888,     0.87988,     0.88088,     0.88188,     0.88288,     0.88388,     0.88488,     0.88589,     0.88689,     0.88789,\n           0.88889,     0.88989,     0.89089,     0.89189,     0.89289,     0.89389,     0.89489,      0.8959,      0.8969,      0.8979,      0.8989,      0.8999,      0.9009,      0.9019,      0.9029,      0.9039,      0.9049,     0.90591,     0.90691,     0.90791,     0.90891,     0.90991,     0.91091,     0.91191,\n           0.91291,     0.91391,     0.91491,     0.91592,     0.91692,     0.91792,     0.91892,     0.91992,     0.92092,     0.92192,     0.92292,     0.92392,     0.92492,     0.92593,     0.92693,     0.92793,     0.92893,     0.92993,     0.93093,     0.93193,     0.93293,     0.93393,     0.93493,     0.93594,\n           0.93694,     0.93794,     0.93894,     0.93994,     0.94094,     0.94194,     0.94294,     0.94394,     0.94494,     0.94595,     0.94695,     0.94795,     0.94895,     0.94995,     0.95095,     0.95195,     0.95295,     0.95395,     0.95495,     0.95596,     0.95696,     0.95796,     0.95896,     0.95996,\n           0.96096,     0.96196,     0.96296,     0.96396,     0.96496,     0.96597,     0.96697,     0.96797,     0.96897,     0.96997,     0.97097,     0.97197,     0.97297,     0.97397,     0.97497,     0.97598,     0.97698,     0.97798,     0.97898,     0.97998,     0.98098,     0.98198,     0.98298,     0.98398,\n           0.98498,     0.98599,     0.98699,     0.98799,     0.98899,     0.98999,     0.99099,     0.99199,     0.99299,     0.99399,     0.99499,       0.996,       0.997,       0.998,       0.999,           1]), array([[          1,           1,           1,           1,           1,           1,           1,           1,           1,           1,           1,           1,           1,           1,           1,           1,           1,           1,           1,           1,           1,           1,           1,\n                  1,           1,           1,           1,           1,           1,           1,           1,           1,           1,           1,           1,           1,           1,           1,           1,           1,           1,           1,           1,           1,           1,           1,\n                  1,           1,           1,           1,           1,           1,           1,           1,           1,           1,           1,           1,           1,           1,           1,           1,           1,           1,           1,           1,           1,           1,           1,\n                  1,           1,           1,           1,           1,           1,           1,           1,           1,           1,           1,           1,           1,           1,           1,           1,           1,           1,           1,           1,           1,           1,           1,\n                  1,           1,           1,           1,           1,           1,           1,           1,           1,           1,           1,           1,           1,           1,           1,           1,           1,           1,           1,           1,           1,           1,           1,\n                  1,           1,           1,           1,           1,           1,           1,           1,           1,           1,           1,           1,           1,           1,           1,           1,           1,           1,           1,           1,           1,           1,           1,\n                  1,           1,           1,           1,           1,           1,           1,           1,           1,           1,           1,           1,           1,           1,           1,           1,           1,           1,           1,           1,           1,           1,           1,\n                  1,           1,           1,           1,           1,           1,           1,           1,           1,           1,           1,           1,           1,           1,           1,           1,           1,           1,           1,           1,           1,           1,           1,\n                  1,           1,           1,           1,           1,           1,           1,           1,           1,           1,           1,           1,           1,           1,           1,           1,           1,           1,           1,           1,           1,           1,           1,\n                  1,           1,           1,           1,           1,           1,           1,           1,           1,           1,           1,           1,           1,           1,           1,           1,           1,           1,           1,           1,           1,           1,           1,\n                  1,           1,           1,           1,           1,           1,           1,           1,           1,           1,           1,           1,           1,           1,           1,           1,           1,           1,           1,           1,           1,           1,           1,\n                  1,           1,           1,           1,           1,           1,           1,           1,           1,           1,           1,           1,           1,           1,           1,           1,           1,           1,           1,           1,           1,           1,           1,\n                  1,           1,           1,           1,           1,           1,           1,           1,           1,           1,           1,           1,           1,           1,           1,           1,           1,           1,           1,           1,           1,           1,           1,\n                  1,           1,           1,           1,           1,           1,           1,           1,           1,           1,           1,           1,           1,           1,           1,           1,           1,           1,           1,           1,           1,           1,           1,\n                  1,           1,           1,           1,           1,           1,           1,           1,           1,           1,           1,           1,           1,           1,           1,           1,           1,           1,           1,           1,           1,           1,           1,\n                  1,           1,           1,           1,           1,           1,           1,           1,           1,           1,           1,           1,           1,           1,           1,           1,           1,           1,           1,           1,           1,           1,           1,\n                  1,           1,           1,           1,           1,           1,           1,           1,           1,           1,           1,           1,           1,           1,           1,           1,           1,           1,           1,           1,           1,           1,           1,\n                  1,           1,           1,           1,           1,           1,           1,           1,           1,           1,           1,           1,           1,           1,           1,           1,           1,           1,           1,           1,           1,           1,           1,\n                  1,           1,           1,           1,           1,           1,           1,           1,           1,           1,           1,           1,           1,           1,           1,           1,           1,           1,           1,           1,           1,           1,           1,\n                  1,           1,           1,           1,           1,           1,           1,           1,           1,           1,           1,           1,           1,           1,           1,           1,           1,           1,           1,           1,           1,           1,           1,\n                  1,           1,           1,           1,           1,           1,           1,           1,           1,           1,           1,           1,           1,           1,           1,           1,           1,           1,           1,           1,           1,           1,     0.97222,\n            0.97222,     0.97222,     0.97222,     0.97222,     0.97222,     0.97222,     0.97222,     0.97222,     0.97222,     0.97222,     0.97222,     0.97222,     0.97222,     0.97222,     0.97222,     0.97222,     0.97222,     0.97222,     0.97222,     0.97222,     0.97222,     0.97222,     0.97222,\n            0.97222,     0.97222,     0.97222,     0.97222,     0.97222,     0.97222,     0.97222,     0.97222,     0.97222,     0.97222,     0.97222,     0.97222,     0.97222,     0.97222,     0.97222,     0.97222,     0.97222,     0.97222,     0.97222,     0.97222,     0.97222,     0.97222,     0.97222,\n            0.97222,     0.97222,     0.97222,     0.97222,     0.97222,     0.97222,     0.97222,     0.97222,     0.97222,     0.97222,     0.97222,     0.97222,     0.97222,     0.97222,     0.97222,     0.97222,     0.97222,     0.97222,     0.97222,     0.97222,     0.97222,     0.97222,     0.97222,\n            0.97222,     0.97222,     0.97222,     0.97222,     0.97222,     0.97222,     0.97222,     0.97222,     0.97222,     0.97222,     0.97222,     0.97222,     0.97222,     0.97222,     0.97222,     0.97222,     0.97222,     0.97222,     0.97222,     0.97222,     0.97222,     0.97222,     0.97222,\n            0.97222,     0.97222,     0.97222,     0.97222,     0.97222,     0.97222,     0.97222,     0.97222,     0.97222,     0.97222,     0.97222,     0.97222,     0.97222,     0.97222,     0.97222,     0.97222,     0.97222,     0.97222,     0.97222,     0.97222,     0.97222,     0.97222,     0.97222,\n            0.97222,     0.97222,     0.97222,     0.97222,     0.97222,     0.97222,     0.97222,     0.97222,     0.97222,     0.97222,     0.97222,     0.97222,     0.97222,     0.97222,     0.97222,     0.97222,     0.97222,     0.97222,     0.97222,     0.97222,     0.97222,     0.97222,     0.97222,\n            0.97222,     0.97222,     0.97222,     0.97222,     0.94737,     0.94737,     0.94737,     0.94737,     0.94737,     0.94737,     0.94737,     0.94737,     0.94737,     0.94737,     0.94737,     0.94737,     0.94737,     0.94737,     0.94737,     0.94737,     0.94737,     0.94737,     0.93182,\n            0.93182,     0.93182,     0.93182,     0.93182,     0.93182,     0.93182,     0.93182,     0.93182,     0.93182,     0.93182,     0.93182,     0.93182,     0.93182,     0.93182,     0.93182,     0.93182,     0.93182,     0.93182,     0.93182,     0.93182,     0.93182,     0.93182,     0.93182,\n            0.93182,     0.93182,     0.93182,     0.93182,     0.93182,     0.93182,     0.93182,     0.93182,     0.93182,     0.93182,     0.93182,     0.93182,     0.93182,     0.93182,     0.93182,     0.93182,     0.93182,     0.93182,     0.93182,     0.93182,     0.93182,     0.93182,     0.93182,\n            0.93182,     0.93182,     0.93182,     0.93182,     0.93182,     0.93182,     0.93182,     0.93182,     0.93182,     0.93182,     0.93182,     0.93182,     0.93182,     0.93182,     0.93182,     0.93182,     0.93182,     0.93182,     0.93182,     0.93182,     0.93182,     0.93182,     0.93182,\n            0.93182,     0.93182,     0.93182,     0.93182,     0.93182,     0.93182,     0.93182,     0.93182,     0.93182,     0.93182,     0.93182,     0.93182,     0.93182,     0.93182,     0.93182,     0.93182,     0.93182,     0.93182,     0.93182,     0.91837,     0.91837,     0.91837,     0.91837,\n            0.91837,     0.91837,     0.91837,     0.91837,     0.91837,     0.91837,     0.91837,     0.91837,     0.91837,     0.91837,     0.91837,     0.91837,     0.91837,     0.91837,     0.91837,     0.91837,     0.91837,     0.91837,     0.91837,     0.91837,     0.91837,     0.91837,     0.91837,\n            0.91837,     0.91837,     0.91837,     0.91837,     0.91837,     0.91837,     0.91837,     0.91837,     0.91837,     0.91837,     0.91837,     0.91837,     0.91837,     0.91837,     0.91837,     0.91837,     0.91837,     0.91837,     0.91837,     0.91837,     0.91837,     0.91837,     0.91837,\n            0.91837,     0.91837,     0.91837,     0.91837,     0.91837,     0.91837,     0.91837,     0.91837,     0.91837,     0.91837,     0.91837,     0.91837,     0.91837,     0.91837,     0.91837,     0.91837,     0.91837,     0.91837,     0.91837,     0.91837,     0.91837,     0.90385,     0.90385,\n            0.90385,     0.90385,     0.90385,     0.90385,     0.90385,     0.90385,     0.90385,     0.90385,     0.90385,     0.90385,     0.90385,     0.90385,     0.90385,     0.90385,     0.90385,     0.90385,     0.90385,     0.90385,     0.90385,     0.90385,     0.90385,     0.90385,     0.90385,\n            0.90385,     0.90385,     0.90385,     0.90385,     0.90385,     0.90385,     0.90385,     0.90385,     0.90385,     0.90385,     0.90385,     0.87719,     0.87719,     0.87719,     0.87719,     0.87719,     0.87719,     0.87719,     0.87719,     0.87719,     0.87719,     0.87719,     0.87719,\n            0.87719,     0.87719,     0.87719,     0.87719,     0.87719,     0.87719,     0.87719,     0.87719,     0.87719,     0.87719,     0.87719,     0.87719,     0.87719,     0.87719,     0.87719,     0.87719,     0.87719,     0.87719,     0.87719,     0.87719,     0.87719,     0.87719,     0.87719,\n            0.87719,     0.87719,     0.87719,     0.87719,     0.87719,     0.87719,     0.87719,     0.87719,     0.87719,     0.87719,     0.87719,     0.87719,     0.87719,     0.87719,     0.87719,     0.87719,     0.87719,     0.87719,     0.85246,     0.85246,     0.85246,     0.85246,     0.85246,\n            0.85246,     0.85246,     0.85246,     0.85246,     0.85246,     0.85246,     0.85246,     0.85246,     0.85246,     0.85246,     0.85246,     0.85246,     0.85246,     0.85246,     0.85246,     0.85246,     0.85246,     0.85246,     0.85246,     0.85246,     0.85246,     0.85246,     0.85246,\n            0.85246,     0.85246,     0.85246,     0.85246,     0.85246,     0.85246,     0.85246,     0.85246,     0.81538,     0.81538,     0.81538,     0.81538,     0.81538,     0.81538,     0.81538,     0.81538,     0.81538,     0.81538,     0.81538,     0.81538,     0.81538,     0.81538,     0.81538,\n            0.81538,     0.81538,     0.81538,     0.80597,     0.80597,     0.80597,     0.80597,     0.80597,     0.80597,     0.80597,     0.80597,     0.80597,     0.80597,     0.80597,     0.80597,     0.80597,     0.80597,     0.80597,     0.80597,     0.80597,     0.80597,      0.5914,      0.5914,\n             0.5914,      0.5914,      0.5914,      0.5914,      0.5914,      0.5914,      0.5914,      0.5914,      0.5914,      0.5914,      0.5914,      0.5914,      0.5914,      0.5914,      0.5914,      0.5914,     0.46667,     0.46667,     0.46667,     0.46667,     0.46667,     0.46667,     0.46667,\n            0.46667,     0.46667,     0.46667,     0.46667,     0.46667,     0.46667,     0.46667,     0.46667,     0.46667,     0.46667,           0]]), 'Recall', 'Precision'], [array([          0,    0.001001,    0.002002,    0.003003,    0.004004,    0.005005,    0.006006,    0.007007,    0.008008,    0.009009,     0.01001,    0.011011,    0.012012,    0.013013,    0.014014,    0.015015,    0.016016,    0.017017,    0.018018,    0.019019,     0.02002,    0.021021,    0.022022,    0.023023,\n          0.024024,    0.025025,    0.026026,    0.027027,    0.028028,    0.029029,     0.03003,    0.031031,    0.032032,    0.033033,    0.034034,    0.035035,    0.036036,    0.037037,    0.038038,    0.039039,     0.04004,    0.041041,    0.042042,    0.043043,    0.044044,    0.045045,    0.046046,    0.047047,\n          0.048048,    0.049049,     0.05005,    0.051051,    0.052052,    0.053053,    0.054054,    0.055055,    0.056056,    0.057057,    0.058058,    0.059059,     0.06006,    0.061061,    0.062062,    0.063063,    0.064064,    0.065065,    0.066066,    0.067067,    0.068068,    0.069069,     0.07007,    0.071071,\n          0.072072,    0.073073,    0.074074,    0.075075,    0.076076,    0.077077,    0.078078,    0.079079,     0.08008,    0.081081,    0.082082,    0.083083,    0.084084,    0.085085,    0.086086,    0.087087,    0.088088,    0.089089,     0.09009,    0.091091,    0.092092,    0.093093,    0.094094,    0.095095,\n          0.096096,    0.097097,    0.098098,    0.099099,      0.1001,      0.1011,      0.1021,      0.1031,      0.1041,     0.10511,     0.10611,     0.10711,     0.10811,     0.10911,     0.11011,     0.11111,     0.11211,     0.11311,     0.11411,     0.11512,     0.11612,     0.11712,     0.11812,     0.11912,\n           0.12012,     0.12112,     0.12212,     0.12312,     0.12412,     0.12513,     0.12613,     0.12713,     0.12813,     0.12913,     0.13013,     0.13113,     0.13213,     0.13313,     0.13413,     0.13514,     0.13614,     0.13714,     0.13814,     0.13914,     0.14014,     0.14114,     0.14214,     0.14314,\n           0.14414,     0.14515,     0.14615,     0.14715,     0.14815,     0.14915,     0.15015,     0.15115,     0.15215,     0.15315,     0.15415,     0.15516,     0.15616,     0.15716,     0.15816,     0.15916,     0.16016,     0.16116,     0.16216,     0.16316,     0.16416,     0.16517,     0.16617,     0.16717,\n           0.16817,     0.16917,     0.17017,     0.17117,     0.17217,     0.17317,     0.17417,     0.17518,     0.17618,     0.17718,     0.17818,     0.17918,     0.18018,     0.18118,     0.18218,     0.18318,     0.18418,     0.18519,     0.18619,     0.18719,     0.18819,     0.18919,     0.19019,     0.19119,\n           0.19219,     0.19319,     0.19419,      0.1952,      0.1962,      0.1972,      0.1982,      0.1992,      0.2002,      0.2012,      0.2022,      0.2032,      0.2042,     0.20521,     0.20621,     0.20721,     0.20821,     0.20921,     0.21021,     0.21121,     0.21221,     0.21321,     0.21421,     0.21522,\n           0.21622,     0.21722,     0.21822,     0.21922,     0.22022,     0.22122,     0.22222,     0.22322,     0.22422,     0.22523,     0.22623,     0.22723,     0.22823,     0.22923,     0.23023,     0.23123,     0.23223,     0.23323,     0.23423,     0.23524,     0.23624,     0.23724,     0.23824,     0.23924,\n           0.24024,     0.24124,     0.24224,     0.24324,     0.24424,     0.24525,     0.24625,     0.24725,     0.24825,     0.24925,     0.25025,     0.25125,     0.25225,     0.25325,     0.25425,     0.25526,     0.25626,     0.25726,     0.25826,     0.25926,     0.26026,     0.26126,     0.26226,     0.26326,\n           0.26426,     0.26527,     0.26627,     0.26727,     0.26827,     0.26927,     0.27027,     0.27127,     0.27227,     0.27327,     0.27427,     0.27528,     0.27628,     0.27728,     0.27828,     0.27928,     0.28028,     0.28128,     0.28228,     0.28328,     0.28428,     0.28529,     0.28629,     0.28729,\n           0.28829,     0.28929,     0.29029,     0.29129,     0.29229,     0.29329,     0.29429,      0.2953,      0.2963,      0.2973,      0.2983,      0.2993,      0.3003,      0.3013,      0.3023,      0.3033,      0.3043,     0.30531,     0.30631,     0.30731,     0.30831,     0.30931,     0.31031,     0.31131,\n           0.31231,     0.31331,     0.31431,     0.31532,     0.31632,     0.31732,     0.31832,     0.31932,     0.32032,     0.32132,     0.32232,     0.32332,     0.32432,     0.32533,     0.32633,     0.32733,     0.32833,     0.32933,     0.33033,     0.33133,     0.33233,     0.33333,     0.33433,     0.33534,\n           0.33634,     0.33734,     0.33834,     0.33934,     0.34034,     0.34134,     0.34234,     0.34334,     0.34434,     0.34535,     0.34635,     0.34735,     0.34835,     0.34935,     0.35035,     0.35135,     0.35235,     0.35335,     0.35435,     0.35536,     0.35636,     0.35736,     0.35836,     0.35936,\n           0.36036,     0.36136,     0.36236,     0.36336,     0.36436,     0.36537,     0.36637,     0.36737,     0.36837,     0.36937,     0.37037,     0.37137,     0.37237,     0.37337,     0.37437,     0.37538,     0.37638,     0.37738,     0.37838,     0.37938,     0.38038,     0.38138,     0.38238,     0.38338,\n           0.38438,     0.38539,     0.38639,     0.38739,     0.38839,     0.38939,     0.39039,     0.39139,     0.39239,     0.39339,     0.39439,      0.3954,      0.3964,      0.3974,      0.3984,      0.3994,      0.4004,      0.4014,      0.4024,      0.4034,      0.4044,     0.40541,     0.40641,     0.40741,\n           0.40841,     0.40941,     0.41041,     0.41141,     0.41241,     0.41341,     0.41441,     0.41542,     0.41642,     0.41742,     0.41842,     0.41942,     0.42042,     0.42142,     0.42242,     0.42342,     0.42442,     0.42543,     0.42643,     0.42743,     0.42843,     0.42943,     0.43043,     0.43143,\n           0.43243,     0.43343,     0.43443,     0.43544,     0.43644,     0.43744,     0.43844,     0.43944,     0.44044,     0.44144,     0.44244,     0.44344,     0.44444,     0.44545,     0.44645,     0.44745,     0.44845,     0.44945,     0.45045,     0.45145,     0.45245,     0.45345,     0.45445,     0.45546,\n           0.45646,     0.45746,     0.45846,     0.45946,     0.46046,     0.46146,     0.46246,     0.46346,     0.46446,     0.46547,     0.46647,     0.46747,     0.46847,     0.46947,     0.47047,     0.47147,     0.47247,     0.47347,     0.47447,     0.47548,     0.47648,     0.47748,     0.47848,     0.47948,\n           0.48048,     0.48148,     0.48248,     0.48348,     0.48448,     0.48549,     0.48649,     0.48749,     0.48849,     0.48949,     0.49049,     0.49149,     0.49249,     0.49349,     0.49449,      0.4955,      0.4965,      0.4975,      0.4985,      0.4995,      0.5005,      0.5015,      0.5025,      0.5035,\n            0.5045,     0.50551,     0.50651,     0.50751,     0.50851,     0.50951,     0.51051,     0.51151,     0.51251,     0.51351,     0.51451,     0.51552,     0.51652,     0.51752,     0.51852,     0.51952,     0.52052,     0.52152,     0.52252,     0.52352,     0.52452,     0.52553,     0.52653,     0.52753,\n           0.52853,     0.52953,     0.53053,     0.53153,     0.53253,     0.53353,     0.53453,     0.53554,     0.53654,     0.53754,     0.53854,     0.53954,     0.54054,     0.54154,     0.54254,     0.54354,     0.54454,     0.54555,     0.54655,     0.54755,     0.54855,     0.54955,     0.55055,     0.55155,\n           0.55255,     0.55355,     0.55455,     0.55556,     0.55656,     0.55756,     0.55856,     0.55956,     0.56056,     0.56156,     0.56256,     0.56356,     0.56456,     0.56557,     0.56657,     0.56757,     0.56857,     0.56957,     0.57057,     0.57157,     0.57257,     0.57357,     0.57457,     0.57558,\n           0.57658,     0.57758,     0.57858,     0.57958,     0.58058,     0.58158,     0.58258,     0.58358,     0.58458,     0.58559,     0.58659,     0.58759,     0.58859,     0.58959,     0.59059,     0.59159,     0.59259,     0.59359,     0.59459,      0.5956,      0.5966,      0.5976,      0.5986,      0.5996,\n            0.6006,      0.6016,      0.6026,      0.6036,      0.6046,     0.60561,     0.60661,     0.60761,     0.60861,     0.60961,     0.61061,     0.61161,     0.61261,     0.61361,     0.61461,     0.61562,     0.61662,     0.61762,     0.61862,     0.61962,     0.62062,     0.62162,     0.62262,     0.62362,\n           0.62462,     0.62563,     0.62663,     0.62763,     0.62863,     0.62963,     0.63063,     0.63163,     0.63263,     0.63363,     0.63463,     0.63564,     0.63664,     0.63764,     0.63864,     0.63964,     0.64064,     0.64164,     0.64264,     0.64364,     0.64464,     0.64565,     0.64665,     0.64765,\n           0.64865,     0.64965,     0.65065,     0.65165,     0.65265,     0.65365,     0.65465,     0.65566,     0.65666,     0.65766,     0.65866,     0.65966,     0.66066,     0.66166,     0.66266,     0.66366,     0.66466,     0.66567,     0.66667,     0.66767,     0.66867,     0.66967,     0.67067,     0.67167,\n           0.67267,     0.67367,     0.67467,     0.67568,     0.67668,     0.67768,     0.67868,     0.67968,     0.68068,     0.68168,     0.68268,     0.68368,     0.68468,     0.68569,     0.68669,     0.68769,     0.68869,     0.68969,     0.69069,     0.69169,     0.69269,     0.69369,     0.69469,      0.6957,\n            0.6967,      0.6977,      0.6987,      0.6997,      0.7007,      0.7017,      0.7027,      0.7037,      0.7047,     0.70571,     0.70671,     0.70771,     0.70871,     0.70971,     0.71071,     0.71171,     0.71271,     0.71371,     0.71471,     0.71572,     0.71672,     0.71772,     0.71872,     0.71972,\n           0.72072,     0.72172,     0.72272,     0.72372,     0.72472,     0.72573,     0.72673,     0.72773,     0.72873,     0.72973,     0.73073,     0.73173,     0.73273,     0.73373,     0.73473,     0.73574,     0.73674,     0.73774,     0.73874,     0.73974,     0.74074,     0.74174,     0.74274,     0.74374,\n           0.74474,     0.74575,     0.74675,     0.74775,     0.74875,     0.74975,     0.75075,     0.75175,     0.75275,     0.75375,     0.75475,     0.75576,     0.75676,     0.75776,     0.75876,     0.75976,     0.76076,     0.76176,     0.76276,     0.76376,     0.76476,     0.76577,     0.76677,     0.76777,\n           0.76877,     0.76977,     0.77077,     0.77177,     0.77277,     0.77377,     0.77477,     0.77578,     0.77678,     0.77778,     0.77878,     0.77978,     0.78078,     0.78178,     0.78278,     0.78378,     0.78478,     0.78579,     0.78679,     0.78779,     0.78879,     0.78979,     0.79079,     0.79179,\n           0.79279,     0.79379,     0.79479,      0.7958,      0.7968,      0.7978,      0.7988,      0.7998,      0.8008,      0.8018,      0.8028,      0.8038,      0.8048,     0.80581,     0.80681,     0.80781,     0.80881,     0.80981,     0.81081,     0.81181,     0.81281,     0.81381,     0.81481,     0.81582,\n           0.81682,     0.81782,     0.81882,     0.81982,     0.82082,     0.82182,     0.82282,     0.82382,     0.82482,     0.82583,     0.82683,     0.82783,     0.82883,     0.82983,     0.83083,     0.83183,     0.83283,     0.83383,     0.83483,     0.83584,     0.83684,     0.83784,     0.83884,     0.83984,\n           0.84084,     0.84184,     0.84284,     0.84384,     0.84484,     0.84585,     0.84685,     0.84785,     0.84885,     0.84985,     0.85085,     0.85185,     0.85285,     0.85385,     0.85485,     0.85586,     0.85686,     0.85786,     0.85886,     0.85986,     0.86086,     0.86186,     0.86286,     0.86386,\n           0.86486,     0.86587,     0.86687,     0.86787,     0.86887,     0.86987,     0.87087,     0.87187,     0.87287,     0.87387,     0.87487,     0.87588,     0.87688,     0.87788,     0.87888,     0.87988,     0.88088,     0.88188,     0.88288,     0.88388,     0.88488,     0.88589,     0.88689,     0.88789,\n           0.88889,     0.88989,     0.89089,     0.89189,     0.89289,     0.89389,     0.89489,      0.8959,      0.8969,      0.8979,      0.8989,      0.8999,      0.9009,      0.9019,      0.9029,      0.9039,      0.9049,     0.90591,     0.90691,     0.90791,     0.90891,     0.90991,     0.91091,     0.91191,\n           0.91291,     0.91391,     0.91491,     0.91592,     0.91692,     0.91792,     0.91892,     0.91992,     0.92092,     0.92192,     0.92292,     0.92392,     0.92492,     0.92593,     0.92693,     0.92793,     0.92893,     0.92993,     0.93093,     0.93193,     0.93293,     0.93393,     0.93493,     0.93594,\n           0.93694,     0.93794,     0.93894,     0.93994,     0.94094,     0.94194,     0.94294,     0.94394,     0.94494,     0.94595,     0.94695,     0.94795,     0.94895,     0.94995,     0.95095,     0.95195,     0.95295,     0.95395,     0.95495,     0.95596,     0.95696,     0.95796,     0.95896,     0.95996,\n           0.96096,     0.96196,     0.96296,     0.96396,     0.96496,     0.96597,     0.96697,     0.96797,     0.96897,     0.96997,     0.97097,     0.97197,     0.97297,     0.97397,     0.97497,     0.97598,     0.97698,     0.97798,     0.97898,     0.97998,     0.98098,     0.98198,     0.98298,     0.98398,\n           0.98498,     0.98599,     0.98699,     0.98799,     0.98899,     0.98999,     0.99099,     0.99199,     0.99299,     0.99399,     0.99499,       0.996,       0.997,       0.998,       0.999,           1]), array([[    0.18451,     0.18451,     0.25033,     0.29956,      0.3408,     0.35638,     0.37628,      0.3927,     0.40415,     0.41536,     0.42568,     0.43557,     0.44145,     0.44762,     0.46009,     0.47682,     0.48407,     0.49087,      0.4996,     0.50464,     0.50696,     0.51325,     0.51727,\n            0.52145,      0.5241,     0.52649,     0.52937,     0.53399,     0.53535,     0.53681,     0.53834,     0.54264,     0.54744,     0.55219,     0.55317,     0.55415,     0.55733,     0.55872,     0.56306,     0.56756,     0.56899,      0.5696,      0.5702,      0.5708,      0.5714,     0.57346,\n             0.5747,     0.57529,     0.57588,     0.57647,     0.57706,     0.58649,     0.58746,     0.58843,     0.58941,     0.58963,     0.58979,     0.58996,     0.59012,     0.59029,     0.59045,     0.59062,     0.59078,     0.59095,     0.59111,     0.59128,     0.59144,     0.59161,     0.59177,\n            0.59194,      0.5921,     0.59227,     0.59243,     0.59263,     0.59363,     0.59463,     0.59562,     0.59668,     0.59773,     0.59879,     0.60226,     0.60285,     0.60345,     0.60404,     0.60463,     0.60522,     0.60904,      0.6107,     0.61263,     0.61563,     0.61938,     0.62116,\n            0.62588,     0.62642,     0.62696,     0.62749,     0.62803,     0.62857,      0.6291,      0.6319,     0.63343,     0.62899,     0.63442,     0.63791,     0.63974,     0.64019,     0.64064,     0.64109,     0.64154,     0.64199,     0.64244,     0.64289,     0.64379,     0.64712,      0.6475,\n            0.64788,     0.64827,     0.64865,     0.64903,     0.64941,     0.64979,     0.65017,     0.65055,     0.65094,     0.65143,     0.65192,     0.65241,      0.6529,     0.65339,     0.65388,     0.65437,     0.65504,     0.65644,     0.65783,     0.66271,     0.66395,     0.66518,      0.6664,\n            0.66753,     0.66862,     0.66971,     0.67093,     0.67406,      0.6755,     0.67637,     0.67724,      0.6781,     0.67897,     0.67956,     0.68014,     0.68071,     0.68129,     0.68186,     0.68243,     0.68301,     0.68358,     0.68414,      0.6847,     0.68527,     0.68583,     0.68639,\n            0.68696,     0.68755,     0.68926,     0.69097,     0.69213,     0.69275,     0.69337,     0.69399,      0.6946,     0.69522,     0.69583,     0.69906,     0.70552,     0.70612,     0.70672,     0.70732,     0.70791,     0.70851,     0.70911,     0.70969,      0.7099,      0.7101,     0.71031,\n            0.71052,     0.71072,     0.71093,     0.71114,     0.71134,     0.71155,     0.71176,     0.71196,     0.71217,     0.71237,     0.71258,     0.71279,     0.71299,      0.7132,      0.7134,     0.71361,     0.71382,     0.71402,     0.71423,      0.7166,     0.71986,     0.72323,     0.72464,\n            0.72575,     0.72686,     0.72796,     0.73352,     0.73503,     0.73655,     0.73805,     0.73616,     0.73375,     0.73133,     0.73005,       0.731,     0.73194,     0.73288,     0.73382,     0.73477,     0.73579,     0.73682,     0.73785,     0.73887,     0.73999,      0.7416,      0.7432,\n             0.7448,     0.74547,     0.74612,     0.74676,     0.74741,     0.74806,     0.74871,     0.74935,        0.75,     0.75058,     0.75117,     0.75175,     0.75234,     0.75292,     0.75351,     0.75409,     0.75467,     0.75525,     0.75556,     0.75587,     0.75618,     0.75648,     0.75679,\n             0.7571,     0.75741,     0.75772,     0.75802,     0.75833,     0.75864,     0.75895,     0.75925,     0.75956,     0.75987,     0.76017,     0.76048,     0.76153,     0.76286,     0.76419,     0.76552,      0.7673,     0.76932,     0.77132,     0.77313,     0.77492,      0.7767,     0.78362,\n            0.78687,     0.78889,     0.78993,     0.79096,     0.79199,     0.79302,     0.79404,     0.79489,     0.79572,     0.79655,     0.79738,     0.79821,     0.79903,     0.79986,     0.80055,     0.80122,     0.80188,     0.80254,     0.80321,     0.80387,     0.80453,     0.80519,     0.80585,\n            0.81147,     0.82012,     0.82232,     0.82444,     0.82482,      0.8252,     0.82557,     0.82595,     0.82633,      0.8267,     0.82708,     0.82746,     0.82783,     0.82821,     0.82858,     0.82896,     0.82933,     0.82971,     0.83008,     0.83046,     0.83114,      0.8334,     0.83566,\n            0.83812,     0.84107,     0.84536,     0.85096,     0.85174,     0.85251,     0.85329,     0.85406,     0.85483,      0.8556,     0.85637,     0.85714,     0.85862,     0.86009,     0.86156,     0.86303,     0.86511,     0.86844,     0.87155,     0.87399,     0.87642,     0.87743,     0.87555,\n            0.87365,     0.87176,     0.86986,     0.87035,     0.87352,      0.8759,     0.87521,     0.87453,     0.87385,     0.87317,     0.87248,      0.8718,     0.87111,     0.87043,     0.86974,     0.86905,     0.86837,     0.86768,     0.86699,     0.86703,     0.86772,     0.86841,      0.8691,\n            0.86978,     0.87047,     0.87115,     0.87183,     0.87251,      0.8732,     0.87388,     0.87947,     0.88442,     0.88881,      0.8882,      0.8875,      0.8868,      0.8861,     0.88539,     0.88469,     0.88398,     0.88328,     0.88257,     0.88187,     0.88116,     0.88045,     0.87974,\n             0.8789,     0.87785,      0.8768,     0.87575,      0.8747,     0.87365,     0.87259,     0.87154,     0.87048,     0.87049,     0.87711,     0.87784,      0.8785,     0.87916,     0.87982,     0.88047,     0.88113,     0.88178,     0.88244,     0.88309,     0.88374,     0.88439,     0.88473,\n            0.88305,     0.88137,     0.87968,     0.87799,     0.87629,     0.87489,     0.87445,       0.874,     0.87355,      0.8731,     0.87265,      0.8722,     0.87175,      0.8713,     0.87085,      0.8704,     0.86995,      0.8695,     0.86905,      0.8686,     0.86815,      0.8677,     0.86725,\n            0.86679,     0.86634,     0.86589,     0.86544,     0.86498,     0.85485,     0.85551,     0.85617,     0.85683,     0.85748,     0.85814,     0.85879,     0.85944,     0.86009,     0.86074,     0.86139,     0.86204,     0.86804,     0.86606,     0.86068,     0.84965,     0.85043,     0.85122,\n              0.852,     0.85278,     0.85356,     0.85434,     0.85512,     0.85589,     0.85667,     0.85677,     0.85582,     0.85486,      0.8539,     0.85293,     0.85197,     0.85101,     0.85004,     0.84907,      0.8481,     0.84713,     0.84616,     0.84564,     0.84511,     0.84459,     0.84407,\n            0.84355,     0.84303,      0.8425,     0.84198,     0.84145,     0.84093,      0.8404,     0.83988,     0.83935,     0.83883,      0.8383,     0.83777,     0.83725,     0.83672,     0.83619,     0.83566,     0.83513,     0.83337,     0.83096,     0.82854,     0.82612,     0.82368,     0.81847,\n            0.81302,     0.81233,      0.8129,     0.81346,     0.81403,     0.81459,     0.81515,     0.81571,     0.81627,     0.81683,     0.81739,     0.81795,     0.81851,     0.81906,     0.81962,      0.8198,     0.81915,     0.81849,     0.81784,     0.81719,     0.81654,     0.81588,     0.81523,\n            0.81457,     0.81391,     0.81326,      0.8126,     0.81194,     0.81128,     0.81062,     0.80996,      0.8093,     0.80864,     0.80783,     0.80621,      0.8046,     0.80297,     0.80135,     0.79972,     0.79808,     0.79645,     0.79555,       0.795,     0.79445,      0.7939,     0.79335,\n             0.7928,     0.79225,     0.79169,     0.79114,     0.79059,     0.79004,     0.78948,     0.78893,     0.78838,     0.78782,     0.78727,     0.78671,     0.78615,      0.7856,     0.78504,     0.78448,     0.78393,     0.78324,     0.78217,      0.7811,     0.78002,     0.77894,     0.77787,\n            0.77679,      0.7757,     0.77462,     0.77354,     0.77245,     0.77136,     0.76902,     0.76548,     0.76194,     0.75837,     0.75848,     0.75915,     0.75982,     0.76049,     0.76116,     0.76183,     0.76249,     0.76315,     0.76382,     0.76448,     0.76513,     0.76579,     0.75999,\n            0.75592,     0.75183,      0.7477,     0.74523,     0.74294,     0.74065,     0.73835,     0.73604,     0.73373,     0.73149,     0.72927,     0.72703,      0.7248,     0.72255,     0.72029,      0.7188,     0.71816,     0.71752,     0.71688,     0.71624,      0.7156,     0.71496,     0.71431,\n            0.71367,     0.71303,     0.71238,     0.71174,     0.71109,     0.71044,      0.7098,     0.70915,      0.7085,     0.70785,      0.7072,     0.70655,      0.7059,     0.70525,      0.7046,      0.7014,     0.69797,     0.69451,     0.69104,     0.68799,     0.68523,     0.68245,     0.67966,\n            0.67686,     0.67366,     0.66778,     0.66186,     0.65855,       0.658,     0.65745,      0.6569,     0.65634,     0.65579,     0.65524,     0.65468,     0.65413,     0.65357,     0.65302,     0.65246,      0.6519,     0.65135,     0.65079,     0.65023,     0.64967,     0.64911,     0.64855,\n              0.648,     0.64744,     0.64687,     0.64631,     0.64575,     0.64519,     0.64463,     0.64407,      0.6435,     0.64294,     0.64399,      0.6453,      0.6466,      0.6479,     0.64918,     0.65045,     0.63754,     0.63322,     0.63201,      0.6308,      0.6296,     0.62839,     0.62717,\n            0.62596,     0.62474,     0.62352,      0.6223,     0.62108,     0.61985,     0.61862,     0.61739,       0.615,     0.61249,     0.60996,     0.60743,     0.60489,     0.60234,      0.5999,     0.59871,     0.59752,     0.59633,     0.59513,     0.59394,     0.59274,     0.59154,     0.59034,\n            0.58913,     0.58793,     0.58672,     0.58551,     0.58429,     0.58308,     0.56692,     0.56241,     0.56061,      0.5588,     0.55699,     0.55517,     0.55335,     0.55152,     0.54969,     0.54785,     0.54601,     0.54431,     0.54267,     0.54103,     0.53938,     0.53773,     0.53607,\n            0.53441,     0.53275,     0.53108,     0.52941,     0.52774,     0.52619,     0.52539,     0.52458,     0.52378,     0.52297,     0.52216,     0.52135,     0.52054,     0.51973,     0.51891,      0.5181,     0.51729,     0.51647,     0.51566,     0.51484,     0.51402,      0.5132,     0.51238,\n            0.51156,     0.51074,     0.50992,      0.5091,     0.50827,     0.50745,       0.506,     0.49393,     0.48293,     0.47375,     0.46445,     0.45504,     0.44551,     0.44185,     0.43892,     0.43598,     0.43303,     0.43007,      0.4271,     0.42412,      0.4219,     0.42055,      0.4192,\n            0.41785,      0.4165,     0.41514,     0.41378,     0.41242,     0.41105,     0.40969,     0.40832,     0.40695,     0.40557,      0.4042,     0.40282,     0.40144,     0.40006,     0.39763,     0.39516,     0.39268,     0.39019,     0.38769,     0.38519,     0.38267,     0.38015,     0.37763,\n            0.37342,      0.3684,     0.36335,     0.35826,     0.35315,     0.34965,     0.34621,     0.34276,     0.33929,     0.33581,     0.33231,     0.32879,     0.32445,     0.31997,     0.31546,     0.31093,     0.30637,     0.29938,     0.28567,     0.26767,     0.24788,      0.2409,     0.23387,\n            0.22678,     0.21866,     0.20874,      0.1987,      0.1884,     0.17783,     0.16712,     0.16196,     0.15915,     0.15633,      0.1535,     0.15066,     0.14782,     0.14496,      0.1421,     0.13923,     0.13635,     0.13346,     0.13074,     0.12802,     0.12529,     0.12255,     0.11981,\n            0.11705,     0.11429,     0.11152,     0.10874,     0.10596,     0.10317,    0.097068,    0.087249,    0.077328,    0.067877,    0.061257,    0.054592,    0.047881,    0.041123,           0,           0,           0,           0,           0,           0,           0,           0,           0,\n                  0,           0,           0,           0,           0,           0,           0,           0,           0,           0,           0,           0,           0,           0,           0,           0,           0,           0,           0,           0,           0,           0,           0,\n                  0,           0,           0,           0,           0,           0,           0,           0,           0,           0,           0,           0,           0,           0,           0,           0,           0,           0,           0,           0,           0,           0,           0,\n                  0,           0,           0,           0,           0,           0,           0,           0,           0,           0,           0,           0,           0,           0,           0,           0,           0,           0,           0,           0,           0,           0,           0,\n                  0,           0,           0,           0,           0,           0,           0,           0,           0,           0,           0,           0,           0,           0,           0,           0,           0,           0,           0,           0,           0,           0,           0,\n                  0,           0,           0,           0,           0,           0,           0,           0,           0,           0,           0,           0,           0,           0,           0,           0,           0,           0,           0,           0,           0,           0,           0,\n                  0,           0,           0,           0,           0,           0,           0,           0,           0,           0,           0]]), 'Confidence', 'F1'], [array([          0,    0.001001,    0.002002,    0.003003,    0.004004,    0.005005,    0.006006,    0.007007,    0.008008,    0.009009,     0.01001,    0.011011,    0.012012,    0.013013,    0.014014,    0.015015,    0.016016,    0.017017,    0.018018,    0.019019,     0.02002,    0.021021,    0.022022,    0.023023,\n          0.024024,    0.025025,    0.026026,    0.027027,    0.028028,    0.029029,     0.03003,    0.031031,    0.032032,    0.033033,    0.034034,    0.035035,    0.036036,    0.037037,    0.038038,    0.039039,     0.04004,    0.041041,    0.042042,    0.043043,    0.044044,    0.045045,    0.046046,    0.047047,\n          0.048048,    0.049049,     0.05005,    0.051051,    0.052052,    0.053053,    0.054054,    0.055055,    0.056056,    0.057057,    0.058058,    0.059059,     0.06006,    0.061061,    0.062062,    0.063063,    0.064064,    0.065065,    0.066066,    0.067067,    0.068068,    0.069069,     0.07007,    0.071071,\n          0.072072,    0.073073,    0.074074,    0.075075,    0.076076,    0.077077,    0.078078,    0.079079,     0.08008,    0.081081,    0.082082,    0.083083,    0.084084,    0.085085,    0.086086,    0.087087,    0.088088,    0.089089,     0.09009,    0.091091,    0.092092,    0.093093,    0.094094,    0.095095,\n          0.096096,    0.097097,    0.098098,    0.099099,      0.1001,      0.1011,      0.1021,      0.1031,      0.1041,     0.10511,     0.10611,     0.10711,     0.10811,     0.10911,     0.11011,     0.11111,     0.11211,     0.11311,     0.11411,     0.11512,     0.11612,     0.11712,     0.11812,     0.11912,\n           0.12012,     0.12112,     0.12212,     0.12312,     0.12412,     0.12513,     0.12613,     0.12713,     0.12813,     0.12913,     0.13013,     0.13113,     0.13213,     0.13313,     0.13413,     0.13514,     0.13614,     0.13714,     0.13814,     0.13914,     0.14014,     0.14114,     0.14214,     0.14314,\n           0.14414,     0.14515,     0.14615,     0.14715,     0.14815,     0.14915,     0.15015,     0.15115,     0.15215,     0.15315,     0.15415,     0.15516,     0.15616,     0.15716,     0.15816,     0.15916,     0.16016,     0.16116,     0.16216,     0.16316,     0.16416,     0.16517,     0.16617,     0.16717,\n           0.16817,     0.16917,     0.17017,     0.17117,     0.17217,     0.17317,     0.17417,     0.17518,     0.17618,     0.17718,     0.17818,     0.17918,     0.18018,     0.18118,     0.18218,     0.18318,     0.18418,     0.18519,     0.18619,     0.18719,     0.18819,     0.18919,     0.19019,     0.19119,\n           0.19219,     0.19319,     0.19419,      0.1952,      0.1962,      0.1972,      0.1982,      0.1992,      0.2002,      0.2012,      0.2022,      0.2032,      0.2042,     0.20521,     0.20621,     0.20721,     0.20821,     0.20921,     0.21021,     0.21121,     0.21221,     0.21321,     0.21421,     0.21522,\n           0.21622,     0.21722,     0.21822,     0.21922,     0.22022,     0.22122,     0.22222,     0.22322,     0.22422,     0.22523,     0.22623,     0.22723,     0.22823,     0.22923,     0.23023,     0.23123,     0.23223,     0.23323,     0.23423,     0.23524,     0.23624,     0.23724,     0.23824,     0.23924,\n           0.24024,     0.24124,     0.24224,     0.24324,     0.24424,     0.24525,     0.24625,     0.24725,     0.24825,     0.24925,     0.25025,     0.25125,     0.25225,     0.25325,     0.25425,     0.25526,     0.25626,     0.25726,     0.25826,     0.25926,     0.26026,     0.26126,     0.26226,     0.26326,\n           0.26426,     0.26527,     0.26627,     0.26727,     0.26827,     0.26927,     0.27027,     0.27127,     0.27227,     0.27327,     0.27427,     0.27528,     0.27628,     0.27728,     0.27828,     0.27928,     0.28028,     0.28128,     0.28228,     0.28328,     0.28428,     0.28529,     0.28629,     0.28729,\n           0.28829,     0.28929,     0.29029,     0.29129,     0.29229,     0.29329,     0.29429,      0.2953,      0.2963,      0.2973,      0.2983,      0.2993,      0.3003,      0.3013,      0.3023,      0.3033,      0.3043,     0.30531,     0.30631,     0.30731,     0.30831,     0.30931,     0.31031,     0.31131,\n           0.31231,     0.31331,     0.31431,     0.31532,     0.31632,     0.31732,     0.31832,     0.31932,     0.32032,     0.32132,     0.32232,     0.32332,     0.32432,     0.32533,     0.32633,     0.32733,     0.32833,     0.32933,     0.33033,     0.33133,     0.33233,     0.33333,     0.33433,     0.33534,\n           0.33634,     0.33734,     0.33834,     0.33934,     0.34034,     0.34134,     0.34234,     0.34334,     0.34434,     0.34535,     0.34635,     0.34735,     0.34835,     0.34935,     0.35035,     0.35135,     0.35235,     0.35335,     0.35435,     0.35536,     0.35636,     0.35736,     0.35836,     0.35936,\n           0.36036,     0.36136,     0.36236,     0.36336,     0.36436,     0.36537,     0.36637,     0.36737,     0.36837,     0.36937,     0.37037,     0.37137,     0.37237,     0.37337,     0.37437,     0.37538,     0.37638,     0.37738,     0.37838,     0.37938,     0.38038,     0.38138,     0.38238,     0.38338,\n           0.38438,     0.38539,     0.38639,     0.38739,     0.38839,     0.38939,     0.39039,     0.39139,     0.39239,     0.39339,     0.39439,      0.3954,      0.3964,      0.3974,      0.3984,      0.3994,      0.4004,      0.4014,      0.4024,      0.4034,      0.4044,     0.40541,     0.40641,     0.40741,\n           0.40841,     0.40941,     0.41041,     0.41141,     0.41241,     0.41341,     0.41441,     0.41542,     0.41642,     0.41742,     0.41842,     0.41942,     0.42042,     0.42142,     0.42242,     0.42342,     0.42442,     0.42543,     0.42643,     0.42743,     0.42843,     0.42943,     0.43043,     0.43143,\n           0.43243,     0.43343,     0.43443,     0.43544,     0.43644,     0.43744,     0.43844,     0.43944,     0.44044,     0.44144,     0.44244,     0.44344,     0.44444,     0.44545,     0.44645,     0.44745,     0.44845,     0.44945,     0.45045,     0.45145,     0.45245,     0.45345,     0.45445,     0.45546,\n           0.45646,     0.45746,     0.45846,     0.45946,     0.46046,     0.46146,     0.46246,     0.46346,     0.46446,     0.46547,     0.46647,     0.46747,     0.46847,     0.46947,     0.47047,     0.47147,     0.47247,     0.47347,     0.47447,     0.47548,     0.47648,     0.47748,     0.47848,     0.47948,\n           0.48048,     0.48148,     0.48248,     0.48348,     0.48448,     0.48549,     0.48649,     0.48749,     0.48849,     0.48949,     0.49049,     0.49149,     0.49249,     0.49349,     0.49449,      0.4955,      0.4965,      0.4975,      0.4985,      0.4995,      0.5005,      0.5015,      0.5025,      0.5035,\n            0.5045,     0.50551,     0.50651,     0.50751,     0.50851,     0.50951,     0.51051,     0.51151,     0.51251,     0.51351,     0.51451,     0.51552,     0.51652,     0.51752,     0.51852,     0.51952,     0.52052,     0.52152,     0.52252,     0.52352,     0.52452,     0.52553,     0.52653,     0.52753,\n           0.52853,     0.52953,     0.53053,     0.53153,     0.53253,     0.53353,     0.53453,     0.53554,     0.53654,     0.53754,     0.53854,     0.53954,     0.54054,     0.54154,     0.54254,     0.54354,     0.54454,     0.54555,     0.54655,     0.54755,     0.54855,     0.54955,     0.55055,     0.55155,\n           0.55255,     0.55355,     0.55455,     0.55556,     0.55656,     0.55756,     0.55856,     0.55956,     0.56056,     0.56156,     0.56256,     0.56356,     0.56456,     0.56557,     0.56657,     0.56757,     0.56857,     0.56957,     0.57057,     0.57157,     0.57257,     0.57357,     0.57457,     0.57558,\n           0.57658,     0.57758,     0.57858,     0.57958,     0.58058,     0.58158,     0.58258,     0.58358,     0.58458,     0.58559,     0.58659,     0.58759,     0.58859,     0.58959,     0.59059,     0.59159,     0.59259,     0.59359,     0.59459,      0.5956,      0.5966,      0.5976,      0.5986,      0.5996,\n            0.6006,      0.6016,      0.6026,      0.6036,      0.6046,     0.60561,     0.60661,     0.60761,     0.60861,     0.60961,     0.61061,     0.61161,     0.61261,     0.61361,     0.61461,     0.61562,     0.61662,     0.61762,     0.61862,     0.61962,     0.62062,     0.62162,     0.62262,     0.62362,\n           0.62462,     0.62563,     0.62663,     0.62763,     0.62863,     0.62963,     0.63063,     0.63163,     0.63263,     0.63363,     0.63463,     0.63564,     0.63664,     0.63764,     0.63864,     0.63964,     0.64064,     0.64164,     0.64264,     0.64364,     0.64464,     0.64565,     0.64665,     0.64765,\n           0.64865,     0.64965,     0.65065,     0.65165,     0.65265,     0.65365,     0.65465,     0.65566,     0.65666,     0.65766,     0.65866,     0.65966,     0.66066,     0.66166,     0.66266,     0.66366,     0.66466,     0.66567,     0.66667,     0.66767,     0.66867,     0.66967,     0.67067,     0.67167,\n           0.67267,     0.67367,     0.67467,     0.67568,     0.67668,     0.67768,     0.67868,     0.67968,     0.68068,     0.68168,     0.68268,     0.68368,     0.68468,     0.68569,     0.68669,     0.68769,     0.68869,     0.68969,     0.69069,     0.69169,     0.69269,     0.69369,     0.69469,      0.6957,\n            0.6967,      0.6977,      0.6987,      0.6997,      0.7007,      0.7017,      0.7027,      0.7037,      0.7047,     0.70571,     0.70671,     0.70771,     0.70871,     0.70971,     0.71071,     0.71171,     0.71271,     0.71371,     0.71471,     0.71572,     0.71672,     0.71772,     0.71872,     0.71972,\n           0.72072,     0.72172,     0.72272,     0.72372,     0.72472,     0.72573,     0.72673,     0.72773,     0.72873,     0.72973,     0.73073,     0.73173,     0.73273,     0.73373,     0.73473,     0.73574,     0.73674,     0.73774,     0.73874,     0.73974,     0.74074,     0.74174,     0.74274,     0.74374,\n           0.74474,     0.74575,     0.74675,     0.74775,     0.74875,     0.74975,     0.75075,     0.75175,     0.75275,     0.75375,     0.75475,     0.75576,     0.75676,     0.75776,     0.75876,     0.75976,     0.76076,     0.76176,     0.76276,     0.76376,     0.76476,     0.76577,     0.76677,     0.76777,\n           0.76877,     0.76977,     0.77077,     0.77177,     0.77277,     0.77377,     0.77477,     0.77578,     0.77678,     0.77778,     0.77878,     0.77978,     0.78078,     0.78178,     0.78278,     0.78378,     0.78478,     0.78579,     0.78679,     0.78779,     0.78879,     0.78979,     0.79079,     0.79179,\n           0.79279,     0.79379,     0.79479,      0.7958,      0.7968,      0.7978,      0.7988,      0.7998,      0.8008,      0.8018,      0.8028,      0.8038,      0.8048,     0.80581,     0.80681,     0.80781,     0.80881,     0.80981,     0.81081,     0.81181,     0.81281,     0.81381,     0.81481,     0.81582,\n           0.81682,     0.81782,     0.81882,     0.81982,     0.82082,     0.82182,     0.82282,     0.82382,     0.82482,     0.82583,     0.82683,     0.82783,     0.82883,     0.82983,     0.83083,     0.83183,     0.83283,     0.83383,     0.83483,     0.83584,     0.83684,     0.83784,     0.83884,     0.83984,\n           0.84084,     0.84184,     0.84284,     0.84384,     0.84484,     0.84585,     0.84685,     0.84785,     0.84885,     0.84985,     0.85085,     0.85185,     0.85285,     0.85385,     0.85485,     0.85586,     0.85686,     0.85786,     0.85886,     0.85986,     0.86086,     0.86186,     0.86286,     0.86386,\n           0.86486,     0.86587,     0.86687,     0.86787,     0.86887,     0.86987,     0.87087,     0.87187,     0.87287,     0.87387,     0.87487,     0.87588,     0.87688,     0.87788,     0.87888,     0.87988,     0.88088,     0.88188,     0.88288,     0.88388,     0.88488,     0.88589,     0.88689,     0.88789,\n           0.88889,     0.88989,     0.89089,     0.89189,     0.89289,     0.89389,     0.89489,      0.8959,      0.8969,      0.8979,      0.8989,      0.8999,      0.9009,      0.9019,      0.9029,      0.9039,      0.9049,     0.90591,     0.90691,     0.90791,     0.90891,     0.90991,     0.91091,     0.91191,\n           0.91291,     0.91391,     0.91491,     0.91592,     0.91692,     0.91792,     0.91892,     0.91992,     0.92092,     0.92192,     0.92292,     0.92392,     0.92492,     0.92593,     0.92693,     0.92793,     0.92893,     0.92993,     0.93093,     0.93193,     0.93293,     0.93393,     0.93493,     0.93594,\n           0.93694,     0.93794,     0.93894,     0.93994,     0.94094,     0.94194,     0.94294,     0.94394,     0.94494,     0.94595,     0.94695,     0.94795,     0.94895,     0.94995,     0.95095,     0.95195,     0.95295,     0.95395,     0.95495,     0.95596,     0.95696,     0.95796,     0.95896,     0.95996,\n           0.96096,     0.96196,     0.96296,     0.96396,     0.96496,     0.96597,     0.96697,     0.96797,     0.96897,     0.96997,     0.97097,     0.97197,     0.97297,     0.97397,     0.97497,     0.97598,     0.97698,     0.97798,     0.97898,     0.97998,     0.98098,     0.98198,     0.98298,     0.98398,\n           0.98498,     0.98599,     0.98699,     0.98799,     0.98899,     0.98999,     0.99099,     0.99199,     0.99299,     0.99399,     0.99499,       0.996,       0.997,       0.998,       0.999,           1]), array([[    0.10163,     0.10163,     0.14307,     0.17617,      0.2054,     0.21683,     0.23174,     0.24432,     0.25325,     0.26212,     0.27039,     0.27842,     0.28324,     0.28834,     0.29878,     0.31304,     0.31932,     0.32527,     0.33297,     0.33747,     0.33955,     0.34522,     0.34887,\n            0.35268,      0.3551,      0.3573,     0.35996,     0.36424,     0.36551,     0.36688,     0.36831,     0.37234,     0.37688,      0.3814,     0.38233,     0.38327,     0.38632,     0.38766,     0.39184,     0.39622,     0.39762,     0.39821,      0.3988,     0.39938,     0.39997,     0.40199,\n            0.40321,      0.4038,     0.40438,     0.40496,     0.40554,     0.41491,     0.41589,     0.41687,     0.41784,     0.41807,     0.41823,      0.4184,     0.41856,     0.41873,      0.4189,     0.41906,     0.41923,      0.4194,     0.41956,     0.41973,     0.41989,     0.42006,     0.42023,\n            0.42039,     0.42056,     0.42073,     0.42089,     0.42109,      0.4221,     0.42311,     0.42412,     0.42519,     0.42626,     0.42734,     0.43088,     0.43149,      0.4321,     0.43271,     0.43331,     0.43392,     0.43785,     0.43958,     0.44158,      0.4447,     0.44863,      0.4505,\n            0.45548,     0.45605,     0.45662,     0.45719,     0.45776,     0.45833,      0.4589,     0.46188,     0.46498,     0.46242,     0.46854,     0.47236,     0.47436,     0.47486,     0.47535,     0.47585,     0.47634,     0.47684,     0.47734,     0.47783,     0.47883,     0.48252,     0.48295,\n            0.48337,      0.4838,     0.48422,     0.48465,     0.48507,      0.4855,     0.48592,     0.48635,     0.48679,     0.48734,     0.48789,     0.48843,     0.48898,     0.48953,     0.49008,     0.49063,     0.49138,     0.49296,     0.49453,     0.50007,     0.50148,     0.50288,     0.50429,\n            0.50557,     0.50683,     0.50808,     0.50948,     0.51311,     0.51478,     0.51579,      0.5168,     0.51781,     0.51882,     0.51951,     0.52018,     0.52085,     0.52153,      0.5222,     0.52287,     0.52355,     0.52422,     0.52488,     0.52554,     0.52621,     0.52687,     0.52754,\n             0.5282,     0.52891,     0.53093,     0.53296,     0.53435,     0.53508,     0.53582,     0.53656,      0.5373,     0.53804,     0.53877,     0.54265,     0.55047,      0.5512,     0.55193,     0.55267,      0.5534,     0.55413,     0.55486,     0.55557,     0.55582,     0.55608,     0.55633,\n            0.55658,     0.55684,     0.55709,     0.55735,      0.5576,     0.55785,     0.55811,     0.55836,     0.55861,     0.55887,     0.55912,     0.55938,     0.55963,     0.55988,     0.56014,     0.56039,     0.56065,      0.5609,     0.56115,     0.56409,     0.56814,     0.57235,     0.57412,\n            0.57551,      0.5769,      0.5783,     0.58534,     0.58728,     0.58921,     0.59114,     0.59031,     0.58905,     0.58779,     0.58737,      0.5886,     0.58982,     0.59104,     0.59227,      0.5935,     0.59484,     0.59619,     0.59753,     0.59887,     0.60034,     0.60246,     0.60458,\n             0.6067,     0.60759,     0.60845,     0.60932,     0.61018,     0.61104,     0.61191,     0.61277,     0.61363,     0.61442,      0.6152,     0.61599,     0.61677,     0.61756,     0.61835,     0.61913,     0.61992,      0.6207,     0.62111,     0.62153,     0.62195,     0.62237,     0.62278,\n             0.6232,     0.62362,     0.62404,     0.62445,     0.62487,     0.62529,     0.62571,     0.62612,     0.62654,     0.62696,     0.62738,     0.62779,     0.62923,     0.63105,     0.63287,     0.63469,     0.63715,     0.63993,     0.64271,     0.64522,     0.64772,     0.65021,     0.65998,\n            0.66459,     0.66748,     0.66896,     0.67045,     0.67193,     0.67341,     0.67489,     0.67612,     0.67732,     0.67853,     0.67973,     0.68093,     0.68214,     0.68334,     0.68435,     0.68532,     0.68629,     0.68727,     0.68824,     0.68921,     0.69018,     0.69115,     0.69213,\n            0.70046,     0.71345,     0.71678,     0.72002,      0.7206,     0.72117,     0.72175,     0.72233,      0.7229,     0.72348,     0.72406,     0.72463,     0.72521,     0.72579,     0.72636,     0.72694,     0.72752,     0.72809,     0.72867,     0.72925,      0.7303,      0.7338,      0.7373,\n            0.74115,     0.74578,     0.75255,     0.76147,     0.76272,     0.76396,     0.76521,     0.76645,     0.76769,     0.76894,     0.77018,     0.77143,     0.77382,     0.77622,     0.77861,     0.78101,     0.78444,     0.78993,     0.79508,     0.79916,     0.80323,     0.80577,     0.80517,\n            0.80456,     0.80396,     0.80335,     0.80559,     0.81103,     0.81534,     0.81513,     0.81492,     0.81471,      0.8145,     0.81429,     0.81408,     0.81386,     0.81365,     0.81344,     0.81323,     0.81302,     0.81281,      0.8126,     0.81314,     0.81436,     0.81557,     0.81678,\n            0.81799,      0.8192,     0.82042,     0.82163,     0.82284,     0.82405,     0.82527,      0.8353,     0.84428,     0.85231,     0.85228,      0.8521,     0.85192,     0.85174,     0.85156,     0.85138,      0.8512,     0.85101,     0.85083,     0.85065,     0.85047,     0.85029,     0.85011,\n            0.84989,     0.84962,     0.84934,     0.84907,     0.84879,     0.84852,     0.84824,     0.84797,     0.84769,     0.84921,      0.8619,     0.86333,      0.8646,     0.86588,     0.86716,     0.86843,     0.86971,     0.87098,     0.87226,     0.87353,     0.87481,     0.87609,     0.87714,\n            0.87677,      0.8764,     0.87603,     0.87566,     0.87528,     0.87498,     0.87487,     0.87477,     0.87467,     0.87457,     0.87447,     0.87437,     0.87427,     0.87417,     0.87407,     0.87397,     0.87386,     0.87376,     0.87366,     0.87356,     0.87346,     0.87336,     0.87326,\n            0.87316,     0.87306,     0.87296,     0.87285,     0.87275,     0.87101,     0.87238,     0.87375,     0.87512,     0.87648,     0.87785,     0.87922,     0.88059,     0.88196,     0.88332,     0.88469,     0.88606,     0.89884,     0.90307,     0.90211,     0.90132,      0.9031,     0.90487,\n            0.90664,     0.90841,     0.91019,     0.91196,     0.91373,      0.9155,     0.91728,     0.91831,     0.91816,     0.91801,     0.91786,     0.91771,     0.91756,     0.91741,     0.91726,     0.91712,     0.91697,     0.91682,     0.91667,     0.91658,      0.9165,     0.91642,     0.91633,\n            0.91625,     0.91617,     0.91609,       0.916,     0.91592,     0.91584,     0.91575,     0.91567,     0.91559,      0.9155,     0.91542,     0.91534,     0.91525,     0.91517,     0.91509,     0.91501,     0.91492,     0.91464,     0.91424,     0.91385,     0.91346,     0.91307,      0.9122,\n             0.9113,     0.91224,     0.91367,      0.9151,     0.91653,     0.91796,     0.91939,     0.92082,     0.92225,     0.92368,     0.92511,     0.92654,     0.92797,      0.9294,     0.93083,     0.93179,      0.9317,     0.93162,     0.93153,     0.93144,     0.93135,     0.93127,     0.93118,\n            0.93109,       0.931,     0.93092,     0.93083,     0.93074,     0.93066,     0.93057,     0.93048,     0.93039,     0.93031,      0.9302,     0.92998,     0.92975,     0.92953,     0.92931,     0.92909,     0.92887,     0.92864,     0.92852,     0.92844,     0.92836,     0.92829,     0.92821,\n            0.92813,     0.92805,     0.92798,      0.9279,     0.92782,     0.92774,     0.92766,     0.92759,     0.92751,     0.92743,     0.92735,     0.92728,      0.9272,     0.92712,     0.92704,     0.92697,     0.92689,     0.92679,     0.92663,     0.92648,     0.92632,     0.92617,     0.92601,\n            0.92586,      0.9257,     0.92554,     0.92539,     0.92523,     0.92508,     0.92473,      0.9242,     0.92367,     0.92315,     0.92481,     0.92682,     0.92882,     0.93083,     0.93283,     0.93483,     0.93684,     0.93884,     0.94084,     0.94285,     0.94485,     0.94685,     0.97217,\n            0.97193,     0.97169,     0.97145,     0.97131,     0.97117,     0.97103,     0.97089,     0.97075,     0.97061,     0.97047,     0.97033,     0.97019,     0.97005,     0.96991,     0.96977,     0.96968,     0.96964,     0.96959,     0.96955,     0.96951,     0.96947,     0.96943,     0.96938,\n            0.96934,      0.9693,     0.96926,     0.96922,     0.96917,     0.96913,     0.96909,     0.96905,     0.96901,     0.96896,     0.96892,     0.96888,     0.96884,      0.9688,     0.96875,     0.96854,      0.9683,     0.96807,     0.96783,     0.96762,     0.96743,     0.96723,     0.96703,\n            0.96684,     0.96661,     0.96617,     0.96574,      0.9655,     0.96545,     0.96541,     0.96537,     0.96532,     0.96528,     0.96524,      0.9652,     0.96515,     0.96511,     0.96507,     0.96502,     0.96498,     0.96494,     0.96489,     0.96485,     0.96481,     0.96477,     0.96472,\n            0.96468,     0.96464,     0.96459,     0.96455,     0.96451,     0.96446,     0.96442,     0.96438,     0.96433,     0.96429,     0.96939,     0.97537,     0.98135,     0.98732,      0.9933,     0.99928,           1,           1,           1,           1,           1,           1,           1,\n                  1,           1,           1,           1,           1,           1,           1,           1,           1,           1,           1,           1,           1,           1,           1,           1,           1,           1,           1,           1,           1,           1,           1,\n                  1,           1,           1,           1,           1,           1,           1,           1,           1,           1,           1,           1,           1,           1,           1,           1,           1,           1,           1,           1,           1,           1,           1,\n                  1,           1,           1,           1,           1,           1,           1,           1,           1,           1,           1,           1,           1,           1,           1,           1,           1,           1,           1,           1,           1,           1,           1,\n                  1,           1,           1,           1,           1,           1,           1,           1,           1,           1,           1,           1,           1,           1,           1,           1,           1,           1,           1,           1,           1,           1,           1,\n                  1,           1,           1,           1,           1,           1,           1,           1,           1,           1,           1,           1,           1,           1,           1,           1,           1,           1,           1,           1,           1,           1,           1,\n                  1,           1,           1,           1,           1,           1,           1,           1,           1,           1,           1,           1,           1,           1,           1,           1,           1,           1,           1,           1,           1,           1,           1,\n                  1,           1,           1,           1,           1,           1,           1,           1,           1,           1,           1,           1,           1,           1,           1,           1,           1,           1,           1,           1,           1,           1,           1,\n                  1,           1,           1,           1,           1,           1,           1,           1,           1,           1,           1,           1,           1,           1,           1,           1,           1,           1,           1,           1,           1,           1,           1,\n                  1,           1,           1,           1,           1,           1,           1,           1,           1,           1,           1,           1,           1,           1,           1,           1,           1,           1,           1,           1,           1,           1,           1,\n                  1,           1,           1,           1,           1,           1,           1,           1,           1,           1,           1,           1,           1,           1,           1,           1,           1,           1,           1,           1,           1,           1,           1,\n                  1,           1,           1,           1,           1,           1,           1,           1,           1,           1,           1,           1,           1,           1,           1,           1,           1,           1,           1,           1,           1,           1,           1,\n                  1,           1,           1,           1,           1,           1,           1,           1,           1,           1,           1,           1,           1,           1,           1,           1,           1,           1,           1,           1,           1,           1,           1,\n                  1,           1,           1,           1,           1,           1,           1,           1,           1,           1,           1,           1,           1,           1,           1,           1,           1,           1,           1,           1,           1,           1,           1,\n                  1,           1,           1,           1,           1,           1,           1,           1,           1,           1,           1]]), 'Confidence', 'Precision'], [array([          0,    0.001001,    0.002002,    0.003003,    0.004004,    0.005005,    0.006006,    0.007007,    0.008008,    0.009009,     0.01001,    0.011011,    0.012012,    0.013013,    0.014014,    0.015015,    0.016016,    0.017017,    0.018018,    0.019019,     0.02002,    0.021021,    0.022022,    0.023023,\n          0.024024,    0.025025,    0.026026,    0.027027,    0.028028,    0.029029,     0.03003,    0.031031,    0.032032,    0.033033,    0.034034,    0.035035,    0.036036,    0.037037,    0.038038,    0.039039,     0.04004,    0.041041,    0.042042,    0.043043,    0.044044,    0.045045,    0.046046,    0.047047,\n          0.048048,    0.049049,     0.05005,    0.051051,    0.052052,    0.053053,    0.054054,    0.055055,    0.056056,    0.057057,    0.058058,    0.059059,     0.06006,    0.061061,    0.062062,    0.063063,    0.064064,    0.065065,    0.066066,    0.067067,    0.068068,    0.069069,     0.07007,    0.071071,\n          0.072072,    0.073073,    0.074074,    0.075075,    0.076076,    0.077077,    0.078078,    0.079079,     0.08008,    0.081081,    0.082082,    0.083083,    0.084084,    0.085085,    0.086086,    0.087087,    0.088088,    0.089089,     0.09009,    0.091091,    0.092092,    0.093093,    0.094094,    0.095095,\n          0.096096,    0.097097,    0.098098,    0.099099,      0.1001,      0.1011,      0.1021,      0.1031,      0.1041,     0.10511,     0.10611,     0.10711,     0.10811,     0.10911,     0.11011,     0.11111,     0.11211,     0.11311,     0.11411,     0.11512,     0.11612,     0.11712,     0.11812,     0.11912,\n           0.12012,     0.12112,     0.12212,     0.12312,     0.12412,     0.12513,     0.12613,     0.12713,     0.12813,     0.12913,     0.13013,     0.13113,     0.13213,     0.13313,     0.13413,     0.13514,     0.13614,     0.13714,     0.13814,     0.13914,     0.14014,     0.14114,     0.14214,     0.14314,\n           0.14414,     0.14515,     0.14615,     0.14715,     0.14815,     0.14915,     0.15015,     0.15115,     0.15215,     0.15315,     0.15415,     0.15516,     0.15616,     0.15716,     0.15816,     0.15916,     0.16016,     0.16116,     0.16216,     0.16316,     0.16416,     0.16517,     0.16617,     0.16717,\n           0.16817,     0.16917,     0.17017,     0.17117,     0.17217,     0.17317,     0.17417,     0.17518,     0.17618,     0.17718,     0.17818,     0.17918,     0.18018,     0.18118,     0.18218,     0.18318,     0.18418,     0.18519,     0.18619,     0.18719,     0.18819,     0.18919,     0.19019,     0.19119,\n           0.19219,     0.19319,     0.19419,      0.1952,      0.1962,      0.1972,      0.1982,      0.1992,      0.2002,      0.2012,      0.2022,      0.2032,      0.2042,     0.20521,     0.20621,     0.20721,     0.20821,     0.20921,     0.21021,     0.21121,     0.21221,     0.21321,     0.21421,     0.21522,\n           0.21622,     0.21722,     0.21822,     0.21922,     0.22022,     0.22122,     0.22222,     0.22322,     0.22422,     0.22523,     0.22623,     0.22723,     0.22823,     0.22923,     0.23023,     0.23123,     0.23223,     0.23323,     0.23423,     0.23524,     0.23624,     0.23724,     0.23824,     0.23924,\n           0.24024,     0.24124,     0.24224,     0.24324,     0.24424,     0.24525,     0.24625,     0.24725,     0.24825,     0.24925,     0.25025,     0.25125,     0.25225,     0.25325,     0.25425,     0.25526,     0.25626,     0.25726,     0.25826,     0.25926,     0.26026,     0.26126,     0.26226,     0.26326,\n           0.26426,     0.26527,     0.26627,     0.26727,     0.26827,     0.26927,     0.27027,     0.27127,     0.27227,     0.27327,     0.27427,     0.27528,     0.27628,     0.27728,     0.27828,     0.27928,     0.28028,     0.28128,     0.28228,     0.28328,     0.28428,     0.28529,     0.28629,     0.28729,\n           0.28829,     0.28929,     0.29029,     0.29129,     0.29229,     0.29329,     0.29429,      0.2953,      0.2963,      0.2973,      0.2983,      0.2993,      0.3003,      0.3013,      0.3023,      0.3033,      0.3043,     0.30531,     0.30631,     0.30731,     0.30831,     0.30931,     0.31031,     0.31131,\n           0.31231,     0.31331,     0.31431,     0.31532,     0.31632,     0.31732,     0.31832,     0.31932,     0.32032,     0.32132,     0.32232,     0.32332,     0.32432,     0.32533,     0.32633,     0.32733,     0.32833,     0.32933,     0.33033,     0.33133,     0.33233,     0.33333,     0.33433,     0.33534,\n           0.33634,     0.33734,     0.33834,     0.33934,     0.34034,     0.34134,     0.34234,     0.34334,     0.34434,     0.34535,     0.34635,     0.34735,     0.34835,     0.34935,     0.35035,     0.35135,     0.35235,     0.35335,     0.35435,     0.35536,     0.35636,     0.35736,     0.35836,     0.35936,\n           0.36036,     0.36136,     0.36236,     0.36336,     0.36436,     0.36537,     0.36637,     0.36737,     0.36837,     0.36937,     0.37037,     0.37137,     0.37237,     0.37337,     0.37437,     0.37538,     0.37638,     0.37738,     0.37838,     0.37938,     0.38038,     0.38138,     0.38238,     0.38338,\n           0.38438,     0.38539,     0.38639,     0.38739,     0.38839,     0.38939,     0.39039,     0.39139,     0.39239,     0.39339,     0.39439,      0.3954,      0.3964,      0.3974,      0.3984,      0.3994,      0.4004,      0.4014,      0.4024,      0.4034,      0.4044,     0.40541,     0.40641,     0.40741,\n           0.40841,     0.40941,     0.41041,     0.41141,     0.41241,     0.41341,     0.41441,     0.41542,     0.41642,     0.41742,     0.41842,     0.41942,     0.42042,     0.42142,     0.42242,     0.42342,     0.42442,     0.42543,     0.42643,     0.42743,     0.42843,     0.42943,     0.43043,     0.43143,\n           0.43243,     0.43343,     0.43443,     0.43544,     0.43644,     0.43744,     0.43844,     0.43944,     0.44044,     0.44144,     0.44244,     0.44344,     0.44444,     0.44545,     0.44645,     0.44745,     0.44845,     0.44945,     0.45045,     0.45145,     0.45245,     0.45345,     0.45445,     0.45546,\n           0.45646,     0.45746,     0.45846,     0.45946,     0.46046,     0.46146,     0.46246,     0.46346,     0.46446,     0.46547,     0.46647,     0.46747,     0.46847,     0.46947,     0.47047,     0.47147,     0.47247,     0.47347,     0.47447,     0.47548,     0.47648,     0.47748,     0.47848,     0.47948,\n           0.48048,     0.48148,     0.48248,     0.48348,     0.48448,     0.48549,     0.48649,     0.48749,     0.48849,     0.48949,     0.49049,     0.49149,     0.49249,     0.49349,     0.49449,      0.4955,      0.4965,      0.4975,      0.4985,      0.4995,      0.5005,      0.5015,      0.5025,      0.5035,\n            0.5045,     0.50551,     0.50651,     0.50751,     0.50851,     0.50951,     0.51051,     0.51151,     0.51251,     0.51351,     0.51451,     0.51552,     0.51652,     0.51752,     0.51852,     0.51952,     0.52052,     0.52152,     0.52252,     0.52352,     0.52452,     0.52553,     0.52653,     0.52753,\n           0.52853,     0.52953,     0.53053,     0.53153,     0.53253,     0.53353,     0.53453,     0.53554,     0.53654,     0.53754,     0.53854,     0.53954,     0.54054,     0.54154,     0.54254,     0.54354,     0.54454,     0.54555,     0.54655,     0.54755,     0.54855,     0.54955,     0.55055,     0.55155,\n           0.55255,     0.55355,     0.55455,     0.55556,     0.55656,     0.55756,     0.55856,     0.55956,     0.56056,     0.56156,     0.56256,     0.56356,     0.56456,     0.56557,     0.56657,     0.56757,     0.56857,     0.56957,     0.57057,     0.57157,     0.57257,     0.57357,     0.57457,     0.57558,\n           0.57658,     0.57758,     0.57858,     0.57958,     0.58058,     0.58158,     0.58258,     0.58358,     0.58458,     0.58559,     0.58659,     0.58759,     0.58859,     0.58959,     0.59059,     0.59159,     0.59259,     0.59359,     0.59459,      0.5956,      0.5966,      0.5976,      0.5986,      0.5996,\n            0.6006,      0.6016,      0.6026,      0.6036,      0.6046,     0.60561,     0.60661,     0.60761,     0.60861,     0.60961,     0.61061,     0.61161,     0.61261,     0.61361,     0.61461,     0.61562,     0.61662,     0.61762,     0.61862,     0.61962,     0.62062,     0.62162,     0.62262,     0.62362,\n           0.62462,     0.62563,     0.62663,     0.62763,     0.62863,     0.62963,     0.63063,     0.63163,     0.63263,     0.63363,     0.63463,     0.63564,     0.63664,     0.63764,     0.63864,     0.63964,     0.64064,     0.64164,     0.64264,     0.64364,     0.64464,     0.64565,     0.64665,     0.64765,\n           0.64865,     0.64965,     0.65065,     0.65165,     0.65265,     0.65365,     0.65465,     0.65566,     0.65666,     0.65766,     0.65866,     0.65966,     0.66066,     0.66166,     0.66266,     0.66366,     0.66466,     0.66567,     0.66667,     0.66767,     0.66867,     0.66967,     0.67067,     0.67167,\n           0.67267,     0.67367,     0.67467,     0.67568,     0.67668,     0.67768,     0.67868,     0.67968,     0.68068,     0.68168,     0.68268,     0.68368,     0.68468,     0.68569,     0.68669,     0.68769,     0.68869,     0.68969,     0.69069,     0.69169,     0.69269,     0.69369,     0.69469,      0.6957,\n            0.6967,      0.6977,      0.6987,      0.6997,      0.7007,      0.7017,      0.7027,      0.7037,      0.7047,     0.70571,     0.70671,     0.70771,     0.70871,     0.70971,     0.71071,     0.71171,     0.71271,     0.71371,     0.71471,     0.71572,     0.71672,     0.71772,     0.71872,     0.71972,\n           0.72072,     0.72172,     0.72272,     0.72372,     0.72472,     0.72573,     0.72673,     0.72773,     0.72873,     0.72973,     0.73073,     0.73173,     0.73273,     0.73373,     0.73473,     0.73574,     0.73674,     0.73774,     0.73874,     0.73974,     0.74074,     0.74174,     0.74274,     0.74374,\n           0.74474,     0.74575,     0.74675,     0.74775,     0.74875,     0.74975,     0.75075,     0.75175,     0.75275,     0.75375,     0.75475,     0.75576,     0.75676,     0.75776,     0.75876,     0.75976,     0.76076,     0.76176,     0.76276,     0.76376,     0.76476,     0.76577,     0.76677,     0.76777,\n           0.76877,     0.76977,     0.77077,     0.77177,     0.77277,     0.77377,     0.77477,     0.77578,     0.77678,     0.77778,     0.77878,     0.77978,     0.78078,     0.78178,     0.78278,     0.78378,     0.78478,     0.78579,     0.78679,     0.78779,     0.78879,     0.78979,     0.79079,     0.79179,\n           0.79279,     0.79379,     0.79479,      0.7958,      0.7968,      0.7978,      0.7988,      0.7998,      0.8008,      0.8018,      0.8028,      0.8038,      0.8048,     0.80581,     0.80681,     0.80781,     0.80881,     0.80981,     0.81081,     0.81181,     0.81281,     0.81381,     0.81481,     0.81582,\n           0.81682,     0.81782,     0.81882,     0.81982,     0.82082,     0.82182,     0.82282,     0.82382,     0.82482,     0.82583,     0.82683,     0.82783,     0.82883,     0.82983,     0.83083,     0.83183,     0.83283,     0.83383,     0.83483,     0.83584,     0.83684,     0.83784,     0.83884,     0.83984,\n           0.84084,     0.84184,     0.84284,     0.84384,     0.84484,     0.84585,     0.84685,     0.84785,     0.84885,     0.84985,     0.85085,     0.85185,     0.85285,     0.85385,     0.85485,     0.85586,     0.85686,     0.85786,     0.85886,     0.85986,     0.86086,     0.86186,     0.86286,     0.86386,\n           0.86486,     0.86587,     0.86687,     0.86787,     0.86887,     0.86987,     0.87087,     0.87187,     0.87287,     0.87387,     0.87487,     0.87588,     0.87688,     0.87788,     0.87888,     0.87988,     0.88088,     0.88188,     0.88288,     0.88388,     0.88488,     0.88589,     0.88689,     0.88789,\n           0.88889,     0.88989,     0.89089,     0.89189,     0.89289,     0.89389,     0.89489,      0.8959,      0.8969,      0.8979,      0.8989,      0.8999,      0.9009,      0.9019,      0.9029,      0.9039,      0.9049,     0.90591,     0.90691,     0.90791,     0.90891,     0.90991,     0.91091,     0.91191,\n           0.91291,     0.91391,     0.91491,     0.91592,     0.91692,     0.91792,     0.91892,     0.91992,     0.92092,     0.92192,     0.92292,     0.92392,     0.92492,     0.92593,     0.92693,     0.92793,     0.92893,     0.92993,     0.93093,     0.93193,     0.93293,     0.93393,     0.93493,     0.93594,\n           0.93694,     0.93794,     0.93894,     0.93994,     0.94094,     0.94194,     0.94294,     0.94394,     0.94494,     0.94595,     0.94695,     0.94795,     0.94895,     0.94995,     0.95095,     0.95195,     0.95295,     0.95395,     0.95495,     0.95596,     0.95696,     0.95796,     0.95896,     0.95996,\n           0.96096,     0.96196,     0.96296,     0.96396,     0.96496,     0.96597,     0.96697,     0.96797,     0.96897,     0.96997,     0.97097,     0.97197,     0.97297,     0.97397,     0.97497,     0.97598,     0.97698,     0.97798,     0.97898,     0.97998,     0.98098,     0.98198,     0.98298,     0.98398,\n           0.98498,     0.98599,     0.98699,     0.98799,     0.98899,     0.98999,     0.99099,     0.99199,     0.99299,     0.99399,     0.99499,       0.996,       0.997,       0.998,       0.999,           1]), array([[          1,           1,           1,           1,           1,           1,           1,           1,           1,           1,           1,           1,           1,           1,           1,           1,           1,           1,           1,           1,           1,           1,           1,\n                  1,           1,           1,           1,           1,           1,           1,           1,           1,           1,           1,           1,           1,           1,           1,           1,           1,           1,           1,           1,           1,           1,           1,\n                  1,           1,           1,           1,           1,           1,           1,           1,           1,           1,           1,           1,           1,           1,           1,           1,           1,           1,           1,           1,           1,           1,           1,\n                  1,           1,           1,           1,           1,           1,           1,           1,           1,           1,           1,           1,           1,           1,           1,           1,           1,           1,           1,           1,           1,           1,           1,\n                  1,           1,           1,           1,           1,           1,           1,           1,     0.99326,      0.9831,     0.98214,     0.98214,     0.98214,     0.98214,     0.98214,     0.98214,     0.98214,     0.98214,     0.98214,     0.98214,     0.98214,     0.98214,     0.98214,\n            0.98214,     0.98214,     0.98214,     0.98214,     0.98214,     0.98214,     0.98214,     0.98214,     0.98214,     0.98214,     0.98214,     0.98214,     0.98214,     0.98214,     0.98214,     0.98214,     0.98214,     0.98214,     0.98214,     0.98214,     0.98214,     0.98214,     0.98214,\n            0.98214,     0.98214,     0.98214,     0.98214,     0.98214,     0.98214,     0.98214,     0.98214,     0.98214,     0.98214,     0.98214,     0.98214,     0.98214,     0.98214,     0.98214,     0.98214,     0.98214,     0.98214,     0.98214,     0.98214,     0.98214,     0.98214,     0.98214,\n            0.98214,     0.98214,     0.98214,     0.98214,     0.98214,     0.98214,     0.98214,     0.98214,     0.98214,     0.98214,     0.98214,     0.98214,     0.98214,     0.98214,     0.98214,     0.98214,     0.98214,     0.98214,     0.98214,     0.98214,     0.98214,     0.98214,     0.98214,\n            0.98214,     0.98214,     0.98214,     0.98214,     0.98214,     0.98214,     0.98214,     0.98214,     0.98214,     0.98214,     0.98214,     0.98214,     0.98214,     0.98214,     0.98214,     0.98214,     0.98214,     0.98214,     0.98214,     0.98214,     0.98214,     0.98214,     0.98214,\n            0.98214,     0.98214,     0.98214,     0.98214,     0.98214,     0.98214,     0.98214,     0.97776,     0.97269,     0.96763,     0.96429,     0.96429,     0.96429,     0.96429,     0.96429,     0.96429,     0.96429,     0.96429,     0.96429,     0.96429,     0.96429,     0.96429,     0.96429,\n            0.96429,     0.96429,     0.96429,     0.96429,     0.96429,     0.96429,     0.96429,     0.96429,     0.96429,     0.96429,     0.96429,     0.96429,     0.96429,     0.96429,     0.96429,     0.96429,     0.96429,     0.96429,     0.96429,     0.96429,     0.96429,     0.96429,     0.96429,\n            0.96429,     0.96429,     0.96429,     0.96429,     0.96429,     0.96429,     0.96429,     0.96429,     0.96429,     0.96429,     0.96429,     0.96429,     0.96429,     0.96429,     0.96429,     0.96429,     0.96429,     0.96429,     0.96429,     0.96429,     0.96429,     0.96429,     0.96429,\n            0.96429,     0.96429,     0.96429,     0.96429,     0.96429,     0.96429,     0.96429,     0.96429,     0.96429,     0.96429,     0.96429,     0.96429,     0.96429,     0.96429,     0.96429,     0.96429,     0.96429,     0.96429,     0.96429,     0.96429,     0.96429,     0.96429,     0.96429,\n            0.96429,     0.96429,     0.96429,     0.96429,     0.96429,     0.96429,     0.96429,     0.96429,     0.96429,     0.96429,     0.96429,     0.96429,     0.96429,     0.96429,     0.96429,     0.96429,     0.96429,     0.96429,     0.96429,     0.96429,     0.96429,     0.96429,     0.96429,\n            0.96429,     0.96429,     0.96429,     0.96429,     0.96429,     0.96429,     0.96429,     0.96429,     0.96429,     0.96429,     0.96429,     0.96429,     0.96429,     0.96429,     0.96429,     0.96429,     0.96429,     0.96429,     0.96429,     0.96429,     0.96429,     0.96308,     0.95941,\n            0.95573,     0.95205,     0.94838,     0.94643,     0.94643,     0.94617,     0.94486,     0.94355,     0.94225,     0.94094,     0.93963,     0.93833,     0.93702,     0.93572,     0.93441,      0.9331,      0.9318,     0.93049,     0.92918,     0.92857,     0.92857,     0.92857,     0.92857,\n            0.92857,     0.92857,     0.92857,     0.92857,     0.92857,     0.92857,     0.92857,     0.92857,     0.92857,     0.92857,     0.92728,     0.92597,     0.92465,     0.92334,     0.92203,     0.92071,      0.9194,     0.91808,     0.91677,     0.91546,     0.91414,     0.91283,     0.91151,\n            0.90996,     0.90803,      0.9061,     0.90417,     0.90224,     0.90031,     0.89838,     0.89645,     0.89452,     0.89286,     0.89286,     0.89286,     0.89286,     0.89286,     0.89286,     0.89286,     0.89286,     0.89286,     0.89286,     0.89286,     0.89286,     0.89286,     0.89246,\n            0.88943,      0.8864,     0.88337,     0.88034,      0.8773,     0.87481,     0.87402,     0.87322,     0.87243,     0.87164,     0.87084,     0.87005,     0.86925,     0.86846,     0.86767,     0.86687,     0.86608,     0.86529,     0.86449,      0.8637,      0.8629,     0.86211,     0.86132,\n            0.86052,     0.85973,     0.85894,     0.85814,     0.85735,     0.83929,     0.83929,     0.83929,     0.83929,     0.83929,     0.83929,     0.83929,     0.83929,     0.83929,     0.83929,     0.83929,     0.83929,     0.83929,     0.83196,     0.82289,     0.80357,     0.80357,     0.80357,\n            0.80357,     0.80357,     0.80357,     0.80357,     0.80357,     0.80357,     0.80357,     0.80297,      0.8014,     0.79983,     0.79827,      0.7967,     0.79513,     0.79356,     0.79199,     0.79043,     0.78886,     0.78729,     0.78572,     0.78488,     0.78404,     0.78321,     0.78237,\n            0.78153,      0.7807,     0.77986,     0.77902,     0.77819,     0.77735,     0.77651,     0.77568,     0.77484,       0.774,     0.77316,     0.77233,     0.77149,     0.77065,     0.76982,     0.76898,     0.76814,     0.76537,     0.76159,      0.7578,     0.75402,     0.75024,      0.7422,\n            0.73387,     0.73214,     0.73214,     0.73214,     0.73214,     0.73214,     0.73214,     0.73214,     0.73214,     0.73214,     0.73214,     0.73214,     0.73214,     0.73214,     0.73214,     0.73184,     0.73085,     0.72987,     0.72889,      0.7279,     0.72692,     0.72594,     0.72495,\n            0.72397,     0.72298,       0.722,     0.72102,     0.72003,     0.71905,     0.71807,     0.71708,      0.7161,     0.71512,     0.71391,     0.71153,     0.70914,     0.70675,     0.70436,     0.70197,     0.69959,      0.6972,     0.69589,     0.69509,      0.6943,      0.6935,      0.6927,\n            0.69191,     0.69111,     0.69032,     0.68952,     0.68872,     0.68793,     0.68713,     0.68634,     0.68554,     0.68474,     0.68395,     0.68315,     0.68236,     0.68156,     0.68076,     0.67997,     0.67917,      0.6782,     0.67667,     0.67515,     0.67363,     0.67211,     0.67058,\n            0.66906,     0.66754,     0.66602,     0.66449,     0.66297,     0.66145,     0.65818,     0.65329,      0.6484,     0.64351,     0.64286,     0.64286,     0.64286,     0.64286,     0.64286,     0.64286,     0.64286,     0.64286,     0.64286,     0.64286,     0.64286,     0.64286,     0.62384,\n            0.61847,      0.6131,     0.60773,     0.60452,     0.60157,     0.59863,     0.59568,     0.59273,     0.58979,     0.58695,     0.58415,     0.58134,     0.57853,     0.57572,     0.57291,     0.57105,     0.57026,     0.56947,     0.56868,     0.56789,      0.5671,      0.5663,     0.56551,\n            0.56472,     0.56393,     0.56314,     0.56235,     0.56155,     0.56076,     0.55997,     0.55918,     0.55839,     0.55759,      0.5568,     0.55601,     0.55522,     0.55443,     0.55364,     0.54977,     0.54563,      0.5415,     0.53736,     0.53375,     0.53048,     0.52722,     0.52396,\n             0.5207,     0.51698,     0.51021,     0.50344,     0.49969,     0.49907,     0.49845,     0.49782,      0.4972,     0.49658,     0.49595,     0.49533,      0.4947,     0.49408,     0.49346,     0.49283,     0.49221,     0.49159,     0.49096,     0.49034,     0.48972,     0.48909,     0.48847,\n            0.48785,     0.48722,      0.4866,     0.48597,     0.48535,     0.48473,      0.4841,     0.48348,     0.48286,     0.48223,     0.48214,     0.48214,     0.48214,     0.48214,     0.48214,     0.48214,     0.46793,     0.46329,       0.462,     0.46071,     0.45942,     0.45814,     0.45685,\n            0.45556,     0.45427,     0.45298,      0.4517,     0.45041,     0.44912,     0.44783,     0.44654,     0.44404,     0.44143,     0.43881,      0.4362,     0.43358,     0.43096,     0.42847,     0.42726,     0.42604,     0.42483,     0.42362,     0.42241,      0.4212,     0.41999,     0.41878,\n            0.41757,     0.41636,     0.41515,     0.41393,     0.41272,     0.41151,     0.39559,     0.39122,     0.38948,     0.38773,     0.38599,     0.38425,      0.3825,     0.38076,     0.37901,     0.37727,     0.37553,     0.37392,     0.37237,     0.37083,     0.36928,     0.36773,     0.36619,\n            0.36464,     0.36309,     0.36155,        0.36,     0.35845,     0.35703,     0.35629,     0.35555,     0.35481,     0.35407,     0.35332,     0.35258,     0.35184,      0.3511,     0.35036,     0.34962,     0.34888,     0.34814,      0.3474,     0.34666,     0.34591,     0.34517,     0.34443,\n            0.34369,     0.34295,     0.34221,     0.34147,     0.34073,     0.33999,     0.33868,     0.32796,     0.31833,      0.3104,     0.30247,     0.29453,     0.28659,     0.28357,     0.28117,     0.27876,     0.27635,     0.27394,     0.27154,     0.26913,     0.26735,     0.26627,     0.26518,\n             0.2641,     0.26302,     0.26194,     0.26086,     0.25978,      0.2587,     0.25761,     0.25653,     0.25545,     0.25437,     0.25329,     0.25221,     0.25113,     0.25004,     0.24816,     0.24623,     0.24431,     0.24238,     0.24046,     0.23853,     0.23661,     0.23469,     0.23276,\n            0.22957,     0.22579,     0.22201,     0.21822,     0.21444,     0.21187,     0.20934,     0.20682,      0.2043,     0.20178,     0.19926,     0.19674,     0.19364,     0.19045,     0.18727,     0.18408,      0.1809,     0.17604,     0.16664,     0.15451,     0.14148,     0.13695,     0.13242,\n            0.12789,     0.12275,     0.11653,     0.11031,       0.104,     0.09759,    0.091181,    0.088116,    0.086454,    0.084793,    0.083131,     0.08147,    0.079808,    0.078147,    0.076485,    0.074823,    0.073162,      0.0715,    0.069941,    0.068385,     0.06683,    0.065275,     0.06372,\n           0.062164,    0.060609,    0.059054,    0.057499,    0.055943,    0.054388,     0.05101,    0.045614,    0.040219,    0.035131,    0.031596,    0.028062,    0.024528,    0.020993,           0,           0,           0,           0,           0,           0,           0,           0,           0,\n                  0,           0,           0,           0,           0,           0,           0,           0,           0,           0,           0,           0,           0,           0,           0,           0,           0,           0,           0,           0,           0,           0,           0,\n                  0,           0,           0,           0,           0,           0,           0,           0,           0,           0,           0,           0,           0,           0,           0,           0,           0,           0,           0,           0,           0,           0,           0,\n                  0,           0,           0,           0,           0,           0,           0,           0,           0,           0,           0,           0,           0,           0,           0,           0,           0,           0,           0,           0,           0,           0,           0,\n                  0,           0,           0,           0,           0,           0,           0,           0,           0,           0,           0,           0,           0,           0,           0,           0,           0,           0,           0,           0,           0,           0,           0,\n                  0,           0,           0,           0,           0,           0,           0,           0,           0,           0,           0,           0,           0,           0,           0,           0,           0,           0,           0,           0,           0,           0,           0,\n                  0,           0,           0,           0,           0,           0,           0,           0,           0,           0,           0]]), 'Confidence', 'Recall']]\nfitness: 0.6147461614701937\nkeys: ['metrics/precision(B)', 'metrics/recall(B)', 'metrics/mAP50(B)', 'metrics/mAP50-95(B)']\nmaps: array([    0.57833])\nnames: {0: 'smoke'}\nplot: True\nresults_dict: {'metrics/precision(B)': 0.8502909381657392, 'metrics/recall(B)': 0.9128270509654868, 'metrics/mAP50(B)': 0.9424502831847518, 'metrics/mAP50-95(B)': 0.5783345923907983, 'fitness': 0.6147461614701937}\nsave_dir: PosixPath('/Users/baiturtashbaev/Documents/Байтур/Projects/Course Arbeit/INAI_MedFire/runs/detect/train')\nspeed: {'preprocess': 2.6638550417763844, 'inference': 158.18185891423906, 'loss': 3.405979701450893e-05, 'postprocess': 0.8453386170523507}\ntask: 'detect'"
     },
     "execution_count": 4,
     "metadata": {},
     "output_type": "execute_result"
    }
   ],
   "source": [
    "model = YOLO('yolov5s.pt')\n",
    "\n",
    "model.train(data='datasets/Wildfire-Smoke/data.yaml', epochs=15, imgsz=640)"
   ],
   "metadata": {
    "collapsed": false,
    "ExecuteTime": {
     "end_time": "2024-12-08T04:29:59.147176Z",
     "start_time": "2024-12-07T19:48:36.429872Z"
    }
   },
   "id": "1664bb70a08988b4"
  },
  {
   "cell_type": "code",
   "execution_count": 5,
   "outputs": [
    {
     "data": {
      "text/plain": "<Figure size 1000x600 with 3 Axes>"
     },
     "metadata": {},
     "output_type": "display_data"
    }
   ],
   "source": [
    "\n",
    "import matplotlib.pyplot as plt\n",
    "\n",
    "file_path = \"runs/detect/train2/results.csv\"\n",
    "data = pd.read_csv(file_path)\n",
    "\n",
    "epochs = data['epoch']\n",
    "precision = data['metrics/precision(B)']\n",
    "recall = data['metrics/recall(B)']\n",
    "map50 = data['metrics/mAP50(B)']\n",
    "map50_95 = data['metrics/mAP50-95(B)']\n",
    "box_loss = data['train/box_loss']\n",
    "cls_loss = data['train/cls_loss']\n",
    "dfl_loss = data['train/dfl_loss']\n",
    "\n",
    "plt.figure(figsize=(10, 6))\n",
    "\n",
    "plt.subplot(2, 2, 1)\n",
    "plt.plot(epochs, precision, label='Precision', marker='o')\n",
    "plt.plot(epochs, recall, label='Recall', marker='o')\n",
    "plt.title('Precision & Recall')\n",
    "plt.xlabel('Epoch')\n",
    "plt.ylabel('Score')\n",
    "plt.legend()\n",
    "plt.grid()\n",
    "\n",
    "plt.subplot(2, 2, 2)\n",
    "plt.plot(epochs, map50, label='mAP50', marker='o')\n",
    "plt.plot(epochs, map50_95, label='mAP50-95', marker='o')\n",
    "plt.title('mAP Metrics')\n",
    "plt.xlabel('Epoch')\n",
    "plt.ylabel('Score')\n",
    "plt.legend()\n",
    "plt.grid()\n",
    "\n",
    "plt.subplot(2, 2, 3)\n",
    "plt.plot(epochs, box_loss, label='Box Loss', marker='o')\n",
    "plt.plot(epochs, cls_loss, label='Class Loss', marker='o')\n",
    "plt.plot(epochs, dfl_loss, label='DFL Loss', marker='o')\n",
    "plt.title('Loss Dynamics')\n",
    "plt.xlabel('Epoch')\n",
    "plt.ylabel('Loss')\n",
    "plt.legend()\n",
    "plt.grid()\n",
    "\n",
    "plt.tight_layout()\n",
    "plt.show()"
   ],
   "metadata": {
    "collapsed": false,
    "ExecuteTime": {
     "end_time": "2024-12-08T04:30:16.293330Z",
     "start_time": "2024-12-08T04:30:16.111984Z"
    }
   },
   "id": "a2dbfda4032fc01a"
  },
  {
   "cell_type": "code",
   "execution_count": 8,
   "outputs": [
    {
     "name": "stdout",
     "output_type": "stream",
     "text": [
      "Ultralytics 8.3.39 🚀 Python-3.11.2 torch-2.2.2 CPU (Intel Core(TM) i5-8257U 1.40GHz)\n",
      "YOLOv5s summary (fused): 193 layers, 9,111,923 parameters, 0 gradients, 23.8 GFLOPs\n"
     ]
    },
    {
     "name": "stderr",
     "output_type": "stream",
     "text": [
      "\u001B[34m\u001B[1mval: \u001B[0mScanning /Users/baiturtashbaev/Documents/Байтур/Projects/Course Arbeit/INAI_MedFire/datasets/Wildfire-Smoke/test... 39 images, 0 backgrounds, 0 corrupt: 100%|██████████| 39/39 [00:00<00:00, 1471.42it/s]"
     ]
    },
    {
     "name": "stdout",
     "output_type": "stream",
     "text": [
      "\u001B[34m\u001B[1mval: \u001B[0mNew cache created: /Users/baiturtashbaev/Documents/Байтур/Projects/Course Arbeit/INAI_MedFire/datasets/Wildfire-Smoke/test.cache\n"
     ]
    },
    {
     "name": "stderr",
     "output_type": "stream",
     "text": [
      "\n",
      "                 Class     Images  Instances      Box(P          R      mAP50  mAP50-95): 100%|██████████| 3/3 [00:07<00:00,  2.35s/it]\n"
     ]
    },
    {
     "name": "stdout",
     "output_type": "stream",
     "text": [
      "                   all         39         39       0.86      0.744      0.861      0.527\n",
      "Speed: 3.0ms preprocess, 169.7ms inference, 0.0ms loss, 1.2ms postprocess per image\n",
      "Results saved to \u001B[1m/Users/baiturtashbaev/Documents/Байтур/Projects/Course Arbeit/INAI_MedFire/runs/detect/val3\u001B[0m\n",
      "ultralytics.utils.metrics.DetMetrics object with attributes:\n",
      "\n",
      "ap_class_index: array([0])\n",
      "box: ultralytics.utils.metrics.Metric object\n",
      "confusion_matrix: <ultralytics.utils.metrics.ConfusionMatrix object at 0x128ce7310>\n",
      "curves: ['Precision-Recall(B)', 'F1-Confidence(B)', 'Precision-Confidence(B)', 'Recall-Confidence(B)']\n",
      "curves_results: [[array([          0,    0.001001,    0.002002,    0.003003,    0.004004,    0.005005,    0.006006,    0.007007,    0.008008,    0.009009,     0.01001,    0.011011,    0.012012,    0.013013,    0.014014,    0.015015,    0.016016,    0.017017,    0.018018,    0.019019,     0.02002,    0.021021,    0.022022,    0.023023,\n",
      "          0.024024,    0.025025,    0.026026,    0.027027,    0.028028,    0.029029,     0.03003,    0.031031,    0.032032,    0.033033,    0.034034,    0.035035,    0.036036,    0.037037,    0.038038,    0.039039,     0.04004,    0.041041,    0.042042,    0.043043,    0.044044,    0.045045,    0.046046,    0.047047,\n",
      "          0.048048,    0.049049,     0.05005,    0.051051,    0.052052,    0.053053,    0.054054,    0.055055,    0.056056,    0.057057,    0.058058,    0.059059,     0.06006,    0.061061,    0.062062,    0.063063,    0.064064,    0.065065,    0.066066,    0.067067,    0.068068,    0.069069,     0.07007,    0.071071,\n",
      "          0.072072,    0.073073,    0.074074,    0.075075,    0.076076,    0.077077,    0.078078,    0.079079,     0.08008,    0.081081,    0.082082,    0.083083,    0.084084,    0.085085,    0.086086,    0.087087,    0.088088,    0.089089,     0.09009,    0.091091,    0.092092,    0.093093,    0.094094,    0.095095,\n",
      "          0.096096,    0.097097,    0.098098,    0.099099,      0.1001,      0.1011,      0.1021,      0.1031,      0.1041,     0.10511,     0.10611,     0.10711,     0.10811,     0.10911,     0.11011,     0.11111,     0.11211,     0.11311,     0.11411,     0.11512,     0.11612,     0.11712,     0.11812,     0.11912,\n",
      "           0.12012,     0.12112,     0.12212,     0.12312,     0.12412,     0.12513,     0.12613,     0.12713,     0.12813,     0.12913,     0.13013,     0.13113,     0.13213,     0.13313,     0.13413,     0.13514,     0.13614,     0.13714,     0.13814,     0.13914,     0.14014,     0.14114,     0.14214,     0.14314,\n",
      "           0.14414,     0.14515,     0.14615,     0.14715,     0.14815,     0.14915,     0.15015,     0.15115,     0.15215,     0.15315,     0.15415,     0.15516,     0.15616,     0.15716,     0.15816,     0.15916,     0.16016,     0.16116,     0.16216,     0.16316,     0.16416,     0.16517,     0.16617,     0.16717,\n",
      "           0.16817,     0.16917,     0.17017,     0.17117,     0.17217,     0.17317,     0.17417,     0.17518,     0.17618,     0.17718,     0.17818,     0.17918,     0.18018,     0.18118,     0.18218,     0.18318,     0.18418,     0.18519,     0.18619,     0.18719,     0.18819,     0.18919,     0.19019,     0.19119,\n",
      "           0.19219,     0.19319,     0.19419,      0.1952,      0.1962,      0.1972,      0.1982,      0.1992,      0.2002,      0.2012,      0.2022,      0.2032,      0.2042,     0.20521,     0.20621,     0.20721,     0.20821,     0.20921,     0.21021,     0.21121,     0.21221,     0.21321,     0.21421,     0.21522,\n",
      "           0.21622,     0.21722,     0.21822,     0.21922,     0.22022,     0.22122,     0.22222,     0.22322,     0.22422,     0.22523,     0.22623,     0.22723,     0.22823,     0.22923,     0.23023,     0.23123,     0.23223,     0.23323,     0.23423,     0.23524,     0.23624,     0.23724,     0.23824,     0.23924,\n",
      "           0.24024,     0.24124,     0.24224,     0.24324,     0.24424,     0.24525,     0.24625,     0.24725,     0.24825,     0.24925,     0.25025,     0.25125,     0.25225,     0.25325,     0.25425,     0.25526,     0.25626,     0.25726,     0.25826,     0.25926,     0.26026,     0.26126,     0.26226,     0.26326,\n",
      "           0.26426,     0.26527,     0.26627,     0.26727,     0.26827,     0.26927,     0.27027,     0.27127,     0.27227,     0.27327,     0.27427,     0.27528,     0.27628,     0.27728,     0.27828,     0.27928,     0.28028,     0.28128,     0.28228,     0.28328,     0.28428,     0.28529,     0.28629,     0.28729,\n",
      "           0.28829,     0.28929,     0.29029,     0.29129,     0.29229,     0.29329,     0.29429,      0.2953,      0.2963,      0.2973,      0.2983,      0.2993,      0.3003,      0.3013,      0.3023,      0.3033,      0.3043,     0.30531,     0.30631,     0.30731,     0.30831,     0.30931,     0.31031,     0.31131,\n",
      "           0.31231,     0.31331,     0.31431,     0.31532,     0.31632,     0.31732,     0.31832,     0.31932,     0.32032,     0.32132,     0.32232,     0.32332,     0.32432,     0.32533,     0.32633,     0.32733,     0.32833,     0.32933,     0.33033,     0.33133,     0.33233,     0.33333,     0.33433,     0.33534,\n",
      "           0.33634,     0.33734,     0.33834,     0.33934,     0.34034,     0.34134,     0.34234,     0.34334,     0.34434,     0.34535,     0.34635,     0.34735,     0.34835,     0.34935,     0.35035,     0.35135,     0.35235,     0.35335,     0.35435,     0.35536,     0.35636,     0.35736,     0.35836,     0.35936,\n",
      "           0.36036,     0.36136,     0.36236,     0.36336,     0.36436,     0.36537,     0.36637,     0.36737,     0.36837,     0.36937,     0.37037,     0.37137,     0.37237,     0.37337,     0.37437,     0.37538,     0.37638,     0.37738,     0.37838,     0.37938,     0.38038,     0.38138,     0.38238,     0.38338,\n",
      "           0.38438,     0.38539,     0.38639,     0.38739,     0.38839,     0.38939,     0.39039,     0.39139,     0.39239,     0.39339,     0.39439,      0.3954,      0.3964,      0.3974,      0.3984,      0.3994,      0.4004,      0.4014,      0.4024,      0.4034,      0.4044,     0.40541,     0.40641,     0.40741,\n",
      "           0.40841,     0.40941,     0.41041,     0.41141,     0.41241,     0.41341,     0.41441,     0.41542,     0.41642,     0.41742,     0.41842,     0.41942,     0.42042,     0.42142,     0.42242,     0.42342,     0.42442,     0.42543,     0.42643,     0.42743,     0.42843,     0.42943,     0.43043,     0.43143,\n",
      "           0.43243,     0.43343,     0.43443,     0.43544,     0.43644,     0.43744,     0.43844,     0.43944,     0.44044,     0.44144,     0.44244,     0.44344,     0.44444,     0.44545,     0.44645,     0.44745,     0.44845,     0.44945,     0.45045,     0.45145,     0.45245,     0.45345,     0.45445,     0.45546,\n",
      "           0.45646,     0.45746,     0.45846,     0.45946,     0.46046,     0.46146,     0.46246,     0.46346,     0.46446,     0.46547,     0.46647,     0.46747,     0.46847,     0.46947,     0.47047,     0.47147,     0.47247,     0.47347,     0.47447,     0.47548,     0.47648,     0.47748,     0.47848,     0.47948,\n",
      "           0.48048,     0.48148,     0.48248,     0.48348,     0.48448,     0.48549,     0.48649,     0.48749,     0.48849,     0.48949,     0.49049,     0.49149,     0.49249,     0.49349,     0.49449,      0.4955,      0.4965,      0.4975,      0.4985,      0.4995,      0.5005,      0.5015,      0.5025,      0.5035,\n",
      "            0.5045,     0.50551,     0.50651,     0.50751,     0.50851,     0.50951,     0.51051,     0.51151,     0.51251,     0.51351,     0.51451,     0.51552,     0.51652,     0.51752,     0.51852,     0.51952,     0.52052,     0.52152,     0.52252,     0.52352,     0.52452,     0.52553,     0.52653,     0.52753,\n",
      "           0.52853,     0.52953,     0.53053,     0.53153,     0.53253,     0.53353,     0.53453,     0.53554,     0.53654,     0.53754,     0.53854,     0.53954,     0.54054,     0.54154,     0.54254,     0.54354,     0.54454,     0.54555,     0.54655,     0.54755,     0.54855,     0.54955,     0.55055,     0.55155,\n",
      "           0.55255,     0.55355,     0.55455,     0.55556,     0.55656,     0.55756,     0.55856,     0.55956,     0.56056,     0.56156,     0.56256,     0.56356,     0.56456,     0.56557,     0.56657,     0.56757,     0.56857,     0.56957,     0.57057,     0.57157,     0.57257,     0.57357,     0.57457,     0.57558,\n",
      "           0.57658,     0.57758,     0.57858,     0.57958,     0.58058,     0.58158,     0.58258,     0.58358,     0.58458,     0.58559,     0.58659,     0.58759,     0.58859,     0.58959,     0.59059,     0.59159,     0.59259,     0.59359,     0.59459,      0.5956,      0.5966,      0.5976,      0.5986,      0.5996,\n",
      "            0.6006,      0.6016,      0.6026,      0.6036,      0.6046,     0.60561,     0.60661,     0.60761,     0.60861,     0.60961,     0.61061,     0.61161,     0.61261,     0.61361,     0.61461,     0.61562,     0.61662,     0.61762,     0.61862,     0.61962,     0.62062,     0.62162,     0.62262,     0.62362,\n",
      "           0.62462,     0.62563,     0.62663,     0.62763,     0.62863,     0.62963,     0.63063,     0.63163,     0.63263,     0.63363,     0.63463,     0.63564,     0.63664,     0.63764,     0.63864,     0.63964,     0.64064,     0.64164,     0.64264,     0.64364,     0.64464,     0.64565,     0.64665,     0.64765,\n",
      "           0.64865,     0.64965,     0.65065,     0.65165,     0.65265,     0.65365,     0.65465,     0.65566,     0.65666,     0.65766,     0.65866,     0.65966,     0.66066,     0.66166,     0.66266,     0.66366,     0.66466,     0.66567,     0.66667,     0.66767,     0.66867,     0.66967,     0.67067,     0.67167,\n",
      "           0.67267,     0.67367,     0.67467,     0.67568,     0.67668,     0.67768,     0.67868,     0.67968,     0.68068,     0.68168,     0.68268,     0.68368,     0.68468,     0.68569,     0.68669,     0.68769,     0.68869,     0.68969,     0.69069,     0.69169,     0.69269,     0.69369,     0.69469,      0.6957,\n",
      "            0.6967,      0.6977,      0.6987,      0.6997,      0.7007,      0.7017,      0.7027,      0.7037,      0.7047,     0.70571,     0.70671,     0.70771,     0.70871,     0.70971,     0.71071,     0.71171,     0.71271,     0.71371,     0.71471,     0.71572,     0.71672,     0.71772,     0.71872,     0.71972,\n",
      "           0.72072,     0.72172,     0.72272,     0.72372,     0.72472,     0.72573,     0.72673,     0.72773,     0.72873,     0.72973,     0.73073,     0.73173,     0.73273,     0.73373,     0.73473,     0.73574,     0.73674,     0.73774,     0.73874,     0.73974,     0.74074,     0.74174,     0.74274,     0.74374,\n",
      "           0.74474,     0.74575,     0.74675,     0.74775,     0.74875,     0.74975,     0.75075,     0.75175,     0.75275,     0.75375,     0.75475,     0.75576,     0.75676,     0.75776,     0.75876,     0.75976,     0.76076,     0.76176,     0.76276,     0.76376,     0.76476,     0.76577,     0.76677,     0.76777,\n",
      "           0.76877,     0.76977,     0.77077,     0.77177,     0.77277,     0.77377,     0.77477,     0.77578,     0.77678,     0.77778,     0.77878,     0.77978,     0.78078,     0.78178,     0.78278,     0.78378,     0.78478,     0.78579,     0.78679,     0.78779,     0.78879,     0.78979,     0.79079,     0.79179,\n",
      "           0.79279,     0.79379,     0.79479,      0.7958,      0.7968,      0.7978,      0.7988,      0.7998,      0.8008,      0.8018,      0.8028,      0.8038,      0.8048,     0.80581,     0.80681,     0.80781,     0.80881,     0.80981,     0.81081,     0.81181,     0.81281,     0.81381,     0.81481,     0.81582,\n",
      "           0.81682,     0.81782,     0.81882,     0.81982,     0.82082,     0.82182,     0.82282,     0.82382,     0.82482,     0.82583,     0.82683,     0.82783,     0.82883,     0.82983,     0.83083,     0.83183,     0.83283,     0.83383,     0.83483,     0.83584,     0.83684,     0.83784,     0.83884,     0.83984,\n",
      "           0.84084,     0.84184,     0.84284,     0.84384,     0.84484,     0.84585,     0.84685,     0.84785,     0.84885,     0.84985,     0.85085,     0.85185,     0.85285,     0.85385,     0.85485,     0.85586,     0.85686,     0.85786,     0.85886,     0.85986,     0.86086,     0.86186,     0.86286,     0.86386,\n",
      "           0.86486,     0.86587,     0.86687,     0.86787,     0.86887,     0.86987,     0.87087,     0.87187,     0.87287,     0.87387,     0.87487,     0.87588,     0.87688,     0.87788,     0.87888,     0.87988,     0.88088,     0.88188,     0.88288,     0.88388,     0.88488,     0.88589,     0.88689,     0.88789,\n",
      "           0.88889,     0.88989,     0.89089,     0.89189,     0.89289,     0.89389,     0.89489,      0.8959,      0.8969,      0.8979,      0.8989,      0.8999,      0.9009,      0.9019,      0.9029,      0.9039,      0.9049,     0.90591,     0.90691,     0.90791,     0.90891,     0.90991,     0.91091,     0.91191,\n",
      "           0.91291,     0.91391,     0.91491,     0.91592,     0.91692,     0.91792,     0.91892,     0.91992,     0.92092,     0.92192,     0.92292,     0.92392,     0.92492,     0.92593,     0.92693,     0.92793,     0.92893,     0.92993,     0.93093,     0.93193,     0.93293,     0.93393,     0.93493,     0.93594,\n",
      "           0.93694,     0.93794,     0.93894,     0.93994,     0.94094,     0.94194,     0.94294,     0.94394,     0.94494,     0.94595,     0.94695,     0.94795,     0.94895,     0.94995,     0.95095,     0.95195,     0.95295,     0.95395,     0.95495,     0.95596,     0.95696,     0.95796,     0.95896,     0.95996,\n",
      "           0.96096,     0.96196,     0.96296,     0.96396,     0.96496,     0.96597,     0.96697,     0.96797,     0.96897,     0.96997,     0.97097,     0.97197,     0.97297,     0.97397,     0.97497,     0.97598,     0.97698,     0.97798,     0.97898,     0.97998,     0.98098,     0.98198,     0.98298,     0.98398,\n",
      "           0.98498,     0.98599,     0.98699,     0.98799,     0.98899,     0.98999,     0.99099,     0.99199,     0.99299,     0.99399,     0.99499,       0.996,       0.997,       0.998,       0.999,           1]), array([[          1,           1,           1,           1,           1,           1,           1,           1,           1,           1,           1,           1,           1,           1,           1,           1,           1,           1,           1,           1,           1,           1,           1,\n",
      "                  1,           1,           1,           1,           1,           1,           1,           1,           1,           1,           1,           1,           1,           1,           1,           1,           1,           1,           1,           1,           1,           1,           1,\n",
      "                  1,           1,           1,           1,           1,           1,           1,           1,           1,           1,           1,           1,           1,           1,           1,           1,           1,           1,           1,           1,           1,           1,           1,\n",
      "                  1,           1,           1,           1,           1,           1,           1,           1,           1,           1,           1,           1,           1,           1,           1,           1,           1,           1,           1,           1,           1,           1,           1,\n",
      "                  1,           1,           1,           1,           1,           1,           1,           1,           1,           1,           1,           1,           1,           1,           1,           1,           1,           1,           1,           1,           1,           1,           1,\n",
      "                  1,           1,           1,           1,           1,           1,           1,           1,           1,           1,           1,           1,           1,           1,           1,           1,           1,           1,           1,           1,           1,           1,           1,\n",
      "                  1,           1,           1,           1,           1,           1,           1,           1,           1,           1,           1,           1,           1,           1,           1,           1,           1,           1,           1,           1,           1,           1,           1,\n",
      "                  1,           1,           1,           1,           1,           1,           1,           1,           1,           1,           1,           1,           1,           1,           1,           1,           1,           1,           1,           1,           1,           1,           1,\n",
      "                  1,           1,           1,           1,           1,           1,           1,           1,           1,           1,           1,           1,           1,           1,           1,           1,           1,           1,           1,           1,           1,           1,           1,\n",
      "                  1,           1,           1,           1,           1,           1,           1,           1,           1,           1,           1,           1,           1,           1,           1,           1,           1,           1,           1,           1,           1,           1,           1,\n",
      "                  1,           1,           1,           1,           1,           1,           1,           1,           1,           1,           1,           1,           1,           1,           1,           1,           1,           1,           1,           1,           1,           1,           1,\n",
      "                  1,           1,           1,           1,           1,           1,           1,           1,           1,           1,           1,           1,           1,           1,           1,           1,           1,           1,           1,           1,           1,           1,           1,\n",
      "                  1,           1,           1,           1,           1,           1,           1,           1,           1,           1,           1,           1,           1,           1,           1,           1,           1,           1,           1,           1,           1,           1,           1,\n",
      "                  1,           1,           1,           1,           1,           1,           1,           1,           1,           1,           1,           1,           1,           1,           1,           1,           1,           1,           1,           1,           1,           1,           1,\n",
      "                  1,           1,           1,           1,           1,           1,           1,           1,           1,           1,           1,           1,           1,           1,           1,           1,           1,           1,           1,           1,           1,           1,           1,\n",
      "                  1,           1,           1,           1,           1,           1,           1,           1,           1,           1,           1,           1,           1,           1,           1,           1,           1,           1,           1,           1,           1,           1,           1,\n",
      "                  1,           1,           1,           1,           1,           1,           1,           1,           1,           1,           1,           1,           1,           1,           1,           1,           1,           1,           1,           1,           1,           1,           1,\n",
      "                  1,           1,           1,           1,           1,           1,           1,           1,           1,           1,           1,           1,           1,           1,           1,           1,           1,           1,           1,           1,           1,           1,           1,\n",
      "                  1,           1,           1,           1,           1,           1,           1,           1,           1,           1,           1,           1,           1,           1,           1,           1,           1,           1,           1,           1,           1,           1,     0.95455,\n",
      "            0.95455,     0.95455,     0.95455,     0.95455,     0.95455,     0.95455,     0.95455,     0.95455,     0.95455,     0.95455,     0.95455,     0.95455,     0.95455,     0.95455,     0.95455,     0.95455,     0.95455,     0.95455,     0.95455,     0.95455,     0.95455,     0.95455,     0.95455,\n",
      "            0.95455,     0.95455,     0.95455,     0.95455,     0.95455,     0.95455,     0.95455,     0.95455,     0.95455,     0.95455,     0.95455,     0.95455,     0.95455,     0.95455,     0.95455,     0.95455,     0.95455,     0.95455,     0.95455,     0.95455,     0.95455,     0.95455,     0.95455,\n",
      "            0.95455,     0.95455,     0.95455,     0.95455,     0.95455,     0.95455,     0.95455,     0.95455,     0.95455,     0.95455,     0.95455,     0.95455,     0.95455,     0.95455,     0.95455,     0.95455,     0.95455,     0.95455,     0.95455,     0.95455,     0.95455,     0.95455,     0.95455,\n",
      "            0.95455,     0.95455,     0.95455,     0.95455,     0.95455,     0.95455,     0.95455,     0.95455,     0.95455,     0.95455,     0.95455,     0.95455,     0.95455,     0.95455,     0.95455,     0.95455,     0.95455,     0.95455,     0.95455,     0.95455,     0.95455,     0.95455,     0.95455,\n",
      "            0.95455,     0.95455,     0.95455,     0.95455,     0.95455,     0.95455,     0.95455,     0.95455,     0.95455,     0.93103,     0.93103,     0.93103,     0.93103,     0.93103,     0.93103,     0.93103,     0.93103,     0.93103,     0.93103,     0.93103,     0.93103,     0.93103,     0.93103,\n",
      "            0.93103,     0.93103,     0.93103,     0.93103,     0.93103,     0.93103,     0.93103,     0.93103,     0.93103,     0.93103,     0.93103,     0.93103,     0.93103,     0.93103,     0.93103,     0.93103,     0.93103,     0.93103,     0.93103,     0.93103,     0.93103,     0.93103,     0.93103,\n",
      "            0.93103,     0.93103,     0.93103,     0.93103,     0.93103,     0.93103,     0.93103,     0.93103,     0.93103,     0.93103,     0.93103,     0.93103,     0.93103,     0.93103,     0.93103,     0.93103,     0.93103,     0.93103,     0.93103,     0.93103,     0.93103,     0.93103,     0.93103,\n",
      "            0.93103,     0.93103,     0.93103,     0.93103,     0.93103,     0.93103,     0.93103,     0.93103,     0.93103,     0.93103,     0.93103,     0.93103,     0.93103,     0.93103,     0.93103,     0.93103,     0.93103,     0.93103,     0.93103,     0.93103,     0.93103,     0.93103,     0.93103,\n",
      "            0.93103,     0.93103,     0.93103,     0.93103,     0.93103,     0.93103,     0.93103,     0.93103,     0.93103,     0.93103,     0.93103,     0.93103,     0.93103,     0.93103,     0.93103,     0.93103,     0.93103,     0.93103,     0.93103,     0.93103,     0.93103,     0.93103,     0.93103,\n",
      "            0.93103,     0.93103,     0.93103,     0.93103,     0.93103,     0.93103,     0.93103,     0.93103,     0.93103,     0.93103,     0.93103,     0.93103,     0.93103,     0.93103,     0.93103,     0.93103,     0.93103,     0.93103,     0.93103,     0.93103,     0.93103,     0.93103,     0.93103,\n",
      "            0.93103,     0.93103,     0.93103,     0.93103,     0.93103,     0.93103,     0.93103,     0.93103,     0.93103,     0.93103,     0.93103,     0.93103,     0.93103,     0.93103,     0.93103,     0.93103,     0.93103,     0.93103,     0.93103,     0.93103,     0.93103,     0.93103,     0.93103,\n",
      "            0.93103,     0.93103,     0.90625,     0.90625,     0.90625,     0.90625,     0.90625,     0.90625,     0.90625,     0.90625,     0.90625,     0.90625,     0.90625,     0.90625,     0.90625,     0.90625,     0.90625,     0.90625,     0.90625,     0.90625,     0.90625,     0.90625,     0.90625,\n",
      "            0.90625,     0.90625,     0.90625,     0.90625,     0.90625,     0.90625,     0.90625,     0.90625,     0.90625,     0.90625,     0.90625,     0.90625,     0.90625,     0.90625,     0.90625,     0.90625,     0.90625,     0.90625,     0.90625,     0.90625,     0.90625,     0.90625,     0.90625,\n",
      "            0.90625,     0.90625,     0.90625,     0.90625,     0.90625,     0.90625,     0.90625,     0.85714,     0.85714,     0.85714,     0.85714,     0.85714,     0.85714,     0.85714,     0.85714,     0.85714,     0.85714,     0.85714,     0.85714,     0.85714,     0.85714,     0.85714,     0.85714,\n",
      "            0.85714,     0.85714,     0.85714,     0.85714,     0.85714,     0.85714,     0.85714,     0.85714,     0.85714,     0.85714,     0.81579,     0.81579,     0.81579,     0.81579,     0.81579,     0.81579,     0.81579,     0.81579,     0.81579,     0.81579,     0.81579,     0.81579,     0.81579,\n",
      "            0.81579,     0.81579,     0.81579,     0.81579,     0.81579,     0.81579,     0.81579,     0.81579,     0.81579,     0.81579,     0.81579,     0.81579,     0.81579,         0.8,         0.8,         0.8,         0.8,         0.8,         0.8,         0.8,         0.8,         0.8,         0.8,\n",
      "                0.8,         0.8,         0.8,         0.8,         0.8,         0.8,         0.8,         0.8,         0.8,         0.8,         0.8,         0.8,         0.8,         0.8,         0.8,     0.76744,     0.76744,     0.76744,     0.76744,     0.76744,     0.76744,     0.76744,     0.76744,\n",
      "            0.76744,     0.76744,     0.76744,     0.76744,     0.76744,     0.76744,     0.76744,     0.76744,     0.76744,     0.76744,     0.76744,     0.76744,     0.76744,     0.76744,     0.76744,     0.76744,     0.76744,     0.76744,     0.66667,     0.66667,     0.66667,     0.66667,     0.66667,\n",
      "            0.66667,     0.66667,     0.66667,     0.66667,     0.66667,     0.66667,     0.66667,     0.66667,     0.66667,     0.66667,     0.66667,     0.66667,     0.66667,     0.66667,     0.66667,     0.66667,     0.66667,     0.66667,     0.66667,     0.66667,       0.625,       0.625,       0.625,\n",
      "              0.625,       0.625,       0.625,       0.625,       0.625,       0.625,       0.625,       0.625,       0.625,       0.625,       0.625,       0.625,       0.625,       0.625,       0.625,       0.625,       0.625,       0.625,       0.625,       0.625,       0.625,       0.625,       0.625,\n",
      "            0.34615,     0.34615,     0.34615,     0.34615,     0.34615,     0.34615,     0.34615,     0.34615,     0.34615,     0.34615,     0.34615,     0.34615,     0.34615,     0.34615,     0.34615,     0.34615,     0.34615,     0.34615,     0.34615,     0.34615,     0.34615,     0.34615,     0.34615,\n",
      "            0.34615,     0.34615,     0.34615,     0.22981,     0.22981,     0.22981,     0.22981,     0.22981,     0.22981,     0.22981,     0.22981,     0.22981,     0.22981,     0.22981,     0.22981,     0.22981,     0.22981,     0.22981,     0.22981,     0.22981,     0.22981,     0.22981,     0.22981,\n",
      "            0.22981,     0.22981,     0.22981,     0.22981,     0.22981,     0.15447,     0.15447,     0.15447,     0.15447,     0.15447,     0.15447,     0.15447,     0.15447,     0.15447,     0.15447,     0.15447,     0.15447,     0.15447,     0.15447,     0.15447,     0.15447,     0.15447,     0.15447,\n",
      "            0.15447,     0.15447,     0.15447,     0.15447,     0.15447,     0.15447,     0.15447,     0.15447,     0.14391,     0.14391,     0.14391,     0.14391,     0.14391,     0.14391,     0.14391,     0.14391,     0.14391,     0.14391,     0.14391,     0.14391,     0.14391,     0.14391,     0.14391,\n",
      "            0.14391,     0.14391,     0.14391,     0.14391,     0.14391,     0.14391,     0.14391,     0.14391,     0.14391,     0.14391,           0]]), 'Recall', 'Precision'], [array([          0,    0.001001,    0.002002,    0.003003,    0.004004,    0.005005,    0.006006,    0.007007,    0.008008,    0.009009,     0.01001,    0.011011,    0.012012,    0.013013,    0.014014,    0.015015,    0.016016,    0.017017,    0.018018,    0.019019,     0.02002,    0.021021,    0.022022,    0.023023,\n",
      "          0.024024,    0.025025,    0.026026,    0.027027,    0.028028,    0.029029,     0.03003,    0.031031,    0.032032,    0.033033,    0.034034,    0.035035,    0.036036,    0.037037,    0.038038,    0.039039,     0.04004,    0.041041,    0.042042,    0.043043,    0.044044,    0.045045,    0.046046,    0.047047,\n",
      "          0.048048,    0.049049,     0.05005,    0.051051,    0.052052,    0.053053,    0.054054,    0.055055,    0.056056,    0.057057,    0.058058,    0.059059,     0.06006,    0.061061,    0.062062,    0.063063,    0.064064,    0.065065,    0.066066,    0.067067,    0.068068,    0.069069,     0.07007,    0.071071,\n",
      "          0.072072,    0.073073,    0.074074,    0.075075,    0.076076,    0.077077,    0.078078,    0.079079,     0.08008,    0.081081,    0.082082,    0.083083,    0.084084,    0.085085,    0.086086,    0.087087,    0.088088,    0.089089,     0.09009,    0.091091,    0.092092,    0.093093,    0.094094,    0.095095,\n",
      "          0.096096,    0.097097,    0.098098,    0.099099,      0.1001,      0.1011,      0.1021,      0.1031,      0.1041,     0.10511,     0.10611,     0.10711,     0.10811,     0.10911,     0.11011,     0.11111,     0.11211,     0.11311,     0.11411,     0.11512,     0.11612,     0.11712,     0.11812,     0.11912,\n",
      "           0.12012,     0.12112,     0.12212,     0.12312,     0.12412,     0.12513,     0.12613,     0.12713,     0.12813,     0.12913,     0.13013,     0.13113,     0.13213,     0.13313,     0.13413,     0.13514,     0.13614,     0.13714,     0.13814,     0.13914,     0.14014,     0.14114,     0.14214,     0.14314,\n",
      "           0.14414,     0.14515,     0.14615,     0.14715,     0.14815,     0.14915,     0.15015,     0.15115,     0.15215,     0.15315,     0.15415,     0.15516,     0.15616,     0.15716,     0.15816,     0.15916,     0.16016,     0.16116,     0.16216,     0.16316,     0.16416,     0.16517,     0.16617,     0.16717,\n",
      "           0.16817,     0.16917,     0.17017,     0.17117,     0.17217,     0.17317,     0.17417,     0.17518,     0.17618,     0.17718,     0.17818,     0.17918,     0.18018,     0.18118,     0.18218,     0.18318,     0.18418,     0.18519,     0.18619,     0.18719,     0.18819,     0.18919,     0.19019,     0.19119,\n",
      "           0.19219,     0.19319,     0.19419,      0.1952,      0.1962,      0.1972,      0.1982,      0.1992,      0.2002,      0.2012,      0.2022,      0.2032,      0.2042,     0.20521,     0.20621,     0.20721,     0.20821,     0.20921,     0.21021,     0.21121,     0.21221,     0.21321,     0.21421,     0.21522,\n",
      "           0.21622,     0.21722,     0.21822,     0.21922,     0.22022,     0.22122,     0.22222,     0.22322,     0.22422,     0.22523,     0.22623,     0.22723,     0.22823,     0.22923,     0.23023,     0.23123,     0.23223,     0.23323,     0.23423,     0.23524,     0.23624,     0.23724,     0.23824,     0.23924,\n",
      "           0.24024,     0.24124,     0.24224,     0.24324,     0.24424,     0.24525,     0.24625,     0.24725,     0.24825,     0.24925,     0.25025,     0.25125,     0.25225,     0.25325,     0.25425,     0.25526,     0.25626,     0.25726,     0.25826,     0.25926,     0.26026,     0.26126,     0.26226,     0.26326,\n",
      "           0.26426,     0.26527,     0.26627,     0.26727,     0.26827,     0.26927,     0.27027,     0.27127,     0.27227,     0.27327,     0.27427,     0.27528,     0.27628,     0.27728,     0.27828,     0.27928,     0.28028,     0.28128,     0.28228,     0.28328,     0.28428,     0.28529,     0.28629,     0.28729,\n",
      "           0.28829,     0.28929,     0.29029,     0.29129,     0.29229,     0.29329,     0.29429,      0.2953,      0.2963,      0.2973,      0.2983,      0.2993,      0.3003,      0.3013,      0.3023,      0.3033,      0.3043,     0.30531,     0.30631,     0.30731,     0.30831,     0.30931,     0.31031,     0.31131,\n",
      "           0.31231,     0.31331,     0.31431,     0.31532,     0.31632,     0.31732,     0.31832,     0.31932,     0.32032,     0.32132,     0.32232,     0.32332,     0.32432,     0.32533,     0.32633,     0.32733,     0.32833,     0.32933,     0.33033,     0.33133,     0.33233,     0.33333,     0.33433,     0.33534,\n",
      "           0.33634,     0.33734,     0.33834,     0.33934,     0.34034,     0.34134,     0.34234,     0.34334,     0.34434,     0.34535,     0.34635,     0.34735,     0.34835,     0.34935,     0.35035,     0.35135,     0.35235,     0.35335,     0.35435,     0.35536,     0.35636,     0.35736,     0.35836,     0.35936,\n",
      "           0.36036,     0.36136,     0.36236,     0.36336,     0.36436,     0.36537,     0.36637,     0.36737,     0.36837,     0.36937,     0.37037,     0.37137,     0.37237,     0.37337,     0.37437,     0.37538,     0.37638,     0.37738,     0.37838,     0.37938,     0.38038,     0.38138,     0.38238,     0.38338,\n",
      "           0.38438,     0.38539,     0.38639,     0.38739,     0.38839,     0.38939,     0.39039,     0.39139,     0.39239,     0.39339,     0.39439,      0.3954,      0.3964,      0.3974,      0.3984,      0.3994,      0.4004,      0.4014,      0.4024,      0.4034,      0.4044,     0.40541,     0.40641,     0.40741,\n",
      "           0.40841,     0.40941,     0.41041,     0.41141,     0.41241,     0.41341,     0.41441,     0.41542,     0.41642,     0.41742,     0.41842,     0.41942,     0.42042,     0.42142,     0.42242,     0.42342,     0.42442,     0.42543,     0.42643,     0.42743,     0.42843,     0.42943,     0.43043,     0.43143,\n",
      "           0.43243,     0.43343,     0.43443,     0.43544,     0.43644,     0.43744,     0.43844,     0.43944,     0.44044,     0.44144,     0.44244,     0.44344,     0.44444,     0.44545,     0.44645,     0.44745,     0.44845,     0.44945,     0.45045,     0.45145,     0.45245,     0.45345,     0.45445,     0.45546,\n",
      "           0.45646,     0.45746,     0.45846,     0.45946,     0.46046,     0.46146,     0.46246,     0.46346,     0.46446,     0.46547,     0.46647,     0.46747,     0.46847,     0.46947,     0.47047,     0.47147,     0.47247,     0.47347,     0.47447,     0.47548,     0.47648,     0.47748,     0.47848,     0.47948,\n",
      "           0.48048,     0.48148,     0.48248,     0.48348,     0.48448,     0.48549,     0.48649,     0.48749,     0.48849,     0.48949,     0.49049,     0.49149,     0.49249,     0.49349,     0.49449,      0.4955,      0.4965,      0.4975,      0.4985,      0.4995,      0.5005,      0.5015,      0.5025,      0.5035,\n",
      "            0.5045,     0.50551,     0.50651,     0.50751,     0.50851,     0.50951,     0.51051,     0.51151,     0.51251,     0.51351,     0.51451,     0.51552,     0.51652,     0.51752,     0.51852,     0.51952,     0.52052,     0.52152,     0.52252,     0.52352,     0.52452,     0.52553,     0.52653,     0.52753,\n",
      "           0.52853,     0.52953,     0.53053,     0.53153,     0.53253,     0.53353,     0.53453,     0.53554,     0.53654,     0.53754,     0.53854,     0.53954,     0.54054,     0.54154,     0.54254,     0.54354,     0.54454,     0.54555,     0.54655,     0.54755,     0.54855,     0.54955,     0.55055,     0.55155,\n",
      "           0.55255,     0.55355,     0.55455,     0.55556,     0.55656,     0.55756,     0.55856,     0.55956,     0.56056,     0.56156,     0.56256,     0.56356,     0.56456,     0.56557,     0.56657,     0.56757,     0.56857,     0.56957,     0.57057,     0.57157,     0.57257,     0.57357,     0.57457,     0.57558,\n",
      "           0.57658,     0.57758,     0.57858,     0.57958,     0.58058,     0.58158,     0.58258,     0.58358,     0.58458,     0.58559,     0.58659,     0.58759,     0.58859,     0.58959,     0.59059,     0.59159,     0.59259,     0.59359,     0.59459,      0.5956,      0.5966,      0.5976,      0.5986,      0.5996,\n",
      "            0.6006,      0.6016,      0.6026,      0.6036,      0.6046,     0.60561,     0.60661,     0.60761,     0.60861,     0.60961,     0.61061,     0.61161,     0.61261,     0.61361,     0.61461,     0.61562,     0.61662,     0.61762,     0.61862,     0.61962,     0.62062,     0.62162,     0.62262,     0.62362,\n",
      "           0.62462,     0.62563,     0.62663,     0.62763,     0.62863,     0.62963,     0.63063,     0.63163,     0.63263,     0.63363,     0.63463,     0.63564,     0.63664,     0.63764,     0.63864,     0.63964,     0.64064,     0.64164,     0.64264,     0.64364,     0.64464,     0.64565,     0.64665,     0.64765,\n",
      "           0.64865,     0.64965,     0.65065,     0.65165,     0.65265,     0.65365,     0.65465,     0.65566,     0.65666,     0.65766,     0.65866,     0.65966,     0.66066,     0.66166,     0.66266,     0.66366,     0.66466,     0.66567,     0.66667,     0.66767,     0.66867,     0.66967,     0.67067,     0.67167,\n",
      "           0.67267,     0.67367,     0.67467,     0.67568,     0.67668,     0.67768,     0.67868,     0.67968,     0.68068,     0.68168,     0.68268,     0.68368,     0.68468,     0.68569,     0.68669,     0.68769,     0.68869,     0.68969,     0.69069,     0.69169,     0.69269,     0.69369,     0.69469,      0.6957,\n",
      "            0.6967,      0.6977,      0.6987,      0.6997,      0.7007,      0.7017,      0.7027,      0.7037,      0.7047,     0.70571,     0.70671,     0.70771,     0.70871,     0.70971,     0.71071,     0.71171,     0.71271,     0.71371,     0.71471,     0.71572,     0.71672,     0.71772,     0.71872,     0.71972,\n",
      "           0.72072,     0.72172,     0.72272,     0.72372,     0.72472,     0.72573,     0.72673,     0.72773,     0.72873,     0.72973,     0.73073,     0.73173,     0.73273,     0.73373,     0.73473,     0.73574,     0.73674,     0.73774,     0.73874,     0.73974,     0.74074,     0.74174,     0.74274,     0.74374,\n",
      "           0.74474,     0.74575,     0.74675,     0.74775,     0.74875,     0.74975,     0.75075,     0.75175,     0.75275,     0.75375,     0.75475,     0.75576,     0.75676,     0.75776,     0.75876,     0.75976,     0.76076,     0.76176,     0.76276,     0.76376,     0.76476,     0.76577,     0.76677,     0.76777,\n",
      "           0.76877,     0.76977,     0.77077,     0.77177,     0.77277,     0.77377,     0.77477,     0.77578,     0.77678,     0.77778,     0.77878,     0.77978,     0.78078,     0.78178,     0.78278,     0.78378,     0.78478,     0.78579,     0.78679,     0.78779,     0.78879,     0.78979,     0.79079,     0.79179,\n",
      "           0.79279,     0.79379,     0.79479,      0.7958,      0.7968,      0.7978,      0.7988,      0.7998,      0.8008,      0.8018,      0.8028,      0.8038,      0.8048,     0.80581,     0.80681,     0.80781,     0.80881,     0.80981,     0.81081,     0.81181,     0.81281,     0.81381,     0.81481,     0.81582,\n",
      "           0.81682,     0.81782,     0.81882,     0.81982,     0.82082,     0.82182,     0.82282,     0.82382,     0.82482,     0.82583,     0.82683,     0.82783,     0.82883,     0.82983,     0.83083,     0.83183,     0.83283,     0.83383,     0.83483,     0.83584,     0.83684,     0.83784,     0.83884,     0.83984,\n",
      "           0.84084,     0.84184,     0.84284,     0.84384,     0.84484,     0.84585,     0.84685,     0.84785,     0.84885,     0.84985,     0.85085,     0.85185,     0.85285,     0.85385,     0.85485,     0.85586,     0.85686,     0.85786,     0.85886,     0.85986,     0.86086,     0.86186,     0.86286,     0.86386,\n",
      "           0.86486,     0.86587,     0.86687,     0.86787,     0.86887,     0.86987,     0.87087,     0.87187,     0.87287,     0.87387,     0.87487,     0.87588,     0.87688,     0.87788,     0.87888,     0.87988,     0.88088,     0.88188,     0.88288,     0.88388,     0.88488,     0.88589,     0.88689,     0.88789,\n",
      "           0.88889,     0.88989,     0.89089,     0.89189,     0.89289,     0.89389,     0.89489,      0.8959,      0.8969,      0.8979,      0.8989,      0.8999,      0.9009,      0.9019,      0.9029,      0.9039,      0.9049,     0.90591,     0.90691,     0.90791,     0.90891,     0.90991,     0.91091,     0.91191,\n",
      "           0.91291,     0.91391,     0.91491,     0.91592,     0.91692,     0.91792,     0.91892,     0.91992,     0.92092,     0.92192,     0.92292,     0.92392,     0.92492,     0.92593,     0.92693,     0.92793,     0.92893,     0.92993,     0.93093,     0.93193,     0.93293,     0.93393,     0.93493,     0.93594,\n",
      "           0.93694,     0.93794,     0.93894,     0.93994,     0.94094,     0.94194,     0.94294,     0.94394,     0.94494,     0.94595,     0.94695,     0.94795,     0.94895,     0.94995,     0.95095,     0.95195,     0.95295,     0.95395,     0.95495,     0.95596,     0.95696,     0.95796,     0.95896,     0.95996,\n",
      "           0.96096,     0.96196,     0.96296,     0.96396,     0.96496,     0.96597,     0.96697,     0.96797,     0.96897,     0.96997,     0.97097,     0.97197,     0.97297,     0.97397,     0.97497,     0.97598,     0.97698,     0.97798,     0.97898,     0.97998,     0.98098,     0.98198,     0.98298,     0.98398,\n",
      "           0.98498,     0.98599,     0.98699,     0.98799,     0.98899,     0.98999,     0.99099,     0.99199,     0.99299,     0.99399,     0.99499,       0.996,       0.997,       0.998,       0.999,           1]), array([[   0.050947,    0.050988,    0.081639,      0.1007,     0.11969,     0.13771,     0.14732,     0.15797,     0.16679,     0.17596,     0.18643,     0.19575,     0.20402,     0.21011,      0.2164,     0.22509,     0.23231,     0.23465,     0.24345,     0.24956,     0.24803,     0.25064,     0.25898,\n",
      "            0.26194,     0.26503,     0.26236,      0.2667,     0.27268,     0.27675,     0.27997,     0.28771,     0.29111,      0.2939,     0.29452,     0.29732,     0.29849,     0.30211,     0.30315,     0.30611,     0.30699,     0.31081,     0.31404,     0.32065,     0.32424,     0.32704,     0.33067,\n",
      "            0.33187,     0.33296,     0.33522,     0.33604,     0.34112,      0.3427,     0.34913,       0.351,     0.35251,     0.35536,     0.35816,     0.35921,     0.36315,     0.36453,     0.36865,     0.36931,     0.36235,     0.36417,     0.36545,     0.36587,     0.36627,     0.36666,     0.36706,\n",
      "            0.36835,     0.37967,     0.38887,     0.39274,     0.39392,     0.39455,     0.39517,     0.39588,     0.39678,     0.39767,     0.40022,     0.40191,     0.40344,     0.40654,     0.40996,     0.41106,     0.41229,      0.4136,     0.41453,      0.4154,     0.41714,     0.42146,     0.42309,\n",
      "            0.42693,     0.42845,     0.43236,     0.43585,     0.43883,     0.44144,     0.44988,     0.45247,     0.45341,     0.45408,     0.45476,     0.45543,     0.45639,     0.45751,      0.4587,     0.46455,     0.46483,     0.46511,     0.46539,     0.46567,     0.46596,     0.46624,     0.46652,\n",
      "             0.4668,     0.46708,     0.46736,     0.46833,     0.47031,     0.47167,     0.47293,     0.47693,     0.48023,     0.48203,     0.48347,     0.48421,     0.48494,     0.48567,      0.4864,     0.49012,      0.4917,     0.49414,     0.49886,     0.50052,     0.50139,     0.50226,     0.50312,\n",
      "            0.49448,     0.49471,     0.49654,     0.49746,     0.49838,      0.4993,     0.50118,     0.50468,     0.50685,     0.50923,     0.51108,     0.51151,     0.51194,     0.51237,      0.5128,     0.51323,     0.51366,     0.51409,     0.51452,     0.51572,     0.51753,     0.51989,     0.52298,\n",
      "            0.52625,     0.52869,     0.53456,      0.5353,     0.53603,     0.53676,     0.53749,     0.53822,     0.54122,      0.5474,     0.54912,     0.55084,     0.55673,     0.55821,     0.55969,     0.56142,     0.56322,     0.56524,     0.56788,     0.57093,     0.57395,     0.57505,     0.57614,\n",
      "            0.57724,     0.57833,     0.58383,     0.58566,     0.58748,     0.58876,     0.58965,     0.59054,     0.59142,     0.59231,     0.59319,     0.59402,     0.59485,     0.59568,      0.5965,     0.59733,     0.59815,     0.60154,     0.60403,     0.60516,      0.6063,     0.60742,     0.60855,\n",
      "            0.61333,      0.6178,     0.62539,      0.6277,        0.63,     0.63152,     0.63274,     0.63396,     0.63518,     0.63641,     0.63843,     0.64044,     0.64238,     0.64391,     0.64544,     0.64696,     0.64877,     0.65159,     0.65438,     0.65693,     0.65946,     0.66162,     0.66356,\n",
      "             0.6655,     0.66706,     0.66804,     0.66901,     0.66999,     0.67097,     0.67194,     0.67291,     0.67719,     0.68011,      0.6811,     0.68208,     0.68306,     0.68404,     0.68501,     0.68599,     0.68664,     0.68717,     0.68769,     0.68821,     0.68873,     0.68925,     0.68977,\n",
      "            0.69029,     0.69081,     0.69133,     0.69185,     0.69237,     0.69289,     0.69374,     0.69477,     0.69581,     0.69684,     0.69787,      0.6989,     0.69993,     0.70769,     0.70844,      0.7092,     0.70995,      0.7107,     0.71145,      0.7122,     0.71295,     0.71369,     0.71449,\n",
      "            0.71547,     0.71645,     0.71743,     0.71841,     0.71938,     0.72036,     0.72133,     0.72201,     0.72254,     0.72308,     0.72361,     0.72415,     0.72468,     0.72521,     0.72574,     0.72628,     0.72681,     0.72734,     0.72787,      0.7284,     0.72893,     0.73036,     0.73253,\n",
      "            0.73469,      0.7368,     0.72341,     0.72394,     0.72447,       0.725,     0.72554,     0.72606,     0.72659,     0.72712,     0.72765,     0.72818,     0.72871,     0.72923,     0.72976,     0.73028,     0.73081,     0.73916,      0.7396,     0.74004,     0.74048,     0.74093,     0.74137,\n",
      "            0.74181,     0.74225,     0.74269,     0.74313,     0.74357,     0.74401,     0.74444,     0.74488,     0.74532,     0.74576,     0.74619,     0.74663,     0.74707,      0.7549,     0.75263,     0.75035,     0.74808,     0.74579,     0.74351,     0.74188,     0.74387,     0.74584,     0.74781,\n",
      "            0.74976,     0.75919,     0.76001,     0.76083,     0.76165,     0.76246,     0.76328,     0.76409,      0.7649,     0.76571,     0.76652,     0.76733,     0.76751,      0.7676,     0.76768,     0.76776,     0.76785,     0.76793,     0.76801,      0.7681,     0.76818,     0.76826,     0.76835,\n",
      "            0.76843,     0.76851,      0.7686,     0.76868,     0.76876,     0.76885,     0.76893,     0.76901,      0.7691,     0.76918,     0.76926,     0.76935,     0.76943,     0.76951,      0.7696,     0.76968,     0.76976,     0.76984,     0.76993,     0.77001,     0.77009,     0.77018,     0.77026,\n",
      "            0.77034,     0.77042,     0.77051,     0.77059,     0.77067,     0.77076,     0.77084,     0.77092,     0.77101,     0.77109,     0.77117,     0.77125,     0.77134,     0.77142,      0.7715,     0.77158,     0.77167,     0.77175,     0.77183,     0.77192,       0.772,     0.77208,     0.77216,\n",
      "            0.77225,     0.77233,     0.77241,     0.77249,     0.77258,     0.77266,     0.77274,     0.77282,     0.77291,     0.77299,     0.77307,     0.77315,     0.77324,     0.77332,      0.7734,     0.77348,     0.77357,     0.77365,     0.77373,     0.77381,     0.77389,     0.77398,     0.77406,\n",
      "            0.77414,     0.77422,     0.77431,     0.77439,     0.77447,     0.77455,     0.77463,     0.77472,      0.7748,     0.77488,     0.77496,     0.77505,     0.77513,     0.77521,     0.77529,     0.77537,     0.77546,     0.77554,     0.77562,      0.7757,     0.77578,     0.77587,     0.77595,\n",
      "            0.77603,     0.77611,     0.77619,     0.77627,     0.77636,     0.77644,     0.78047,     0.78604,     0.78775,     0.78945,     0.79114,     0.79283,     0.79451,     0.79653,     0.79877,     0.80101,     0.80323,     0.80472,      0.8041,     0.80348,     0.80286,     0.80223,     0.80161,\n",
      "            0.80099,     0.80036,     0.79974,     0.79912,     0.79849,     0.79787,     0.79724,     0.79662,     0.79599,     0.79536,     0.79474,     0.79411,     0.79348,     0.79285,     0.79223,      0.7916,     0.79097,     0.79034,     0.79149,     0.79355,      0.7956,     0.79765,     0.79968,\n",
      "            0.80665,     0.80976,     0.80911,     0.80845,     0.80779,     0.80714,     0.80648,     0.80582,     0.80516,      0.8045,     0.80385,     0.80319,     0.80252,     0.80186,      0.8012,     0.80054,     0.79988,     0.79922,     0.79855,     0.79789,     0.79722,     0.79656,     0.79589,\n",
      "            0.79523,     0.79587,     0.79803,     0.80016,     0.80229,     0.80441,     0.80304,     0.79959,     0.79612,     0.79265,      0.7897,     0.79218,     0.79465,      0.7971,     0.79953,     0.80019,     0.80043,     0.80067,     0.80091,     0.80115,     0.80139,     0.80163,     0.80187,\n",
      "            0.80211,     0.80235,     0.80259,     0.80283,     0.80307,      0.8033,     0.80354,     0.80378,     0.80402,     0.80425,     0.80449,     0.80473,     0.80497,      0.8052,     0.80544,     0.80568,     0.80591,     0.80615,     0.80639,     0.80662,     0.80686,     0.80709,     0.80733,\n",
      "            0.80757,      0.8078,     0.80804,     0.80827,     0.80851,     0.80874,     0.80898,     0.80921,     0.80944,     0.80968,     0.80991,     0.81015,     0.81038,     0.81061,     0.80866,     0.79484,     0.79482,     0.79512,     0.79543,     0.79573,     0.79603,     0.79634,     0.79664,\n",
      "            0.79694,     0.79724,     0.79755,     0.79785,     0.79815,     0.79845,     0.79875,     0.79905,     0.79935,     0.79965,     0.79995,     0.80025,     0.80055,     0.80085,     0.80115,     0.80145,     0.80174,     0.80204,     0.80234,     0.80264,     0.80294,     0.80323,     0.80353,\n",
      "            0.80383,     0.80412,     0.80442,     0.80471,     0.80501,      0.8053,     0.80566,     0.80637,     0.80708,     0.80778,     0.80849,     0.80919,     0.80989,     0.81059,     0.81129,     0.81198,     0.81268,     0.81337,     0.81407,     0.81476,     0.81545,     0.81614,     0.81682,\n",
      "            0.81499,     0.81282,     0.81065,     0.80847,     0.80628,     0.80409,     0.80189,     0.79961,     0.79689,     0.79416,     0.79142,     0.78867,     0.78591,     0.78314,     0.78608,     0.79032,     0.79408,     0.79367,     0.79326,     0.79284,     0.79243,     0.79202,      0.7916,\n",
      "            0.79119,     0.79078,     0.79036,     0.78995,     0.78954,     0.78912,     0.78871,     0.78829,     0.78787,     0.78746,     0.78704,     0.78663,     0.78621,     0.78579,     0.78538,     0.78496,     0.78454,     0.78412,     0.78371,     0.78329,     0.78287,     0.78245,     0.78203,\n",
      "            0.78161,     0.78119,     0.78077,     0.78035,     0.77993,     0.77951,     0.77909,     0.77867,     0.77825,     0.77783,     0.77741,     0.77698,     0.77656,     0.77614,      0.7758,     0.77547,     0.77514,     0.77481,     0.77448,     0.77415,     0.77381,     0.77348,     0.77315,\n",
      "            0.77282,     0.77248,     0.77215,     0.77182,     0.77148,     0.77115,     0.77082,     0.77048,     0.77015,     0.76982,     0.76948,     0.76915,     0.76881,     0.76848,     0.76814,     0.76781,     0.76747,     0.76714,      0.7668,     0.76647,     0.76613,      0.7658,     0.76546,\n",
      "            0.76512,     0.76479,     0.76445,     0.76411,     0.76378,     0.76344,      0.7631,     0.76277,     0.76243,     0.76209,     0.76175,     0.76141,     0.76108,     0.76074,      0.7604,     0.76006,     0.75972,     0.75938,     0.75904,      0.7587,     0.75836,     0.75802,     0.75768,\n",
      "            0.75531,     0.75196,     0.74859,     0.74521,     0.74181,     0.73842,      0.7361,     0.73376,     0.73143,     0.72908,     0.72673,     0.72436,       0.722,     0.71962,     0.71838,      0.7178,     0.71721,     0.71663,     0.71605,     0.71546,     0.71488,     0.71429,      0.7137,\n",
      "            0.71312,     0.71253,     0.71194,     0.71135,     0.71077,     0.71018,     0.70959,       0.709,     0.70841,     0.70782,     0.70723,     0.70663,     0.70604,     0.70545,     0.70486,     0.70426,     0.70367,     0.70307,     0.70248,     0.70188,     0.70129,     0.70069,     0.70009,\n",
      "             0.6995,      0.6989,     0.69543,     0.67939,     0.68176,     0.68659,     0.67407,     0.66557,       0.664,     0.66243,     0.66086,     0.65928,      0.6577,     0.65612,     0.65453,     0.65294,     0.65134,     0.64975,     0.64815,     0.64654,     0.64493,     0.64222,     0.63823,\n",
      "            0.63421,     0.63017,     0.62611,     0.62202,      0.6185,     0.61525,     0.61199,     0.60871,     0.60541,      0.6021,     0.59878,     0.59674,     0.59753,     0.59832,      0.5991,     0.59987,     0.60065,     0.60141,     0.60218,     0.60294,     0.60369,     0.60444,     0.60519,\n",
      "            0.60593,     0.60667,     0.60602,     0.60281,     0.59959,     0.59636,     0.59311,     0.58985,     0.58657,     0.58328,     0.58115,     0.57995,     0.57876,     0.57756,     0.57635,     0.57515,     0.57394,     0.57273,     0.57152,     0.57031,     0.56909,     0.56788,     0.56666,\n",
      "            0.56544,     0.56421,     0.56299,     0.56176,     0.56053,      0.5593,     0.55806,     0.55683,     0.55559,     0.54587,     0.53576,     0.49903,     0.49531,     0.49156,      0.4878,     0.48402,     0.48021,     0.47639,     0.47255,     0.46913,     0.46615,     0.46315,     0.46015,\n",
      "            0.45713,      0.4541,     0.45106,     0.44801,     0.44495,     0.44187,     0.43743,     0.43089,      0.4243,     0.41764,     0.41093,     0.40617,     0.40278,     0.39937,     0.39595,     0.39251,     0.38906,      0.3856,     0.38212,     0.37862,     0.37511,      0.3743,     0.37357,\n",
      "            0.37285,     0.37212,      0.3714,     0.37067,     0.36994,     0.36921,     0.36849,     0.36776,     0.36703,     0.36629,     0.36556,     0.36483,      0.3641,     0.36336,     0.36263,     0.36189,     0.36116,     0.36042,     0.35969,     0.35895,     0.35821,     0.35747,     0.35673,\n",
      "            0.35599,     0.35525,     0.35451,     0.35377,     0.35302,     0.35228,     0.35154,     0.35079,     0.35005,      0.3493,     0.34855,     0.34781,     0.34706,     0.34631,     0.34556,     0.34481,     0.34406,     0.34331,     0.34255,      0.3418,     0.34105,     0.33941,     0.33363,\n",
      "            0.32781,     0.32195,     0.31605,      0.3101,     0.30409,     0.29722,      0.2903,     0.28332,     0.27628,     0.26919,     0.26325,     0.25794,      0.2526,     0.24722,     0.24181,     0.23637,     0.23089,     0.21899,     0.19435,     0.17823,     0.16643,     0.15448,     0.14231,\n",
      "            0.12864,     0.11477,     0.10069,    0.085477,    0.069752,    0.053767,           0,           0,           0,           0,           0]]), 'Confidence', 'F1'], [array([          0,    0.001001,    0.002002,    0.003003,    0.004004,    0.005005,    0.006006,    0.007007,    0.008008,    0.009009,     0.01001,    0.011011,    0.012012,    0.013013,    0.014014,    0.015015,    0.016016,    0.017017,    0.018018,    0.019019,     0.02002,    0.021021,    0.022022,    0.023023,\n",
      "          0.024024,    0.025025,    0.026026,    0.027027,    0.028028,    0.029029,     0.03003,    0.031031,    0.032032,    0.033033,    0.034034,    0.035035,    0.036036,    0.037037,    0.038038,    0.039039,     0.04004,    0.041041,    0.042042,    0.043043,    0.044044,    0.045045,    0.046046,    0.047047,\n",
      "          0.048048,    0.049049,     0.05005,    0.051051,    0.052052,    0.053053,    0.054054,    0.055055,    0.056056,    0.057057,    0.058058,    0.059059,     0.06006,    0.061061,    0.062062,    0.063063,    0.064064,    0.065065,    0.066066,    0.067067,    0.068068,    0.069069,     0.07007,    0.071071,\n",
      "          0.072072,    0.073073,    0.074074,    0.075075,    0.076076,    0.077077,    0.078078,    0.079079,     0.08008,    0.081081,    0.082082,    0.083083,    0.084084,    0.085085,    0.086086,    0.087087,    0.088088,    0.089089,     0.09009,    0.091091,    0.092092,    0.093093,    0.094094,    0.095095,\n",
      "          0.096096,    0.097097,    0.098098,    0.099099,      0.1001,      0.1011,      0.1021,      0.1031,      0.1041,     0.10511,     0.10611,     0.10711,     0.10811,     0.10911,     0.11011,     0.11111,     0.11211,     0.11311,     0.11411,     0.11512,     0.11612,     0.11712,     0.11812,     0.11912,\n",
      "           0.12012,     0.12112,     0.12212,     0.12312,     0.12412,     0.12513,     0.12613,     0.12713,     0.12813,     0.12913,     0.13013,     0.13113,     0.13213,     0.13313,     0.13413,     0.13514,     0.13614,     0.13714,     0.13814,     0.13914,     0.14014,     0.14114,     0.14214,     0.14314,\n",
      "           0.14414,     0.14515,     0.14615,     0.14715,     0.14815,     0.14915,     0.15015,     0.15115,     0.15215,     0.15315,     0.15415,     0.15516,     0.15616,     0.15716,     0.15816,     0.15916,     0.16016,     0.16116,     0.16216,     0.16316,     0.16416,     0.16517,     0.16617,     0.16717,\n",
      "           0.16817,     0.16917,     0.17017,     0.17117,     0.17217,     0.17317,     0.17417,     0.17518,     0.17618,     0.17718,     0.17818,     0.17918,     0.18018,     0.18118,     0.18218,     0.18318,     0.18418,     0.18519,     0.18619,     0.18719,     0.18819,     0.18919,     0.19019,     0.19119,\n",
      "           0.19219,     0.19319,     0.19419,      0.1952,      0.1962,      0.1972,      0.1982,      0.1992,      0.2002,      0.2012,      0.2022,      0.2032,      0.2042,     0.20521,     0.20621,     0.20721,     0.20821,     0.20921,     0.21021,     0.21121,     0.21221,     0.21321,     0.21421,     0.21522,\n",
      "           0.21622,     0.21722,     0.21822,     0.21922,     0.22022,     0.22122,     0.22222,     0.22322,     0.22422,     0.22523,     0.22623,     0.22723,     0.22823,     0.22923,     0.23023,     0.23123,     0.23223,     0.23323,     0.23423,     0.23524,     0.23624,     0.23724,     0.23824,     0.23924,\n",
      "           0.24024,     0.24124,     0.24224,     0.24324,     0.24424,     0.24525,     0.24625,     0.24725,     0.24825,     0.24925,     0.25025,     0.25125,     0.25225,     0.25325,     0.25425,     0.25526,     0.25626,     0.25726,     0.25826,     0.25926,     0.26026,     0.26126,     0.26226,     0.26326,\n",
      "           0.26426,     0.26527,     0.26627,     0.26727,     0.26827,     0.26927,     0.27027,     0.27127,     0.27227,     0.27327,     0.27427,     0.27528,     0.27628,     0.27728,     0.27828,     0.27928,     0.28028,     0.28128,     0.28228,     0.28328,     0.28428,     0.28529,     0.28629,     0.28729,\n",
      "           0.28829,     0.28929,     0.29029,     0.29129,     0.29229,     0.29329,     0.29429,      0.2953,      0.2963,      0.2973,      0.2983,      0.2993,      0.3003,      0.3013,      0.3023,      0.3033,      0.3043,     0.30531,     0.30631,     0.30731,     0.30831,     0.30931,     0.31031,     0.31131,\n",
      "           0.31231,     0.31331,     0.31431,     0.31532,     0.31632,     0.31732,     0.31832,     0.31932,     0.32032,     0.32132,     0.32232,     0.32332,     0.32432,     0.32533,     0.32633,     0.32733,     0.32833,     0.32933,     0.33033,     0.33133,     0.33233,     0.33333,     0.33433,     0.33534,\n",
      "           0.33634,     0.33734,     0.33834,     0.33934,     0.34034,     0.34134,     0.34234,     0.34334,     0.34434,     0.34535,     0.34635,     0.34735,     0.34835,     0.34935,     0.35035,     0.35135,     0.35235,     0.35335,     0.35435,     0.35536,     0.35636,     0.35736,     0.35836,     0.35936,\n",
      "           0.36036,     0.36136,     0.36236,     0.36336,     0.36436,     0.36537,     0.36637,     0.36737,     0.36837,     0.36937,     0.37037,     0.37137,     0.37237,     0.37337,     0.37437,     0.37538,     0.37638,     0.37738,     0.37838,     0.37938,     0.38038,     0.38138,     0.38238,     0.38338,\n",
      "           0.38438,     0.38539,     0.38639,     0.38739,     0.38839,     0.38939,     0.39039,     0.39139,     0.39239,     0.39339,     0.39439,      0.3954,      0.3964,      0.3974,      0.3984,      0.3994,      0.4004,      0.4014,      0.4024,      0.4034,      0.4044,     0.40541,     0.40641,     0.40741,\n",
      "           0.40841,     0.40941,     0.41041,     0.41141,     0.41241,     0.41341,     0.41441,     0.41542,     0.41642,     0.41742,     0.41842,     0.41942,     0.42042,     0.42142,     0.42242,     0.42342,     0.42442,     0.42543,     0.42643,     0.42743,     0.42843,     0.42943,     0.43043,     0.43143,\n",
      "           0.43243,     0.43343,     0.43443,     0.43544,     0.43644,     0.43744,     0.43844,     0.43944,     0.44044,     0.44144,     0.44244,     0.44344,     0.44444,     0.44545,     0.44645,     0.44745,     0.44845,     0.44945,     0.45045,     0.45145,     0.45245,     0.45345,     0.45445,     0.45546,\n",
      "           0.45646,     0.45746,     0.45846,     0.45946,     0.46046,     0.46146,     0.46246,     0.46346,     0.46446,     0.46547,     0.46647,     0.46747,     0.46847,     0.46947,     0.47047,     0.47147,     0.47247,     0.47347,     0.47447,     0.47548,     0.47648,     0.47748,     0.47848,     0.47948,\n",
      "           0.48048,     0.48148,     0.48248,     0.48348,     0.48448,     0.48549,     0.48649,     0.48749,     0.48849,     0.48949,     0.49049,     0.49149,     0.49249,     0.49349,     0.49449,      0.4955,      0.4965,      0.4975,      0.4985,      0.4995,      0.5005,      0.5015,      0.5025,      0.5035,\n",
      "            0.5045,     0.50551,     0.50651,     0.50751,     0.50851,     0.50951,     0.51051,     0.51151,     0.51251,     0.51351,     0.51451,     0.51552,     0.51652,     0.51752,     0.51852,     0.51952,     0.52052,     0.52152,     0.52252,     0.52352,     0.52452,     0.52553,     0.52653,     0.52753,\n",
      "           0.52853,     0.52953,     0.53053,     0.53153,     0.53253,     0.53353,     0.53453,     0.53554,     0.53654,     0.53754,     0.53854,     0.53954,     0.54054,     0.54154,     0.54254,     0.54354,     0.54454,     0.54555,     0.54655,     0.54755,     0.54855,     0.54955,     0.55055,     0.55155,\n",
      "           0.55255,     0.55355,     0.55455,     0.55556,     0.55656,     0.55756,     0.55856,     0.55956,     0.56056,     0.56156,     0.56256,     0.56356,     0.56456,     0.56557,     0.56657,     0.56757,     0.56857,     0.56957,     0.57057,     0.57157,     0.57257,     0.57357,     0.57457,     0.57558,\n",
      "           0.57658,     0.57758,     0.57858,     0.57958,     0.58058,     0.58158,     0.58258,     0.58358,     0.58458,     0.58559,     0.58659,     0.58759,     0.58859,     0.58959,     0.59059,     0.59159,     0.59259,     0.59359,     0.59459,      0.5956,      0.5966,      0.5976,      0.5986,      0.5996,\n",
      "            0.6006,      0.6016,      0.6026,      0.6036,      0.6046,     0.60561,     0.60661,     0.60761,     0.60861,     0.60961,     0.61061,     0.61161,     0.61261,     0.61361,     0.61461,     0.61562,     0.61662,     0.61762,     0.61862,     0.61962,     0.62062,     0.62162,     0.62262,     0.62362,\n",
      "           0.62462,     0.62563,     0.62663,     0.62763,     0.62863,     0.62963,     0.63063,     0.63163,     0.63263,     0.63363,     0.63463,     0.63564,     0.63664,     0.63764,     0.63864,     0.63964,     0.64064,     0.64164,     0.64264,     0.64364,     0.64464,     0.64565,     0.64665,     0.64765,\n",
      "           0.64865,     0.64965,     0.65065,     0.65165,     0.65265,     0.65365,     0.65465,     0.65566,     0.65666,     0.65766,     0.65866,     0.65966,     0.66066,     0.66166,     0.66266,     0.66366,     0.66466,     0.66567,     0.66667,     0.66767,     0.66867,     0.66967,     0.67067,     0.67167,\n",
      "           0.67267,     0.67367,     0.67467,     0.67568,     0.67668,     0.67768,     0.67868,     0.67968,     0.68068,     0.68168,     0.68268,     0.68368,     0.68468,     0.68569,     0.68669,     0.68769,     0.68869,     0.68969,     0.69069,     0.69169,     0.69269,     0.69369,     0.69469,      0.6957,\n",
      "            0.6967,      0.6977,      0.6987,      0.6997,      0.7007,      0.7017,      0.7027,      0.7037,      0.7047,     0.70571,     0.70671,     0.70771,     0.70871,     0.70971,     0.71071,     0.71171,     0.71271,     0.71371,     0.71471,     0.71572,     0.71672,     0.71772,     0.71872,     0.71972,\n",
      "           0.72072,     0.72172,     0.72272,     0.72372,     0.72472,     0.72573,     0.72673,     0.72773,     0.72873,     0.72973,     0.73073,     0.73173,     0.73273,     0.73373,     0.73473,     0.73574,     0.73674,     0.73774,     0.73874,     0.73974,     0.74074,     0.74174,     0.74274,     0.74374,\n",
      "           0.74474,     0.74575,     0.74675,     0.74775,     0.74875,     0.74975,     0.75075,     0.75175,     0.75275,     0.75375,     0.75475,     0.75576,     0.75676,     0.75776,     0.75876,     0.75976,     0.76076,     0.76176,     0.76276,     0.76376,     0.76476,     0.76577,     0.76677,     0.76777,\n",
      "           0.76877,     0.76977,     0.77077,     0.77177,     0.77277,     0.77377,     0.77477,     0.77578,     0.77678,     0.77778,     0.77878,     0.77978,     0.78078,     0.78178,     0.78278,     0.78378,     0.78478,     0.78579,     0.78679,     0.78779,     0.78879,     0.78979,     0.79079,     0.79179,\n",
      "           0.79279,     0.79379,     0.79479,      0.7958,      0.7968,      0.7978,      0.7988,      0.7998,      0.8008,      0.8018,      0.8028,      0.8038,      0.8048,     0.80581,     0.80681,     0.80781,     0.80881,     0.80981,     0.81081,     0.81181,     0.81281,     0.81381,     0.81481,     0.81582,\n",
      "           0.81682,     0.81782,     0.81882,     0.81982,     0.82082,     0.82182,     0.82282,     0.82382,     0.82482,     0.82583,     0.82683,     0.82783,     0.82883,     0.82983,     0.83083,     0.83183,     0.83283,     0.83383,     0.83483,     0.83584,     0.83684,     0.83784,     0.83884,     0.83984,\n",
      "           0.84084,     0.84184,     0.84284,     0.84384,     0.84484,     0.84585,     0.84685,     0.84785,     0.84885,     0.84985,     0.85085,     0.85185,     0.85285,     0.85385,     0.85485,     0.85586,     0.85686,     0.85786,     0.85886,     0.85986,     0.86086,     0.86186,     0.86286,     0.86386,\n",
      "           0.86486,     0.86587,     0.86687,     0.86787,     0.86887,     0.86987,     0.87087,     0.87187,     0.87287,     0.87387,     0.87487,     0.87588,     0.87688,     0.87788,     0.87888,     0.87988,     0.88088,     0.88188,     0.88288,     0.88388,     0.88488,     0.88589,     0.88689,     0.88789,\n",
      "           0.88889,     0.88989,     0.89089,     0.89189,     0.89289,     0.89389,     0.89489,      0.8959,      0.8969,      0.8979,      0.8989,      0.8999,      0.9009,      0.9019,      0.9029,      0.9039,      0.9049,     0.90591,     0.90691,     0.90791,     0.90891,     0.90991,     0.91091,     0.91191,\n",
      "           0.91291,     0.91391,     0.91491,     0.91592,     0.91692,     0.91792,     0.91892,     0.91992,     0.92092,     0.92192,     0.92292,     0.92392,     0.92492,     0.92593,     0.92693,     0.92793,     0.92893,     0.92993,     0.93093,     0.93193,     0.93293,     0.93393,     0.93493,     0.93594,\n",
      "           0.93694,     0.93794,     0.93894,     0.93994,     0.94094,     0.94194,     0.94294,     0.94394,     0.94494,     0.94595,     0.94695,     0.94795,     0.94895,     0.94995,     0.95095,     0.95195,     0.95295,     0.95395,     0.95495,     0.95596,     0.95696,     0.95796,     0.95896,     0.95996,\n",
      "           0.96096,     0.96196,     0.96296,     0.96396,     0.96496,     0.96597,     0.96697,     0.96797,     0.96897,     0.96997,     0.97097,     0.97197,     0.97297,     0.97397,     0.97497,     0.97598,     0.97698,     0.97798,     0.97898,     0.97998,     0.98098,     0.98198,     0.98298,     0.98398,\n",
      "           0.98498,     0.98599,     0.98699,     0.98799,     0.98899,     0.98999,     0.99099,     0.99199,     0.99299,     0.99399,     0.99499,       0.996,       0.997,       0.998,       0.999,           1]), array([[   0.026139,    0.026161,    0.042556,     0.05302,    0.063657,    0.073944,    0.079515,    0.085762,    0.090983,    0.096466,      0.1028,     0.10849,      0.1136,     0.11738,     0.12132,     0.12682,     0.13142,     0.13292,      0.1386,     0.14257,      0.1419,     0.14382,     0.14934,\n",
      "            0.15131,     0.15337,     0.15223,     0.15516,     0.15922,       0.162,     0.16421,     0.16956,     0.17193,     0.17389,     0.17432,     0.17628,     0.17711,     0.17966,      0.1804,      0.1825,     0.18312,     0.18585,     0.18816,     0.19293,     0.19553,     0.19757,     0.20023,\n",
      "            0.20111,     0.20191,     0.20358,     0.20418,     0.20795,     0.20912,     0.21393,     0.21534,     0.21648,     0.21862,     0.22075,     0.22155,     0.22455,     0.22561,     0.22877,     0.22941,     0.22542,     0.22683,     0.22783,     0.22815,     0.22846,     0.22877,     0.22908,\n",
      "            0.23008,     0.23898,     0.24632,     0.24943,     0.25039,     0.25089,      0.2514,     0.25197,      0.2527,     0.25342,      0.2555,     0.25688,     0.25813,     0.26067,      0.2635,      0.2644,     0.26542,      0.2665,     0.26728,       0.268,     0.26945,     0.27307,     0.27444,\n",
      "            0.27768,     0.27897,     0.28229,     0.28528,     0.28783,     0.29008,     0.29742,     0.29968,     0.30051,      0.3011,      0.3017,     0.30229,     0.30313,     0.30412,     0.30517,     0.31037,     0.31062,     0.31088,     0.31113,     0.31138,     0.31163,     0.31188,     0.31214,\n",
      "            0.31239,     0.31264,     0.31289,     0.31376,     0.31554,     0.31677,      0.3179,     0.32153,     0.32453,     0.32618,      0.3275,     0.32818,     0.32885,     0.32952,      0.3302,     0.33363,      0.3351,     0.33737,     0.34178,     0.34335,     0.34416,     0.34498,      0.3458,\n",
      "            0.34072,     0.34147,     0.34322,      0.3441,     0.34498,     0.34587,     0.34766,     0.35105,     0.35315,     0.35547,     0.35727,     0.35769,     0.35811,     0.35853,     0.35895,     0.35937,      0.3598,     0.36022,     0.36064,     0.36182,      0.3636,     0.36594,     0.36901,\n",
      "            0.37228,     0.37472,     0.38065,     0.38139,     0.38214,     0.38288,     0.38362,     0.38437,     0.38743,     0.39381,     0.39559,     0.39737,     0.40353,     0.40509,     0.40665,     0.40848,     0.41038,     0.41253,     0.41536,     0.41862,     0.42188,     0.42307,     0.42426,\n",
      "            0.42545,     0.42663,     0.43264,     0.43465,     0.43667,     0.43808,     0.43906,     0.44005,     0.44104,     0.44202,     0.44301,     0.44394,     0.44486,     0.44578,     0.44671,     0.44763,     0.44856,     0.45239,     0.45521,      0.4565,     0.45778,     0.45907,     0.46036,\n",
      "            0.46585,     0.47103,     0.47991,     0.48264,     0.48536,     0.48717,     0.48862,     0.49008,     0.49154,     0.49302,     0.49544,     0.49787,     0.50022,     0.50208,     0.50394,      0.5058,     0.50801,     0.51148,     0.51492,     0.51808,     0.52124,     0.52395,     0.52639,\n",
      "            0.52883,      0.5308,     0.53204,     0.53328,     0.53452,     0.53576,     0.53701,     0.53825,     0.54375,     0.54752,      0.5488,     0.55008,     0.55135,     0.55263,      0.5539,     0.55518,     0.55604,     0.55673,     0.55741,      0.5581,     0.55878,     0.55947,     0.56016,\n",
      "            0.56084,     0.56153,     0.56221,      0.5629,     0.56359,     0.56427,      0.5654,     0.56678,     0.56816,     0.56954,     0.57092,      0.5723,     0.57368,     0.58418,     0.58521,     0.58623,     0.58726,     0.58829,     0.58932,     0.59035,     0.59138,      0.5924,      0.5935,\n",
      "            0.59486,     0.59621,     0.59757,     0.59893,     0.60028,     0.60164,       0.603,     0.60395,      0.6047,     0.60545,      0.6062,     0.60695,      0.6077,     0.60845,      0.6092,     0.60995,      0.6107,     0.61145,      0.6122,     0.61295,      0.6137,     0.61573,     0.61882,\n",
      "            0.62192,     0.62498,     0.61819,     0.61897,     0.61975,     0.62052,      0.6213,     0.62208,     0.62286,     0.62363,     0.62441,     0.62519,     0.62596,     0.62674,     0.62752,      0.6283,     0.62907,     0.64155,     0.64222,     0.64288,     0.64355,     0.64422,     0.64489,\n",
      "            0.64555,     0.64622,     0.64689,     0.64756,     0.64822,     0.64889,     0.64956,     0.65022,     0.65089,     0.65156,     0.65223,     0.65289,     0.65356,     0.66635,     0.66527,     0.66418,     0.66309,       0.662,     0.66092,     0.66049,     0.66364,     0.66679,     0.66994,\n",
      "            0.67309,     0.68843,     0.68979,     0.69114,     0.69249,     0.69384,     0.69519,     0.69654,     0.69789,     0.69924,     0.70059,     0.70194,     0.70225,     0.70239,     0.70253,     0.70267,     0.70281,     0.70295,     0.70309,     0.70323,     0.70337,     0.70351,     0.70364,\n",
      "            0.70378,     0.70392,     0.70406,      0.7042,     0.70434,     0.70448,     0.70462,     0.70476,      0.7049,     0.70504,     0.70518,     0.70532,     0.70546,      0.7056,     0.70574,     0.70588,     0.70602,     0.70616,      0.7063,     0.70644,     0.70658,     0.70672,     0.70686,\n",
      "              0.707,     0.70714,     0.70728,     0.70742,     0.70756,      0.7077,     0.70784,     0.70798,     0.70812,     0.70826,      0.7084,     0.70853,     0.70867,     0.70881,     0.70895,     0.70909,     0.70923,     0.70937,     0.70951,     0.70965,     0.70979,     0.70993,     0.71007,\n",
      "            0.71021,     0.71035,     0.71049,     0.71063,     0.71077,     0.71091,     0.71105,     0.71119,     0.71133,     0.71147,     0.71161,     0.71175,     0.71189,     0.71203,     0.71217,     0.71231,     0.71245,     0.71259,     0.71273,     0.71287,     0.71301,     0.71315,     0.71329,\n",
      "            0.71342,     0.71356,      0.7137,     0.71384,     0.71398,     0.71412,     0.71426,      0.7144,     0.71454,     0.71468,     0.71482,     0.71496,      0.7151,     0.71524,     0.71538,     0.71552,     0.71566,      0.7158,     0.71594,     0.71608,     0.71622,     0.71636,      0.7165,\n",
      "            0.71664,     0.71678,     0.71692,     0.71706,      0.7172,     0.71734,     0.72425,     0.73391,     0.73689,     0.73986,     0.74284,     0.74582,      0.7488,      0.7524,     0.75642,     0.76043,     0.76445,     0.76738,     0.76715,     0.76691,     0.76668,     0.76644,     0.76621,\n",
      "            0.76597,     0.76574,      0.7655,     0.76527,     0.76504,      0.7648,     0.76457,     0.76433,      0.7641,     0.76386,     0.76363,     0.76339,     0.76316,     0.76292,     0.76269,     0.76245,     0.76222,     0.76199,     0.76444,      0.7683,     0.77216,     0.77602,     0.77988,\n",
      "            0.79325,     0.79988,     0.79965,     0.79943,     0.79921,     0.79899,     0.79877,     0.79854,     0.79832,      0.7981,     0.79788,     0.79766,     0.79743,     0.79721,     0.79699,     0.79677,     0.79655,     0.79632,      0.7961,     0.79588,     0.79566,     0.79543,     0.79521,\n",
      "            0.79499,     0.79688,      0.8012,     0.80553,     0.80985,     0.81418,      0.8151,       0.814,     0.81291,     0.81181,     0.81129,     0.81654,      0.8218,     0.82706,     0.83231,     0.83375,     0.83428,      0.8348,     0.83532,     0.83584,     0.83636,     0.83688,      0.8374,\n",
      "            0.83793,     0.83845,     0.83897,     0.83949,     0.84001,     0.84053,     0.84106,     0.84158,      0.8421,     0.84262,     0.84314,     0.84366,     0.84419,     0.84471,     0.84523,     0.84575,     0.84627,     0.84679,     0.84731,     0.84784,     0.84836,     0.84888,      0.8494,\n",
      "            0.84992,     0.85044,     0.85097,     0.85149,     0.85201,     0.85253,     0.85305,     0.85357,      0.8541,     0.85462,     0.85514,     0.85566,     0.85618,      0.8567,     0.85658,     0.85302,     0.85363,     0.85433,     0.85503,     0.85573,     0.85643,     0.85714,     0.85784,\n",
      "            0.85854,     0.85924,     0.85994,     0.86064,     0.86135,     0.86205,     0.86275,     0.86345,     0.86415,     0.86486,     0.86556,     0.86626,     0.86696,     0.86766,     0.86836,     0.86907,     0.86977,     0.87047,     0.87117,     0.87187,     0.87258,     0.87328,     0.87398,\n",
      "            0.87468,     0.87538,     0.87608,     0.87679,     0.87749,     0.87819,     0.87904,     0.88073,     0.88241,      0.8841,     0.88579,     0.88748,     0.88917,     0.89086,     0.89255,     0.89424,     0.89592,     0.89761,      0.8993,     0.90099,     0.90268,     0.90437,     0.90606,\n",
      "             0.9059,     0.90551,     0.90512,     0.90473,     0.90434,     0.90395,     0.90356,     0.90315,     0.90264,     0.90213,     0.90162,     0.90112,     0.90061,      0.9001,     0.90924,     0.92065,     0.93103,     0.93097,     0.93092,     0.93086,      0.9308,     0.93074,     0.93069,\n",
      "            0.93063,     0.93057,     0.93052,     0.93046,      0.9304,     0.93034,     0.93029,     0.93023,     0.93017,     0.93012,     0.93006,        0.93,     0.92994,     0.92989,     0.92983,     0.92977,     0.92972,     0.92966,      0.9296,     0.92954,     0.92949,     0.92943,     0.92937,\n",
      "            0.92932,     0.92926,      0.9292,     0.92915,     0.92909,     0.92903,     0.92897,     0.92892,     0.92886,      0.9288,     0.92875,     0.92869,     0.92863,     0.92857,     0.92853,     0.92848,     0.92843,     0.92838,     0.92833,     0.92829,     0.92824,     0.92819,     0.92814,\n",
      "             0.9281,     0.92805,       0.928,     0.92795,      0.9279,     0.92786,     0.92781,     0.92776,     0.92771,     0.92766,     0.92762,     0.92757,     0.92752,     0.92747,     0.92742,     0.92738,     0.92733,     0.92728,     0.92723,     0.92719,     0.92714,     0.92709,     0.92704,\n",
      "            0.92699,     0.92695,      0.9269,     0.92685,      0.9268,     0.92675,     0.92671,     0.92666,     0.92661,     0.92656,     0.92652,     0.92647,     0.92642,     0.92637,     0.92632,     0.92628,     0.92623,     0.92618,     0.92613,     0.92608,     0.92604,     0.92599,     0.92594,\n",
      "            0.92558,     0.92508,     0.92458,     0.92407,     0.92357,     0.92307,      0.9227,     0.92234,     0.92197,      0.9216,     0.92123,     0.92087,      0.9205,     0.92013,     0.91994,     0.91984,     0.91974,     0.91965,     0.91955,     0.91945,     0.91936,     0.91926,     0.91916,\n",
      "            0.91907,     0.91897,     0.91887,     0.91878,     0.91868,     0.91858,     0.91849,     0.91839,     0.91829,      0.9182,      0.9181,       0.918,     0.91791,     0.91781,     0.91771,     0.91762,     0.91752,     0.91742,     0.91733,     0.91723,     0.91713,     0.91704,     0.91694,\n",
      "            0.91684,     0.91675,     0.91615,     0.91338,     0.92899,     0.94714,     0.95311,     0.95226,      0.9521,     0.95193,     0.95176,     0.95159,     0.95143,     0.95126,     0.95109,     0.95093,     0.95076,     0.95059,     0.95042,     0.95026,     0.95009,     0.94979,     0.94933,\n",
      "            0.94888,     0.94843,     0.94797,     0.94752,      0.9471,      0.9467,     0.94631,     0.94591,     0.94551,     0.94511,     0.94472,      0.9457,     0.94967,     0.95365,     0.95763,     0.96161,     0.96559,     0.96957,     0.97355,     0.97753,     0.98151,     0.98549,     0.98947,\n",
      "            0.99345,     0.99742,           1,           1,           1,           1,           1,           1,           1,           1,           1,           1,           1,           1,           1,           1,           1,           1,           1,           1,           1,           1,           1,\n",
      "                  1,           1,           1,           1,           1,           1,           1,           1,           1,           1,           1,           1,           1,           1,           1,           1,           1,           1,           1,           1,           1,           1,           1,\n",
      "                  1,           1,           1,           1,           1,           1,           1,           1,           1,           1,           1,           1,           1,           1,           1,           1,           1,           1,           1,           1,           1,           1,           1,\n",
      "                  1,           1,           1,           1,           1,           1,           1,           1,           1,           1,           1,           1,           1,           1,           1,           1,           1,           1,           1,           1,           1,           1,           1,\n",
      "                  1,           1,           1,           1,           1,           1,           1,           1,           1,           1,           1,           1,           1,           1,           1,           1,           1,           1,           1,           1,           1,           1,           1,\n",
      "                  1,           1,           1,           1,           1,           1,           1,           1,           1,           1,           1,           1,           1,           1,           1,           1,           1,           1,           1,           1,           1,           1,           1,\n",
      "                  1,           1,           1,           1,           1,           1,           1,           1,           1,           1,           1]]), 'Confidence', 'Precision'], [array([          0,    0.001001,    0.002002,    0.003003,    0.004004,    0.005005,    0.006006,    0.007007,    0.008008,    0.009009,     0.01001,    0.011011,    0.012012,    0.013013,    0.014014,    0.015015,    0.016016,    0.017017,    0.018018,    0.019019,     0.02002,    0.021021,    0.022022,    0.023023,\n",
      "          0.024024,    0.025025,    0.026026,    0.027027,    0.028028,    0.029029,     0.03003,    0.031031,    0.032032,    0.033033,    0.034034,    0.035035,    0.036036,    0.037037,    0.038038,    0.039039,     0.04004,    0.041041,    0.042042,    0.043043,    0.044044,    0.045045,    0.046046,    0.047047,\n",
      "          0.048048,    0.049049,     0.05005,    0.051051,    0.052052,    0.053053,    0.054054,    0.055055,    0.056056,    0.057057,    0.058058,    0.059059,     0.06006,    0.061061,    0.062062,    0.063063,    0.064064,    0.065065,    0.066066,    0.067067,    0.068068,    0.069069,     0.07007,    0.071071,\n",
      "          0.072072,    0.073073,    0.074074,    0.075075,    0.076076,    0.077077,    0.078078,    0.079079,     0.08008,    0.081081,    0.082082,    0.083083,    0.084084,    0.085085,    0.086086,    0.087087,    0.088088,    0.089089,     0.09009,    0.091091,    0.092092,    0.093093,    0.094094,    0.095095,\n",
      "          0.096096,    0.097097,    0.098098,    0.099099,      0.1001,      0.1011,      0.1021,      0.1031,      0.1041,     0.10511,     0.10611,     0.10711,     0.10811,     0.10911,     0.11011,     0.11111,     0.11211,     0.11311,     0.11411,     0.11512,     0.11612,     0.11712,     0.11812,     0.11912,\n",
      "           0.12012,     0.12112,     0.12212,     0.12312,     0.12412,     0.12513,     0.12613,     0.12713,     0.12813,     0.12913,     0.13013,     0.13113,     0.13213,     0.13313,     0.13413,     0.13514,     0.13614,     0.13714,     0.13814,     0.13914,     0.14014,     0.14114,     0.14214,     0.14314,\n",
      "           0.14414,     0.14515,     0.14615,     0.14715,     0.14815,     0.14915,     0.15015,     0.15115,     0.15215,     0.15315,     0.15415,     0.15516,     0.15616,     0.15716,     0.15816,     0.15916,     0.16016,     0.16116,     0.16216,     0.16316,     0.16416,     0.16517,     0.16617,     0.16717,\n",
      "           0.16817,     0.16917,     0.17017,     0.17117,     0.17217,     0.17317,     0.17417,     0.17518,     0.17618,     0.17718,     0.17818,     0.17918,     0.18018,     0.18118,     0.18218,     0.18318,     0.18418,     0.18519,     0.18619,     0.18719,     0.18819,     0.18919,     0.19019,     0.19119,\n",
      "           0.19219,     0.19319,     0.19419,      0.1952,      0.1962,      0.1972,      0.1982,      0.1992,      0.2002,      0.2012,      0.2022,      0.2032,      0.2042,     0.20521,     0.20621,     0.20721,     0.20821,     0.20921,     0.21021,     0.21121,     0.21221,     0.21321,     0.21421,     0.21522,\n",
      "           0.21622,     0.21722,     0.21822,     0.21922,     0.22022,     0.22122,     0.22222,     0.22322,     0.22422,     0.22523,     0.22623,     0.22723,     0.22823,     0.22923,     0.23023,     0.23123,     0.23223,     0.23323,     0.23423,     0.23524,     0.23624,     0.23724,     0.23824,     0.23924,\n",
      "           0.24024,     0.24124,     0.24224,     0.24324,     0.24424,     0.24525,     0.24625,     0.24725,     0.24825,     0.24925,     0.25025,     0.25125,     0.25225,     0.25325,     0.25425,     0.25526,     0.25626,     0.25726,     0.25826,     0.25926,     0.26026,     0.26126,     0.26226,     0.26326,\n",
      "           0.26426,     0.26527,     0.26627,     0.26727,     0.26827,     0.26927,     0.27027,     0.27127,     0.27227,     0.27327,     0.27427,     0.27528,     0.27628,     0.27728,     0.27828,     0.27928,     0.28028,     0.28128,     0.28228,     0.28328,     0.28428,     0.28529,     0.28629,     0.28729,\n",
      "           0.28829,     0.28929,     0.29029,     0.29129,     0.29229,     0.29329,     0.29429,      0.2953,      0.2963,      0.2973,      0.2983,      0.2993,      0.3003,      0.3013,      0.3023,      0.3033,      0.3043,     0.30531,     0.30631,     0.30731,     0.30831,     0.30931,     0.31031,     0.31131,\n",
      "           0.31231,     0.31331,     0.31431,     0.31532,     0.31632,     0.31732,     0.31832,     0.31932,     0.32032,     0.32132,     0.32232,     0.32332,     0.32432,     0.32533,     0.32633,     0.32733,     0.32833,     0.32933,     0.33033,     0.33133,     0.33233,     0.33333,     0.33433,     0.33534,\n",
      "           0.33634,     0.33734,     0.33834,     0.33934,     0.34034,     0.34134,     0.34234,     0.34334,     0.34434,     0.34535,     0.34635,     0.34735,     0.34835,     0.34935,     0.35035,     0.35135,     0.35235,     0.35335,     0.35435,     0.35536,     0.35636,     0.35736,     0.35836,     0.35936,\n",
      "           0.36036,     0.36136,     0.36236,     0.36336,     0.36436,     0.36537,     0.36637,     0.36737,     0.36837,     0.36937,     0.37037,     0.37137,     0.37237,     0.37337,     0.37437,     0.37538,     0.37638,     0.37738,     0.37838,     0.37938,     0.38038,     0.38138,     0.38238,     0.38338,\n",
      "           0.38438,     0.38539,     0.38639,     0.38739,     0.38839,     0.38939,     0.39039,     0.39139,     0.39239,     0.39339,     0.39439,      0.3954,      0.3964,      0.3974,      0.3984,      0.3994,      0.4004,      0.4014,      0.4024,      0.4034,      0.4044,     0.40541,     0.40641,     0.40741,\n",
      "           0.40841,     0.40941,     0.41041,     0.41141,     0.41241,     0.41341,     0.41441,     0.41542,     0.41642,     0.41742,     0.41842,     0.41942,     0.42042,     0.42142,     0.42242,     0.42342,     0.42442,     0.42543,     0.42643,     0.42743,     0.42843,     0.42943,     0.43043,     0.43143,\n",
      "           0.43243,     0.43343,     0.43443,     0.43544,     0.43644,     0.43744,     0.43844,     0.43944,     0.44044,     0.44144,     0.44244,     0.44344,     0.44444,     0.44545,     0.44645,     0.44745,     0.44845,     0.44945,     0.45045,     0.45145,     0.45245,     0.45345,     0.45445,     0.45546,\n",
      "           0.45646,     0.45746,     0.45846,     0.45946,     0.46046,     0.46146,     0.46246,     0.46346,     0.46446,     0.46547,     0.46647,     0.46747,     0.46847,     0.46947,     0.47047,     0.47147,     0.47247,     0.47347,     0.47447,     0.47548,     0.47648,     0.47748,     0.47848,     0.47948,\n",
      "           0.48048,     0.48148,     0.48248,     0.48348,     0.48448,     0.48549,     0.48649,     0.48749,     0.48849,     0.48949,     0.49049,     0.49149,     0.49249,     0.49349,     0.49449,      0.4955,      0.4965,      0.4975,      0.4985,      0.4995,      0.5005,      0.5015,      0.5025,      0.5035,\n",
      "            0.5045,     0.50551,     0.50651,     0.50751,     0.50851,     0.50951,     0.51051,     0.51151,     0.51251,     0.51351,     0.51451,     0.51552,     0.51652,     0.51752,     0.51852,     0.51952,     0.52052,     0.52152,     0.52252,     0.52352,     0.52452,     0.52553,     0.52653,     0.52753,\n",
      "           0.52853,     0.52953,     0.53053,     0.53153,     0.53253,     0.53353,     0.53453,     0.53554,     0.53654,     0.53754,     0.53854,     0.53954,     0.54054,     0.54154,     0.54254,     0.54354,     0.54454,     0.54555,     0.54655,     0.54755,     0.54855,     0.54955,     0.55055,     0.55155,\n",
      "           0.55255,     0.55355,     0.55455,     0.55556,     0.55656,     0.55756,     0.55856,     0.55956,     0.56056,     0.56156,     0.56256,     0.56356,     0.56456,     0.56557,     0.56657,     0.56757,     0.56857,     0.56957,     0.57057,     0.57157,     0.57257,     0.57357,     0.57457,     0.57558,\n",
      "           0.57658,     0.57758,     0.57858,     0.57958,     0.58058,     0.58158,     0.58258,     0.58358,     0.58458,     0.58559,     0.58659,     0.58759,     0.58859,     0.58959,     0.59059,     0.59159,     0.59259,     0.59359,     0.59459,      0.5956,      0.5966,      0.5976,      0.5986,      0.5996,\n",
      "            0.6006,      0.6016,      0.6026,      0.6036,      0.6046,     0.60561,     0.60661,     0.60761,     0.60861,     0.60961,     0.61061,     0.61161,     0.61261,     0.61361,     0.61461,     0.61562,     0.61662,     0.61762,     0.61862,     0.61962,     0.62062,     0.62162,     0.62262,     0.62362,\n",
      "           0.62462,     0.62563,     0.62663,     0.62763,     0.62863,     0.62963,     0.63063,     0.63163,     0.63263,     0.63363,     0.63463,     0.63564,     0.63664,     0.63764,     0.63864,     0.63964,     0.64064,     0.64164,     0.64264,     0.64364,     0.64464,     0.64565,     0.64665,     0.64765,\n",
      "           0.64865,     0.64965,     0.65065,     0.65165,     0.65265,     0.65365,     0.65465,     0.65566,     0.65666,     0.65766,     0.65866,     0.65966,     0.66066,     0.66166,     0.66266,     0.66366,     0.66466,     0.66567,     0.66667,     0.66767,     0.66867,     0.66967,     0.67067,     0.67167,\n",
      "           0.67267,     0.67367,     0.67467,     0.67568,     0.67668,     0.67768,     0.67868,     0.67968,     0.68068,     0.68168,     0.68268,     0.68368,     0.68468,     0.68569,     0.68669,     0.68769,     0.68869,     0.68969,     0.69069,     0.69169,     0.69269,     0.69369,     0.69469,      0.6957,\n",
      "            0.6967,      0.6977,      0.6987,      0.6997,      0.7007,      0.7017,      0.7027,      0.7037,      0.7047,     0.70571,     0.70671,     0.70771,     0.70871,     0.70971,     0.71071,     0.71171,     0.71271,     0.71371,     0.71471,     0.71572,     0.71672,     0.71772,     0.71872,     0.71972,\n",
      "           0.72072,     0.72172,     0.72272,     0.72372,     0.72472,     0.72573,     0.72673,     0.72773,     0.72873,     0.72973,     0.73073,     0.73173,     0.73273,     0.73373,     0.73473,     0.73574,     0.73674,     0.73774,     0.73874,     0.73974,     0.74074,     0.74174,     0.74274,     0.74374,\n",
      "           0.74474,     0.74575,     0.74675,     0.74775,     0.74875,     0.74975,     0.75075,     0.75175,     0.75275,     0.75375,     0.75475,     0.75576,     0.75676,     0.75776,     0.75876,     0.75976,     0.76076,     0.76176,     0.76276,     0.76376,     0.76476,     0.76577,     0.76677,     0.76777,\n",
      "           0.76877,     0.76977,     0.77077,     0.77177,     0.77277,     0.77377,     0.77477,     0.77578,     0.77678,     0.77778,     0.77878,     0.77978,     0.78078,     0.78178,     0.78278,     0.78378,     0.78478,     0.78579,     0.78679,     0.78779,     0.78879,     0.78979,     0.79079,     0.79179,\n",
      "           0.79279,     0.79379,     0.79479,      0.7958,      0.7968,      0.7978,      0.7988,      0.7998,      0.8008,      0.8018,      0.8028,      0.8038,      0.8048,     0.80581,     0.80681,     0.80781,     0.80881,     0.80981,     0.81081,     0.81181,     0.81281,     0.81381,     0.81481,     0.81582,\n",
      "           0.81682,     0.81782,     0.81882,     0.81982,     0.82082,     0.82182,     0.82282,     0.82382,     0.82482,     0.82583,     0.82683,     0.82783,     0.82883,     0.82983,     0.83083,     0.83183,     0.83283,     0.83383,     0.83483,     0.83584,     0.83684,     0.83784,     0.83884,     0.83984,\n",
      "           0.84084,     0.84184,     0.84284,     0.84384,     0.84484,     0.84585,     0.84685,     0.84785,     0.84885,     0.84985,     0.85085,     0.85185,     0.85285,     0.85385,     0.85485,     0.85586,     0.85686,     0.85786,     0.85886,     0.85986,     0.86086,     0.86186,     0.86286,     0.86386,\n",
      "           0.86486,     0.86587,     0.86687,     0.86787,     0.86887,     0.86987,     0.87087,     0.87187,     0.87287,     0.87387,     0.87487,     0.87588,     0.87688,     0.87788,     0.87888,     0.87988,     0.88088,     0.88188,     0.88288,     0.88388,     0.88488,     0.88589,     0.88689,     0.88789,\n",
      "           0.88889,     0.88989,     0.89089,     0.89189,     0.89289,     0.89389,     0.89489,      0.8959,      0.8969,      0.8979,      0.8989,      0.8999,      0.9009,      0.9019,      0.9029,      0.9039,      0.9049,     0.90591,     0.90691,     0.90791,     0.90891,     0.90991,     0.91091,     0.91191,\n",
      "           0.91291,     0.91391,     0.91491,     0.91592,     0.91692,     0.91792,     0.91892,     0.91992,     0.92092,     0.92192,     0.92292,     0.92392,     0.92492,     0.92593,     0.92693,     0.92793,     0.92893,     0.92993,     0.93093,     0.93193,     0.93293,     0.93393,     0.93493,     0.93594,\n",
      "           0.93694,     0.93794,     0.93894,     0.93994,     0.94094,     0.94194,     0.94294,     0.94394,     0.94494,     0.94595,     0.94695,     0.94795,     0.94895,     0.94995,     0.95095,     0.95195,     0.95295,     0.95395,     0.95495,     0.95596,     0.95696,     0.95796,     0.95896,     0.95996,\n",
      "           0.96096,     0.96196,     0.96296,     0.96396,     0.96496,     0.96597,     0.96697,     0.96797,     0.96897,     0.96997,     0.97097,     0.97197,     0.97297,     0.97397,     0.97497,     0.97598,     0.97698,     0.97798,     0.97898,     0.97998,     0.98098,     0.98198,     0.98298,     0.98398,\n",
      "           0.98498,     0.98599,     0.98699,     0.98799,     0.98899,     0.98999,     0.99099,     0.99199,     0.99299,     0.99399,     0.99499,       0.996,       0.997,       0.998,       0.999,           1]), array([[          1,           1,           1,           1,           1,           1,           1,           1,           1,           1,           1,           1,           1,           1,           1,           1,           1,           1,           1,           1,     0.98375,     0.97436,     0.97436,\n",
      "            0.97436,     0.97436,     0.94872,     0.94872,     0.94872,     0.94872,     0.94872,     0.94872,     0.94872,     0.94872,     0.94872,     0.94872,     0.94872,     0.94872,     0.94872,     0.94872,     0.94872,     0.94872,     0.94872,     0.94872,     0.94872,     0.94872,     0.94872,\n",
      "            0.94872,     0.94872,     0.94872,     0.94872,     0.94872,     0.94872,     0.94872,     0.94872,     0.94872,     0.94872,     0.94872,     0.94872,     0.94872,     0.94872,     0.94872,     0.94655,     0.92308,     0.92308,     0.92308,     0.92308,     0.92308,     0.92308,     0.92308,\n",
      "            0.92308,     0.92308,     0.92308,     0.92308,     0.92308,     0.92308,     0.92308,     0.92308,     0.92308,     0.92308,     0.92308,     0.92308,     0.92308,     0.92308,     0.92308,     0.92308,     0.92308,     0.92308,     0.92308,     0.92308,     0.92308,     0.92308,     0.92308,\n",
      "            0.92308,     0.92308,     0.92308,     0.92308,     0.92308,     0.92308,     0.92308,     0.92308,     0.92308,     0.92308,     0.92308,     0.92308,     0.92308,     0.92308,     0.92308,     0.92308,     0.92308,     0.92308,     0.92308,     0.92308,     0.92308,     0.92308,     0.92308,\n",
      "            0.92308,     0.92308,     0.92308,     0.92308,     0.92308,     0.92308,     0.92308,     0.92308,     0.92308,     0.92308,     0.92308,     0.92308,     0.92308,     0.92308,     0.92308,     0.92308,     0.92308,     0.92308,     0.92308,     0.92308,     0.92308,     0.92308,     0.92308,\n",
      "            0.90113,     0.89744,     0.89744,     0.89744,     0.89744,     0.89744,     0.89744,     0.89744,     0.89744,     0.89744,     0.89744,     0.89744,     0.89744,     0.89744,     0.89744,     0.89744,     0.89744,     0.89744,     0.89744,     0.89744,     0.89744,     0.89744,     0.89744,\n",
      "            0.89744,     0.89744,     0.89744,     0.89744,     0.89744,     0.89744,     0.89744,     0.89744,     0.89744,     0.89744,     0.89744,     0.89744,     0.89744,     0.89744,     0.89744,     0.89744,     0.89744,     0.89744,     0.89744,     0.89744,     0.89744,     0.89744,     0.89744,\n",
      "            0.89744,     0.89744,     0.89744,     0.89744,     0.89744,     0.89744,     0.89744,     0.89744,     0.89744,     0.89744,     0.89744,     0.89744,     0.89744,     0.89744,     0.89744,     0.89744,     0.89744,     0.89744,     0.89744,     0.89744,     0.89744,     0.89744,     0.89744,\n",
      "            0.89744,     0.89744,     0.89744,     0.89744,     0.89744,     0.89744,     0.89744,     0.89744,     0.89744,     0.89744,     0.89744,     0.89744,     0.89744,     0.89744,     0.89744,     0.89744,     0.89744,     0.89744,     0.89744,     0.89744,     0.89744,     0.89744,     0.89744,\n",
      "            0.89744,     0.89744,     0.89744,     0.89744,     0.89744,     0.89744,     0.89744,     0.89744,     0.89744,     0.89744,     0.89744,     0.89744,     0.89744,     0.89744,     0.89744,     0.89744,     0.89744,     0.89744,     0.89744,     0.89744,     0.89744,     0.89744,     0.89744,\n",
      "            0.89744,     0.89744,     0.89744,     0.89744,     0.89744,     0.89744,     0.89744,     0.89744,     0.89744,     0.89744,     0.89744,     0.89744,     0.89744,     0.89744,     0.89744,     0.89744,     0.89744,     0.89744,     0.89744,     0.89744,     0.89744,     0.89744,     0.89744,\n",
      "            0.89744,     0.89744,     0.89744,     0.89744,     0.89744,     0.89744,     0.89744,     0.89744,     0.89744,     0.89744,     0.89744,     0.89744,     0.89744,     0.89744,     0.89744,     0.89744,     0.89744,     0.89744,     0.89744,     0.89744,     0.89744,     0.89744,     0.89744,\n",
      "            0.89744,     0.89736,     0.87179,     0.87179,     0.87179,     0.87179,     0.87179,     0.87179,     0.87179,     0.87179,     0.87179,     0.87179,     0.87179,     0.87179,     0.87179,     0.87179,     0.87179,     0.87179,     0.87179,     0.87179,     0.87179,     0.87179,     0.87179,\n",
      "            0.87179,     0.87179,     0.87179,     0.87179,     0.87179,     0.87179,     0.87179,     0.87179,     0.87179,     0.87179,     0.87179,     0.87179,     0.87179,     0.87059,     0.86641,     0.86223,     0.85805,     0.85386,     0.84968,     0.84615,     0.84615,     0.84615,     0.84615,\n",
      "            0.84615,     0.84615,     0.84615,     0.84615,     0.84615,     0.84615,     0.84615,     0.84615,     0.84615,     0.84615,     0.84615,     0.84615,     0.84615,     0.84615,     0.84615,     0.84615,     0.84615,     0.84615,     0.84615,     0.84615,     0.84615,     0.84615,     0.84615,\n",
      "            0.84615,     0.84615,     0.84615,     0.84615,     0.84615,     0.84615,     0.84615,     0.84615,     0.84615,     0.84615,     0.84615,     0.84615,     0.84615,     0.84615,     0.84615,     0.84615,     0.84615,     0.84615,     0.84615,     0.84615,     0.84615,     0.84615,     0.84615,\n",
      "            0.84615,     0.84615,     0.84615,     0.84615,     0.84615,     0.84615,     0.84615,     0.84615,     0.84615,     0.84615,     0.84615,     0.84615,     0.84615,     0.84615,     0.84615,     0.84615,     0.84615,     0.84615,     0.84615,     0.84615,     0.84615,     0.84615,     0.84615,\n",
      "            0.84615,     0.84615,     0.84615,     0.84615,     0.84615,     0.84615,     0.84615,     0.84615,     0.84615,     0.84615,     0.84615,     0.84615,     0.84615,     0.84615,     0.84615,     0.84615,     0.84615,     0.84615,     0.84615,     0.84615,     0.84615,     0.84615,     0.84615,\n",
      "            0.84615,     0.84615,     0.84615,     0.84615,     0.84615,     0.84615,     0.84615,     0.84615,     0.84615,     0.84615,     0.84615,     0.84615,     0.84615,     0.84615,     0.84615,     0.84615,     0.84615,     0.84615,     0.84615,     0.84615,     0.84615,     0.84615,     0.84615,\n",
      "            0.84615,     0.84615,     0.84615,     0.84615,     0.84615,     0.84615,     0.84615,     0.84615,     0.84615,     0.84615,     0.84615,     0.84615,     0.84615,     0.84615,     0.84615,     0.84615,     0.84615,     0.84588,     0.84479,      0.8437,     0.84262,     0.84153,     0.84044,\n",
      "            0.83936,     0.83827,     0.83718,      0.8361,     0.83501,     0.83392,     0.83284,     0.83175,     0.83066,     0.82958,     0.82849,      0.8274,     0.82632,     0.82523,     0.82414,     0.82306,     0.82197,     0.82088,     0.82051,     0.82051,     0.82051,     0.82051,     0.82051,\n",
      "            0.82051,      0.8199,     0.81879,     0.81768,     0.81656,     0.81545,     0.81434,     0.81323,     0.81212,     0.81101,      0.8099,     0.80879,     0.80768,     0.80657,     0.80546,     0.80435,     0.80324,     0.80213,     0.80102,     0.79991,      0.7988,     0.79769,     0.79658,\n",
      "            0.79547,     0.79487,     0.79487,     0.79487,     0.79487,     0.79487,     0.79132,     0.78567,     0.78002,     0.77437,     0.76923,     0.76923,     0.76923,     0.76923,     0.76923,     0.76923,     0.76923,     0.76923,     0.76923,     0.76923,     0.76923,     0.76923,     0.76923,\n",
      "            0.76923,     0.76923,     0.76923,     0.76923,     0.76923,     0.76923,     0.76923,     0.76923,     0.76923,     0.76923,     0.76923,     0.76923,     0.76923,     0.76923,     0.76923,     0.76923,     0.76923,     0.76923,     0.76923,     0.76923,     0.76923,     0.76923,     0.76923,\n",
      "            0.76923,     0.76923,     0.76923,     0.76923,     0.76923,     0.76923,     0.76923,     0.76923,     0.76923,     0.76923,     0.76923,     0.76923,     0.76923,     0.76923,     0.76582,     0.74409,     0.74359,     0.74359,     0.74359,     0.74359,     0.74359,     0.74359,     0.74359,\n",
      "            0.74359,     0.74359,     0.74359,     0.74359,     0.74359,     0.74359,     0.74359,     0.74359,     0.74359,     0.74359,     0.74359,     0.74359,     0.74359,     0.74359,     0.74359,     0.74359,     0.74359,     0.74359,     0.74359,     0.74359,     0.74359,     0.74359,     0.74359,\n",
      "            0.74359,     0.74359,     0.74359,     0.74359,     0.74359,     0.74359,     0.74359,     0.74359,     0.74359,     0.74359,     0.74359,     0.74359,     0.74359,     0.74359,     0.74359,     0.74359,     0.74359,     0.74359,     0.74359,     0.74359,     0.74359,     0.74359,     0.74359,\n",
      "            0.74065,     0.73734,     0.73403,     0.73072,     0.72741,     0.72409,     0.72078,     0.71737,     0.71332,     0.70927,     0.70522,     0.70117,     0.69713,     0.69308,     0.69231,     0.69231,     0.69225,     0.69166,     0.69106,     0.69047,     0.68988,     0.68928,     0.68869,\n",
      "            0.68809,      0.6875,      0.6869,     0.68631,     0.68572,     0.68512,     0.68453,     0.68393,     0.68334,     0.68274,     0.68215,     0.68155,     0.68096,     0.68037,     0.67977,     0.67918,     0.67858,     0.67799,     0.67739,      0.6768,     0.67621,     0.67561,     0.67502,\n",
      "            0.67442,     0.67383,     0.67323,     0.67264,     0.67204,     0.67145,     0.67086,     0.67026,     0.66967,     0.66907,     0.66848,     0.66788,     0.66729,      0.6667,     0.66622,     0.66576,      0.6653,     0.66483,     0.66437,     0.66391,     0.66344,     0.66298,     0.66251,\n",
      "            0.66205,     0.66159,     0.66112,     0.66066,     0.66019,     0.65973,     0.65927,      0.6588,     0.65834,     0.65787,     0.65741,     0.65695,     0.65648,     0.65602,     0.65556,     0.65509,     0.65463,     0.65416,      0.6537,     0.65324,     0.65277,     0.65231,     0.65184,\n",
      "            0.65138,     0.65092,     0.65045,     0.64999,     0.64952,     0.64906,      0.6486,     0.64813,     0.64767,      0.6472,     0.64674,     0.64628,     0.64581,     0.64535,     0.64489,     0.64442,     0.64396,     0.64349,     0.64303,     0.64257,      0.6421,     0.64164,     0.64117,\n",
      "            0.63795,     0.63342,     0.62889,     0.62436,     0.61983,     0.61533,     0.61227,     0.60921,     0.60615,     0.60309,     0.60003,     0.59698,     0.59392,     0.59086,     0.58927,     0.58853,     0.58778,     0.58704,     0.58629,     0.58555,      0.5848,     0.58406,     0.58332,\n",
      "            0.58257,     0.58183,     0.58108,     0.58034,     0.57959,     0.57885,     0.57811,     0.57736,     0.57662,     0.57587,     0.57513,     0.57438,     0.57364,     0.57289,     0.57215,     0.57141,     0.57066,     0.56992,     0.56917,     0.56843,     0.56768,     0.56694,      0.5662,\n",
      "            0.56545,     0.56471,     0.56042,     0.54084,     0.53846,     0.53846,     0.52142,     0.51156,     0.50976,     0.50796,     0.50615,     0.50435,     0.50255,     0.50075,     0.49895,     0.49715,     0.49535,     0.49355,     0.49175,     0.48995,     0.48815,     0.48513,      0.4807,\n",
      "            0.47627,     0.47184,     0.46741,     0.46298,     0.45919,     0.45571,     0.45222,     0.44874,     0.44525,     0.44177,     0.43829,      0.4359,      0.4359,      0.4359,      0.4359,      0.4359,      0.4359,      0.4359,      0.4359,      0.4359,      0.4359,      0.4359,      0.4359,\n",
      "             0.4359,      0.4359,     0.43474,     0.43145,     0.42816,     0.42487,     0.42158,     0.41829,       0.415,     0.41171,     0.40959,     0.40841,     0.40722,     0.40603,     0.40484,     0.40365,     0.40247,     0.40128,     0.40009,      0.3989,     0.39772,     0.39653,     0.39534,\n",
      "            0.39415,     0.39296,     0.39178,     0.39059,      0.3894,     0.38821,     0.38702,     0.38584,     0.38465,     0.37539,      0.3659,     0.33248,     0.32918,     0.32588,     0.32257,     0.31927,     0.31597,     0.31267,     0.30937,     0.30645,     0.30391,     0.30137,     0.29883,\n",
      "            0.29629,     0.29375,     0.29121,     0.28867,     0.28613,     0.28359,     0.27995,     0.27461,     0.26927,     0.26394,      0.2586,     0.25484,     0.25217,     0.24951,     0.24684,     0.24418,     0.24151,     0.23885,     0.23618,     0.23352,     0.23085,     0.23024,     0.22969,\n",
      "            0.22914,     0.22859,     0.22805,      0.2275,     0.22695,      0.2264,     0.22585,     0.22531,     0.22476,     0.22421,     0.22366,     0.22311,     0.22257,     0.22202,     0.22147,     0.22092,     0.22037,     0.21983,     0.21928,     0.21873,     0.21818,     0.21763,     0.21709,\n",
      "            0.21654,     0.21599,     0.21544,      0.2149,     0.21435,      0.2138,     0.21325,      0.2127,     0.21216,     0.21161,     0.21106,     0.21051,     0.20996,     0.20942,     0.20887,     0.20832,     0.20777,     0.20722,     0.20668,     0.20613,     0.20558,     0.20439,     0.20021,\n",
      "            0.19604,     0.19186,     0.18768,      0.1835,      0.1793,     0.17455,     0.16979,     0.16504,     0.16028,     0.15553,     0.15158,     0.14807,     0.14455,     0.14104,     0.13753,     0.13402,     0.13051,     0.12296,     0.10763,    0.097836,    0.090771,    0.083706,    0.076608,\n",
      "           0.068744,    0.060879,    0.053014,    0.044646,    0.036136,    0.027626,           0,           0,           0,           0,           0]]), 'Confidence', 'Recall']]\n",
      "fitness: 0.5608116816990065\n",
      "keys: ['metrics/precision(B)', 'metrics/recall(B)', 'metrics/mAP50(B)', 'metrics/mAP50-95(B)']\n",
      "maps: array([    0.52749])\n",
      "names: {0: 'smoke'}\n",
      "plot: True\n",
      "results_dict: {'metrics/precision(B)': 0.8599429166811686, 'metrics/recall(B)': 0.7435897435897436, 'metrics/mAP50(B)': 0.8606912050589027, 'metrics/mAP50-95(B)': 0.527491734659018, 'fitness': 0.5608116816990065}\n",
      "save_dir: PosixPath('/Users/baiturtashbaev/Documents/Байтур/Projects/Course Arbeit/INAI_MedFire/runs/detect/val3')\n",
      "speed: {'preprocess': 2.984719398694161, 'inference': 169.65601994441107, 'loss': 0.00018339890700120194, 'postprocess': 1.1636049319536257}\n",
      "task: 'detect'\n"
     ]
    }
   ],
   "source": [
    "from ultralytics import YOLO\n",
    "model = YOLO(\"runs/detect/train2/weights/best.pt\")\n",
    "\n",
    "metrics = model.val(data='datasets/Wildfire-Smoke/data.yaml', split='test')\n",
    "print(metrics)"
   ],
   "metadata": {
    "collapsed": false,
    "ExecuteTime": {
     "end_time": "2024-12-07T05:50:04.278012Z",
     "start_time": "2024-12-07T05:49:38.429779Z"
    }
   },
   "id": "6a385404e2b270b7"
  },
  {
   "cell_type": "code",
   "execution_count": null,
   "outputs": [],
   "source": [],
   "metadata": {
    "collapsed": false
   },
   "id": "15d596514fd846de"
  }
 ],
 "metadata": {
  "kernelspec": {
   "display_name": "Python 3",
   "language": "python",
   "name": "python3"
  },
  "language_info": {
   "codemirror_mode": {
    "name": "ipython",
    "version": 2
   },
   "file_extension": ".py",
   "mimetype": "text/x-python",
   "name": "python",
   "nbconvert_exporter": "python",
   "pygments_lexer": "ipython2",
   "version": "2.7.6"
  }
 },
 "nbformat": 4,
 "nbformat_minor": 5
}
