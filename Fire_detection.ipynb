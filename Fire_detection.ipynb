{
 "cells": [
  {
   "cell_type": "code",
   "execution_count": 1,
   "id": "initial_id",
   "metadata": {
    "collapsed": true,
    "ExecuteTime": {
     "end_time": "2024-11-28T10:40:07.997906Z",
     "start_time": "2024-11-28T10:39:57.326020Z"
    }
   },
   "outputs": [],
   "source": [
    "import cv2\n",
    "import numpy as np\n",
    "import pandas as pd\n",
    "import os"
   ]
  },
  {
   "cell_type": "code",
   "execution_count": 2,
   "outputs": [],
   "source": [
    "data = pd.read_csv(\"datasets/Wildfire-Smoke/train/_annotations.csv\")"
   ],
   "metadata": {
    "collapsed": false,
    "ExecuteTime": {
     "end_time": "2024-11-28T10:40:08.013460Z",
     "start_time": "2024-11-28T10:40:08.001470Z"
    }
   },
   "id": "f93e5a6abb2eca62"
  },
  {
   "cell_type": "code",
   "execution_count": 4,
   "outputs": [
    {
     "name": "stdout",
     "output_type": "stream",
     "text": [
      "Обработано: ck0qd8gs6ko7j0721x25cv4o3_jpeg.rf.005f5707706e4d68702bbf8e0ce96a63.jpg\n",
      "Обработано: ck0t40rhdz68s0a46ekx049a6_jpeg.rf.00403179fe5f0eb665e4af5845be125e.jpg\n",
      "Обработано: ck0m0ch9ugnna07940o8x989j_jpeg.rf.0101cdb46a16b3fde020710836b4af0b.jpg\n",
      "Обработано: ck0rr6bfa9b3w0721aw5unwdy_jpeg.rf.00982c053d66c090d55b3d775a722aff.jpg\n",
      "Обработано: ck0uk75x5ysls0721e5a9j891_jpeg.rf.00d7fd8503e1e0e6a66294f3db79b346.jpg\n",
      "Обработано: ck0m0f8x4hwsq0838adn9hkti_jpeg.rf.02c20dbd46efee307ec38486fc3f5da2.jpg\n",
      "Обработано: ck0na7jmkg9gj0a46p7jofg58_jpeg.rf.023825dac5dc5fbd89bbd5d83f89a5a8.jpg\n",
      "Обработано: ck0nf3wev47fm0794xfr1xuhs_jpeg.rf.025a886c2323bc0eb8b24cabfc681aab.jpg\n",
      "Обработано: ck0knam319ybv0701clozevt3_jpeg.rf.01d252cb506d60495e9f965a4cf48418.jpg\n",
      "Обработано: ck0oumds8r2ws0794yqsnls8v_jpeg.rf.012d2c43910a089d6fec492c2b914840.jpg\n",
      "Обработано: ck0rr05k797je0721hrz4bw9e_jpeg.rf.031b5346c52c69e28fc9345ca7b28010.jpg\n",
      "Обработано: ck0u07w91ulq009446ol1bta4_jpeg.rf.05a02ac3bf9a27f86cc6c315a72ff6c7.jpg\n",
      "Обработано: ck0kd86qe8gf507018qw8usfe_jpeg.rf.04a3091cdb2674d667aa79b142f77db6.jpg\n",
      "Обработано: ck0kmh9hhkg5e0a46we9ywaxl_jpeg.rf.05a2d3d0278ae39a0a626bfd173d6b94.jpg\n",
      "Обработано: ck0k99r7bir3f0a460bctrlmy_jpeg.rf.0520c5989e9d6326d3beb346e7edc7c2.jpg\n",
      "Обработано: ck0u0iymarljc079432rld6ur_jpeg.rf.049e444971d411f2bc15d14189f8ebc9.jpg\n",
      "Обработано: ck0t5243y02ss0848d4w8z1bl_jpeg.rf.073eb5726a7f3fca2caa57b085c7b655.jpg\n",
      "Обработано: ck0qbolrmhccn0944s970z7xn_jpeg.rf.0852866b4cc61c2dc67072fddf5b017b.jpg\n",
      "Обработано: ck0qc5zvxk5mi0721s96pwrwt_jpeg.rf.02fdb76282d22d4a6ab7a5b09b8cf6b9.jpg\n",
      "Обработано: ck0u15ceurp8s079478ps17by_jpeg.rf.01cba46fbff586f903728080476df7d9.jpg\n",
      "Обработано: ck0keo0re4xll086378211i65_jpeg.rf.08a1bd4e2e0d1690e1a2d6f8b6986e45.jpg\n",
      "Обработано: ck0qb93azjo480721ojf86ytj_jpeg.rf.0658191ccf3ef3dc7533eca8568b60d1.jpg\n",
      "Обработано: ck0uk5cl3877p0a468qm2bfay_jpeg.rf.05f4f2a5f4efa69243aac572e05e5216.jpg\n",
      "Обработано: ck0k99e6p79go0944lmxivkmv_jpeg.rf.035851b1218826a8d8e1f6cff055da7a.jpg\n",
      "Обработано: ck0keq7xa4xxd0863otmigtsy_jpeg.rf.0a9ebb276957d1f41e4e01067287be3f.jpg\n",
      "Обработано: ck0tywg9ruew50944r0qom5i0_jpeg.rf.045581ac714cf654e0725d1f8e192ccb.jpg\n",
      "Обработано: ck0kkzh767dc70838hdq9sv4u_jpeg.rf.0b0271134a25ee82a6b453646c87f96b.jpg\n",
      "Обработано: ck0t4kdl1nlyb07011sj8qjd8_jpeg.rf.0a712e797adaffd2ba69b30c0005fe83.jpg\n",
      "Обработано: ck0qbaubof1z40863w0scvpra_jpeg.rf.0cf7f4324a6fecd547297a7e34fa21e9.jpg\n",
      "Обработано: ck0u0dtzbt9mu08385juqmknt_jpeg.rf.07952a8adcc6bcd57f02407bb25c93cd.jpg\n",
      "Обработано: ck0u155em6hy90a46mm9izvjz_jpeg.rf.0307a95d00420a74d0682b038bcb13f5.jpg\n",
      "Обработано: ck0rp7n2684q30721hrzu5r15_jpeg.rf.0b0176d3f60909e544ab691e5ce7470d.jpg\n",
      "Обработано: ck0nfnbw45srt083889319uj8_jpeg.rf.091dbaf5088a42db9bfecf39178eeebc.jpg\n",
      "Обработано: ck0qd4sisfz1x0863riapvr9k_jpeg.rf.0d074512f215ea0855dc51c3be17779f.jpg\n",
      "Обработано: ck0qd7cyiib8f0701npyn63rc_jpeg.rf.0d08de7a03fcfca3e485ed18091f4b19.jpg\n",
      "Обработано: ck0tz4vu9wr2707210cs2d85i_jpeg.rf.0d07d523ff8a7385975c0546e3ed3013.jpg\n",
      "Обработано: ck0khttiojrab0a46z2tgb5rd_jpeg.rf.10ff9460ea9b030c8efa9bcb310b90d7.jpg\n",
      "Обработано: ck0ndy9p207ai0738n7khflbr_jpeg.rf.0e8ffba013c7dbdbca425451eaa90fd1.jpg\n",
      "Обработано: ck0tyjzuxsewd0863g6vu5zec_jpeg.rf.1267d7caad633514f05f20a5279f9582.jpg\n",
      "Обработано: ck0t1zwemkseu08636i7fpksi_jpeg.rf.15e6c66d7c667787bfb8151a7751affb.jpg\n",
      "Обработано: ck0tya1tfr9sz0794w5roonwp_jpeg.rf.0db0a4a0a57c433e550c669676380d58.jpg\n",
      "Обработано: ck0txdhj9wk390721me7hmajn_jpeg.rf.0b9072848081252656285ddaab966c7a.jpg\n",
      "Обработано: ck0ujxg4qyroe0721yt57ymqa_jpeg.rf.0c16dbb547f7c6d169dbb0234e411afd.jpg\n",
      "Обработано: ck0kl11aa7dlt0838zoqikube_jpeg.rf.140ba9c5ddb91da4fede2608634f754d.jpg\n",
      "Обработано: ck0kdsrnk4tm80863omawzddc_jpeg.rf.139bfa85f859e3e320650de1fec49e69.jpg\n",
      "Обработано: ck0kcaec57i7s0944jkpjyecx_jpeg.rf.0dbf4b042f0b6abc7a9f1a42a82a20dd.jpg\n",
      "Обработано: ck0qbrxq0fc870863u9dy1xsl_jpeg.rf.109b574c27fa09fdc65125fc9214e872.jpg\n",
      "Обработано: ck0ukkz8tytsn0721y70sud46_jpeg.rf.18cbd5352f166266b09e38e04afa7394.jpg\n",
      "Обработано: ck0kmgevm69ac0794mihosd3p_jpeg.rf.1594072fa91a653f18e22fff1cee6267.jpg\n",
      "Обработано: ck0lx68q2szgt0a460zlk49kf_jpeg.rf.0f6a8471f17e56b15221fb885dd51f40.jpg\n",
      "Обработано: ck0l9xvyaot920848tv62nd7o_jpeg.rf.17c2d9afcd4a802758d2898de36e43dc.jpg\n",
      "Обработано: ck0t52natq0it07218mpku7q5_jpeg.rf.18fa7308a214c8870ca0ce19768957ba.jpg\n",
      "Обработано: ck0ng3jtr5k7j08637da4685p_jpeg.rf.171ec9dcca7f2f15a6ea120b618d945f.jpg\n",
      "Обработано: ck0l97837c0ta0944wnryuimb_jpeg.rf.11d4e888f0875aa8b07ea67d4b3b4210.jpg\n",
      "Обработано: ck0ug2zaqt3zf0794joucwcgf_jpeg.rf.19cb77fe0f8cf5b9648d2056f4a5fbba.jpg\n",
      "Обработано: ck0kcnh1p4uns0794bs53wqam_jpeg.rf.1a912c1d8dea7ad3ad9bc870fe7a62d1.jpg\n",
      "Обработано: ck0tyzb4kwq9407210i0lbk6v_jpeg.rf.10b0732365f4a35069e26031ae48603d.jpg\n",
      "Обработано: ck0kcz0wr67xc0838pqo5w48a_jpeg.rf.1a24e68b83db5f7902f2119b1a2fe002.jpg\n",
      "Обработано: ck0tyt8nmui9l0701fr3lsu7s_jpeg.rf.1ad8f25014d4b35f799598a10661b7cb.jpg\n",
      "Обработано: ck0lwlv9fjpfg07217xwy7qne_jpeg.rf.1a89d41ad9addf3f1652773b1068412e.jpg\n",
      "Обработано: ck0kd70pu4w7b07946742zfpg_jpeg.rf.1d003cc575564d535e0d78de10cf2179.jpg\n",
      "Обработано: ck0tt0dkysbs70838q7t3vnr9_jpeg.rf.164a535f7e60defc9ad1b4f58836ab31.jpg\n",
      "Обработано: ck0nfz8fe60yr0838az9x331y_jpeg.rf.152d851a0f20d6f573a9f6f250204a9c.jpg\n",
      "Обработано: ck0ndcirh69sn0944tmwamh75_jpeg.rf.189c54c4fb6ee1d72226e876b613b29a.jpg\n",
      "Обработано: ck0qb9rg6tgo40848b6pmbrod_jpeg.rf.1afb0937b46939a096fa2fffa2639d37.jpg\n",
      "Обработано: ck0kcju199xgd0721ljl6cd2n_jpeg.rf.1b068071c8dfc4cf3573f0a0e217f523.jpg\n",
      "Обработано: ck0na3ee97aa6072160kaqfv8_jpeg.rf.1bf6d86665234ceeb5fafb1ba804cb50.jpg\n",
      "Обработано: ck0ukjupkwhfa0944r6gu3mh8_jpeg.rf.1d0b41b95001867438a9867fda448ddb.jpg\n",
      "Обработано: ck0twzs19s8ld08632qx4gg12_jpeg.rf.17d7f2e556ae6c66c4f533fef4fe10ac.jpg\n",
      "Обработано: ck0qc6lwsetj70794bennfrza_jpeg.rf.1dfce6db30573c065d5669ed2545479c.jpg\n",
      "Обработано: ck0t2fzvhlj200838b26ckwda_jpeg.rf.1c8882654e4d82f7f030d590568a3382.jpg\n",
      "Обработано: ck0t7iosiorq50701wgtb048m_jpeg.rf.1302b4c1947454fa5c96ee6b5377c641.jpg\n",
      "Обработано: ck0tsw61gqm680794v186apwr_jpeg.rf.1dd2f58789da8b976d4822ffdab29b03.jpg\n",
      "Обработано: ck0t7czov10bf08489elv37go_jpeg.rf.17785297d266595162723c94f9bcf835.jpg\n",
      "Обработано: ck0u9dw5dsmcv07947ss72195_jpeg.rf.1e895018c6b1b258086e70c22f9d37b4.jpg\n",
      "Обработано: ck0keop2ya51r072149ntr73o_jpeg.rf.1d5ea2dd88e831d44b09eca11f96969c.jpg\n",
      "Обработано: ck0u0hkwqurd207012dbpgjhf_jpeg.rf.147659f5c8eb1bc7d72e6038a08886ac.jpg\n",
      "Обработано: ck0km4pkh640f086302no99ma_jpeg.rf.1ea949e058e123aaedcc9f42d190f1a6.jpg\n",
      "Обработано: ck0tzxdcpslr10863f9172aju_jpeg.rf.1f702dd0c1a3d5ec2838bc92374f3222.jpg\n",
      "Обработано: ck0twef0nu7ej0701ku08izg4_jpeg.rf.1fe4b32547d4ed034980da37cfa48a07.jpg\n",
      "Обработано: ck0ukhfkfv4f10838ulu89xc8_jpeg.rf.1f875dfb8db3493d5d910236a5343bd0.jpg\n",
      "Обработано: ck0t6o7hrlbs407944kyd1i2r_jpeg.rf.1fcdad3f89301e29a312afd29b8be5fd.jpg\n",
      "Обработано: ck0rqgv1m8wok07216g2getrt_jpeg.rf.22c0ebfb67cc9ad7415929c8053d1f80.jpg\n",
      "Обработано: ck0rr132a3x9r0794yhwyho26_jpeg.rf.23012d1f295110126949db4f75f9a8ea.jpg\n",
      "Обработано: ck0na2cdf1uf40794qwk129rm_jpeg.rf.25bda548e55a3fd3f5158b780d168895.jpg\n",
      "Обработано: ck0t6nixgmcop0863zbzsc32e_jpeg.rf.250078e3e4e42da9963f5edec7f25e88.jpg\n",
      "Обработано: ck0ukkr2f8vml0848uyh1iw50_jpeg.rf.22c704f3f83a1947293534fb1cda1482.jpg\n",
      "Обработано: ck0kdobka8hev07019b3gbgq6_jpeg.rf.251260d5aab5ecf4bb65f65b3190ca1b.jpg\n",
      "Обработано: ck0ty7yegwn140721h5wixp2h_jpeg.rf.24f23d741874697a2aebd86b8968c470.jpg\n",
      "Обработано: ck0ovlupvx57v0721dn80vmur_jpeg.rf.20701caaa1c3c263bfba0b52914bc810.jpg\n",
      "Обработано: ck0lx50eojwbq0721qtix2xqg_jpeg.rf.22fb33351d1489a8f6ae310f8044feb3.jpg\n",
      "Обработано: ck0t2kogeyqy50a46u6e56yb9_jpeg.rf.20a8132299113e73e6263029256d5049.jpg\n",
      "Обработано: ck0rp7ve43ul20863ldcq568m_jpeg.rf.2242e2aef5279e55b32ce34e7a154ea0.jpg\n",
      "Обработано: ck0knw1mc96cu09446iq0ugae_jpeg.rf.28c2e0ae1ad16136f73352045962d516.jpg\n",
      "Обработано: ck0ujy91ete1p0794u8tbqbox_jpeg.rf.26e3ae02741d31dc087d31af9286950f.jpg\n",
      "Обработано: ck0tyfppk6qqc0848u6xtpzgx_jpeg.rf.288099a51913c76a030ce91555ac3929.jpg\n",
      "Обработано: ck0ndxi6w6j5f0944tbx465xr_jpeg.rf.28d056588212efc17d54250b7f77b577.jpg\n",
      "Обработано: ck0rp8d7p858s0721qrjixerv_jpeg.rf.29ba67ef2f3092df9ebe3adf2a77e2e9.jpg\n",
      "Обработано: ck0khsg8rangi07215h1hso72_jpeg.rf.217c82b0228f11b9b3ab269631fa5376.jpg\n",
      "Обработано: ck0kcv9km4vc70794bkufs7xw_jpeg.rf.296a193767cce26f7120ac749a472a17.jpg\n",
      "Обработано: ck0km5x3u9r910701d3yfjhtv_jpeg.rf.269fd83e84d226fb0d3a931ce723f2be.jpg\n",
      "Обработано: ck0tyexsuugj1070158ffdyyt_jpeg.rf.2e9d7c24d0366304aae6f03fdbbf349a.jpg\n",
      "Обработано: ck0lwg0retsfg0848hqi60tlt_jpeg.rf.3025c97e8deb2f2899cbe49461437ae6.jpg\n",
      "Обработано: ck0na9q14gaaa0a46ghbnn940_jpeg.rf.2498c8c55a2484af381b64824743cf97.jpg\n",
      "Обработано: ck0ug3zlfw61d09445i888ftl_jpeg.rf.24816998199d65c37ac73ca9a297dc81.jpg\n",
      "Обработано: ck0kn8eh393ib0944lkiizn3w_jpeg.rf.2a2ff93d00da25b7f769f204b8d67dfc.jpg\n",
      "Обработано: ck0kosmizkqdq0a46xgz65fgt_jpeg.rf.0f153f3fc51f5bfcc7092ec75b52d92b.jpg\n",
      "Обработано: ck0kkthj17c9g0838c3vjfndl_jpeg.rf.28218aa602fae59569067f2808f1f324.jpg\n",
      "Обработано: ck0ukig53tfv30794pt4u6ude_jpeg.rf.2ecc68215cab4d68d0a22b78b0327018.jpg\n",
      "Обработано: ck0qbp5dkg5920838gygl8n4f_jpeg.rf.2b8f08f85050f64aa005b2f40b5b3684.jpg\n",
      "Обработано: ck0t3zt3lnd7u0944gqvvuxtw_jpeg.rf.316a77febbcc8240fe5c521cdedbe5f0.jpg\n",
      "Обработано: ck0nfoxrpj0xh0a46qv68gp45_jpeg.rf.2aea62f0d0ba459a9eb532369e5e529e.jpg\n",
      "Обработано: ck0lwgsmatsrm0848br00vfki_jpeg.rf.324fd4d4db28e2d3e27e1ee048653fdb.jpg\n",
      "Обработано: ck0kdox8w69td0838i6leuzy9_jpeg.rf.333d536f32a8de44a092dd547d2f1632.jpg\n",
      "Обработано: ck0kn9jfn6eb50794lzp777i0_jpeg.rf.2eace5fef4dbf7ba77de72c68b4aaaff.jpg\n",
      "Обработано: ck0lyh3mpi04c094450wwwb9g_jpeg.rf.3a4f3cf6a9e2415a0bb50093f40212cb.jpg\n",
      "Обработано: ck0l8b13joiy30848vj3d2ndb_jpeg.rf.378c69f82ef9c274a1e8eb6d835b6660.jpg\n",
      "Обработано: ck0ukjmceuk3t0863k4o3i8g4_jpeg.rf.37d48b6e7770d656a7fdfbf311aa50c4.jpg\n",
      "Обработано: ck0kl0ifc5xd60863hxynsup8_jpeg.rf.33d4dc037a04cd39656b00a3e78bf3d8.jpg\n",
      "Обработано: ck0t52agrlp0p0863vg9f8svy_jpeg.rf.3b90acd0b60f2a45cb879c106a4d11da.jpg\n",
      "Обработано: ck0txsj116ojr0848emet52dc_jpeg.rf.3b78709ffaa76d0042f6560a02eb3373.jpg\n",
      "Обработано: ck0knvsi36h390794sjhcf0ri_jpeg.rf.38e187dbd800f3f50d6dd3290d370ab1.jpg\n",
      "Обработано: ck0nf4rw3093h0a886by1nwca_jpeg.rf.3c169639b6d7abb01c879573821f91e6.jpg\n",
      "Обработано: ck0txvj9m6otr0848fayj9tte_jpeg.rf.3c297c7d21cbe8563aba079db5bffc65.jpg\n",
      "Обработано: ck0l939lbnftj0a46atyx4hh4_jpeg.rf.33eeef4de47224ea2043febf7b6fc3dc.jpg\n",
      "Обработано: ck0l8e146nb1h0a46oop6lane_jpeg.rf.3bef8e59f2111cbea0cc48015e63e698.jpg\n",
      "Обработано: ck0kcsfho4r010863q5sjbub6_jpeg.rf.3a31a5fb805e6a96549f786bafb8906f.jpg\n",
      "Обработано: ck0t1umd5jowc0794my89kbsj_jpeg.rf.3bec00ba14295b43ff0ca24e3582396d.jpg\n",
      "Обработано: ck0tssirhrq1u0863eoicr5bp_jpeg.rf.3e1b0f61a6d074bec7c5b973a96f57e6.jpg\n",
      "Обработано: ck0rpjxds42tv0863ke8nrsmn_jpeg.rf.3d619fc088a888f7c7cc57c98a4f6498.jpg\n",
      "Обработано: ck0lxdhtohhdr0944vck0s787_jpeg.rf.3e2449768aa23a32f11eaad5e009f8b4.jpg\n",
      "Обработано: ck0kfk23ukj1m0848e93um98b_jpeg.rf.457fd102e55b69a1ec55dd1d50b90b6b.jpg\n",
      "Обработано: ck0txo8iyue140701jnymorwf_jpeg.rf.3d9a2e443551de47ba1b2a88280d408a.jpg\n",
      "Обработано: ck0t2d3kbyou40a46a56kl6x8_jpeg.rf.3da673071f90e10d5f5161f42a8b7f85.jpg\n",
      "Обработано: ck0lx5e5rhf4f0944ldgqzhf1_jpeg.rf.3d1684b7da6d298a3ddd6e9c51a4cbc2.jpg\n",
      "Обработано: ck0nefzg24hv30863efhq3fp1_jpeg.rf.41edcde58daab549a1e3d2ac14b30449.jpg\n",
      "Обработано: ck0kkjnqo5xx10794xzpyur0y_jpeg.rf.361ec46e7f260dfa9c55a465a3bb8150.jpg\n",
      "Обработано: ck0kl1k8d9ks80701twyaq08t_jpeg.rf.41c4a2bd886e7b4beb388fc8e04fb6f0.jpg\n",
      "Обработано: ck0lx3s62sysz0a46pq7rsuuw_jpeg.rf.41cc7ec49c9f3200873818a54c62ecb4.jpg\n",
      "Обработано: ck0rp9zh85rbh0944g0fanl6o_jpeg.rf.3e6d03d3e66153e3461f5a6ed25960b5.jpg\n",
      "Обработано: ck0twhqawsr970838xj2topr5_jpeg.rf.3f1612dab0ef612792c9866e780b52c4.jpg\n",
      "Обработано: ck0rpimt3ifig0848hijlm44t_jpeg.rf.46ad991e0932f88c7b6acf6628566240.jpg\n",
      "Обработано: ck0nfrec983h90701yvzbsczw_jpeg.rf.42e7c50048de34469ef1fa90563790de.jpg\n",
      "Обработано: ck0kcurm6j1k50a464wsovbw2_jpeg.rf.489c2d0fab9adffcd45e4e8ca8f26346.jpg\n",
      "Обработано: ck0twkzggsrnb0838b6na9joz_jpeg.rf.4144934d16650df3e5a346a1943793a0.jpg\n",
      "Обработано: ck0oukbtwsjxp083897f03qo4_jpeg.rf.41ad39e5f5023959a03b1e61d93e7424.jpg\n",
      "Обработано: ck0nctujv31lz0794ow6lj285_jpeg.rf.3f2f78a73479abe1321bc4ca31dfc497.jpg\n",
      "Обработано: ck0ty5rb66pry08483lgrlmhz_jpeg.rf.421725f5dafec43a5de105843c9def78.jpg\n",
      "Обработано: ck0t50qh5zfpc0a46o2ppy49w_jpeg.rf.4260774858fd1aac08234c8601f3e984.jpg\n",
      "Обработано: ck0kmem9m68vr07947lx0jam1_jpeg.rf.4971c28003ae470aca04fa915a129574.jpg\n",
      "Обработано: ck0nabd8whgv30848prwciv2b_jpeg.rf.460cd444851e64d108d16eeb3238199b.jpg\n",
      "Обработано: ck0km415y8wk90944mab9i4lr_jpeg.rf.4752cae94d6e0c422fc6a3246bcce661.jpg\n",
      "Обработано: ck0t592vckr6p07949h19oxce_jpeg.rf.4957f384420110763cc2a3d067da7ef2.jpg\n",
      "Обработано: ck0m0gpkagpzy0794ulwtreu6_jpeg.rf.4bc502850e879dd40bd056961bec7f31.jpg\n",
      "Обработано: ck0lx9h4ejxlm07213g6pz1n5_jpeg.rf.4a30c435f5acc7f53903c9126e69da73.jpg\n",
      "Обработано: ck0tzncx5rg970794klhrot7p_jpeg.rf.507c2a4d85d04020575e470af370337e.jpg\n",
      "Обработано: ck0kmi7k47m0i08380dwkjuc1_jpeg.rf.4eb64423f00a96430a04ad636eb18895.jpg\n",
      "Обработано: ck0lx9tk9g22n0838e6v5csum_jpeg.rf.4d09c9c7f3bd465a477a968d5e35616c.jpg\n",
      "Обработано: ck0qd7zf9fax10794ucj3kmt5_jpeg.rf.4bdd8939122eb2279dbdf809cf9a9b39.jpg\n",
      "Обработано: ck0u02mwv6bah0a467209caub_jpeg.rf.4946e8ee4a4af8ff2dddd94c59d3d2ef.jpg\n",
      "Обработано: ck0ug2o6ku8b708632bp2y2zn_jpeg.rf.42ce49a52b1b8f3c1cec74019dede23a.jpg\n",
      "Обработано: ck0ncwmnt6hyp07016zypssxs_jpeg.rf.5038ca1f5cdf93056bf4a55a345a13ca.jpg\n",
      "Обработано: ck0ty9cx4r9qk0794foscpnun_jpeg.rf.465ff93707dc7996d3cd3b7576117150.jpg\n",
      "Обработано: ck0t3htqxn88w09443dhqtzrh_jpeg.rf.51b48656089fe4ab9d7f0b0dc63d530e.jpg\n",
      "Обработано: ck0uj9sgjyq2b0721813otzrx_jpeg.rf.46cdc9351db024ad70108beebd5bc4f9.jpg\n",
      "Обработано: ck0t235u3msgt0944a7jzn8hp_jpeg.rf.46fbbbd711da478f5db7e61287216aa5.jpg\n",
      "Обработано: ck0kkywt08q2d0944abjjfi8q_jpeg.rf.4fa41d3d5059b6dede94326121edc4b3.jpg\n",
      "Обработано: ck0m15edijrbs0944olo8aqra_jpeg.rf.52e8a4303ab036982c78805ec336835e.jpg\n",
      "Обработано: ck0t2wfsipdoc07218586ezt0_jpeg.rf.4ec027210133d1a092f7cefe7f86c23a.jpg\n",
      "Обработано: ck0u0y7byrnvd0794vpqdexro_jpeg.rf.513b6ca1d70a6023bc57e0040b811bb3.jpg\n",
      "Обработано: ck0kk7o8o5vu70794mj0deixq_jpeg.rf.536fcd8063fead4cc8308ef8d59f9fc9.jpg\n",
      "Обработано: ck0t2z9knn3060944ppcr9fkn_jpeg.rf.55fb31c0cd4fdfe0551c1da30f27713a.jpg\n",
      "Обработано: ck0t4pic2zxuv0848rp6npxiw_jpeg.rf.51acc548074c7c4f16893509aaf50fa5.jpg\n",
      "Обработано: ck0lygt2vkh030721ufglqzq9_jpeg.rf.4b24424e16b0ad52d905945ef322ce40.jpg\n",
      "Обработано: ck0rpje8d32fg07940gwkympb_jpeg.rf.4f70a0ac72f6655d356cc9f414fe8eeb.jpg\n",
      "Обработано: ck0tzvykb6xxf0848pysx89eg_jpeg.rf.542cb9bc1eee62aa5eb4b4ac3e13a648.jpg\n",
      "Обработано: ck0lxhbtdewio0794g9qrp7o9_jpeg.rf.570551b254670717f037da0e98d28863.jpg\n",
      "Обработано: ck0t782sh0yo80848y50f5ugf_jpeg.rf.5429663116454a8c5ce5ebbfa41dbe3f.jpg\n",
      "Обработано: ck0km5c8vke4q0a46trc774lh_jpeg.rf.54df74147f9f229967ebc00333348e30.jpg\n",
      "Обработано: ck0t7s2o0ne4408387zvqn6pr_jpeg.rf.5524a3a3693d51037c48223b690362e2.jpg\n",
      "Обработано: ck0qbu8qqenrd0794vafe93ht_jpeg.rf.56922521101c85ef92f3a867c3081e9a.jpg\n",
      "Обработано: ck0ujzue9uicd08638rcyl1ro_jpeg.rf.5a0992ce884d2cfd32964002e7599489.jpg\n",
      "Обработано: ck0t6zwah09e20a4695tura09_jpeg.rf.4f785256363fd90cb8a95a7d23e0f5a2.jpg\n",
      "Обработано: ck0khrzkh940s0701k1i2tfe3_jpeg.rf.5859ae844258dafa1e533e73248cac64.jpg\n",
      "Обработано: ck0rqfvfjizmt0848qs0rsd4l_jpeg.rf.5a5fcbfc5606e1668f8c201c7005090f.jpg\n",
      "Обработано: ck0l8di4xoje408487bsrbpj9_jpeg.rf.5b4d11d296d120acdd63e1e54ccc2ace.jpg\n",
      "Обработано: ck0nfms4c59l108632rf19agc_jpeg.rf.57b8d097c1ffb42ed602b8018753e42d.jpg\n",
      "Обработано: ck0l9zam2nl6c0a46g4g3m6c4_jpeg.rf.5e458c3dce687543aadd8a0f4ced2004.jpg\n",
      "Обработано: ck0k9ghqt7a8l0944mcvy0jsx_jpeg.rf.5b55501a403c70b4dba61727046660b5.jpg\n",
      "Обработано: ck0txwcn1scmo0863p2fmcq09_jpeg.rf.5b5bf0ad74e7e8e33bce805420176d39.jpg\n",
      "Обработано: ck0kcljocj0qo0a46rzj3y211_jpeg.rf.5745457a99cce20a1ed09c59819d1d6b.jpg\n",
      "Обработано: ck0t4s7ibnk170944ffcd9q57_jpeg.rf.54d950346af8537f20351059c79b91cf.jpg\n",
      "Обработано: ck0khubxx5khq0794ja58vgv5_jpeg.rf.5d2db56a537ce7f2d661b00d403d3cc0.jpg\n",
      "Обработано: ck0nem99k9e9v0721yu2dtiqq_jpeg.rf.5a06cc52462c4dcadb3a74d3f3874cf3.jpg\n",
      "Обработано: ck0rqrdr86mhp09441c8d69w7_jpeg.rf.5d625e0924bab6f9f7d86084bff7af98.jpg\n",
      "Обработано: ck0lx7plvg1e50838ps3cuu9h_jpeg.rf.5df3f1a05e60204647ea601876ec7ac1.jpg\n",
      "Обработано: ck0u0znmjuuay0701hyc6trun_jpeg.rf.57c4424df242fccdb67494c4d2bc22b7.jpg\n",
      "Обработано: ck0kcouioj11m0a46yjyp0zlc_jpeg.rf.5d515391615546df6369aa216c2fac53.jpg\n",
      "Обработано: ck0t74gx40b5u0a46s72no2dg_jpeg.rf.57da3c38696a55082327c502be780c59.jpg\n",
      "Обработано: ck0m1mrauhbpe0863qyvhhrcx_jpeg.rf.5dadeb671f3492e18f6ebcdd65285a54.jpg\n",
      "Обработано: ck0uk5rawysf20721e35n6nk5_jpeg.rf.60dd824179a3b989558f39a245d746d6.jpg\n",
      "Обработано: ck0kengxx4xiw0863hvii9d2r_jpeg.rf.5df40233b458e08108b47ae229a5e4c6.jpg\n",
      "Обработано: ck0u0ihp7sq1z086335c6h592_jpeg.rf.60d64a3d41a4fa422f94a17d8294b296.jpg\n",
      "Обработано: ck0qb7vltsvwp0a46e656bv6u_jpeg.rf.642b271f9f48a73deb97d24d2b471485.jpg\n",
      "Обработано: ck0tx3bpm5y140a46ul6hlru8_jpeg.rf.5e4ca9c6161cc1cc916b43759c5651e3.jpg\n",
      "Обработано: ck0t1r1esms8s0701jmlvghkw_jpeg.rf.5acffb2bbf6c7f579d73f8ff3c85209a.jpg\n",
      "Обработано: ck0nct2ia48au0838bivpmmn6_jpeg.rf.58f3be0857dad3341d9c78f815627923.jpg\n",
      "Обработано: ck0ncrvqe47qd08384wqzjlk9_jpeg.rf.65162b81b23566a46791ca9ef3018fcd.jpg\n",
      "Обработано: ck0u98uysslwa0794bmd4n7fd_jpeg.rf.664b134d0c3a1562477a9687c044c745.jpg\n",
      "Обработано: ck0kl34jm7e2s08384qcp85ih_jpeg.rf.64420adc07446599124be8b0c86d11d7.jpg\n",
      "Обработано: ck0qd6v51ib0j0701sf2wolfq_jpeg.rf.6358b8f49047b12d1f6c20668bff8a39.jpg\n",
      "Обработано: ck0rqq0y3j4tu0848p884qvn1_jpeg.rf.654a70a2e86f0270af759b46d38ea769.jpg\n",
      "Обработано: ck0lwextoec1a0863lou65q4l_jpeg.rf.617475107e06edf72f385c44eec2232f.jpg\n",
      "Обработано: ck0kdh8yok8rw08486abmn3z3_jpeg.rf.685972e3f6aeb5a3ffdb843becb9e56e.jpg\n",
      "Обработано: ck0kck2czj0l10a46f6xkvofl_jpeg.rf.678c741e4261415dc135ecaf38d4581d.jpg\n",
      "Обработано: ck0k9etuqjxhh0848k6i1mw2f_jpeg.rf.65e16bd6d3135e530e8e7677b83b6481.jpg\n",
      "Обработано: ck0kky5oy7d3s08381yd0i465_jpeg.rf.6874685b468e778c76cc2d41a289e65d.jpg\n",
      "Обработано: ck0t24ndxkug60863id6f8pfc_jpeg.rf.5e489fbf3eadafbe13567c4cac0baad3.jpg\n",
      "Обработано: ck0ndxwjf3icx0794m3hlih4u_jpeg.rf.5f397085cad8af247c8a0674b9a67806.jpg\n",
      "Обработано: ck0t252udmxqz070188sd9z1u_jpeg.rf.662ccf2f0209e1cdf677221ac65da60e.jpg\n",
      "Обработано: ck0tx2twm5xya0a46rieclafo_jpeg.rf.6cb4bd5df71d1c5c2e0aedf48114f10c.jpg\n",
      "Обработано: ck0qd5it1i1wl0944fqp8vf9c_jpeg.rf.5f7b7bf98795a5a88fe2240e3a838059.jpg\n",
      "Обработано: ck0lx8c34u38a08480v1hz7dz_jpeg.rf.62b4addf5b2865b979346e676db1f907.jpg\n",
      "Обработано: ck0rr40pt71p40701fl50vzfa_jpeg.rf.6b2b4ec7e343403a173a2d8c9ec0d2c5.jpg\n",
      "Обработано: ck0t7o8ovlpsl0794ci1p3k3a_jpeg.rf.7255338cf66d7fd15d9a75b7e87f0550.jpg\n",
      "Обработано: ck0t7yaokmuhl0863v1rlsm5p_jpeg.rf.62c77619d32f766079b9e3320f8510a3.jpg\n",
      "Обработано: ck0tsx6f1rqmc08631bs71ker_jpeg.rf.70f288faaf29ee8c354bc3f20320febe.jpg\n",
      "Обработано: ck0kdhizwj37t0a461n7bsvun_jpeg.rf.6d618207aa9bed9805920f9625f0c67b.jpg\n",
      "Обработано: ck0t3zlhdz6180a46kq06kflk_jpeg.rf.695d8a1806cebba8ed79a9465c077b48.jpg\n",
      "Обработано: ck0oukw23toun0944nstsyx8g_jpeg.rf.725c1e40188ada6da183777c91520dbd.jpg\n",
      "Обработано: ck0rp95tf2vg70794wbjk2kk3_jpeg.rf.64942fab8cdbf6edab115881cc2180c3.jpg\n",
      "Обработано: ck0u0muhduoik0944fwbze43u_jpeg.rf.74bd00e3d0c2bb38628bd3d60bc56572.jpg\n",
      "Обработано: ck0kkgwvk9hhg0701edmbvr7r_jpeg.rf.72b0cbcbdd84a2f967e4d56a8a994552.jpg\n",
      "Обработано: ck0kl3bjt5xyz0863ru5wbw27_jpeg.rf.74c0c9a18873df6308953374f38fc72e.jpg\n",
      "Обработано: ck0t5n2jlkxuc07940mygjo8f_jpeg.rf.743e0e7964a1983568c0323735ea9d91.jpg\n",
      "Обработано: ck0rpe8ja3z6m0863q1narygs_jpeg.rf.751b9497645f516d0e98cd415c7fad51.jpg\n",
      "Обработано: ck0kl5uir7ej708386nnh95ra_jpeg.rf.786c13aa05537a5beafde2dcaafa6c9f.jpg\n",
      "Обработано: ck0tzh0mmsjb70863m9jdqypg_jpeg.rf.6b4347c866f9e0768115f0ce603f0b3b.jpg\n",
      "Обработано: ck0kdklhl8h7h07015yka75gg_jpeg.rf.75afbde9ce791d335ed4015d2a6f679b.jpg\n",
      "Обработано: ck0tszu61qmo10794stj6lmkj_jpeg.rf.74610774501419ad96bf232c9f58838e.jpg\n",
      "Обработано: ck0nf53eo78rg0944btmudhsc_jpeg.rf.7761bf0c5f266292eb35a0b1c51783eb.jpg\n",
      "Обработано: ck0klds7p9myv07018b68zcsu_jpeg.rf.70111b543b1fd156a55df6337171de99.jpg\n",
      "Обработано: ck0nfpjig5u9z0838mgcq82oz_jpeg.rf.78af90cc8dcf3cde57438b0e2b576240.jpg\n",
      "Обработано: ck0ukgesfwh7f0944smkfpncd_jpeg.rf.796bc7793dcf63a411bbb692fc734dc5.jpg\n",
      "Обработано: ck0na2ozl2ejz08633ausfi26_jpeg.rf.726e4ba9c48a347e68cc56479f131bf3.jpg\n",
      "Обработано: ck0rqflbw4lvd0863gyi0mzp1_jpeg.rf.69d64ebbcff31c6be13e7228d41d83d1.jpg\n",
      "Обработано: ck0nabl6wgb5q0a46x056c88j_jpeg.rf.7975be881984de1f7e172284326d5c4c.jpg\n",
      "Обработано: ck0keqofqkeab0848eq712ch1_jpeg.rf.70559e98cbae0bde190e097105a74ce3.jpg\n",
      "Обработано: ck0uk4wf8875i0a46hztpqvip_jpeg.rf.7a25fd32be8f8e700adb8bfadb0061d1.jpg\n",
      "Обработано: ck0tzqdzqwucd07218blh12ir_jpeg.rf.7b142d2dda7d0e123d58679c4b321445.jpg\n",
      "Обработано: ck0ujle3ouhd20863udrln8yl_jpeg.rf.7fc4afb2782e4051e67f7107b0005f26.jpg\n",
      "Обработано: ck0na2zrshcs50848i2690yin_jpeg.rf.7a39d65d76617f693f52f6144332ea93.jpg\n",
      "Обработано: ck0kfnjva6jp60838d6vqyxq2_jpeg.rf.7c607da0dfd4b5f5ca371c0906a45fe6.jpg\n",
      "Обработано: ck0u0zahz74ln0848lonhk1xg_jpeg.rf.7cb0fa04dc9b397b8ff07e625eb2aefa.jpg\n",
      "Обработано: ck0nfuci585lm0701jw9i5zhj_jpeg.rf.780ea7d50c01236a2a9d4d03eda1d8ce.jpg\n",
      "Обработано: ck0lx4d8sg0df083816ox14r4_jpeg.rf.7a8604dc083afa6cdd0515b29af1d8de.jpg\n",
      "Обработано: ck0kmewv08ygm0944br9j606r_jpeg.rf.7f1cf8002fff325e67bc83dd880f5b70.jpg\n",
      "Обработано: ck0t2pyk3l0ym08636r4hqnty_jpeg.rf.7ca69164d2ca64a00e9c2d1219e7d966.jpg\n",
      "Обработано: ck0kmtk7c90w60944bjhqhm4j_jpeg.rf.7d0d231f2974389d1a30caa1e483200b.jpg\n",
      "Обработано: ck0rpixgt5x8l0944oojfpa2o_jpeg.rf.6c2183ba04dd7ec031b4d6c922aaf16c.jpg\n",
      "Обработано: ck0t3kjngndaa0701i76i8q2c_jpeg.rf.7b33ab9af657e3432533388b4519bb60.jpg\n",
      "Обработано: ck0kkg0u65u3q0863z6w2psqp_jpeg.rf.80b296c2869e29872d0e01490464314e.jpg\n",
      "Обработано: ck0txgnxxud4y0701d5z7lpx7_jpeg.rf.7c53c82d64933f2062ad37195fb14522.jpg\n",
      "Обработано: ck0ujvtjvyrjx0721f1bk9yvy_jpeg.rf.7ced4af432a3d02214f5c6ed5159ba7f.jpg\n",
      "Обработано: ck0tx7k0tr5rz0794r2twuz1o_jpeg.rf.67068839164b779c940323e5dc947e50.jpg\n",
      "Обработано: ck0qbo5snhkcv0701pwtwt35x_jpeg.rf.7dd6750b851e1f342192b20a93614c0a.jpg\n",
      "Обработано: ck0qb9do2fwc708385reizk6h_jpeg.rf.8353ce140548c4b5d4ab719c8245c229.jpg\n",
      "Обработано: ck0ken8886dvt0838isatschp_jpeg.rf.56d26b51cd92328bb4a46f85383e8724.jpg\n",
      "Обработано: ck0klcevilg5n0848axl4ww0k_jpeg.rf.8336b312bb4f97701a551845eb1d6223.jpg\n",
      "Обработано: ck0l7xwvu94160794ed6vldx0_jpeg.rf.830f7a6710900b02f4c7a09e7a949c6e.jpg\n",
      "Обработано: ck0rr4nj43za20794o7o3btuw_jpeg.rf.8657366d6deb4dc4f58216778b1159d6.jpg\n",
      "Обработано: ck0qd5yquiaiq07016q73qoz3_jpeg.rf.858d8803108224ec00b7d914b47b6aae.jpg\n",
      "Обработано: ck0u97a47vo2h0944rwxehqpl_jpeg.rf.89ceb69362b56d99b46492fbb5397c2d.jpg\n",
      "Обработано: ck0kkwqeq5zxe07942ouxkr5q_jpeg.rf.89770a57522ae5b594273df49cfd2981.jpg\n",
      "Обработано: ck0lyghgkfe8a0794h5pz92p7_jpeg.rf.8615b3d2078b8c0c37bfb2aab25e15d9.jpg\n",
      "Обработано: ck0kl3hgk8qyh0944gjtwyh6h_jpeg.rf.85b34d8cb8d16bc37f64dded2353d2d7.jpg\n",
      "Обработано: ck0tzpp8dskmt0863jjiyujwl_jpeg.rf.8774dae60a89c1a7230a85abb2acb4a6.jpg\n",
      "Обработано: ck0tsz3b0624008481fmfbt28_jpeg.rf.84cf8a28b2a98547fccdad89cc3cb3f2.jpg\n",
      "Обработано: ck0t5xpty0hyp08488g6a7n6l_jpeg.rf.8884944ed861a984fd4fa4955e71cd48.jpg\n",
      "Обработано: ck0nett9672gj0944feegfre7_jpeg.rf.867d54429e883f2896c934fd8ae99668.jpg\n",
      "Обработано: ck0kcubsi4r530863gt6or3em_jpeg.rf.85b35b9cbcbe849c2b67784936eed59f.jpg\n",
      "Обработано: ck0kmpmy67n4j08386u8554cs_jpeg.rf.89faad475147ff77905709359f200fb2.jpg\n",
      "Обработано: ck0lyfhltum8h0848fs747twi_jpeg.rf.819ae8db656586c4feeb6b0da9a4eec8.jpg\n",
      "Обработано: ck0tylooksf3f0863s6tbwxhx_jpeg.rf.8f4a749954974bc5e10dc29869c4cbdf.jpg\n",
      "Обработано: ck0qb7h0asvnf0a46l0myka01_jpeg.rf.8ca32cb473bc329df2bbb29575c3e2d0.jpg\n",
      "Обработано: ck0u13g18uv1x070166k2ew3t_jpeg.rf.9105a3ace2fbeb2dfa3d74117355464c.jpg\n",
      "Обработано: ck0m0dejchvnj08381f1xtpqs_jpeg.rf.90bdfa908276f45cb20d30ebb225c40a.jpg\n",
      "Обработано: ck0lzxfw9iyx50944qfn9yxxl_jpeg.rf.8e472728888dc25f5b0fd118abdfe15d.jpg\n",
      "Обработано: ck0qbakbhjoyy0721qw4fut6n_jpeg.rf.86688323b760bc89ab6a94169de5910e.jpg\n",
      "Обработано: ck0tz2vh7wqqw0721qe4odmlu_jpeg.rf.8e9a88e1a568ff4f100cf57a219250d5.jpg\n",
      "Обработано: ck0neh5qnjfoh0848s35xyyj8_jpeg.rf.8ee77066e3ea2e00b914a2ca79353505.jpg\n",
      "Обработано: ck0nd98ujhlfg0a46hhco18rf_jpeg.rf.8e239f5ba8045c6acbf54234796128fd.jpg\n",
      "Обработано: ck0tyq31o6ryb08488lus3geb_jpeg.rf.952ddb3f74c7e559d41ce47c20e0e9db.jpg\n",
      "Обработано: ck0txfme8sat90863ybrk8lzv_jpeg.rf.929ceb5b917912aa2761d897e28cf56c.jpg\n",
      "Обработано: ck0kd21cfj2810a46eicmjtng_jpeg.rf.92bda2dbaf58e1e37a1fd333b2e0b7f4.jpg\n",
      "Обработано: ck0kovirm99fg0944fdv57hd8_jpeg.rf.99290255a4d7b1b8397af118f9fa1f1b.jpg\n",
      "Обработано: ck0kd8g4e9zka0721qprbwtsa_jpeg.rf.978e6c96079ad1f0cc58731412de2cc2.jpg\n",
      "Обработано: ck0uk2i9z86xl0a46gizlif59_jpeg.rf.8729e25833976180a9f3b2a7511789e8.jpg\n",
      "Обработано: ck0nexpddii7b0a463cb74ti7_jpeg.rf.80335414ee9689f5ceb4a8a5feabd966.jpg\n",
      "Обработано: ck0kmhpz99t9w0701ftiu8jlx_jpeg.rf.99a4808a82d63b38b57fc93991730528.jpg\n",
      "Обработано: ck0kosbce7vpn0838c5telfw3_jpeg.rf.9a37414f8df1d8ac3e50c0547ee9805e.jpg\n",
      "Обработано: ck0ndfo8l6ov10701vn095htn_jpeg.rf.9b84723a9e3806a07f4ba65c1ac89861.jpg\n",
      "Обработано: ck0t5nqi3zqqj0a46iyhhhw7b_jpeg.rf.998b4f14452e077f192f88e3842b9501.jpg\n",
      "Обработано: ck0u10zeh74ym0848ow29lc1l_jpeg.rf.8de8ba24b1b198759056a236d93a7cbe.jpg\n",
      "Обработано: ck0kkxafs5wwc08631zxdpdyd_jpeg.rf.9e1b653ce1ab7f179d9d895cc60afadc.jpg\n",
      "Обработано: ck0u0gs1d71m70848obwsy04a_jpeg.rf.9d2a66f2846a0e53d523face7aa0ac1c.jpg\n",
      "Обработано: ck0kcbvwl4tja0794csyimfqu_jpeg.rf.9b8fccc32c80221a31a78bc6b8c54b39.jpg\n",
      "Обработано: ck0tyaitfuchg0944iz87630d_jpeg.rf.998c6176beeff89d6257ca171307b473.jpg\n",
      "Обработано: ck0ncji892we50794albpt7x4_jpeg.rf.9ff5e8dc64a0b04ce0a802bbd8e86f17.jpg\n",
      "Обработано: ck0tzpygswuae0721bhuvjofj_jpeg.rf.9be0b873779f91d86f8a0b713a67f134.jpg\n",
      "Обработано: ck0ndbtmr8oa50721hzgxpue8_jpeg.rf.98eed4485749aa292c11bfba07625367.jpg\n",
      "Обработано: ck0m15mtdwdk30848aglnguy1_jpeg.rf.9fd271f87669440c9448fec8f0248336.jpg\n",
      "Обработано: ck0lwfg8yjmbz07219irceyfl_jpeg.rf.9b5a201db64bd64de373b3b6e5cd12a4.jpg\n",
      "Обработано: ck0ujwlr98tkt0848fudx9cb3_jpeg.rf.a06824e458bc658304e03c577aa85c16.jpg\n",
      "Обработано: ck0lxekamu4wa0848z3xssbek_jpeg.rf.9dc2b9d0b5f9d423270c5cec27d575d3.jpg\n",
      "Обработано: ck0t81ysfnhui0838yucfeszk_jpeg.rf.a0adf8c4222766877b5a807c7ac8b1cd.jpg\n",
      "Обработано: ck0kdra5c7mjh0944w97n0exh_jpeg.rf.9c74c6aa1eddac85e5e0b25cd6659bae.jpg\n",
      "Обработано: ck0t45urenix00701imio8cdw_jpeg.rf.a2ce10899a67ad830a33928f80299233.jpg\n",
      "Обработано: ck0twi6d05v8f0a469q54h3iq_jpeg.rf.9e19708c84c6b0e1e696621aba134117.jpg\n",
      "Обработано: ck0t3r8twkazh0794uxyta3xz_jpeg.rf.9ec29e65e34503b73401e911707d4fc1.jpg\n",
      "Обработано: ck0kmi067lmu70848mrnfi0rc_jpeg.rf.a31f55cd786e5155b79470fb2a7faea0.jpg\n",
      "Обработано: ck0kl079lk71f0a46m6yo4q9m_jpeg.rf.a327c1da1f0fa7a679d36644d715874d.jpg\n",
      "Обработано: ck0twbzbz6hga0848z3sx5lsi_jpeg.rf.9efd0db058b58c0e86f627c2ed3d328a.jpg\n",
      "Обработано: ck0u9e8u77f9y0a46i2qc7hje_jpeg.rf.a3d2e2112949e6b909551dd3f33dddfd.jpg\n",
      "Обработано: ck0tzw6en6xyw0848myghrsxc_jpeg.rf.a757a5641f161d4d3072d0f41e4afd3a.jpg\n",
      "Обработано: ck0negpok9ao50721aw0ozvpl_jpeg.rf.a38e1ae1ffb81f88c8e7b13052a3e043.jpg\n",
      "Обработано: ck0rpfqrnhnon0a46jv1r8s8w_jpeg.rf.a567ba27398a0c227fa75451bb27aa3d.jpg\n",
      "Обработано: ck0t5oyi1mlpd08385ihi4js3_jpeg.rf.a2dd8f265c56cd1b9ae4d1a0a2a3d30a.jpg\n",
      "Обработано: ck0txus39scfk0863py0w15qb_jpeg.rf.9576388a3db2bcfad7af2402710fae96.jpg\n",
      "Обработано: ck0tyxvkx6t1d0848kk4vfkrb_jpeg.rf.a38ddfd3863bcaad9a265c57a56f02ef.jpg\n",
      "Обработано: ck0u0obru6f6u0a46axncdx9n_jpeg.rf.a1d7c0c1b0cd06e7f8ba492cdfee2cf2.jpg\n",
      "Обработано: ck0qc7xskeu3r07948qg5ycne_jpeg.rf.a37fcfa48611702445cc9601afdba946.jpg\n",
      "Обработано: ck0kcn7u1j0vk0a46lr8si8zl_jpeg.rf.ab05dcea54504926189eaf13d19802ec.jpg\n",
      "Обработано: ck0l9dfokcv7o07013t4kgamc_jpeg.rf.a96fed0753b14130e42f31fd8d68438d.jpg\n",
      "Обработано: ck0twl6pqwg6c0721ja81m52m_jpeg.rf.a8b03e4b1a1200e7ebbbec17e9a4e818.jpg\n",
      "Обработано: ck0txrkyx611l0a46u3b4n8bb_jpeg.rf.aa1ad8376fd26661f3771abccbd1d143.jpg\n",
      "Обработано: ck0kepk22a57e07215s22fyiv_jpeg.rf.ac37062f6f5732e0544d31eee82cadda.jpg\n",
      "Обработано: ck0lxgqhheq2b08638gu6tna1_jpeg.rf.a478e7551b36a9021292245c2c812166.jpg\n",
      "Обработано: ck0lwh1i7ed810863a8ql1pat_jpeg.rf.a985f44b16d2c79e1092dd1788f1a996.jpg\n",
      "Обработано: ck0ndgh043xns0863o9d4l0kk_jpeg.rf.ad4917ae707a577f9fef768e65029914.jpg\n",
      "Обработано: ck0ngm4b3jk5e0a46nplsw4xb_jpeg.rf.a8bb6e7e544239d9fa85ac701cae37d1.jpg\n",
      "Обработано: ck0ounuswsms108388flcbazi_jpeg.rf.a9f4e239c0f708a7ce7c767d7e968f61.jpg\n",
      "Обработано: ck0rpaam92wcd0794b9wy12ks_jpeg.rf.ac541642eb5d4b002e19dbb0049e8273.jpg\n",
      "Обработано: ck0oulkapr2bj0794zz57fbjp_jpeg.rf.ace3c245aa0f7dc06f29099284a1b1be.jpg\n",
      "Обработано: ck0k9dg0vjxcg0848rmqzl38w_jpeg.rf.aa2243c64fd18ad4e8c179d09c12cbfc.jpg\n",
      "Обработано: ck0ujo3wrv2130838pn66pvj4_jpeg.rf.ace164faea7387c83c08a68c7b37d736.jpg\n",
      "Обработано: ck0tyucu3uekj0944f3usafki_jpeg.rf.ad394d6c48fd8c0906ce0ac8f4568298.jpg\n",
      "Обработано: ck0ndugzs6hv90944q18viki9_jpeg.rf.ad8568fed3dc8b7b644c67efecbb9757.jpg\n",
      "Обработано: ck0tx9epawjk50721w6282v2c_jpeg.rf.adc7853dfe39ef993eeba0ed3292186a.jpg\n",
      "Обработано: ck0ujirqowixt07012814w3ox_jpeg.rf.af7d2c5ce6bcfedb6ffd891231b412c8.jpg\n",
      "Обработано: ck0txw47261iz0a46k76oyfzj_jpeg.rf.af3dfd2ec9adef7cd9c7e57e79ff8598.jpg\n",
      "Обработано: ck0t734s0mizv0863sujq0i7p_jpeg.rf.b37b89bf3712f1791e2f97c5a16aa48c.jpg\n",
      "Обработано: ck0rqlgco58j50838724x6rym_jpeg.rf.b5b8263fb657e6a09f94583c21fc28ea.jpg\n",
      "Обработано: ck0tz7lcnugfi0944xj04x69y_jpeg.rf.ae59697a3961edc473319ea1edf1566f.jpg\n",
      "Обработано: ck0qb8cz6tfnt0848glf38bpe_jpeg.rf.b27022571ef7b9a910830eeffde9bd30.jpg\n",
      "Обработано: ck0tz4dsmshgh08637pfl2z1c_jpeg.rf.b03bf3d9ee3f53a5e8ee298181290d1c.jpg\n",
      "Обработано: ck0qdf4hwkrzf0721pwn991sv_jpeg.rf.b361b52c1172c6504c67b4f19f9fc544.jpg\n",
      "Обработано: ck0tzmo81wtq50721yer41mgt_jpeg.rf.afb4e1c9346de07f87219b9f5acf477a.jpg\n",
      "Обработано: ck0ndoj9r8u8w07216trgrwuz_jpeg.rf.b43b5ab2970d7b610b7ec6ad50ae1e51.jpg\n",
      "Обработано: ck0tzu01r69vw0a464th4yn43_jpeg.rf.b3629ef5809d61bee0fa0208337eff76.jpg\n",
      "Обработано: ck0txs402uehd070195c9mfko_jpeg.rf.b47277846338d037c30f92e0213833d5.jpg\n",
      "Обработано: ck0ukk30lwlt9070113ad7m2j_jpeg.rf.b11eceafee595fed74046181725c1d95.jpg\n",
      "Обработано: ck0km3uktkdxc0a46uf6e417v_jpeg.rf.b37895e0f3e5352335d9ecb08f96c27e.jpg\n",
      "Обработано: ck0na20uvg69k0a46b7cgr9rd_jpeg.rf.b5c07e27352b2ab5b63f05e8d1aadbca.jpg\n",
      "Обработано: ck0lxfa6uepfr0863exlzozuc_jpeg.rf.b31cd3b0caca370b4d2a7dfb3e9fee94.jpg\n",
      "Обработано: ck0rpg5vz5vk20944kk0yhjy5_jpeg.rf.b492365ac3b96ced581dec7e1520b8b8.jpg\n",
      "Обработано: ck0tzuao2wuuv0721d9vb3uvm_jpeg.rf.b22278e5e19f63a0a95634c876aeb3b1.jpg\n",
      "Обработано: ck0rp9iochje10a46pq920puz_jpeg.rf.b57dbfcab2e3f4b15b88f1895a440510.jpg\n",
      "Обработано: ck0l8bhz891hy086381o84nhd_jpeg.rf.b34dd7fedd0a245a89843faf85150ff9.jpg\n",
      "Обработано: ck0u14y7arp5c0794llhscme5_jpeg.rf.b9a8d990ee70e43ff692e1ad75c6df7d.jpg\n",
      "Обработано: ck0txgdlcsvs8083883yrxqar_jpeg.rf.b9cfd13cbd0644961135ac43731fe225.jpg\n",
      "Обработано: ck0ngmfoyjka50a46cagrxpig_jpeg.rf.b56c9e63661229064c68f3360e6c3e0c.jpg\n",
      "Обработано: ck0kcso214r0r0863m2otgmja_jpeg.rf.b48fb357a1a6847855385883a548e024.jpg\n",
      "Обработано: ck0qbwggghon207016zt7rz5a_jpeg.rf.b4942deb8997e12422a3fd6ab01ca2cd.jpg\n",
      "Обработано: ck0txmpuosbkk0863coq4p42u_jpeg.rf.a752cde3b9f280f5aead544deb94aed0.jpg\n",
      "Обработано: ck0t5tq5hmo8508389vjkpile_jpeg.rf.b7db6d196e09c4695d4da7fd0854a18a.jpg\n",
      "Обработано: ck0kcy2pmj1v70a464cl53bkw_jpeg.rf.b77a5b90fda05cd6f76d1dfa1383a790.jpg\n",
      "Обработано: ck0tzp3rvummy07010t4dolzz_jpeg.rf.c714652d0c504a149b83071ca4b8bd13.jpg\n",
      "Обработано: ck0kdgpnj8gvt0701oaod540q_jpeg.rf.bc941fefccb53c1c7067d832f2489e28.jpg\n",
      "Обработано: ck0lwirdeh6zk0944n5uj6q6i_jpeg.rf.beb382bc3df8be917ce1555d278bdc2a.jpg\n",
      "Обработано: ck0t6c6eg0n3m08483m1afytd_jpeg.rf.bd34ea97915de5348293b62b301df38f.jpg\n",
      "Обработано: ck0u095lit8ti08381w4noa0x_jpeg.rf.bd10a2fd9541e77cad818da589290152.jpg\n",
      "Обработано: ck0tyt1orui7t0701sxkqcrnt_jpeg.rf.c36812de3c09ed71c03a3f269c2223b2.jpg\n",
      "Обработано: ck0koqsqta39h0701f6xas96g_jpeg.rf.c02e070823cd4e7e32fc80985c39d789.jpg\n",
      "Обработано: ck0m14kd9vbfd0a46f2gcpvjf_jpeg.rf.c49003cb0729e8f494413b31f42c151f.jpg\n",
      "Обработано: ck0tt357asc4k0838zbkl0wrd_jpeg.rf.bbd799b63b5ccabf50da4f83c6f2434a.jpg\n",
      "Обработано: ck0kot81t6k5g079474qsyev2_jpeg.rf.c8ae702ba7632a54a7203ec46fef65ad.jpg\n",
      "Обработано: ck0t1ywwdmqkf0944mhiw5huk_jpeg.rf.bb77413dc1cb70d1f2e52b6f003b2bd9.jpg\n",
      "Обработано: ck0ncye0iiouc0848ostst7bq_jpeg.rf.be5d0f452dbe6f8a417b9dffc48b71ed.jpg\n",
      "Обработано: ck0kkg80v5x900794hcgsb4e1_jpeg.rf.c14e4f9813670fcb8bc4bc762fb0afa8.jpg\n",
      "Обработано: ck0rrpwlvj04d0a46r4th0cjf_jpeg.rf.ae43d5efbbcc58b183c5ed045605b4c6.jpg\n",
      "Обработано: ck0tx3rohwiml0721wn578q0e_jpeg.rf.c23153704db212f6fb1d673ef173b0f1.jpg\n",
      "Обработано: ck0u0l462sqjj0863jgtyd84b_jpeg.rf.c4ce1970c78664d09fd0e89d04c6b869.jpg\n",
      "Обработано: ck0qc7df7fjr30863hqmtj5i3_jpeg.rf.bb9c7f696d4c4186a11148ad463aa2f5.jpg\n",
      "Обработано: ck0t1qg3kyft90a46nddriu6k_jpeg.rf.c4b243f8509a87ad5bdb0ed3c1a4e953.jpg\n",
      "Обработано: ck0t2gf1wypnz0a4651vbm3b5_jpeg.rf.b93c64f987f4faa915f9df79de73fb86.jpg\n",
      "Обработано: ck0u101es74sl08484y0z9pb6_jpeg.rf.caf350c36e933cf2c1a1059225801aaa.jpg\n",
      "Обработано: ck0uklx72wly70701px5wl6fw_jpeg.rf.cb1683418c777e1d072763d02d84465b.jpg\n",
      "Обработано: ck0t6v4mw07810a46gj9vqfvu_jpeg.rf.bb2af326ad7e053d0f41d82152936273.jpg\n",
      "Обработано: ck0u0nf3ftb7n083861jt62o2_jpeg.rf.cd876ad735a6b63314285acf94d9b387.jpg\n",
      "Обработано: ck0kd8vmh68nl083835g4ngoc_jpeg.rf.c902cfa6716233a9c92df404d67030be.jpg\n",
      "Обработано: ck0kfmg3p6jh90838qxnikor1_jpeg.rf.c940db5cb0499c51a3e30d63ebb6f584.jpg\n",
      "Обработано: ck0kdeqv8a00m0721x8avt6qe_jpeg.rf.ccb567cc23cf7f9a2ceeb4634041509a.jpg\n",
      "Обработано: ck0ukglh8v4be0838snyl10yu_jpeg.rf.d1be73932e5973c718b1635e2181b31f.jpg\n",
      "Обработано: ck0km4hlk63zp0863ur0owhkg_jpeg.rf.c21e125782c726a343832cbf44531e8b.jpg\n",
      "Обработано: ck0ug3gjz7wk00a46ikj346zv_jpeg.rf.c965066b7e947133c6e047b4b977aa9e.jpg\n",
      "Обработано: ck0l8askp96bh0794bppil14t_jpeg.rf.d00754fce81830149f3584d6ade4e481.jpg\n",
      "Обработано: ck0t5wu9ao70b0701rdv7c7af_jpeg.rf.cc0f00f739a08c1d6337f7f6e32ce03d.jpg\n",
      "Обработано: ck0l9xgch9grx0794i0878xu3_jpeg.rf.cf1e618e34680202cdbffa88c5dde147.jpg\n",
      "Обработано: ck0l9d0tt981g0863dmttkl8h_jpeg.rf.cdc1449d65b480488a9804f446c402e7.jpg\n",
      "Обработано: ck0kmrvn590jl0944asem2ofh_jpeg.rf.d2d17e7e7b937478c360cb889bc2dcda.jpg\n",
      "Обработано: ck0u0i88bunv00944unevdbqg_jpeg.rf.d20e47a3a4c4cec68381d5f113f985d8.jpg\n",
      "Обработано: ck0ndwu8pj3180848zonjasmz_jpeg.rf.cf341dfba711fbaa425f7b0e8c5e456a.jpg\n",
      "Обработано: ck0korwq7kq730a465vnctqhc_jpeg.rf.d31a5db033fffacd8293d649856293b9.jpg\n",
      "Обработано: ck0nene10jjcw08481qmhh4wj_jpeg.rf.c9871f3286e6f97e1d4d25d96df1d762.jpg\n",
      "Обработано: ck0nf4ks0js7z0848cku0h6t5_jpeg.rf.d406f9db90a5286932149187bb9ae070.jpg\n",
      "Обработано: ck0kl4d8y7e9x0838i33y0nta_jpeg.rf.d57cde80b3d701666c78b64f7bae4ddf.jpg\n",
      "Обработано: ck0t75ti6on9t07015p6wbjle_jpeg.rf.d4ca4e1f7adb43de81445ccbe0f71098.jpg\n",
      "Обработано: ck0qba5yvh45x0944qw0oaamw_jpeg.rf.d548f788d81a572f39907164ea6c1bba.jpg\n",
      "Обработано: ck0tsvw19vzj90721zgwt6zcu_jpeg.rf.cf6612354723744280bb097e50446b3e.jpg\n",
      "Обработано: ck0lyf2lnhyy10944t8eb842u_jpeg.rf.ce489168cc3c9f5e7df796c885a30097.jpg\n",
      "Обработано: ck0owo8knvext07012gernxb0_jpeg.rf.d59fd6116629a05a3c8e6b11e5465f55.jpg\n",
      "Обработано: ck0txwk8k6owz0848gejqchq8_jpeg.rf.d431e6a3cf29ca3c97bda4035c2e26fa.jpg\n",
      "Обработано: ck0tsyvp361ow084867dinue0_jpeg.rf.d47c7f4008f3cd76c7e1428677a676ce.jpg\n",
      "Обработано: ck0ng4fa263vn083809qkbt4y_jpeg.rf.d577c7aecd3d674eac02e89ae4f5ce2f.jpg\n",
      "Обработано: ck0kkgh0ik3y20a46kzrit8v2_jpeg.rf.d67b266cfd13ae5f09666bfda12df841.jpg\n",
      "Обработано: ck0kl3wpd616z079452ea8lq2_jpeg.rf.c9ef393eca807516bb64ed1f77d1c329.jpg\n",
      "Обработано: ck0kht0vs5k2r079428olg3jt_jpeg.rf.d5030fcc4a23818e5098008df0a1afb2.jpg\n",
      "Обработано: ck0tt3hm6tsh90701m4t0sq7e_jpeg.rf.bf573bb3cc96443e940c0e1b2a554dd1.jpg\n",
      "Обработано: ck0rqph585aki0838q1hxpf6k_jpeg.rf.cf14cc4db9c987427a392c960f1c779a.jpg\n",
      "Обработано: ck0txx0ddscoq0863bm1ntw9g_jpeg.rf.d4a3a846ce3b75ac6df3f0290adc7ef8.jpg\n",
      "Обработано: ck0txp6s8ue5b0701zx9qjwwe_jpeg.rf.d99829abfdfcd1ac783cbf63afb2e141.jpg\n",
      "Обработано: ck0t6z888oklq0701ri4jser9_jpeg.rf.d8566287c945e4bfc9a47f699bfc0fed.jpg\n",
      "Обработано: ck0tz3qdjt20v0838pjjz36dn_jpeg.rf.d78b31fccbc803886b4037c800f2c5e7.jpg\n",
      "Обработано: ck0t58uo4nvw40701ubn1fua7_jpeg.rf.da5481cdd88087908cd2c42ad46b2658.jpg\n",
      "Обработано: ck0tsymgpsbmm0838ci72jvcf_jpeg.rf.d4d1f4ce36dfe12001ec0d35ea58dc2f.jpg\n",
      "Обработано: ck0t3iu3flv0k0838lql92x5b_jpeg.rf.d9fe218889dedb1a545b98b76d43d41f.jpg\n",
      "Обработано: ck0tzza3ut6ra0838aef1ubfa_jpeg.rf.d8738fff54d7ecf5e5d281969b2c4795.jpg\n",
      "Обработано: ck0rqkoz2587n08387o17rv73_jpeg.rf.dac0a1efdb35bccefe81abe469913116.jpg\n",
      "Обработано: ck0kkep0vb0nz0721g3sq0a4g_jpeg.rf.dd0d3963e97103fd24b0302cba1d3b2c.jpg\n",
      "Обработано: ck0qd50hwi1k10944i25e7al9_jpeg.rf.dc4e8422676e7baad2e36433c32553dd.jpg\n",
      "Обработано: ck0l8bqss96gu0794pchtppli_jpeg.rf.e17bf9e0a389c74071cbe09081eb69ff.jpg\n",
      "Обработано: ck0kfljfp7vuk09441308dug1_jpeg.rf.dc55db65a3baa4ff7ed9768c00cc81f7.jpg\n",
      "Обработано: ck0t765i5mk8j0863od0a5ghy_jpeg.rf.e1c441f3237ce54181cc06b916ccf313.jpg\n",
      "Обработано: ck0kdc75e4wgn0794wltgjwdw_jpeg.rf.d6e58c1f6882247f6f923fd4918c8b97.jpg\n",
      "Обработано: ck0ncwdaxhgtf0a46wezybiq2_jpeg.rf.e1fafb3aba0497f4c834a16883672701.jpg\n",
      "Обработано: ck0t4sh7pnk3v09447wbxifkk_jpeg.rf.d723fb8fb9b160e3b61d523345284d2a.jpg\n",
      "Обработано: ck0koqfpl6g0x0863mmghhzwg_jpeg.rf.e4096a41d191d035f061c7e7be01d05c.jpg\n",
      "Обработано: ck0tx10f0r4n40794pbbiu6iw_jpeg.rf.e2375405bbe7a5a307420051f164add7.jpg\n",
      "Обработано: ck0t5k7tonwo20944nfnbqogm_jpeg.rf.da7dd21c39b298b5d1354d7b0448c81e.jpg\n",
      "Обработано: ck0tyx4x7t16i0838grtlspkh_jpeg.rf.e1d9c642a95a536ae63fdbf498815c0d.jpg\n",
      "Обработано: ck0u01dbyuoe30701p6pfzb0q_jpeg.rf.dc34aba657747af88bf1eec63f19ea6b.jpg\n",
      "Обработано: ck0twwuxz6k9i0848br68e8wm_jpeg.rf.e030f5f045919b341af6350a986d278b.jpg\n",
      "Обработано: ck0kdxyxd8iat0701jbwd0oq6_jpeg.rf.e362ca6c6b22ae89c23f0400eba85291.jpg\n",
      "Обработано: ck0m1m206hgy907944qxlvo5i_jpeg.rf.e496ad2cbe926d62bf0963945c209928.jpg\n",
      "Обработано: ck0keprw9ke1d08483vmle7ed_jpeg.rf.d74bb474ba405e41ce3e4c6528dc297c.jpg\n",
      "Обработано: ck0twb97n5uc20a46en2e2spb_jpeg.rf.e507096fae49dae5649e7f4e895d6f8f.jpg\n",
      "Обработано: ck0nfxm5e5gq50863tqwxrgft_jpeg.rf.d58b0a6b0eb2a0d518d8454db06199a0.jpg\n",
      "Обработано: ck0lx4sqkjw920721qbehquxz_jpeg.rf.e7d42763ee20d742ec143f95cbf373cf.jpg\n",
      "Обработано: ck0ncrfj130c40794scji9fm2_jpeg.rf.e496f4b2df3e743bcb12f63182a3dbf6.jpg\n",
      "Обработано: ck0lxhudct3ac0a46446v80ie_jpeg.rf.e82cf40e85c95c941bb2f1e6b79fd863.jpg\n",
      "Обработано: ck0ovtzvntedo08385kjpyx6a_jpeg.rf.e7f852447532daeefb963845a94e1f5b.jpg\n",
      "Обработано: ck0kdgfrn7loi0944bc5njxd7_jpeg.rf.e77b9a3d458cca0a65c750a0e39b2036.jpg\n",
      "Обработано: ck0m1nvd7hi5g0794ixq4uhub_jpeg.rf.e775cb83a1957693c6e0d9d7d3f95317.jpg\n",
      "Обработано: ck0lxcldkid0h0701q2hvnu98_jpeg.rf.e9d122974e39e352e0a7501ef768718f.jpg\n",
      "Обработано: ck0ng3zz98boz07013zyds00f_jpeg.rf.e40e57c921769f8371a0310f39e796d5.jpg\n",
      "Обработано: ck0qc8ib3k6v40721gt60o67m_jpeg.rf.e9516a96becadb93de954363e16ec5e1.jpg\n",
      "Обработано: ck0t3s74cnfks070126deykt2_jpeg.rf.e83ffc98b2dd129c1a6df088d5191aca.jpg\n",
      "Обработано: ck0kn591g92v60944tmg09bpa_jpeg.rf.e5899097b18526fc481119ec8f5b656c.jpg\n",
      "Обработано: ck0qbnvn6hk6w0701x0mcjvq8_jpeg.rf.dae439c3ddfdef76b1c1e360c545aac1.jpg\n",
      "Обработано: ck0t2tlmmzfds0848mvj42ujg_jpeg.rf.e9652791f14278f94e777c81d78f9857.jpg\n",
      "Обработано: ck0u98ba1xzpe0721rgjjjun5_jpeg.rf.c8cc83fd4689caf4aff86fee001b8a16.jpg\n",
      "Обработано: ck0qbedgvf3qu08637yvo02cq_jpeg.rf.ebc6cb1fe15faeeb074bbef5df3a5ec8.jpg\n",
      "Обработано: ck0khrpvr6w7p08381txzz4na_jpeg.rf.e8b802a44e4fe52b71fbab310155d3c4.jpg\n",
      "Обработано: ck0m1maf2vnl30a46vnjvga3r_jpeg.rf.eecd77e33b3da8be70b8d3390ace85df.jpg\n",
      "Обработано: ck0kcpbi29y0x0721g7dlzzcs_jpeg.rf.ece36ca553147b2de60b98934d7ac108.jpg\n",
      "Обработано: ck0u13mbhte0v0838nxz2zdkf_jpeg.rf.ea7ac3c4de6eb11b8eb611eb4607088c.jpg\n",
      "Обработано: ck0kow7lga3y30701f2yvt2b2_jpeg.rf.ecf01b0da90868c719b611d91b39ffaa.jpg\n",
      "Обработано: ck0kn6a6093460944dnwl19so_jpeg.rf.eaa9e57f5453024b7f67474c23ce8fbd.jpg\n",
      "Обработано: ck0kmr5ewkhpq0a46nuv73id4_jpeg.rf.eefd3b3e4bc495f0be37f429b5221ead.jpg\n",
      "Обработано: ck0qd7oxtgwug08385hhoh6c6_jpeg.rf.ed34a7e543981c7060fe65e63c03952f.jpg\n",
      "Обработано: ck0kkizhblbln0848zygsqz0h_jpeg.rf.ea0e69b1a5fcc169eb7722c2ffb949d6.jpg\n",
      "Обработано: ck0tzox41umlv0701crxo159j_jpeg.rf.e8dbba80529101120c53cdbf682d6b3b.jpg\n",
      "Обработано: ck0tzphn3t5by0838ge18vkq7_jpeg.rf.f15891396160c6c83e3b052fd5d235f2.jpg\n",
      "Обработано: ck0na66fi7cky0721kx2rj68t_jpeg.rf.f0e6702bd324dc61cf4f31478c6b2603.jpg\n",
      "Обработано: ck0qbn4c2to820848neklprj5_jpeg.rf.edbf13d246dafcace687af99558821c9.jpg\n",
      "Обработано: ck0kkzzufk6zy0a464la26n1c_jpeg.rf.efaf28715b3f2f29a3f0da43da02a280.jpg\n",
      "Обработано: ck0t20os6mrcb0944xrc0wamx_jpeg.rf.ee4ee7ff297cbc0aadd8bc31c4067d1d.jpg\n",
      "Обработано: ck0rpemia2zhr0794cdnvuzck_jpeg.rf.ed929ea4f567b42d1bc217371c742329.jpg\n",
      "Обработано: ck0oulyr8sldl0838tkv3hqk8_jpeg.rf.f3ac94ace79c957d33904e37a086349a.jpg\n",
      "Обработано: ck0l9vmuparhg0838oe20j0bd_jpeg.rf.ef939ad40b43a4c66054c5da14275db8.jpg\n",
      "Обработано: ck0kdvg6tj4hn0a46k06job5k_jpeg.rf.fa065ac54cfb77706875d2b1aef49e0e.jpg\n",
      "Обработано: ck0rp7ech84jq0721s8wfw8tz_jpeg.rf.f49f246eef35370ed9da3d797409fa3c.jpg\n",
      "Обработано: ck0qc8qkohujb0701aq2988oa_jpeg.rf.f2a84ac565b7b243b36ae40493668d9e.jpg\n",
      "Обработано: ck0u0dcgdwy9r072177202gnd_jpeg.rf.ed8b6721555e8d9aba61dce9a162f6df.jpg\n",
      "Обработано: ck0ovvrza6e0e0a46doaio091_jpeg.rf.f1700a3be120b1b80631405b50a8975d.jpg\n",
      "Обработано: ck0t7hsj2on2s094444drdqs0_jpeg.rf.f52b5068fa822561ff8f0e200dc451a0.jpg\n",
      "Обработано: ck0kd7h8nj2m70a469e4k6x92_jpeg.rf.f645d6becaa1da2654c27198f8a2651f.jpg\n",
      "Обработано: ck0txn3y1uaec0944bo6m4q6c_jpeg.rf.f46ac4d6b598065a331421706191b669.jpg\n",
      "Обработано: ck0tswxwqqmau0794imifdgnh_jpeg.rf.ec35749524df8e91f4398a24e9e87e55.jpg\n",
      "Обработано: ck0ujb0z98s2k08487aup4zlv_jpeg.rf.f7782299c142e682f20fa934e9f8d5ce.jpg\n",
      "Обработано: ck0t3r291z3xb0a46a6hx1rak_jpeg.rf.f9feb1317bbf81fb69035cc286af96fe.jpg\n",
      "Обработано: ck0ukhrm7wh9z0944dld49omk_jpeg.rf.e34dffbbe4bdc445193672cf547bb600.jpg\n",
      "Обработано: ck0rr7nhf6w970944cb2nnlih_jpeg.rf.fad95509baaee973c9d5a6db10c3f314.jpg\n",
      "Обработано: ck0na5s461w2n0794ifd5c5cs_jpeg.rf.fa60c06a0da1f8d35af461f44eb7b995.jpg\n",
      "Обработано: ck0m1643sidi5083850vpmnkb_jpeg.rf.fbbe02a32c796d693e4d3c6f3e81a70e.jpg\n",
      "Обработано: ck0k9jss09oxq0721c8pd7eds_jpeg.rf.fa5ce52e0ebc5762bee66acd5bc1aa1d.jpg\n",
      "Обработано: ck0u00h8m6yow0848u1pohlak_jpeg.rf.faa14c3337ceadc7f78c40379226f78f.jpg\n",
      "Обработано: ck0lzyygqj00t0944qnwlwjf2_jpeg.rf.fbbbc2b4e6b9dd5b8242be555a897ed4.jpg\n",
      "Обработано: ck0kkv2jf8pil09448qnz1ndu_jpeg.rf.fa40e68bec965ba376f16ed65cb1347d.jpg\n",
      "Обработано: ck0ounp7qrrb80863c0xidr4j_jpeg.rf.fdcd05e62f85264689f32990913feadb.jpg\n",
      "Обработано: ck0tz35vrt1xh08382lzzsg2v_jpeg.rf.fbfc29bec37e3eae4805a0cc7f74ff80.jpg\n",
      "Обработано: ck0ujoiltwezp0944u48gk6wn_jpeg.rf.ff498f4094583e78e66034d107ad0285.jpg\n",
      "Обработано: ck0ng5zyb5lrz086320xihwm8_jpeg.rf.feb1d8a9088cbddc422d12bb51629620.jpg\n",
      "Обработано: ck0kdpfyk4t8v08633b9u5zhe_jpeg.rf.ff2afd2c799d7ce3dbf8e4588e60fda5.jpg\n",
      "Обработано: ck0u0jzlqsqbn0863uii3azjh_jpeg.rf.fbdb4c44be18f3c2fa695b1b6b670b16.jpg\n",
      "Обработка завершена!\n"
     ]
    }
   ],
   "source": [
    "output_dir = \"result\"\n",
    "os.makedirs(output_dir, exist_ok=True)\n",
    "images_dir = \"datasets/Wildfire-Smoke/train/\"\n",
    "\n",
    "for index, row in data.iterrows():\n",
    "    filename = row[\"filename\"]\n",
    "    image_path = os.path.join(images_dir, filename)\n",
    "    \n",
    "    image = cv2.imread(image_path)\n",
    "    if image is None:\n",
    "        print(f\"Не удалось загрузить изображение: {filename}\")\n",
    "        continue\n",
    "    \n",
    "    xmin, ymin, xmax, ymax = int(row[\"xmin\"]), int(row[\"ymin\"]), int(row[\"xmax\"]), int(row[\"ymax\"])\n",
    "    \n",
    "    cv2.rectangle(image, (xmin, ymin), (xmax, ymax), (255, 0, 0), 2)\n",
    "    \n",
    "    output_path = os.path.join(output_dir, filename)\n",
    "    cv2.imwrite(output_path, image)\n",
    "\n",
    "    print(f\"Обработано: {filename}\")\n",
    "\n",
    "print(\"Обработка завершена!\")\n"
   ],
   "metadata": {
    "collapsed": false,
    "ExecuteTime": {
     "end_time": "2024-11-28T10:41:59.277677Z",
     "start_time": "2024-11-28T10:41:57.193637Z"
    }
   },
   "id": "881dc4ef31e0b7e9"
  },
  {
   "cell_type": "code",
   "execution_count": 3,
   "outputs": [
    {
     "name": "stdout",
     "output_type": "stream",
     "text": [
      "PRO TIP 💡 Replace 'model=yolov5s.pt' with new 'model=yolov5su.pt'.\n",
      "YOLOv5 'u' models are trained with https://github.com/ultralytics/ultralytics and feature improved performance vs standard YOLOv5 models trained with https://github.com/ultralytics/yolov5.\n",
      "\n",
      "Downloading https://github.com/ultralytics/assets/releases/download/v8.3.0/yolov5su.pt to 'yolov5su.pt'...\n",
      "⚠️ Download failure, retrying 1/3 https://github.com/ultralytics/assets/releases/download/v8.3.0/yolov5su.pt...\n"
     ]
    },
    {
     "name": "stderr",
     "output_type": "stream",
     "text": [
      "######################################################################## 100.0%\n"
     ]
    },
    {
     "name": "stdout",
     "output_type": "stream",
     "text": [
      "Ultralytics 8.3.39 🚀 Python-3.11.2 torch-2.2.2 CPU (Intel Core(TM) i5-8257U 1.40GHz)\n",
      "\u001B[34m\u001B[1mengine/trainer: \u001B[0mtask=detect, mode=train, model=yolov5s.pt, data=datasets/Wildfire-Smoke/data.yaml, epochs=50, time=None, patience=100, batch=16, imgsz=640, save=True, save_period=-1, cache=False, device=None, workers=8, project=None, name=train, exist_ok=False, pretrained=True, optimizer=auto, verbose=True, seed=0, deterministic=True, single_cls=False, rect=False, cos_lr=False, close_mosaic=10, resume=False, amp=True, fraction=1.0, profile=False, freeze=None, multi_scale=False, overlap_mask=True, mask_ratio=4, dropout=0.0, val=True, split=val, save_json=False, save_hybrid=False, conf=None, iou=0.7, max_det=300, half=False, dnn=False, plots=True, source=None, vid_stride=1, stream_buffer=False, visualize=False, augment=False, agnostic_nms=False, classes=None, retina_masks=False, embed=None, show=False, save_frames=False, save_txt=False, save_conf=False, save_crop=False, show_labels=True, show_conf=True, show_boxes=True, line_width=None, format=torchscript, keras=False, optimize=False, int8=False, dynamic=False, simplify=True, opset=None, workspace=None, nms=False, lr0=0.01, lrf=0.01, momentum=0.937, weight_decay=0.0005, warmup_epochs=3.0, warmup_momentum=0.8, warmup_bias_lr=0.1, box=7.5, cls=0.5, dfl=1.5, pose=12.0, kobj=1.0, nbs=64, hsv_h=0.015, hsv_s=0.7, hsv_v=0.4, degrees=0.0, translate=0.1, scale=0.5, shear=0.0, perspective=0.0, flipud=0.0, fliplr=0.5, bgr=0.0, mosaic=1.0, mixup=0.0, copy_paste=0.0, copy_paste_mode=flip, auto_augment=randaugment, erasing=0.4, crop_fraction=1.0, cfg=None, tracker=botsort.yaml, save_dir=/Users/baiturtashbaev/Documents/Байтур/Projects/Course Arbeit/INAI_MedFire/runs/detect/train\n",
      "Overriding model.yaml nc=80 with nc=1\n",
      "\n",
      "                   from  n    params  module                                       arguments                     \n",
      "  0                  -1  1      3520  ultralytics.nn.modules.conv.Conv             [3, 32, 6, 2, 2]              \n",
      "  1                  -1  1     18560  ultralytics.nn.modules.conv.Conv             [32, 64, 3, 2]                \n",
      "  2                  -1  1     18816  ultralytics.nn.modules.block.C3              [64, 64, 1]                   \n",
      "  3                  -1  1     73984  ultralytics.nn.modules.conv.Conv             [64, 128, 3, 2]               \n",
      "  4                  -1  2    115712  ultralytics.nn.modules.block.C3              [128, 128, 2]                 \n",
      "  5                  -1  1    295424  ultralytics.nn.modules.conv.Conv             [128, 256, 3, 2]              \n",
      "  6                  -1  3    625152  ultralytics.nn.modules.block.C3              [256, 256, 3]                 \n",
      "  7                  -1  1   1180672  ultralytics.nn.modules.conv.Conv             [256, 512, 3, 2]              \n",
      "  8                  -1  1   1182720  ultralytics.nn.modules.block.C3              [512, 512, 1]                 \n",
      "  9                  -1  1    656896  ultralytics.nn.modules.block.SPPF            [512, 512, 5]                 \n",
      " 10                  -1  1    131584  ultralytics.nn.modules.conv.Conv             [512, 256, 1, 1]              \n",
      " 11                  -1  1         0  torch.nn.modules.upsampling.Upsample         [None, 2, 'nearest']          \n",
      " 12             [-1, 6]  1         0  ultralytics.nn.modules.conv.Concat           [1]                           \n",
      " 13                  -1  1    361984  ultralytics.nn.modules.block.C3              [512, 256, 1, False]          \n",
      " 14                  -1  1     33024  ultralytics.nn.modules.conv.Conv             [256, 128, 1, 1]              \n",
      " 15                  -1  1         0  torch.nn.modules.upsampling.Upsample         [None, 2, 'nearest']          \n",
      " 16             [-1, 4]  1         0  ultralytics.nn.modules.conv.Concat           [1]                           \n",
      " 17                  -1  1     90880  ultralytics.nn.modules.block.C3              [256, 128, 1, False]          \n",
      " 18                  -1  1    147712  ultralytics.nn.modules.conv.Conv             [128, 128, 3, 2]              \n",
      " 19            [-1, 14]  1         0  ultralytics.nn.modules.conv.Concat           [1]                           \n",
      " 20                  -1  1    296448  ultralytics.nn.modules.block.C3              [256, 256, 1, False]          \n",
      " 21                  -1  1    590336  ultralytics.nn.modules.conv.Conv             [256, 256, 3, 2]              \n",
      " 22            [-1, 10]  1         0  ultralytics.nn.modules.conv.Concat           [1]                           \n",
      " 23                  -1  1   1182720  ultralytics.nn.modules.block.C3              [512, 512, 1, False]          \n",
      " 24        [17, 20, 23]  1   2116435  ultralytics.nn.modules.head.Detect           [1, [128, 256, 512]]          \n",
      "YOLOv5s summary: 262 layers, 9,122,579 parameters, 9,122,563 gradients, 24.0 GFLOPs\n",
      "Transferred 421/427 items from pretrained weights\n",
      "Freezing layer 'model.24.dfl.conv.weight'\n"
     ]
    },
    {
     "name": "stderr",
     "output_type": "stream",
     "text": [
      "\u001B[34m\u001B[1mtrain: \u001B[0mScanning /Users/baiturtashbaev/Documents/Байтур/Projects/Course Arbeit/INAI_MedFire/datasets/Wildfire-Smoke/train... 516 images, 0 backgrounds, 0 corrupt: 100%|██████████| 516/516 [00:00<00:00, 1458.36it/s]"
     ]
    },
    {
     "name": "stdout",
     "output_type": "stream",
     "text": [
      "\u001B[34m\u001B[1mtrain: \u001B[0mNew cache created: /Users/baiturtashbaev/Documents/Байтур/Projects/Course Arbeit/INAI_MedFire/datasets/Wildfire-Smoke/train.cache\n"
     ]
    },
    {
     "name": "stderr",
     "output_type": "stream",
     "text": [
      "\n",
      "\u001B[34m\u001B[1mval: \u001B[0mScanning /Users/baiturtashbaev/Documents/Байтур/Projects/Course Arbeit/INAI_MedFire/datasets/Wildfire-Smoke/valid... 147 images, 0 backgrounds, 0 corrupt: 100%|██████████| 147/147 [00:00<00:00, 1595.74it/s]"
     ]
    },
    {
     "name": "stdout",
     "output_type": "stream",
     "text": [
      "\u001B[34m\u001B[1mval: \u001B[0mNew cache created: /Users/baiturtashbaev/Documents/Байтур/Projects/Course Arbeit/INAI_MedFire/datasets/Wildfire-Smoke/valid.cache\n"
     ]
    },
    {
     "name": "stderr",
     "output_type": "stream",
     "text": [
      "\n"
     ]
    },
    {
     "name": "stdout",
     "output_type": "stream",
     "text": [
      "Plotting labels to /Users/baiturtashbaev/Documents/Байтур/Projects/Course Arbeit/INAI_MedFire/runs/detect/train/labels.jpg... \n",
      "\u001B[34m\u001B[1moptimizer:\u001B[0m 'optimizer=auto' found, ignoring 'lr0=0.01' and 'momentum=0.937' and determining best 'optimizer', 'lr0' and 'momentum' automatically... \n",
      "\u001B[34m\u001B[1moptimizer:\u001B[0m AdamW(lr=0.002, momentum=0.9) with parameter groups 69 weight(decay=0.0), 76 weight(decay=0.0005), 75 bias(decay=0.0)\n",
      "Image sizes 640 train, 640 val\n",
      "Using 0 dataloader workers\n",
      "Logging results to \u001B[1m/Users/baiturtashbaev/Documents/Байтур/Projects/Course Arbeit/INAI_MedFire/runs/detect/train\u001B[0m\n",
      "Starting training for 50 epochs...\n",
      "\n",
      "      Epoch    GPU_mem   box_loss   cls_loss   dfl_loss  Instances       Size\n"
     ]
    },
    {
     "name": "stderr",
     "output_type": "stream",
     "text": [
      "       1/50         0G      2.004      2.882      1.618          7        640: 100%|██████████| 33/33 [11:08<00:00, 20.24s/it]\n",
      "                 Class     Images  Instances      Box(P          R      mAP50  mAP50-95): 100%|██████████| 5/5 [00:35<00:00,  7.12s/it]"
     ]
    },
    {
     "name": "stdout",
     "output_type": "stream",
     "text": [
      "                   all        147        147       0.46      0.371      0.318      0.126\n"
     ]
    },
    {
     "name": "stderr",
     "output_type": "stream",
     "text": [
      "\n"
     ]
    },
    {
     "name": "stdout",
     "output_type": "stream",
     "text": [
      "\n",
      "      Epoch    GPU_mem   box_loss   cls_loss   dfl_loss  Instances       Size\n"
     ]
    },
    {
     "name": "stderr",
     "output_type": "stream",
     "text": [
      "       2/50         0G      1.913      1.945      1.688          5        640: 100%|██████████| 33/33 [11:53<00:00, 21.63s/it]\n",
      "                 Class     Images  Instances      Box(P          R      mAP50  mAP50-95): 100%|██████████| 5/5 [00:43<00:00,  8.65s/it]"
     ]
    },
    {
     "name": "stdout",
     "output_type": "stream",
     "text": [
      "                   all        147        147      0.254      0.381      0.234     0.0911\n"
     ]
    },
    {
     "name": "stderr",
     "output_type": "stream",
     "text": [
      "\n"
     ]
    },
    {
     "name": "stdout",
     "output_type": "stream",
     "text": [
      "\n",
      "      Epoch    GPU_mem   box_loss   cls_loss   dfl_loss  Instances       Size\n"
     ]
    },
    {
     "name": "stderr",
     "output_type": "stream",
     "text": [
      "       3/50         0G      1.951      1.829      1.655          9        640: 100%|██████████| 33/33 [12:46<00:00, 23.22s/it]\n",
      "                 Class     Images  Instances      Box(P          R      mAP50  mAP50-95): 100%|██████████| 5/5 [00:33<00:00,  6.75s/it]"
     ]
    },
    {
     "name": "stdout",
     "output_type": "stream",
     "text": [
      "                   all        147        147     0.0856      0.374      0.077     0.0227\n"
     ]
    },
    {
     "name": "stderr",
     "output_type": "stream",
     "text": [
      "\n"
     ]
    },
    {
     "name": "stdout",
     "output_type": "stream",
     "text": [
      "\n",
      "      Epoch    GPU_mem   box_loss   cls_loss   dfl_loss  Instances       Size\n"
     ]
    },
    {
     "name": "stderr",
     "output_type": "stream",
     "text": [
      "       4/50         0G      2.055      1.766      1.686          9        640: 100%|██████████| 33/33 [42:47<00:00, 77.79s/it] \n",
      "                 Class     Images  Instances      Box(P          R      mAP50  mAP50-95): 100%|██████████| 5/5 [17:29<00:00, 209.99s/it]"
     ]
    },
    {
     "name": "stdout",
     "output_type": "stream",
     "text": [
      "                   all        147        147      0.329      0.387      0.288      0.108\n"
     ]
    },
    {
     "name": "stderr",
     "output_type": "stream",
     "text": [
      "\n"
     ]
    },
    {
     "name": "stdout",
     "output_type": "stream",
     "text": [
      "\n",
      "      Epoch    GPU_mem   box_loss   cls_loss   dfl_loss  Instances       Size\n"
     ]
    },
    {
     "name": "stderr",
     "output_type": "stream",
     "text": [
      "       5/50         0G      1.994      1.822      1.673          9        640: 100%|██████████| 33/33 [2:34:14<00:00, 280.44s/it]   \n",
      "                 Class     Images  Instances      Box(P          R      mAP50  mAP50-95): 100%|██████████| 5/5 [00:30<00:00,  6.12s/it]"
     ]
    },
    {
     "name": "stdout",
     "output_type": "stream",
     "text": [
      "                   all        147        147      0.464      0.551      0.392      0.143\n"
     ]
    },
    {
     "name": "stderr",
     "output_type": "stream",
     "text": [
      "\n"
     ]
    },
    {
     "name": "stdout",
     "output_type": "stream",
     "text": [
      "\n",
      "      Epoch    GPU_mem   box_loss   cls_loss   dfl_loss  Instances       Size\n"
     ]
    },
    {
     "name": "stderr",
     "output_type": "stream",
     "text": [
      "       6/50         0G      1.922      1.525      1.658          6        640: 100%|██████████| 33/33 [1:10:42<00:00, 128.56s/it]   \n",
      "                 Class     Images  Instances      Box(P          R      mAP50  mAP50-95): 100%|██████████| 5/5 [00:32<00:00,  6.53s/it]"
     ]
    },
    {
     "name": "stdout",
     "output_type": "stream",
     "text": [
      "                   all        147        147      0.403      0.463       0.33      0.114\n"
     ]
    },
    {
     "name": "stderr",
     "output_type": "stream",
     "text": [
      "\n"
     ]
    },
    {
     "name": "stdout",
     "output_type": "stream",
     "text": [
      "\n",
      "      Epoch    GPU_mem   box_loss   cls_loss   dfl_loss  Instances       Size\n"
     ]
    },
    {
     "name": "stderr",
     "output_type": "stream",
     "text": [
      "       7/50         0G      1.885      1.554      1.651          7        640: 100%|██████████| 33/33 [12:31<00:00, 22.77s/it]\n",
      "                 Class     Images  Instances      Box(P          R      mAP50  mAP50-95): 100%|██████████| 5/5 [00:35<00:00,  7.03s/it]"
     ]
    },
    {
     "name": "stdout",
     "output_type": "stream",
     "text": [
      "                   all        147        147      0.381      0.483       0.37      0.148\n"
     ]
    },
    {
     "name": "stderr",
     "output_type": "stream",
     "text": [
      "\n"
     ]
    },
    {
     "name": "stdout",
     "output_type": "stream",
     "text": [
      "\n",
      "      Epoch    GPU_mem   box_loss   cls_loss   dfl_loss  Instances       Size\n"
     ]
    },
    {
     "name": "stderr",
     "output_type": "stream",
     "text": [
      "       8/50         0G      1.821      1.406      1.581          8        640: 100%|██████████| 33/33 [1:39:31<00:00, 180.94s/it] \n",
      "                 Class     Images  Instances      Box(P          R      mAP50  mAP50-95): 100%|██████████| 5/5 [00:39<00:00,  7.90s/it]"
     ]
    },
    {
     "name": "stdout",
     "output_type": "stream",
     "text": [
      "                   all        147        147      0.145      0.156     0.0554     0.0206\n"
     ]
    },
    {
     "name": "stderr",
     "output_type": "stream",
     "text": [
      "\n"
     ]
    },
    {
     "name": "stdout",
     "output_type": "stream",
     "text": [
      "\n",
      "      Epoch    GPU_mem   box_loss   cls_loss   dfl_loss  Instances       Size\n"
     ]
    },
    {
     "name": "stderr",
     "output_type": "stream",
     "text": [
      "       9/50         0G      1.795      1.387      1.547         11        640: 100%|██████████| 33/33 [17:04<00:00, 31.05s/it]\n",
      "                 Class     Images  Instances      Box(P          R      mAP50  mAP50-95): 100%|██████████| 5/5 [01:12<00:00, 14.41s/it]"
     ]
    },
    {
     "name": "stdout",
     "output_type": "stream",
     "text": [
      "                   all        147        147       0.33      0.422      0.293      0.107\n"
     ]
    },
    {
     "name": "stderr",
     "output_type": "stream",
     "text": [
      "\n"
     ]
    },
    {
     "name": "stdout",
     "output_type": "stream",
     "text": [
      "\n",
      "      Epoch    GPU_mem   box_loss   cls_loss   dfl_loss  Instances       Size\n"
     ]
    },
    {
     "name": "stderr",
     "output_type": "stream",
     "text": [
      "      10/50         0G      1.822       1.47      1.568         31        640:  61%|██████    | 20/33 [11:08<07:14, 33.44s/it]\n"
     ]
    },
    {
     "ename": "KeyboardInterrupt",
     "evalue": "",
     "output_type": "error",
     "traceback": [
      "\u001B[0;31m---------------------------------------------------------------------------\u001B[0m",
      "\u001B[0;31mKeyboardInterrupt\u001B[0m                         Traceback (most recent call last)",
      "Cell \u001B[0;32mIn[3], line 5\u001B[0m\n\u001B[1;32m      1\u001B[0m \u001B[38;5;28;01mfrom\u001B[39;00m \u001B[38;5;21;01multralytics\u001B[39;00m \u001B[38;5;28;01mimport\u001B[39;00m YOLO\n\u001B[1;32m      3\u001B[0m model \u001B[38;5;241m=\u001B[39m YOLO(\u001B[38;5;124m'\u001B[39m\u001B[38;5;124myolov5s.pt\u001B[39m\u001B[38;5;124m'\u001B[39m)\n\u001B[0;32m----> 5\u001B[0m \u001B[43mmodel\u001B[49m\u001B[38;5;241;43m.\u001B[39;49m\u001B[43mtrain\u001B[49m\u001B[43m(\u001B[49m\u001B[43mdata\u001B[49m\u001B[38;5;241;43m=\u001B[39;49m\u001B[38;5;124;43m'\u001B[39;49m\u001B[38;5;124;43mdatasets/Wildfire-Smoke/data.yaml\u001B[39;49m\u001B[38;5;124;43m'\u001B[39;49m\u001B[43m,\u001B[49m\u001B[43m \u001B[49m\u001B[43mepochs\u001B[49m\u001B[38;5;241;43m=\u001B[39;49m\u001B[38;5;241;43m50\u001B[39;49m\u001B[43m,\u001B[49m\u001B[43m \u001B[49m\u001B[43mimgsz\u001B[49m\u001B[38;5;241;43m=\u001B[39;49m\u001B[38;5;241;43m640\u001B[39;49m\u001B[43m)\u001B[49m\n",
      "File \u001B[0;32m~/Documents/Байтур/Projects/Course Arbeit/INAI_MedFire/venv/lib/python3.11/site-packages/ultralytics/engine/model.py:805\u001B[0m, in \u001B[0;36mModel.train\u001B[0;34m(self, trainer, **kwargs)\u001B[0m\n\u001B[1;32m    802\u001B[0m     \u001B[38;5;28mself\u001B[39m\u001B[38;5;241m.\u001B[39mmodel \u001B[38;5;241m=\u001B[39m \u001B[38;5;28mself\u001B[39m\u001B[38;5;241m.\u001B[39mtrainer\u001B[38;5;241m.\u001B[39mmodel\n\u001B[1;32m    804\u001B[0m \u001B[38;5;28mself\u001B[39m\u001B[38;5;241m.\u001B[39mtrainer\u001B[38;5;241m.\u001B[39mhub_session \u001B[38;5;241m=\u001B[39m \u001B[38;5;28mself\u001B[39m\u001B[38;5;241m.\u001B[39msession  \u001B[38;5;66;03m# attach optional HUB session\u001B[39;00m\n\u001B[0;32m--> 805\u001B[0m \u001B[38;5;28;43mself\u001B[39;49m\u001B[38;5;241;43m.\u001B[39;49m\u001B[43mtrainer\u001B[49m\u001B[38;5;241;43m.\u001B[39;49m\u001B[43mtrain\u001B[49m\u001B[43m(\u001B[49m\u001B[43m)\u001B[49m\n\u001B[1;32m    806\u001B[0m \u001B[38;5;66;03m# Update model and cfg after training\u001B[39;00m\n\u001B[1;32m    807\u001B[0m \u001B[38;5;28;01mif\u001B[39;00m RANK \u001B[38;5;129;01min\u001B[39;00m {\u001B[38;5;241m-\u001B[39m\u001B[38;5;241m1\u001B[39m, \u001B[38;5;241m0\u001B[39m}:\n",
      "File \u001B[0;32m~/Documents/Байтур/Projects/Course Arbeit/INAI_MedFire/venv/lib/python3.11/site-packages/ultralytics/engine/trainer.py:207\u001B[0m, in \u001B[0;36mBaseTrainer.train\u001B[0;34m(self)\u001B[0m\n\u001B[1;32m    204\u001B[0m         ddp_cleanup(\u001B[38;5;28mself\u001B[39m, \u001B[38;5;28mstr\u001B[39m(file))\n\u001B[1;32m    206\u001B[0m \u001B[38;5;28;01melse\u001B[39;00m:\n\u001B[0;32m--> 207\u001B[0m     \u001B[38;5;28;43mself\u001B[39;49m\u001B[38;5;241;43m.\u001B[39;49m\u001B[43m_do_train\u001B[49m\u001B[43m(\u001B[49m\u001B[43mworld_size\u001B[49m\u001B[43m)\u001B[49m\n",
      "File \u001B[0;32m~/Documents/Байтур/Projects/Course Arbeit/INAI_MedFire/venv/lib/python3.11/site-packages/ultralytics/engine/trainer.py:388\u001B[0m, in \u001B[0;36mBaseTrainer._do_train\u001B[0;34m(self, world_size)\u001B[0m\n\u001B[1;32m    383\u001B[0m     \u001B[38;5;28mself\u001B[39m\u001B[38;5;241m.\u001B[39mtloss \u001B[38;5;241m=\u001B[39m (\n\u001B[1;32m    384\u001B[0m         (\u001B[38;5;28mself\u001B[39m\u001B[38;5;241m.\u001B[39mtloss \u001B[38;5;241m*\u001B[39m i \u001B[38;5;241m+\u001B[39m \u001B[38;5;28mself\u001B[39m\u001B[38;5;241m.\u001B[39mloss_items) \u001B[38;5;241m/\u001B[39m (i \u001B[38;5;241m+\u001B[39m \u001B[38;5;241m1\u001B[39m) \u001B[38;5;28;01mif\u001B[39;00m \u001B[38;5;28mself\u001B[39m\u001B[38;5;241m.\u001B[39mtloss \u001B[38;5;129;01mis\u001B[39;00m \u001B[38;5;129;01mnot\u001B[39;00m \u001B[38;5;28;01mNone\u001B[39;00m \u001B[38;5;28;01melse\u001B[39;00m \u001B[38;5;28mself\u001B[39m\u001B[38;5;241m.\u001B[39mloss_items\n\u001B[1;32m    385\u001B[0m     )\n\u001B[1;32m    387\u001B[0m \u001B[38;5;66;03m# Backward\u001B[39;00m\n\u001B[0;32m--> 388\u001B[0m \u001B[38;5;28;43mself\u001B[39;49m\u001B[38;5;241;43m.\u001B[39;49m\u001B[43mscaler\u001B[49m\u001B[38;5;241;43m.\u001B[39;49m\u001B[43mscale\u001B[49m\u001B[43m(\u001B[49m\u001B[38;5;28;43mself\u001B[39;49m\u001B[38;5;241;43m.\u001B[39;49m\u001B[43mloss\u001B[49m\u001B[43m)\u001B[49m\u001B[38;5;241;43m.\u001B[39;49m\u001B[43mbackward\u001B[49m\u001B[43m(\u001B[49m\u001B[43m)\u001B[49m\n\u001B[1;32m    390\u001B[0m \u001B[38;5;66;03m# Optimize - https://pytorch.org/docs/master/notes/amp_examples.html\u001B[39;00m\n\u001B[1;32m    391\u001B[0m \u001B[38;5;28;01mif\u001B[39;00m ni \u001B[38;5;241m-\u001B[39m last_opt_step \u001B[38;5;241m>\u001B[39m\u001B[38;5;241m=\u001B[39m \u001B[38;5;28mself\u001B[39m\u001B[38;5;241m.\u001B[39maccumulate:\n",
      "File \u001B[0;32m~/Documents/Байтур/Projects/Course Arbeit/INAI_MedFire/venv/lib/python3.11/site-packages/torch/_tensor.py:522\u001B[0m, in \u001B[0;36mTensor.backward\u001B[0;34m(self, gradient, retain_graph, create_graph, inputs)\u001B[0m\n\u001B[1;32m    512\u001B[0m \u001B[38;5;28;01mif\u001B[39;00m has_torch_function_unary(\u001B[38;5;28mself\u001B[39m):\n\u001B[1;32m    513\u001B[0m     \u001B[38;5;28;01mreturn\u001B[39;00m handle_torch_function(\n\u001B[1;32m    514\u001B[0m         Tensor\u001B[38;5;241m.\u001B[39mbackward,\n\u001B[1;32m    515\u001B[0m         (\u001B[38;5;28mself\u001B[39m,),\n\u001B[0;32m   (...)\u001B[0m\n\u001B[1;32m    520\u001B[0m         inputs\u001B[38;5;241m=\u001B[39minputs,\n\u001B[1;32m    521\u001B[0m     )\n\u001B[0;32m--> 522\u001B[0m \u001B[43mtorch\u001B[49m\u001B[38;5;241;43m.\u001B[39;49m\u001B[43mautograd\u001B[49m\u001B[38;5;241;43m.\u001B[39;49m\u001B[43mbackward\u001B[49m\u001B[43m(\u001B[49m\n\u001B[1;32m    523\u001B[0m \u001B[43m    \u001B[49m\u001B[38;5;28;43mself\u001B[39;49m\u001B[43m,\u001B[49m\u001B[43m \u001B[49m\u001B[43mgradient\u001B[49m\u001B[43m,\u001B[49m\u001B[43m \u001B[49m\u001B[43mretain_graph\u001B[49m\u001B[43m,\u001B[49m\u001B[43m \u001B[49m\u001B[43mcreate_graph\u001B[49m\u001B[43m,\u001B[49m\u001B[43m \u001B[49m\u001B[43minputs\u001B[49m\u001B[38;5;241;43m=\u001B[39;49m\u001B[43minputs\u001B[49m\n\u001B[1;32m    524\u001B[0m \u001B[43m\u001B[49m\u001B[43m)\u001B[49m\n",
      "File \u001B[0;32m~/Documents/Байтур/Projects/Course Arbeit/INAI_MedFire/venv/lib/python3.11/site-packages/torch/autograd/__init__.py:266\u001B[0m, in \u001B[0;36mbackward\u001B[0;34m(tensors, grad_tensors, retain_graph, create_graph, grad_variables, inputs)\u001B[0m\n\u001B[1;32m    261\u001B[0m     retain_graph \u001B[38;5;241m=\u001B[39m create_graph\n\u001B[1;32m    263\u001B[0m \u001B[38;5;66;03m# The reason we repeat the same comment below is that\u001B[39;00m\n\u001B[1;32m    264\u001B[0m \u001B[38;5;66;03m# some Python versions print out the first line of a multi-line function\u001B[39;00m\n\u001B[1;32m    265\u001B[0m \u001B[38;5;66;03m# calls in the traceback and some print out the last line\u001B[39;00m\n\u001B[0;32m--> 266\u001B[0m \u001B[43mVariable\u001B[49m\u001B[38;5;241;43m.\u001B[39;49m\u001B[43m_execution_engine\u001B[49m\u001B[38;5;241;43m.\u001B[39;49m\u001B[43mrun_backward\u001B[49m\u001B[43m(\u001B[49m\u001B[43m  \u001B[49m\u001B[38;5;66;43;03m# Calls into the C++ engine to run the backward pass\u001B[39;49;00m\n\u001B[1;32m    267\u001B[0m \u001B[43m    \u001B[49m\u001B[43mtensors\u001B[49m\u001B[43m,\u001B[49m\n\u001B[1;32m    268\u001B[0m \u001B[43m    \u001B[49m\u001B[43mgrad_tensors_\u001B[49m\u001B[43m,\u001B[49m\n\u001B[1;32m    269\u001B[0m \u001B[43m    \u001B[49m\u001B[43mretain_graph\u001B[49m\u001B[43m,\u001B[49m\n\u001B[1;32m    270\u001B[0m \u001B[43m    \u001B[49m\u001B[43mcreate_graph\u001B[49m\u001B[43m,\u001B[49m\n\u001B[1;32m    271\u001B[0m \u001B[43m    \u001B[49m\u001B[43minputs\u001B[49m\u001B[43m,\u001B[49m\n\u001B[1;32m    272\u001B[0m \u001B[43m    \u001B[49m\u001B[43mallow_unreachable\u001B[49m\u001B[38;5;241;43m=\u001B[39;49m\u001B[38;5;28;43;01mTrue\u001B[39;49;00m\u001B[43m,\u001B[49m\n\u001B[1;32m    273\u001B[0m \u001B[43m    \u001B[49m\u001B[43maccumulate_grad\u001B[49m\u001B[38;5;241;43m=\u001B[39;49m\u001B[38;5;28;43;01mTrue\u001B[39;49;00m\u001B[43m,\u001B[49m\n\u001B[1;32m    274\u001B[0m \u001B[43m\u001B[49m\u001B[43m)\u001B[49m\n",
      "\u001B[0;31mKeyboardInterrupt\u001B[0m: "
     ]
    }
   ],
   "source": [
    "from ultralytics import YOLO\n",
    "\n",
    "model = YOLO('yolov5s.pt')\n",
    "\n",
    "model.train(data='datasets/Wildfire-Smoke/data.yaml', epochs=50, imgsz=640)\n"
   ],
   "metadata": {
    "collapsed": false,
    "ExecuteTime": {
     "end_time": "2024-11-29T19:05:17.475197Z",
     "start_time": "2024-11-29T11:17:55.932247Z"
    }
   },
   "id": "1664bb70a08988b4"
  },
  {
   "cell_type": "code",
   "execution_count": null,
   "outputs": [],
   "source": [],
   "metadata": {
    "collapsed": false
   },
   "id": "a2dbfda4032fc01a"
  }
 ],
 "metadata": {
  "kernelspec": {
   "display_name": "Python 3",
   "language": "python",
   "name": "python3"
  },
  "language_info": {
   "codemirror_mode": {
    "name": "ipython",
    "version": 2
   },
   "file_extension": ".py",
   "mimetype": "text/x-python",
   "name": "python",
   "nbconvert_exporter": "python",
   "pygments_lexer": "ipython2",
   "version": "2.7.6"
  }
 },
 "nbformat": 4,
 "nbformat_minor": 5
}
